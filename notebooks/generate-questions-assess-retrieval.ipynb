{
 "cells": [
  {
   "cell_type": "code",
   "execution_count": 3,
   "id": "1b6bc955-d919-4e70-9fd6-5e2d6dd8ac62",
   "metadata": {
    "tags": []
   },
   "outputs": [
    {
     "name": "stdout",
     "output_type": "stream",
     "text": [
      "Initialized environment variables listed in: /mnt/workspace/__ing/llming/DTC/audio_podcast_qa_assistant/.env\n",
      "Initialized environment variables listed in: /mnt/workspace/__ing/llming/DTC/audio_podcast_qa_assistant/.env\n",
      "Connected to Elasticsearch\n"
     ]
    }
   ],
   "source": [
    "import sys\n",
    "import os\n",
    "import numpy as np\n",
    "import warnings\n",
    "from tqdm.auto import tqdm\n",
    "import pickle\n",
    "\n",
    "def save_to_pickle(obj, pickle_file_path):\n",
    "    \"\"\"\n",
    "    Saves a Python object to a file using pickle.\n",
    "    \n",
    "    :param obj: The Python object to be pickled.\n",
    "    :param pickle_file_path: Path where the pickled object will be saved.\n",
    "    \"\"\"\n",
    "    with open(pickle_file_path, 'wb') as pickle_file:\n",
    "        pickle.dump(obj, pickle_file)\n",
    "\n",
    "def load_pickle(pickle_file_path):\n",
    "    \"\"\"\n",
    "    \"\"\"\n",
    "    with open(pickle_file_path, 'rb') as file:\n",
    "        return pickle.load(file)\n",
    "\n",
    "# Suppress all warnings\n",
    "warnings.filterwarnings(\"ignore\")\n",
    "\n",
    "## replace with root project dir\n",
    "PROJECT_DIR = \"/mnt/workspace/__ing/llming/DTC/audio_podcast_qa_assistant\"\n",
    "sys.path.append(PROJECT_DIR)\n",
    "\n",
    "from utils.utils import (\n",
    "    initialize_env_variables,\n",
    "    flatten_list_of_lists,\n",
    "    sample_from_list,\n",
    "    read_json_file,\n",
    "    save_json_file\n",
    ")\n",
    "\n",
    "initialize_env_variables()\n",
    "\n",
    "from utils.questions import (extract_questions,\n",
    "                             group_questions_by_episode, \n",
    "                             openai_rephrase)\n",
    "from utils.multithread import map_progress\n",
    "from datasets import load_dataset, Dataset\n",
    "\n",
    "from transformers import LEDForConditionalGeneration, LEDTokenizer\n",
    "import torch"
   ]
  },
  {
   "cell_type": "markdown",
   "id": "40831601-25f0-44dc-bfe6-460d0d0237ff",
   "metadata": {},
   "source": [
    "# Episode summarization"
   ]
  },
  {
   "cell_type": "code",
   "execution_count": 12,
   "id": "36e0c43c-67c8-4d17-9592-c8b4123a5528",
   "metadata": {
    "tags": []
   },
   "outputs": [],
   "source": [
    "chunked_docs_path = os.path.join(\n",
    "    PROJECT_DIR,\n",
    "    \"data/generated_documents/documents.json\"\n",
    ")\n",
    "chunks_dataset = read_json_file(chunked_docs_path)"
   ]
  },
  {
   "cell_type": "code",
   "execution_count": 6,
   "id": "422a1375-7682-4112-87ae-28e1d45e1628",
   "metadata": {
    "tags": []
   },
   "outputs": [
    {
     "name": "stderr",
     "output_type": "stream",
     "text": [
      "Using the latest cached version of the dataset since Whispering-GPT/lex-fridman-podcast-transcript-audio couldn't be found on the Hugging Face Hub\n",
      "Found the latest cached dataset configuration 'default' at /mnt/workspace/__ing/llming/DTC/audio_podcast_qa_assistant/hf_cache/Whispering-GPT___lex-fridman-podcast-transcript-audio/default/0.0.0/86c17541f78440e5ff2ef55740a3a503b2716d3a (last modified on Sat Aug 24 03:36:38 2024).\n"
     ]
    },
    {
     "data": {
      "application/vnd.jupyter.widget-view+json": {
       "model_id": "7efb8643423e464f8a1db964e8eb49d8",
       "version_major": 2,
       "version_minor": 0
      },
      "text/plain": [
       "Loading dataset shards:   0%|          | 0/69 [00:00<?, ?it/s]"
      ]
     },
     "metadata": {},
     "output_type": "display_data"
    }
   ],
   "source": [
    "# from huggingface_hub import login\n",
    "cache_dir = os.path.join(PROJECT_DIR, \"hf_cache\")\n",
    "\n",
    "# login(os.getenv(\"HF_READING_TOKEN\"))\n",
    "\n",
    "full_dataset = load_dataset(\n",
    "    path='Whispering-GPT/lex-fridman-podcast-transcript-audio', \n",
    "    cache_dir=cache_dir,\n",
    "    ignore_verifications=True,\n",
    ")['train']"
   ]
  },
  {
   "cell_type": "code",
   "execution_count": 7,
   "id": "3820421e-256d-4746-8229-131b476a904f",
   "metadata": {
    "tags": []
   },
   "outputs": [],
   "source": [
    "try:\n",
    "    full_dataset = full_dataset.remove_columns(['audio'])\n",
    "except ValueError:\n",
    "    pass"
   ]
  },
  {
   "cell_type": "code",
   "execution_count": 25,
   "id": "b483124c-4191-4700-be6f-7635439d3f7b",
   "metadata": {
    "collapsed": true,
    "jupyter": {
     "outputs_hidden": true
    },
    "tags": []
   },
   "outputs": [
    {
     "data": {
      "text/plain": [
       "\" The following is a conversation with Jed Buckwald, a professor of history and a philosopher of science at Caltech. Interested especially in the development of scientific concepts and the instruments used to create and explore new effects and ideas in science. To support this podcast, please check out our sponsors in the description. This is the Lex Friedman podcast and here is my conversation with Jed Buckwald. Does science progress via paradigm shifts and revolutions as philosopher Thomas Kuhn said, or does it progress gradually? What do you think? Well, I got into this field because I was Tom Kuhn's research assistant 50 years ago, 52 years ago. He pulled me into it out of physics instead. So I know his work pretty well. And in the years when I was at MIT running an institute, he was then in the philosophy department, used to come over all the time to the talks we held and so on. So what would I say about that? He, of course, developed his ideas a lot over the years. The thing that he's famous for, the structure of scientific revolutions came out in 62. And as you just said, it offered an outline for what he called a paradigmatic structure, namely the notion that you have to look at what scientists do as forming a community of investigators. And that they're trying to solve various puzzles, as he would put it, that crop up, figuring out how this works, how that works and so on. And of course, they don't do it out of the blue. They do it within a certain framework. The framework can be pretty vague. He called it a paradigm. And his notion was that eventually they run into troubles or what he called anomalies. That kind of cracks things. Somebody new comes along with a different way of doing it, etc. Do I think things work that way? No, not really. Tom and I used to have lengthy discussions about that over the years. I do think there is a common structure that formulates both theoretical and experimental practices. And historians nowadays of science like to refer to scientific work as what scientists practice. It's almost craftsman-like. They can usually adapt in various ways. And I can give you all kinds of examples of that. I once wrote a book on the origins of wave theory of light. And that is one of the paradigmatic examples that Tom used. Only it didn't work that way exactly. Because he thought that what happened was that the wave theory ran into trouble with a certain phenomenon, which it couldn't crack. Well, it turned out that, in fact, historically that phenomenon was actually not relevant later on to the wave theory. And when the wave theory came in, the alternative to it, which had prevailed, which was Newton's views of light as particles, that it seemed couldn't explain what the wave theory could explain. Again, not true. Not true. Much more complex than that. The wave theory offered the opportunity to deploy novel experimental and mathematical structures, which gave younger scientists, mathematicians and others, the opportunity to effect, manufacture, make new sorts of devices. It's not that the alternative couldn't sort of explain these things, but it never was able to generate them de novo as novelties. In other words, if you think of it as something scientists wanted to progress in the sense of finding new stuff to solve, then I think what often happens is that it's not so much that the prevailing view can't crack something as that it doesn't give you the opportunity to do new stuff. When you say new stuff, are we referring to experimental science here or new stuff in the space of new theories? Could be both. Could be both, actually. So how does that, can you maybe elaborate a little bit on the story of the wave? Sure. The prevailing view of light, at least in France, where the wave theory really first took off, although it had been introduced in England by Thomas Young, the prevailing theory dates back to Newton, that light is a stream of particles and that refraction and reflection involve sort of repulsive and attractive forces that deflect and bend the paths of these particles. Newton was not able successfully to deal with the phenomenon of what happens when light goes past a knife's edge or a sharp edge, what we now call diffraction. He had cooked up something about it that no mathematical structure could be applied. Thomas Young first, but really this guy named Augustin Fresnel in France, deployed, in Fresnel's case, rather advanced calculus forms of mathematics which enabled computations to be done and observations to be melded with these computations in a way that you could not do or see how to do with Newton. Did that mean that the Newtonian explanation of what goes on in diffraction fails? Not really. You can actually make it work, but you can't generate anything new out of it. Whereas using the mathematics of wave optics in respect to a particular phenomenon called polarization, which ironically was discovered by partisans of Newton's way of doing things, you were able to generate devices which reflect light in crystals, do various things, that the Newtonian way could accommodate only after the fact. They couldn't generate it from the beginning. And so if you want to be somebody who is working a novel vein, which increasingly becomes the case with people who become what we now call physicists in the 1820s, 30s, and 40s in particular, then that's the direction you're going to go. But there were holdouts until the 1850s. I want to try to elaborate on the nature of the disagreement you have with Thomas Kuhn. So do you still believe in paradigm shifts? Do you still see that there is ideas that really have a transformational effect on science? The nature of the disagreement has to do with how those paradigm shifts come to be? How they come to be and how they change. I certainly think they exist. How strong they may be at any given time is maybe not quite as powerful as Tom thought in general, although towards the end of his life, he was beginning to develop different modifications of his original way of thinking. But I don't think that the changes happen quite so neatly, if you will, in reaction to novel experimental observations. They get much more complex than that. In terms of neatness, how much of science progresses by individual lone geniuses and how much by the messy collaboration of competing and cooperating humans? I don't think you can cut that with a knife to say it's this percent and that percent. It's almost always the case that there are one or two or maybe three individuals who are sort of central to what goes on when things begin to shift. Are they inevitably and solely responsible for what then begins to happen in a major way? I think not. It depends. You can go very far back with this, even into antiquity to see what goes on. The major locus we always talk about from the beginning is if you're talking about Galileo's work on motion, for example, were there ways of accommodating it that others could adapt to without buying into the whole scheme? Yes. Did it eventually evolve and start convincing people because you could also do other things with it that you couldn't otherwise do? Also, yes. Let me give you an example. The great French mathematician philosopher Descartes, who was a mechanical philosopher, he believed the world was matter in motion, he never thought much of what Galileo had done in respect to motion because he thought, well, at best it's some sort of approximative scheme or something like that. But one of his initial, I wouldn't call him a disciple, but follower who then broke with him in a number of ways was a man named Christian Huygens, who was, along with Newton, one of the two greatest scientists of the 17th century. Huygens is older than Newton. Huygens nicely deployed Galilean relationships in respect to motion to develop all sorts of things, including the first pendulum governed clock and even figured out how to build one, which keeps perfect time, except it didn't work, but he had the mathematical structure for it. How well known is Huygens? Oh, very well known. Should I know him well? Yes, you should. Interesting. You should definitely know him. No, no, no, no. Can we define should here? Okay. Because I don't. Right. So is this should like, yeah, can you define should? Should means this. If you had taken up to a second year of physics courses, you should, you would have heard his name because one of the fundamental principles in optics is called Huygens principle. Okay. Okay. Yeah. So I have, and I have heard his name. There you go. No, but I don't remember. But you don't remember. So, I mean, there's a very different thing between names attached to principles and laws and so on that you sometimes let go of. You just remember the equations of the principles themselves and the personalities of science. And there's certain personalities, certain human beings that stand out. And that's why there's a sense to which the lone inventor, the lone scientists is the way I personally, I mean, I think a lot of people think about the history of science is these lone geniuses without them. The sense is if you remove Newton from the picture, if you remove Galileo from the picture, then science would, there's almost a feeling like it would just have stopped there. Or at the very least, there's a feeling like it would take much longer to develop the things that were developed. Is that a silly way to look at the history? That's not entirely incorrect, I suppose. I find it difficult to believe that had Galileo not existed, that eventually someone like Huygens, for instance, given the context of the time, what was floating around in the belief structure concerning the nature of the world and so on, the developments in mathematics and whatnot, that sooner or later, whether it would have been exactly the same or not, I cannot say. But would things have evolved? Evolved? Yes. If we look at the long arc of history of science, from back when we were in the caves trying to knock two rocks together or maybe make a basic tool to a long time from now, many centuries from now when human civilization finally destroys itself. If you look at that history and imagine you're a historian at the end, like with the fire of the apocalypse coming upon us, and you look back at this time in the 21st century, how far along are we on that arc? Do you sense? Have we invented and discovered everything that's to be discovered or are we at like below 1%? You're going to get a lot of absurd questions today. I apologize. It's a lugubrious picture you're painting there. I don't even know what the word lugubrious means, but I love it. Lugubrious. Well, let me try and separate the question of whether we're all going to die in an apocalypse in several hundred years or not from the question of where science may be sitting. Take this as an assumption. Okay. I find that hard to say. I find it hard to say because in the deepest sense of the term, as it's usually deployed by philosophers of science today, I'm not fundamentally a realist. That is to say, I think our access to the inner workings of nature is inevitably mediated by what we can do with the materials and factors around us. We can probe things in various ways. Does that mean that I don't think that the standard model in quantum electrodynamics is in... Of course not. I wouldn't even dream of saying such a thing. It can do a lot, especially when it comes to figuring out what's happening in very large expensive particle accelerators and applying results in cosmology and so on as well. Do I think that we have inevitably probed the depths of reality through this? I do not agree with Steven Weinberg who thinks we have about such things. Do I, on the other hand, think that the way in which science has been moving for the last 100 years, physics in particular is what I have in mind, will continue on the same course? In that sense, I don't because we're not going to be building bigger and bigger and more and more expensive machines to rip apart particles in various ways. In which case, what are physicists going to do? They'll turn their attention to other aspects. There are all sorts of things we've never explained about the material world. We don't have theories that go beyond a certain point for all sorts of things. Can we, for example, start with the standard model and work our way up all the way to chemical transformations? You can make an argument about it and you can justify things, but in chemistry, that's not the way people work. They work with much higher level quantum mechanical relationships and so on. This notion of the deep theory to explain everything is a long-standing belief which goes back pretty far, although I think it only takes its fullest form sometime towards the end of the 19th century. Maybe we just speak to that. You're referring to a hope, a dream, a reality of coming up with a theory of everything that explains everything. There's a very specific thing that currently means in physics, is the unification of the laws of physics. I'm sure in antiquity or before it meant maybe something else or is it always about physics? I think as you've implied, in physics there's a sense once you get to the theory of everything, you've understood everything, but there's a very deep sense in which you've actually understood not very much at all. You've understood at that particular level how things work, but you don't understand how the abstractions on top of abstractions form. Or you don't understand how the abstractions on top of abstractions form all the way to the chemistry, to the human mind, and the human societies and all those kinds of things. Maybe you can speak to the theory of everything in its history and comment on what the heck does that even mean, the theory of everything. Well, I don't think you can go back that far with something like that, maybe to the, at best to the 17th century. If you go back all the way in antiquity, there are of course discussions about the nature of the world. But first of all, you have to recognize that the manipulative character of physics and chemistry, the probing of, let me put it this way, we assume and have known for a long time, I'll come back to when in a moment, that if I take a little device, which is really complicatedly made out of all kinds of things, and I put a piece of some material in it, and I monkey around with it and do all kinds of unnatural things to it, things that wouldn't happen naturally, and I find out how it behaves and whatnot. And then I try and make an argument about how that really applies even in the natural world without any artificial structures and so on. That's not a belief that was widely held by pretty much anyone until sometime maybe in the 1500s. And when it was first held, it was held by people we now call alchemists. So alchemy was the first, the early days of the theory of everything, of a dream of a theory of everything. I would put it a little differently. I think it's more along the way a dream that by probing nature in artificially constructed ways, we can find out what's going on deep down there. So that was, that's distinct from science being an observing thing where you observe nature and you study nature. You're talking about probing, like messing with nature to understand it. Indeed I am, but that of course is the very essence of experimental science. You have to manipulate nature to find out things about it, and then you have to convince others that you haven't so manipulated it that what you've done is to produce what amounts to fake, artifactual behavior that doesn't really hold purely naturally. So where are we today in your sense to jump around a little bit with the theory of everything? Maybe a quick kind of sense you have about the journey in the world of physics that we're taking towards the theory of everything. Well, I'm of course not a practicing physicist. I mean, I was trained in physics at Princeton a long time ago. Until Thomas Kuhn stole you away. More or less. I was taking graduate courses in those days in general relativity. I was an undergraduate, but I moved up and then I took a course with him. Well, you made the mistake of being compelled by charismatic philosophers and never looked back. I suppose so in a way. From what I understand, talking especially to my friends at Caltech, like Kip Thorne and others, the fundamental notion is that actually the laws that even at the deepest level we can sort of divine and work with in the universe that we inhabit are perhaps quite unique to this particular universe as it formed at the Big Bang. The question is, how deep does it go? If you are very mathematically inclined, the prevailing notion for several decades now has been what's called string theory, but that has not been able to figure a way to generate probative experimental evidence, although it's pretty good apparently at accommodating things. Then the question is, what's before the Big Bang? Actually, the word before doesn't mean anything given the nature of time, but why do we have the laws that prevail in our universe? Well, there is a notion that those laws prevail in our universe because if they didn't, we wouldn't be here. That's a bit of a cyclical but nevertheless, a compelling definition. There's all kinds of things like it seems like the unification of those laws could be discovered by looking inside of a black hole because you get both the general relativity and the quantum mechanics, quantum field theory in there. Experimentally, of course, there's a lot of interesting ideas. We can't really look close to the Big Bang. We can't look that far back. Caltech and MIT will lie go looking at gravitational waves, perhaps allows us to march backwards and so on. It's a really exciting space. There's of course the theory of everything, like with a lot of things in science, captivates the dreams of those who are perhaps completely outside of science. It's the dream of discovering the key to the nature of how everything works. That feels deeply human. That's perhaps the thing, the basic elements of what makes up a scientist in the end is that curiosity, that longing to understand. Let me ask, you mentioned a disagreement with Weinberg on reality. Could you elaborate a little bit? Obviously, I don't disagree with Steve Weinberg on physics itself. I wouldn't know enough to even begin to do that. Clearly, he's one of the founders of the standard model and so on. It works to a level of accuracy that no physical theorist can ever understand. A level of accuracy that no physical theory has ever worked at before. I suppose the question in my mind is something that in one way could go back to the philosopher Immanuel Kant in the 18th century, namely, can we really ever convince ourselves that we have come to grips with something that is not in itself knowable to us by our senses or even except in the most remote way through the complex instruments that we make as to what it is that underlies everything? Can we corral it with mathematics and experimental structures? Yes. Do I think that a particular way of corralling nature will inevitably play itself out? I don't know. It always has. I'll put it to you that way. The basic question is, can we know reality? Is that the con question? Is that the Weinberg question? We humans, with our brains, can we comprehend reality? Sounds like a very trippy question because a lot of it rests on definitions of know and comprehend and reality, but get to the bottom of it. Turtles on top of turtles. Can we get to the bottom turtle and say hello? Well, maybe I can put it to you this way in a way that I often begin discussions in a class on the history of science and so on and say, I'm looking at you. You are in fact a figment of my imagination. You have a messed up imagination, yes. Well, what do I mean by that? If I were a dragonfly looking at you, whatever my nervous system would form by way of a perceptual structure would clearly be utterly different from what my brain and perceptual system altogether is forming when I look at you. Who's right? Is it me or the dragonfly? Well, the dragonfly is certainly very impressive, so I don't know. But yes, the observer matters. Well, what is that supposed to tell us about objective reality? Well, I think it means that it's very difficult to get beyond the constructs that our perceptual system is leading us to. When we make apparatus and devices and so on, we're still making things, the results of which are the outputs of which we process perceptually in various ways. An analogy I like to use with the students sometimes is this. All right, they all have their laptops open in front of them, of course. I've sent them something to read and I say, okay, click on it and open it up. So PDF opens up. I said, what are you looking at? They said, well, I'm looking at the paper that you sent me. I said, no, you're not. What you're looking at is a stream of light coming off LEDs or LCDs coming off a screen. And I said, what happens when you use your mouse and move that fake piece of paper on the screen around? What are you doing? You're not moving a piece of paper around, are you? You're moving a construct around, a construct that's being processed so that our perceptual system can interact with it in the way we interact with pieces of paper. But it's not real. So are there things outside of the reach of science? Can you maybe, as an example, talk about consciousness? I'm asking for a friend, trying to figure this thing out. Well, boy, I mean, I read a fair bit about that, but I certainly can't really say much about it. I'm a materialist in the deepest sense of the term. I don't think there is anything out there except material structures which interact in various ways. Do I have to say that? I think, for example, that this bottle of water is conscious? No, I do not. Although how would I know? I can't talk to it. It's a hypothesis you have. It's an opinion, an educated opinion that may be very wrong. Well, I know that you're conscious because I can interact directly with you. But am I? Well, unless you're a figment of my imagination, of course. Or I'm a robot that's able to generate the illusion of consciousness effectively enough to facilitate a good conversation, because we humans do want to pretend that we're talking to other conscious beings, because that's how we respect them. If it's not conscious, we don't respect them. We're not good at talking to robots. That's true. Of course, we generalize from our own inner sense, which is the kind of thing Descartes said from the beginning. We generalize from that. But I do think that consciousness must be something, whatever it is, that occurs as a result of some particular organizational structure of material elements. Does materialism mean that it's all within the reach of science? My sense would be that especially as neuroscience progresses more and more, and at Caltech we just built a whole neuroscience arena and so on, and as more knowledge is gained about the ways in which animals, when they behave, what patterns show up at various parts of the brain and nervous system, and perhaps extending it to humans eventually as well, we'll get more of a handle on what brain activity is associated with experiences that we have as humans. Can we move from the brain activity to the experiences in terms of our person? No, you can't. Brain is perception. That's a hypothesis once again. Maybe consciousness is just one of the laws of physics that's yet to be discovered. Maybe it permeates all matter. Maybe it's as simple as trying to plug it in and plug into the ability to generate and control that kind of law of physics that would crack open, or we would understand that the bottled water is in fact conscious, just much less conscious than us humans, and then we would be able to then generate beings that are more conscious. Well, that'll be unfortunate. I'd have to stop drinking the water after that. Every time you take a sip, there's a little bit of a suffering going on. What do you think is the most interesting, beautiful moments in the history of science? What stands out? Then we can pull at that thread. Right. Well, I like to think of events that have a major impact and involve both beautiful conceptual, mathematical, if we're talking physical structures work, and are associated as well with probing experimental situations. Among my favorites is one of the most famous, which was the young Isaac Newton's work with the colors produced when you pass sunlight through a prism. Why do I like that? It's not profoundly mathematical in one sense. It doesn't need it initially. It needs the following though, which begins to show you, I think, a little bit about what gets involved when you've got a smart individual who's trying to monkey around with stuff and finds new things about it. First let me say that the notion, the prevailing notion going back to antiquity was that colors are produced in a sense by modifying or tinting white light, that they're modifications of white light. In other words, the colors are not in the sunlight in any way. Now, what Newton did following experiments done by Descartes before him, who came to very different conclusions, he took a prism. You might ask, where do you get prisms in the 1660s? That's the question. County fairs. They were very popular. They were pretty crude with bubbles in them and everything, but they produced colors, so you could buy them at county fairs and things, very popular. They were modifying the white light to create colors. Well, they were creating colors from it, well known. What he did was the following. He was by this time, even though he's very young, a very good mathematician. He could use the then known laws for how light behaves when it goes through glass to calculate what should happen if you took light from the sun, passed it from a hole through a little hole, then hit the prism, goes out of the prism, strikes a wall a long distance away and makes a splash of light. Never mind the colors for a moment. Makes a splash of light there. He was very smart. First of all, he abstracts from the colors themselves, even though that's what everybody's paying attention to initially. What he knows is this. He knows that if you take this prism and you turn it to a certain particular angle that he knew what it should be because he could calculate things. Very few other people in Europe at the time could calculate things like he could. That if you turn the prism to that particular angle, then the sun, which is of course a circle, when its light passes through this little hole and then into the prism on the far distant wall should still make a circle, but it doesn't. It makes a very long image. This led him to a very different conception of light indicating that there are different types of light in the sunlight. To go beyond that, what's particularly interesting I think is the following. When he published this paper, which got him into a controversy, he really didn't describe at all what he did. He just gave you some numbers. Now I just told you that you had to set this prism at a certain angle. You would think, because we do have his notes and so on, you would think that he took some kind of complicated measuring device to set the prism. He didn't. He held it in his hand. That's all. He twiddled it around. What was he doing? It turns out that when you twiddle the prism around at the point where you should get a circle from a circle, it also is the place where the image does not move very fast. If you want to get close to there, you just twiddle it. This is manipulative experimentation taking advantage through his mathematical knowledge of the inherent inaccuracies that let you come to exact conclusions regardless of the built-in problematics of measurement. He's the only one I know of doing anything like that at this time. At the time. Yeah. There's very few people that are able to calculate as well as he did to be a theoretician and an experimentalist in the same moment. It's true, although until really well into the 20th century, maybe the beginning of the 20th century really, most of the most significant experimental results produced in the 1800s, which laid the foundations for light, electricity, electrodynamics, and so on, even hydrodynamics and whatnot, were also produced by people who were both excellent calculators, very talented mathematicians, and good with their hands experimentally. That led to the 21st century with Enrico Fermi that one of the last people that was able to do both of those things very well, and that he built a little device called an atomic bomb that has some positives and negatives. Well, right, of course that actually did involve some pretty large scale elaborate equipment. While holding a prism in your hands. Right, no. What's the controversy that you'd gotten into with that paper when you published it? In a number of ways, it's a complicated story. There was a very talented character known as a mechanic. Mechanic means somebody who was a craftsman who could build and make really good stuff. He was very talented. His name was Robert Hook. He was the guy who at the weekly meetings of the Royal Society in London, and Newton's not in London, he's at Cambridge, he's a young guy. He would demonstrate new things. He was very clever. He had written a book, in fact, called The Micrographia, which by the way, he used a microscope to make the first depictions of things like a fly's eye, the structure of, you know, it had a big influence. And in there, he also talked about light. And so he had a different view of light. When he read what Newton wrote, he had a double reaction. On the one hand, he said, anything in there that is correct, I already knew. And anything that I didn't already know is probably not right anyway. I got a love egos. Okay. Can you, can we just step back? Can you say who was Isaac Newton? What are the things he contributed to this world in the space of ideas? Wow. Who was he? He was born in 1642 and near the small town of Grantham in England. In fact, the house he was born in and that his mother died in is still there and can be visited. His father died before he was born. And his mother eventually remarried a man named Reverend Smith, whom Newton did not like at all. Because Reverend Smith took his mother away to live with him a few miles away, leaving Newton to be brought up more or less by his grandmother over there. And he had huge resentment about that his whole life. I think that gives you a little inkling that a little bit of trauma in childhood, maybe a complicated father-son relationship can be useful to create a good scientist. Could be, although in this case it would be right, the absent father-nonfather relationship, so to speak. He was known as a kid, little that we do know for being very clever about flying kites. And there are stories about him putting candles and flying kites and scaring the living devil out of people at night by doing that and things like that, making things. Most of the physicists and natural philosophers I've dealt with actually as children were very fond of making and playing with things. I can't think of one I know of who wasn't actually. They were very good with their hands and whatnot. His mother wanted him to take over the manor. It was a kind of farming manor. They were the class of what are known as yeomans. There are stories that he wasn't very good at that. One day one of the stories is he's sitting out in the field and the cows come home without him and he doesn't know what's going on. He had relatives and he manages to get to Cambridge, sent to Cambridge because he's known to be smart. He's read books that he got from local dignitaries and some relatives. And he goes there as what's known as a subsizer. What does that mean? Well, it's not too pleasant. Basically a subsizer was a student who had to clean the bedpans of the richer kids. That didn't last too long. He makes his way and he becomes absorbed in some of the new ways of thinking that are being talked about on the parts of Descartes and others as well. There's also the traditional curriculum which he follows. And we have his notes. We have his student notebooks and so on. We can see gradually this young man's mind focusing and coming to grips with deeper questions of the nature of the world and perception even and how we know things and also probing and learning mathematical structures to such an extent that he builds on some of the investigations that had been done in the period before him to create the foundations of a way of investigating processes that happen and change continuously instead of by leaps and bounds and so on. Forming the foundation of what we now call the calculus. Can you maybe just paint a little bit of a picture? You've already started. What were the things that bothered him the most, that stood out to him the most about the traditional curriculum, about the way people saw the world? You mentioned discrete versus continuous. Is there something where he began thinking in a revolutionary way? Because it's fascinating. Most of us go to college, Cambridge or otherwise, and we just kind of take what we hear as gospel, right? Like not gospel, but as like facts. You don't begin to sort of see how can I expand on this aggressively or how can I challenge everything that I hear like rigorously, mathematically through the, I mean, I don't even know how rigorous the mathematics was at that point. I'm sure it was geometry and so on. No calculus, huh? There are elements of what turned into the calculus that predate Newton, but- How much rigor was there? How much- Well, rigor, no. And then of course, no scientific method. Not really. I mean, somewhat. I mean, appreciation of data. That is a separate question from a question of method. Appreciation of data is a significant question as to what you do with data. There's lots of things you're asking. I apologize. So maybe let's backtrack. And the first question is, was there something that was bothering him that he especially thought he could contribute or work on? Well, of course, we can't go back and talk to him, but we do have these student notebooks. There's two of them. One's called the philosophical questions and the other is called the waste book. The philosophical questions has discussions of the nature of reality and various issues concerning it. And the waste book has things that have to do with motion in various ways, what happens in collisions and things of that sort. It's a complicated story, but among the things that I think are interesting is he took notes in the philosophical questions on stuff that was traditionally given to you in the curriculums going back several hundred years, namely on what scholars refer to as scholastic or neo-scholastic ways of thinking about the world dating back to the reformulation of Aristotle in the Middle Ages by Thomas Aquinas in the church. This is a totally different way of thinking about things, which actually connects to something we were saying a moment ago. For instance, so I'm wearing a blue shirt and I will sometimes ask students, where is the blue? And they'll usually say, what's in your shirt? And then some of them get clear and they say, well, no, you know, light is striking it, photons are re-emitted, they strike the back of your retina and et cetera, et cetera. And I said, yes, what that means is that the blue is actually an artifact of our perceptual system considered as the percept of blue. It's not out there, it's in here. That's not how things were thought about well into the 16th century. The general notion dating back even to Aristotelian antiquity and formalized by the 12th century at Paris, Oxford and elsewhere is that qualities are there in the world. They're not in us. We have senses and our senses can be wrong. You know, you could go blind, things like that. But if they're working properly, you get the actual qualities of the world. Now that break, which is occurring towards the end of the 16th century and is most visible in Descartes is the break between conceiving that the qualities of the world are very different from the qualities that we perceive. That in fact, the qualities of the world consist almost entirely in shapes of various kinds and maybe hard particles or whatever, but not colors, not sounds, not smells, not softness and hardness. They're not in the world, they're in us. That break Newton is picking up as he reads Descartes. He's going to disagree with a lot in Descartes, but that break he is among other things picking up very strongly. And that underlies a lot of the way he works later on when he becomes skeptical of the evidence provided by the senses. Yeah, that's actually, I don't know, the way you're describing it is so powerful. It just makes me realize how liberating that is as a scientist, as somebody who's trying to understand reality, that our senses are not to be trusted, that reality is to be investigated through tools that are beyond our senses. Yes, or that improve our senses in some ways. That's pretty powerful. That is for a human being, that's like Einstein level. For a human being to realize I can't trust my own senses at that time, that's pretty trippy. It's coming in, it's coming in and I think it arises probably a fair number of decades before that, perhaps in part with all chemical experimentation and manipulations, that you have to go through elaborate structures to produce things and ways you think about it. But let me give you an example that I think you might find interesting because it involves that guy named Hook that Newton had an argument with. And he had lots of arguments with Hook, although Hook was a very clever guy and gave him some things that stimulated him later. Anyway, Hook, who was argumentative and he really was convinced that the only way to gain real knowledge of nature is through carefully constructed devices. And he was an expert mechanic, if you will, at building such things. Now there was a rather wealthy man in Danzig by the name of Hevelius, Latinized name. He was a brewer in town and he had become fascinated with the telescope. This is 30 years or so, 20 or 30 years after the telescope had moved out and become more common. He built a large observatory on the top of his brewery, actually, and working with his wife, they used these very elaborately constructed grass and metal instruments to make observations of positions of the stars. And he published a whole new catalog of where the stars are. And he claimed it was incredibly accurate. He claimed it was so accurate that nothing had ever come close to it. Hook reads this and he says, wait a minute, you didn't use a telescope here of any kind because what's the point? Unless you do something to the telescope, all you see are dots with stars. You just use your eye, your eyes can't be that good. It's impossible. So what did Hook do to prove this? He said, what you should have done is you should have put a little device in the telescope that lets you measure distances between these dots. You didn't do that and because you didn't, there's no way you could have been that good. At two successive meetings of the Royal Society, he hauls the members out into the courtyard and he takes a card and he makes successive black and white stripes on the card and he pastes the card up on a wall and he takes them one by one. He says, now move back looking at it, presumably with one eye until you can't tell the black ones from the white stripes. He says, that I can then measure the distance, I can see the angles, I can give a number then for what is the best possible, what we would call perceptual acuity of human vision. And it turned out, he thought, to be something like 10 or more times worse than this guy Hevelius had claimed. So obviously says Hook Hevelius, well, years ago I calculated Hevelius's numbers and so on using modern tables from NASA and so on and they are even more accurate than Hevelius claimed. But worse than that, the Royal Society sent a young astronomer named Halley over to Danzig to work with him and Halley writes back and he says, I couldn't believe it, but he taught me how to do it and I could get just as good as he, how is it possible? Well here, this shows you something very interesting about experiments, perception and everything else. Hook was right, but he was also wrong. He was wrong for the right reasons and he was right for the wrong reasons. And what do I mean by that? What he actually found was the number for what we now call 20-20 vision. He was right. You can't tell except a few people much better than that. But he was observing the wrong thing. What Hevelius was observing was a bright dot, a star moving past a pointer. Our eyes are rather similar to frogs' eyes. You know, I'm sure you've heard the story, if I hold a dead fly on a string in front of a frog and don't move it, the frog pays no attention. As soon as I move the fly, the frog immediately tongue-lots out because the visual system of the frog responds to motion. So does ours. And our acuity for distinguishing motion from statics, five or more times better. That's fascinating. Damn. And of course, maybe you can comment on their understanding of the human perceptual system at the time was probably really terrible. I've recently been working with almost as a fun side thing with vision scientists and peripheral vision. It's a beautiful complex mess, that whole thing. We still don't understand all the weird ways that human perception works. And they were probably terrible at it. They probably didn't even have any conceptual peripheral vision or the fovea or basically anything. They had some, I mean, because actually it was Newton himself who probed a lot of this. For instance, the young Newton trying to work his way around what's going on with colors, wanted to try and distinguish colors that occur through natural processes out there and colors that are a result of our eyes not operating right. You know what he did? It's a famous thing. He took a stick and he stuck that stick under his lower eyelid and pushed up on his eyeball. And what that did was produced colored circles at diametrically opposite positions of the stick in the eyeball. And he moved it around to see how they moved, trying to distinguish. Legit. Right? I always have to tell my students, don't do this. Or do it if you want to be great and remembered by human history. There's a lot of equivalent to sticking a stick into your eye in modern day that may pay off in the end. Okay. As a small aside, is the Newton and the Apple story true? No. Was it a different fruit? As a colleague of mine named Simon Schaffer in England once said on a NOVA program that we were both on, the role of fruit in the history of science has been vastly exaggerated. Okay. So was there any, I mean, to zoom out, moments of epiphany? Is there something to moments of epiphany? Again, this is the paradigm shift versus the gradualism. There is a shift. It's a much more complex one than that. As it happens, a colleague of mine and I are writing a paper right now on one of the aspects of these things based on the work that many of our colleagues have done over the last 30 and 40 years. Let me try and see if I could put it to you this way. Newton, until the early 1670s and probably really until a fair time after that, first of all was not very interested in questions of motion. He was working actually in all chemical relationships or what is called by historians, chemistry, a kind of early modern chemical structure. Things of ours at Indiana have even reproduced the amalgams that... Anyway, his way of thinking about motion involved a certain set of relationships which was not conducive to any application that would yield computationally direct results for things like planetary motions, which he wasn't terribly interested in anyway. He enters a correspondence with his original nemesis Robert Hooke. Hooke says, well, have you ever thought about... Then Hooke tells him a certain way you might think about it. When Newton hears that, he recognizes that there is a way to inject time that would enable him to solve certain problems. It's not that there was anything he thought before that was contrary to that way of thinking. It's just that that particular technical insight was not something that for a lot of reasons that are complex had never occurred to him at all. That sent him a different way of thinking. But to answer your question about the Apple business, which is always about gravity and the moon and all of that being... No. The reason there is that the idea that what goes on here in the neighborhood of the earth and what goes on at the moon, let us say, remind the sun and the planet, can be due to a direct relationship between the earth, let's say, and the moon is contrary to fundamental beliefs held by many of the mechanical philosophers, as they're called at the time, in which everything has to involve at least a sequence of direct contacts. It has to be something between here and there that's involved. And Hooke, probably not thinking terribly deeply about it based on what he said, along with others like the architect and mathematician Christopher Wren, hearken back to the notion that, well, maybe there is a kind of magnetic relationship between the moon and maybe the planets and the earth and gravity and so on. Vague, but establishing a direct connection somehow, however it's happening, forget about it. Newton wouldn't have cared about that if that's all they said, but it was when Hooke mentioned this different way of thinking about the motion, a way he could certainly have thought of because it does not contradict anything. Newton is a brilliant mathematician and he could see that you could suddenly start to do things with that that you otherwise wouldn't connect. This led eventually to another controversy with Hooke in which Hooke said, well, after Newton published his great Principia, I gave him how to do this. And then Newton, of course, got ticked off about that and said, well, listen to this. I did everything. And because he had a picayune little idea, he thinks he can take credit for it. Okay. So his ability to play with his ideas mathematically is what solidified the initial intuition that you could have. Was that the first time he was born the idea that you have action at a distance, that you can have forces without contact, which is another revolutionary idea? I would say that in the sense of dealing with the mechanics of force-like effects considered to act at some distance, it is novel with both Hooke and Newton at the time. The notion that two things might interact at a distance with one another without direct contact, that goes back to antiquity. Only there it would have thought of more as a sympathetic reaction to a magnet and a piece of iron. They have a kind of mutual sympathy for one another. Like what, love? What are we talking about? Well, actually, they do sometimes talk like that. That is love. See, now I talk like that all the time. I think love is somehow in consciousness or forces of physics that yet to be discovered. Okay. Now there is the other side of things, which is calculus that you began to talk about. So Newton brought a lot of things to this world. One of them is calculus. What is calculus? And what was Newton's role in bringing it to life? What was it like? What was the story of bringing calculus to this world? Well, since the publication starting many decades ago by Tom Whiteside, who is now deceased, of Newton's mathematical papers, we know a lot about how he was pushing things and how he was developing things. It's a complex question to say what calculus is. Calculus is the set of mathematical techniques that enable you to investigate what we now call functions, mathematical functions, which are continuous, that is, that are not formed out of discrete sets like the counting numbers, for instance. Newton, there were already procedures for solving problems involving such things as finding areas under curves and tangents to curves by using geometrical structures, but only for certain limited types of curves, if you will. Newton as a young man, we know this is what happened, is looking at a formula which involves an expansion in separate terms, polynomial terms, as we say, for certain functions. I know I don't want to get complicated here about this, and he realizes it could be generalized, and he tries the generalization, and that leads him to an expansion formula called the binomial theorem. That enables him to move ahead with the notion that if I take something that has a certain value and I add a little bit to it, and I use this binomial theorem and expand things out, I can begin to do new things. The new things that he begins to do leads him to a recognition that the calculations of areas and the calculations of tangents to curves are reciprocal to one another, and the procedures that he develops is a particular form of the calculus in which he considers small increments and then continuous flows and changes of curves and so on. We have relics of it in physics today, the notation in which you put a dot over a variable indicating the rate of change of the variable, that's Newton's original type of notation. The dot. Yeah, the dot notation. Possibly independently of Newton because he didn't publish this thing, although he became quite well known as quite a brilliant young man, in part because people heard about his work and so on. When another young man by the name of Gottfried Leibniz visited London and he heard about these things, it is said that he independently develops his form of the calculus, which is actually the form we use today, both in notation and perhaps in certain fundamental ways of thinking. It has remained a controversial point as to where exactly and how much independently Leibniz did it. Leibniz aficionados think and continue to maintain he did it completely independently. Newton, when he became president of the Royal Society, put together a group to go on the attack saying, no, he must have taken everything. We don't know, but I will tell you this, about 25 or so years ago, a scholar who's a professor at Indiana now named Domenico Melli got his hands on a Leibniz manuscript called the 10 Tammun, which was Leibniz's attempt to produce an alternative to Newton's mechanics. It comes to some conclusions that you have in the Newton's mechanics. Well, he published that, but Melli got the manuscript. What Melli found out was that Leibniz reverse engineered the Principia and cooked it backwards so that he could get the results he wanted. That was for the mechanics, so that means his mind allows for that kind of thing. Some people- You're breaking some news today. You're starting some old drama. Some people think so. I think most historians of mathematics do not agree with that. A friend of mine, rather well-known physicist, unfortunately died a couple of years ago named Mike Nauenberg at UC Santa Cruz, had some evidence along those lines. Didn't pass mustard with many of my friends who are historians of math. In fact, I edit with a historian of math, a technical journal, and we were unable to publish it in there because we couldn't get it through any of our colleagues. But I remain suspicious. What is it about those tense relationships and that kind of drama? Einstein doesn't appear to have much of that drama. Nobody claimed, I haven't heard claims that they've, perhaps because it's such crazy ideas, of any of his major inventions, major ideas being those that are basically, I came up with it first or independently. There's not, as far as I'm aware, not many people talk about general relativity, especially in those terms, but with Newton, that was the case. Is that just a natural outgrowth of how science works? There's going to be personalities that, I'm not saying this about Lenin, but maybe I am, that there's people who steal ideas for the, because of ego, because of all those kinds of things. I don't think it's all that common, frankly. The Newton hook, Leibniz, Contratombs, and so on, well, you're at the beginnings of a lot of things there and so on. These are difficult and complex times as well. These are times in which science as an activity pursued by other than, let us say, interested aristocrats is becoming something somewhat different. It's not a professional community of investigators in the same way. It's also a period in which procedures and rules of practice are being developed to avoid attacking one another directly and pulling out a sword to cut off the other guy's head if he disagrees with you and so on. So it's a very different period. Controversies happen. People get angry. I can think of a number of others, including in the development of optics in the 19th century and so on. It can get hot under the collar. Sometimes one character who's worked an area extensively, whether they've come up with something terribly novel or not, and somebody else kind of moves in and does completely different and novel things, the first guy gets upset about it because he's sort of muscled into what I thought was my area. You find that sort of stuff. But do you have examples of cases where it worked out well, like that competition is good for the progress of science? Yeah, it almost always is good in that sense. Just painful for the individuals involved. Can be. It doesn't have to be nasty, although sometimes it is. So on the space, for the example of optics, could you comment on that one? Well, yeah, sure. I mean, there are several, but I could give you... All right, so I'll give you this example that probably is the most pertinent. The first polytechnic school, like MIT or Caltech, was actually founded in France during the French Revolution. It exists today. It's the Ecole Polytechnique. Two people who were there were two young men in the 90s, 1790s, named on the one hand Francois Aragaux and the other Jean-Baptiste Biot. They both lived a long time, well into the 1850s. Aragaux became a major administrator of science, and Biot's career started to peter out after about the late teens. Now they are sent on an expedition, which was one of the expeditions involving measuring things to start the metric system. There's a lot more to that story. Anyway, they come back. Aragaux gets separated. He's captured by pirates, actually. Wounds up in Tangier, escapes, is captured again. Everybody thinks he's dead. He gets back to Paris and so on. He's greeted as a hero and whatnot. In the meantime, Biot has pretty much published some of the stuff that he's done, and Aragaux doesn't get much credit for it, and Aragaux starts to get very angry. Biot is known for this kind of thing. So Aragaux, anyway, Biot starts investigating a new phenomenon in optics involving something called polarization. He writes all kinds of stuff on it. Aragaux looks into this and decides to write some things as well. Actually, Biot gets mostly interested in it when he finds out that Aragaux is doing stuff. Now Biot is actually the better scientist in a lot of ways, but Aragaux is furious about this, so furious that he actually demands and forces the leader of French science, La Place, the Marquis de La Place, and cohorts to write a note in the published journal saying, oh, excuse us, actually, Aragaux, et cetera, et cetera, blah, blah. So Aragaux continues to just hold this antipathy and fear of Biot. So what happens? In 1815, Napoleon is finished at Waterloo. A young Frenchman by the name of Augustin Fresnel, who was in the army, is going back to his home on the north coast of France in Normandy. He passes through Paris. Aragaux is friends with Fresnel's uncle, who was the head of the École des Beaux-Arts at the time. Anyway, Fresnel is already interested in certain things in light, and he talks to Aragaux. Aragaux tells him a few things. Fresnel goes home, and Fresnel is a brilliant experimenter. He observes things, and he's a very good mathematician, calculates things. He writes something up. He sends it to Aragaux. Aragaux looks at it, and Aragaux says to himself, I can use this to get back at Biot. He brings Fresnel to Paris, sets him up in a room at the observatory where Aragaux is for Fresnel to continue his work, paper after paper comes out, undercutting everything Biot had done. What is it about jealousy and just envy that could be an engine of creativity and productivity versus an Einstein where it seems like not? I don't know which one is better. I guess it depends on the personality. Both are useful engines in science. In this particular story, it's maybe even more interesting because Fresnel himself, the young guy, he knew what Aragaux was doing with him, and he didn't like it. He didn't want to get with it. He wrote his brother, said, I don't want to get into an argument with Biot. I just want to do my stuff. Aragaux is using him, but it's because Aragaux kept pushing him to go into certain areas that stuff kept coming out. Ego is beautiful. Okay, but back to Newton. There's a bunch of things I want to ask, but let's say since we're on the Leibniz and the topic of drama, let me ask another drama question. Why was Newton a complicated man? We're breaking news today. This is like- Right, why was he complicated? His brain structure was different. I don't know why. He had a complicated young life, as we've said. He had always been very self-contained and solitary. He had acquaintances and friends, and when he moved to London eventually, he had quite a career, a career, for instance, that led him when he was famous by then, the 1690s. He moves to London. He becomes first warden of the mint. The mint is what produces coins, and coinage was a complicated thing because there was counterfeiting going on. He becomes master of the mint to the extent. A guy at MIT wrote a book about this a little bit. We wrote something on it too. I forget his name was Levin, that Newton sent investigators out to catch these guys and sent at least one of them, a famous one named Challener, to the gallows. One of the reasons he probably was so particularly angry at Challener was Challener had apparently said some nasty things about Newton in front of parliament at some point. Fair enough. Yeah. That was apparently not a good idea. Well, he had a bit of a temper, so Newton had a bit of a temper. Clearly, clearly. But he even, as a young man at Cambridge, though he doesn't come from wealth, he attracts people who recognize his smarts. As a young fellow named Humphrey Newton shared his rooms, these students always shared rooms with one another, became his kind of amanuenses to write down what Newton was doing and so on. There were others over time who he befriended in various ways and so on. He was solitary. He had, as far as we know, no relationships with either women or men in anything other than a formal way. The only- Those get in the way relationships. Right. Well, I mean, he was, I don't know if he was close to his mother. She passed away, everything left him. He went to be with her after she died. He was close to his niece, Catherine Barton, who basically came to run his household when he moved to London and so on. She married a man named Conduit, who became one of the people who controlled Newton's legacy later on and so on. You can even see the house that, the townhouse that Newton lived in in those days, still there. Right. So there's the story of Newton coming up with quite a few ideas during a pandemic. We're on the outskirts of a pandemic ourselves. Right. And a lot of people use that example as motivation for everybody while they're in lockdown to get stuff done. So what's that about? Can you tell the story of that? Well, I can. Let me first say that, of course, we've been teaching over Zoom lately. There was no Zoom back then? There was no Zoom back then. Although it wouldn't have made much difference because the story was Newton was so complicated in his lectures that at one point Humphrey Newton actually said that he might as well have just been lecturing to the walls because nobody was there to listen to it. So what difference? Also not a great teacher, huh? If you look at his optical notes, if that's what he's reading from- Oh boy. Okay. No. So what can you say about that whole journey through the pandemic that resulted in so much innovation in such a short amount of time? Well, I mean, there's two times that he goes home. Would he have been able to do it and do do it if he'd stayed at Cambridge? I think he would have. I don't think it really, although I do like to tell my advanced students when I lectured on the history of physics to the physics and chemistry students, especially we've been doing it over Zoom in the last year. When we get to Newton and so on, because these kids are 21, 22, I like to say, well, when Newton was your age and he had to go home during an epidemic, do you know what he produced? So can you actually summarize this for people who don't know, how old was Newton and what did he produce? Well, Newton goes up to Cambridge, as it's said, when he's 18 years old, in 1660, and the so-called Miraculous Year, the Anus Mirabilis, where you get the development in the calculus and in optical discoveries especially, is 1666. So he's what, 24 years old at the time, but judging from the notebooks that I mentioned, he's already, before that, come to an awful lot of developments over the previous couple of years. Doesn't have much to do with the fact that he twice went home. It is true that the optical experiments that we talked of a while ago with the light on the wall moving up and down were done at home. In fact, you can visit the very room he did it in to this day. So cool. Yeah, it's very cool. And if you look through the window in that room, there is an apple tree out there in the garden. So you might be wrong about this. I thought you were lying to me. Maybe there's an apple involved after all. It's not the same apple tree, but it's cuttings. How do you know? They don't last that long, but it's 400 years ago. Oh, wow, I continue with the dumbest questions. Okay, so you're saying that perhaps going home was not- It may have given him an opportunity to work things through. And after all, he did make use of that room and he could do things like put a shade over the window, move things around, cut holes in it and do stuff. Probably in his rooms at Cambridge, maybe not. Although when he stayed at Cambridge subsequently and became a fellow and then the first, actually the second Lucasian professor there. He was actually really the first one because Isaac Barrow, who was the mathematician, professor of optics who recognized Newton's genius, gave up what would have been his position because he recognized, Newton may not have learned too much from him, although they did interact. And so Newton was the first Lucasian professor really, the one that Stephen Hawking held till he died. And we know that the rooms that he had there at Cambridge subsequently, those rooms are still there. He built an all chemical furnace outside, did all sorts of stuff in those rooms. And don't forget, you didn't have to do too much as a Lucasian professor. Every so often you had to go give these lectures, whether anybody was there or not and deposit the notes for the future, which is how we have all those things. Oh, they were stored and now we have them and now we know just how terrible the teacher Newton was. Yeah, but we know how brilliant these notes are. In fact, the second volume of the notes really on the great book that he published, The Optics, which he published in 1704, that has just been finished with full annotations and analysis by the greatest analyst of Newton's optics, Alan Shapiro, who retired a few years ago at the University of Minnesota and been working on Newton's optics ever since I knew him and before and I've known him since 1976. Is there something you could say broadly about either that work on optics or Principia itself as something that I've never actually looked at as a piece of work? Is it powerful in itself or is it just an important moment in history in terms of the amount of inventions that are within, the amount of ideas that are within, or is it a really powerful work in itself? Well, it is a powerful work in itself. You can see this guy coming to grips with and pushing through and working his way around complicated and difficult issues, melding experimental situations which nobody had worked with before, even discovering new things, trying to figure out ways of putting this together with mathematical structures, succeeding and failing at the same time. And we can see him doing that. What is contained within Principia? I don't even know in terms of the scope of the work. Is it the entirety of the body of work of Newton? No, no, no, no. The Principia Mathematica is- Is it calculus? Well, all right, so the Principia is divided into three books. Excellent. Book one contains his version of the laws of motion and the application of those laws to figure out when a body moves in certain curves and is forced to move in those curves by forces directed to certain fixed points, what is the nature of the mathematical formula for those forces? That's all that book one is about. And it contains not the kind of version of the calculus that uses algebra of the sort that I was trying to explain before, but is done in terms of ratios between geometric line segments when one of the line segments goes very, very small. It's called a kind of limiting procedure, which is calculus, but it's a geometrically structured although it's clearly got algebraic elements in it as well. And that makes the Principia's mathematical structure rather hard for people who aren't studying it today to go back to. Book two contains his work on what we now call hydrostatics and a little bit about hydrodynamics, a fuller development of the concept of pressure, which is a complicated concept. And book three applies what he did in book one to the solar system. And it is successful partially because the only types of problems you can exactly solve in terms of the interactions of two particles governed by gravitational force between them is for only two bodies. If there's more than two, let's say it's A, B, and C. A acts on B, B acts on C, C acts on A. You cannot solve it exactly. You have to develop techniques. The fullest sets of techniques are really only developed about 30 or 40 years after Newton's death by French mathematicians like Laplace. Newton tried to apply his structure to the sun, earth, moon, because the moon's motion is very complicated. The moon, for instance, exactly repeats its observable position among the stars only every 19 years. That is, if you look up where the moon is among the stars at certain times and it changes, it's complicated. By the way, that was discovered by the Babylonians. That fact, the 19 years. Thousands of years ago, yes. And then you have that little piece of data and how do you make sense of it? You mean that that is data and you have to- And it's complicated. So Newton actually kind of reverse engineered a technique that had been developed by a man named Horrocks using certain laws of Kepler's to try and get around this thing. And Newton then sort of, my understanding, I've never studied this, has reversed it and fit it together with his force calculations by way of an approximation. And was able to construct a model to make some predictions? It fit things backwards pretty well. Okay. Where does data fit into this? We kind of earlier in the discussion mentioned data as part of the scientific method. How important was data to Newton? So like you mentioned Prisman playing with it and looking at stuff and then coming up with calculations and so on. Where does data fit into any of his ideas? All right. Well, let me say two things first. One, we rarely use the phrase scientific method anymore because there is no one easily describable such method. I mean, humans have been playing around with the world and learning how to repetitively do things and make things happen ever since humans became humans. Do you have a preferred definition of the scientific method? What are the various- No, I don't. I prefer to talk about the considered manipulation of artificial structures to produce results that can be worked together with schemes to construct other devices and make predictions, if you will, about the way such things will work. So ultimately it's about producing other devices. It's like leads you down- I think so principally. I mean you may have data, if you will, like astronomical data obtained otherwise and so on, but yes. But number two here is this question of data. What is data in that sense? See, when we talk about data today, we have a kind of complex notion which reverts to even issues of statistics and measurement procedures and so on. So let me put it to you this way. So let's say I had a ruler in front of me. Go on. I marked off in little black marks separated by let's say distances called a millimeter. Now I make a mark on this piece of paper here. So I made a nice black mark. And I ask you, I want you to measure that and tell me how long it is. You're going to take the ruler. You're going to put it next to it. And you're going to look. And it's not going to sit, even if you put one end as close as you can on one black mark, the other end probably isn't going to be exactly on a black mark. Well, you'll say it's closer to this or that. You'll write down a number. And I say, okay, take the ruler away a minute. I take this away. Come back in five minutes. Put the piece of paper down. Do it again. You're going to probably come up with a different number. And you're going to do that a lot of times. And then if I tell you, I want you to give me your best estimate of what the actual length of that thing is, what are you going to do? You're going to average all of these numbers? Why? Statistics. Well, yes, statistics. There's lots of ways of going around it, but the average is the best estimate on the basis of what's called the central limit theorem, a statistical theorem. You're talking about things that were not really developed until the 1750s, 60s, and 70s. Newton died in 1727. The intuition perhaps was there. Not really. I'll tell you what people did, including Newton, although Newton is partially the one exception. We talked a while ago about this guy, Christian Huygens. He measured lots of things, and he was a good mechanic himself. He and his brother, ground lenses. Huygens, I told you, developed the first pendulum mechanism, pendulum driven clock with a mechanism and so on. Also a spring watch where he got into a controversy with Hook over that, by the way. What's with these mechanics and the controversy? Well we also have Huygens' notes. They're preserved at Leiden University in Holland, he's Dutch, for his work in optics, which was extensive. We don't have time to go into that except the following. Number of years ago, I went through those things because in this optical theory that he had, there are four numbers that you've got to be able to get good numbers on to be able to predict other things. What would we do today? What in fact was done at the end of the 18th century when somebody went back to this? You do what I told you to do with the ruler. You make a lot of measurements and average results. We have Huygens' notes. He did make a lot of measurements, one after the other after the other. But when he came to use the numbers for calculations, and indeed when he published things at the end of his life, he gives you one number and it's not the average of any of them. It's just one of them. Which one was it? The one that he thought he got so good at working by practice that he put down the one he was most confident in. That was the general procedure at the time. You wouldn't publish a paper in which you wrote down six numbers and said, well I'd measured this six times, let me put them together. None of them is really, they would have said, the right number, but I'll put them together and give you a good number. No, you would have been thought of that, you don't know what you're doing. By the way, there's just an inkling of value to that approach. Just an inkling. We sometimes use statistics as a thing that solves all the problems. We'll just do a lot of it and we'll take the average or whatever it is, as many excellent books on mathematics have highlighted the flaws in our approach to certain sciences that rely heavily on statistics. Let me ask you again for a friend about this alchemy thing. It'd be nice to create gold, but it also seems to come into play quite a bit throughout the history of science, perhaps in positive ways in terms of its impact. Can you say something to the history of alchemy and its impact? A little bit, sure. It used to be thought two things. One that alchemy, which dates certainly back to the Islamic period in Islam, you're talking 11th, 12th, 13th centuries among Islamic natural philosophers and experimenters. It used to be thought that alchemy, which picked up strikingly in the 15th, 16th century, 1500s and thereabouts, was a mystical procedure involving all sorts of strange notions and so on. That's not entirely untrue, but it is substantially untrue in that alchemists were engaged in what was known as chrysopoia, that is looking for ways to transform invaluable materials into valuable ones. But in the process of doing so or attempting to do so, they learned how to create complex amalgams of various kinds. They used very elaborate apparatus, glass, alembics, in which they would use heat to produce chemical decompositions. They would write down and observe these compositions. Many of the so-called really strange looking alchemical formulas and statements where they'll say something like, I can't produce it, but it'll be better. The soul of Mars will combine with this, et cetera, et cetera. It has been shown are almost all actual formulas for how to engage in the production of complex amalgams and what to do. By the time of Newton, Newton was reading the works of a fellow by the name of Starkey, who actually came from Harvard shortly before, in which things had progressed, if you will, to the point where the procedure turns into what historians call chrysopoia, which basically runs into the notion of thinking that these things are made out of particles. This is the mechanical philosophy. Can we engage in processes, chemical processes, to rearrange these things, which is not so stupid after all. We do it, except we happen to do it in reactors, not in chemical processes, unless of course it had happened that cold fusion had worked, which it didn't. Not yet. Well, right. But so that's the way they're thinking about these things. There's a kind of mix. And Newton engages extensively in those sorts of manipulations. In fact, more in that than almost anything else, except for his optical investigations. If you look through the latter parts of the 1670s, the last five, six, seven years or so of that, there's more on that than there is on anything else. He's not working on mechanics. He's pretty much gone pretty far in optics. He'll turn back to optics later on. So optics and alchemy. So what you're saying is Isaac Newton liked shiny things. Well, actually, if you go online and look at what Bill Newman, the professor at Bloomington, Indiana, has produced, you'll find the very shiny thing called the star regulus, which Newton describes as having produced according to a particular way, which Newman figured out and was able to do it. And it's very shiny. There you go. Proves the theorem. Can I ask you about God, religion, and its role in Newton's life? Was there helpful, constructive or destructive influences of religion in his work and in his life? Well, there you begin to touch on a complex question. The role that God played would be an interesting question to answer, should one go and be able to speak with this invisible character who doesn't exist? But putting that aside for the moment. Yeah, we don't like to talk about others while they're not here. Right. Newton is a deeply religious man, not unusually so, of course, for the time. Clearly his upbringing and perhaps his early experiences have exacerbated that in a number of ways. He takes a lot of things personally and he finds perhaps solace in thinking about a sort of governing abstract rulemaking exacting deity. I think there is little question that his conviction that you can figure things out has a fair bit to do with his profound belief that this rulemaker doesn't do things arbitrarily. Newton does not think that miracles have happened since maybe the time of Christ, if then and not in the same way. He was, for instance, an anti-trinitarian. He did not hold that Christ had a divine being, but was rather endowed with certain powers by the rulemaker and whatnot. He did not think that some of the tales of the Old Testament with various miracles and so on occurred in anything like that way. Some may have, some may not have, like everybody else. Of course, he did think that creation had happened about 6,000 years ago. Wait, really? Oh, yeah, sure. Well, biblical chronology can give you a little bit about that. It's a little controversial, but sure. Interesting. Wow. He created the universe 6,000 years ago. That didn't interfere with his playing around with the sun and the moon and the- Oh, no, because he's figuring out, he's watching the brilliant construction that this perfect entity- Did 6,000 years ago. Yeah, has produced- Plus or minus a few years. Well, if you go with Bishop Oster, it's 4004 BCE. Want to be precise about it. This is a serious program. We always want to be precise. Okay, let me ask another ridiculous question. If Newton were to travel forward in time and visit with Einstein and have a discussion about space, time, and general relativity, that conception of time, that conception of gravity, what do you think that discussion will go? Put that way, I think Newton would sit there in shock and say, I have no idea what you're talking about. If on the other hand, there's a time machine, you go back and bring a somewhat younger Newton, not a man my age, say. He lived a long time into his mid-80s, but take him when he's in his 40s, let's say. Bring him forward and don't immediately introduce him to Einstein. Let's take him for a ride on a railroad. Let him experience the railroad. Oh, that's right. Take him around and show him a sparking machine. He knows about sparks. Fending off sparks. Show him wires. Have him touch the wires and get a little shock. Show him a clicking telegraph machine of the kind. Then let him hear the clicks in a telephone receiver and so on. Do that for a couple of months. Let him get accustomed to things. Then take him into, not Einstein yet, let's say we're taking him into the 1890s. Einstein is a young man then. We take him into some of the laboratories. We show him some of the equipment, the devices, not the most elaborate ones. We show him certain things. We educate him bit by bit. The optics, maybe focus on that. Certainly on optics. You begin to show him things. He's a brilliant human being. I think bit by bit he would begin to see what's going on. But if you just dumped him in front of Einstein, he'd sit there his eyes would glaze over. I guess it's almost a question of how big of a leap, how many leaps have been taken in science that go from Newton to Einstein? We sometimes in a compressed version of history think that not much. Oh, that's totally wrong. A lot. Huge amounts. In multifarious ways involving fundamental conceptions, mathematical structures, the evolution of novel experimentation and devices, the organization. It's not everything. Everything. I mean, to a point where I wonder even if Newton was like, you said 40, but even like 30. So he's very, like if you would be able to catch up with the conception of everything. I wonder as a scientist, how much you load in from age five about this world in order to be able to conceive of the world of ideas that push that science forward. I mean, you mentioned the railroad and all those kinds of things. That might be fundamental to our ability to invent even when it doesn't directly obviously seem relevant. Well, yes. I mean, the railroad, the steam engine, the watt engine, et cetera. I mean, that was really the watt engine was developed pretty, although what new Joseph Black, a chemist, scientist, so on, did stuff on heat, was developed pretty much independently of the developing thoughts about heat at the time, but what it's not independent of is the evolution of practice in the manufacture and construction of devices, which can do things in extraordinarily novel ways and the premium being gradually placed on calculating how you can make them more efficient. That is of a piece with a way of thinking about the world in which you're controlling things and working it. It's something that humans have been doing for a long time, but in this more concerted and structured way, I think you really don't find it in the fullest sense until well into the 1500s and really not fully until the 17th century later on. So Newton had this year of miracles. I wonder if I could ask you briefly about Einstein and his year of miracles. I've been reading, re-reading, revisiting the brilliance of the papers that Einstein published in the year 1905, one of which, one of the Nobel Prize, the photoelectric effect, but also Brownian motion, special theory of relativity, and of course the old E equals MC squared. Does that make sense to you that these two figures had such productive years that there's this moment of genius? Maybe if we zoom out, I mean, my work is very much in artificial intelligence, sort of wondering about the nature of intelligence. How did evolution on earth produce genius that could come up with so much in so little time? To me, that gives me hope that one person can change the world in such a small amount of time. Well, of course there are precedents in both Newton's and Einstein's cases for elements of what we're finding there and so on. Well, I have no idea. You know, I'm sure you must have read, it was kind of a famous story that after Einstein died, he donated his brain and they sliced it up to see if they could find something unusual there and nothing unusual visibly in there. So clearly there are people who for various reasons, maybe both intrinsic and extrinsic in the sense of experience and so on, are capable of coming up with these extraordinary results. Many years ago when I was a student, a friend of mine came in and said, did you read this? I forget what it was. Anyway, there was a story in the paper. It was about, I think it was a young woman who was, she couldn't speak and she was somewhere on the autism spectrum. She could not read other people's affect in any ways, but she could sit down at a piano and having heard it once and then run variations on the most complex pianistic works of Chopin and others. Right? Now, how? Some aspect of our mind is able to tune in and some aspect of reality and become a master of it. And every once in a while that means coming up with breakthrough ideas in physics. Yeah. How the heck does that happen? Who knows? Jed, I'd like to say thank you so much for spending your valuable time with me today. It was a really fascinating conversation. I've learned so much about Isaac Newton, who is one of the most fascinating figures in human history. So thank you so much for talking to me. A pleasure. I enjoyed it very much. Thanks for listening to this conversation with Jed Buchwald. To support this podcast, please check out our sponsors in the description. And now let me leave you with some words from Thomas Kuhn, a philosopher of science. The answers you get depend on the questions you ask. Thank you for listening and hope to see you next time.\""
      ]
     },
     "execution_count": 25,
     "metadata": {},
     "output_type": "execute_result"
    }
   ],
   "source": [
    "full_dataset[0][\"text\"]"
   ]
  },
  {
   "cell_type": "code",
   "execution_count": 24,
   "id": "44951375-f7b1-46b1-bda4-1490545bc23e",
   "metadata": {
    "tags": []
   },
   "outputs": [
    {
     "data": {
      "text/plain": [
       "True"
      ]
     },
     "execution_count": 24,
     "metadata": {},
     "output_type": "execute_result"
    }
   ],
   "source": [
    "full_dataset[0][\"text\"] == \"\".join([segment[\"text\"] for segment in full_dataset[0][\"segments\"]])"
   ]
  },
  {
   "cell_type": "code",
   "execution_count": 23,
   "id": "b2ad1abf-3845-4c02-8554-e9f0a6337a7a",
   "metadata": {
    "tags": []
   },
   "outputs": [],
   "source": [
    "# def extract_outline(episode):\n",
    "#     \"\"\"\n",
    "#     \"\"\"\n",
    "#     outline_started = False\n",
    "#     outline = []\n",
    "    \n",
    "#     for line in episode[\"description\"].split(\"\\n\"):\n",
    "#         if \"OUTLINE:\" in line:\n",
    "#             outline_started = True\n",
    "#             continue\n",
    "#         if outline_started:\n",
    "#             if line.strip() == \"\" or line.startswith(\"CONNECT:\"):\n",
    "#                 break\n",
    "#             outline.append(line.strip())\n",
    "            \n",
    "#     episode[\"outline\"] = outline\n",
    "#     return episode\n",
    "\n",
    "# full_dataset = full_dataset.map(extract_outline, batched=False)"
   ]
  },
  {
   "cell_type": "markdown",
   "id": "8ff2cb33-294f-4863-8471-b2834a8e8b5d",
   "metadata": {
    "jp-MarkdownHeadingCollapsed": true,
    "tags": []
   },
   "source": [
    "# Generating questions"
   ]
  },
  {
   "cell_type": "code",
   "execution_count": 2,
   "id": "93605b8d-fc2b-46ca-b093-4d3487e42804",
   "metadata": {
    "tags": []
   },
   "outputs": [],
   "source": [
    "chunked_docs_path = os.path.join(\n",
    "    PROJECT_DIR,\n",
    "    \"data/generated_documents/documents.json\"\n",
    ")\n",
    "full_dataset = read_json_file(chunked_docs_path)"
   ]
  },
  {
   "cell_type": "code",
   "execution_count": 3,
   "id": "f4831158-4bc3-40a6-94c9-0b284b13d0c8",
   "metadata": {
    "tags": []
   },
   "outputs": [
    {
     "data": {
      "application/vnd.jupyter.widget-view+json": {
       "model_id": "2e97378f5939435cb0a82e5f491a10a5",
       "version_major": 2,
       "version_minor": 0
      },
      "text/plain": [
       "  0%|          | 0/22232 [00:00<?, ?it/s]"
      ]
     },
     "metadata": {},
     "output_type": "display_data"
    }
   ],
   "source": [
    "questions = map_progress(\n",
    "    f=lambda episode:extract_questions(\n",
    "        episode=episode,\n",
    "        min_words=15,\n",
    "        max_words=20\n",
    "    ),\n",
    "    seq=full_dataset,\n",
    "    max_workers=4,\n",
    "    verbose=False\n",
    ")\n",
    "\n",
    "questions = flatten_list_of_lists(questions)"
   ]
  },
  {
   "cell_type": "code",
   "execution_count": 4,
   "id": "13c4a49c-e636-447d-b0ac-ca9022b092fa",
   "metadata": {
    "tags": []
   },
   "outputs": [
    {
     "name": "stdout",
     "output_type": "stream",
     "text": [
      "Number of questions before sampling: 10143\n",
      "Number of questions after sampling: 1000\n"
     ]
    }
   ],
   "source": [
    "print(\"Number of questions before sampling:\", len(questions))\n",
    "questions = sample_from_list(questions, sample_size=1000, seed=42)\n",
    "print(\"Number of questions after sampling:\", len(questions))"
   ]
  },
  {
   "cell_type": "code",
   "execution_count": 5,
   "id": "94b0a9a3-4343-4724-aea2-e594f107f201",
   "metadata": {
    "tags": []
   },
   "outputs": [],
   "source": [
    "# Group questions by episode_id\n",
    "questions_per_episode = group_questions_by_episode(questions)"
   ]
  },
  {
   "cell_type": "markdown",
   "id": "455016a6-4679-4e0d-8857-514fe35020a2",
   "metadata": {
    "jp-MarkdownHeadingCollapsed": true,
    "tags": []
   },
   "source": [
    "# Rephrasing questions & keeping self-sufficient only"
   ]
  },
  {
   "cell_type": "code",
   "execution_count": 7,
   "id": "3bc51ee3-0624-486f-8b45-6b25ccfe4ba0",
   "metadata": {
    "tags": []
   },
   "outputs": [
    {
     "data": {
      "application/vnd.jupyter.widget-view+json": {
       "model_id": "d2fcca0eda384951ac2942715c0b5044",
       "version_major": 2,
       "version_minor": 0
      },
      "text/plain": [
       "  0%|          | 0/302 [00:00<?, ?it/s]"
      ]
     },
     "metadata": {},
     "output_type": "display_data"
    }
   ],
   "source": [
    "prompt_template_path = os.path.join(PROJECT_DIR, \"prompts/rephrase_questions.txt\")\n",
    "\n",
    "rephrased_questions = map_progress(\n",
    "    f=lambda episode_questions:openai_rephrase(\n",
    "        episode_questions=episode_questions,\n",
    "        prompt_template_path=prompt_template_path,\n",
    "        model=\"gpt-4o-mini\",\n",
    "    ),\n",
    "    seq=questions_per_episode,\n",
    "    max_workers=4,\n",
    "    verbose=False\n",
    ")\n",
    "\n",
    "rephrased_questions = flatten_list_of_lists(rephrased_questions)"
   ]
  },
  {
   "cell_type": "code",
   "execution_count": 8,
   "id": "463b8fa9-2390-44c1-a4e1-6c15fefb3b44",
   "metadata": {
    "tags": []
   },
   "outputs": [
    {
     "name": "stdout",
     "output_type": "stream",
     "text": [
      "Number of questions before rephrasing & keeping self-sufficient only: 1000\n",
      "Number of questions after rephrasing & keeping self-sufficient only: 344\n"
     ]
    }
   ],
   "source": [
    "print(\"Number of questions before rephrasing & keeping self-sufficient only:\", len(questions))\n",
    "print(\"Number of questions after rephrasing & keeping self-sufficient only:\", len(rephrased_questions))"
   ]
  },
  {
   "cell_type": "code",
   "execution_count": 9,
   "id": "2000f634-fcbb-470a-bff8-1e7a17db13f5",
   "metadata": {
    "tags": []
   },
   "outputs": [],
   "source": [
    "rephrased_questions_reviewed = []\n",
    "for i, rephrased_question in enumerate(rephrased_questions):\n",
    "    try:\n",
    "        rephrased_question[\"text\"] = rephrased_question.pop(\"question\")\n",
    "        rephrased_question[\"episode_id\"]; rephrased_question[\"chunk_id\"]\n",
    "        \n",
    "        rephrased_questions_reviewed.append(rephrased_question)\n",
    "    except:\n",
    "        pass"
   ]
  },
  {
   "cell_type": "code",
   "execution_count": 10,
   "id": "49056847-fd61-4feb-a5c0-f606069a7ae3",
   "metadata": {
    "tags": []
   },
   "outputs": [
    {
     "name": "stdout",
     "output_type": "stream",
     "text": [
      "Number of questions before reviewing: 344\n",
      "Number of questions after reviewing: 12\n"
     ]
    }
   ],
   "source": [
    "print(\"Number of questions before reviewing:\", len(rephrased_questions))\n",
    "print(\"Number of questions after reviewing:\", len(rephrased_questions_reviewed))"
   ]
  },
  {
   "cell_type": "code",
   "execution_count": 44,
   "id": "edb6ded9-c22c-4cc4-9570-39c24d32b5be",
   "metadata": {
    "tags": []
   },
   "outputs": [
    {
     "name": "stdout",
     "output_type": "stream",
     "text": [
      "Data successfully saved to /mnt/workspace/__ing/llming/DTC/audio_podcast_qa_assistant/data/generated_questions/questions.json\n"
     ]
    }
   ],
   "source": [
    "questions_path = os.path.join(\n",
    "    PROJECT_DIR,\n",
    "    \"data/generated_questions/\",\n",
    "    \"questions.json\"\n",
    ")\n",
    "\n",
    "save_json_file(rephrased_questions_reviewed, questions_path, replace=True)"
   ]
  },
  {
   "cell_type": "code",
   "execution_count": 46,
   "id": "bb85ab23-b9d5-4ddd-81ca-c491613247fd",
   "metadata": {
    "tags": []
   },
   "outputs": [
    {
     "data": {
      "text/plain": [
       "[{'episode_id': 'FUS6ceIvUnI',\n",
       "  'chunk_id': 3,\n",
       "  'llm_answer': 'Visual learning can have applications in language through visual aids such as images or videos that illustrate word meanings, helping learners connect concepts visually. In other domains, examples include interpreting visual data in science, understanding art and design through visual storytelling, and applying visual analytics in business intelligence.',\n",
       "  'text': 'What are some examples of visual learning applications in language or other domains?'},\n",
       " {'episode_id': 'FUS6ceIvUnI',\n",
       "  'chunk_id': 9,\n",
       "  'llm_answer': 'Yes, having a robust function to compare objects can reveal underlying features and relationships, allowing for a deeper understanding of individual objects by highlighting their unique characteristics and how they relate to others.',\n",
       "  'text': 'Does developing an effective function to compare objects lead to deeper understanding of individual objects?'},\n",
       " {'episode_id': 'FUS6ceIvUnI',\n",
       "  'chunk_id': 62,\n",
       "  'llm_answer': 'Yes, learning typically refers to the process of acquiring knowledge or skills through experience or education, while reasoning involves the ability to think, understand, and form judgments logically based on that knowledge.',\n",
       "  'text': 'Is there a difference between learning and reasoning?'},\n",
       " {'episode_id': 'FUS6ceIvUnI',\n",
       "  'chunk_id': 40,\n",
       "  'llm_answer': 'Self-supervised learning can face challenges with overfitting to datasets like ImageNet, but it can also generalize well when designed properly, allowing it to perform effectively in various real-world applications.',\n",
       "  'text': 'Does self-supervised learning suffer from overfitting to datasets like ImageNet, or is it applicable in real-world scenarios?'},\n",
       " {'episode_id': 'NERNE4UThHU',\n",
       "  'chunk_id': 0,\n",
       "  'llm_answer': 'The wins experienced include achieving significant milestones, while the challenges faced involved overcoming obstacles that, despite their difficulty, contributed to the overall success.',\n",
       "  'text': 'What were the wins that you experienced, and what challenges did you face that made it ultimately rewarding?'},\n",
       " {'episode_id': 'NERNE4UThHU',\n",
       "  'chunk_id': 0,\n",
       "  'llm_answer': 'The envisioned scale of this project was to reach a wide audience and achieve substantial impact, potentially becoming a leading initiative in its field.',\n",
       "  'text': 'What was the envisioned scale or potential success of this project?'},\n",
       " {'episode_id': 'NERNE4UThHU',\n",
       "  'chunk_id': 5,\n",
       "  'llm_answer': 'Initially, the level of popularity was uncertain, but there were hopes for success.',\n",
       "  'text': 'Did you ever consider that the project could become as popular as it eventually did?'},\n",
       " {'episode_id': 'NERNE4UThHU',\n",
       "  'chunk_id': 20,\n",
       "  'llm_answer': 'Building a successful community involves fostering engagement, providing valuable resources, and creating a supportive environment.',\n",
       "  'text': 'What are the key elements required to build a successful community?'},\n",
       " {'episode_id': 'NERNE4UThHU',\n",
       "  'chunk_id': 30,\n",
       "  'llm_answer': \"Yes, it has the potential to continue functioning as a model that supports and funds businesses in a similar way to Google's approach.\",\n",
       "  'text': 'Do you see it continuing to be a model that supports businesses, similar to what Google does?'},\n",
       " {'episode_id': 'uy1fX2vOAEE',\n",
       "  'chunk_id': 48,\n",
       "  'llm_answer': 'Yes, Marty Malloy won a bronze medal.',\n",
       "  'text': \"Did Marty's best friend, Marty Malloy, win a bronze medal?\"}]"
      ]
     },
     "execution_count": 46,
     "metadata": {},
     "output_type": "execute_result"
    }
   ],
   "source": [
    "rephrased_questions_reviewed[:10]"
   ]
  },
  {
   "cell_type": "markdown",
   "id": "0fdc66a9-3964-4002-a5cf-000d8a5b89f0",
   "metadata": {
    "jp-MarkdownHeadingCollapsed": true,
    "tags": []
   },
   "source": [
    "# Vectorizing docs"
   ]
  },
  {
   "cell_type": "code",
   "execution_count": 45,
   "id": "73698518-2266-4587-906c-926575bddfde",
   "metadata": {
    "tags": []
   },
   "outputs": [],
   "source": [
    "from utils.ollama import embed_document\n",
    "from utils.variables import OLLAMA_CLIENT"
   ]
  },
  {
   "cell_type": "code",
   "execution_count": 31,
   "id": "b2ff77a1-f7b0-46b1-b7f7-78d16e3697ec",
   "metadata": {
    "tags": []
   },
   "outputs": [],
   "source": [
    "questions_path = os.path.join(\n",
    "    PROJECT_DIR,\n",
    "    \"data/generated_questions/\",\n",
    "    \"questions.json\"\n",
    ")\n",
    "\n",
    "rephrased_questions = read_json_file(questions_path)"
   ]
  },
  {
   "cell_type": "code",
   "execution_count": 32,
   "id": "6779f9d4-a02f-4120-abb1-84eaeacc8960",
   "metadata": {
    "tags": []
   },
   "outputs": [
    {
     "data": {
      "application/vnd.jupyter.widget-view+json": {
       "model_id": "95cb1c2e500b4eb1be8ca0fc044e8683",
       "version_major": 2,
       "version_minor": 0
      },
      "text/plain": [
       "  0%|          | 0/495 [00:00<?, ?it/s]"
      ]
     },
     "metadata": {},
     "output_type": "display_data"
    },
    {
     "name": "stdout",
     "output_type": "stream",
     "text": [
      "1/495 items processed so far...\n",
      "25/495 items processed so far...\n",
      "49/495 items processed so far...\n",
      "73/495 items processed so far...\n",
      "97/495 items processed so far...\n",
      "121/495 items processed so far...\n",
      "145/495 items processed so far...\n",
      "169/495 items processed so far...\n",
      "193/495 items processed so far...\n",
      "217/495 items processed so far...\n",
      "241/495 items processed so far...\n",
      "265/495 items processed so far...\n",
      "289/495 items processed so far...\n",
      "313/495 items processed so far...\n",
      "337/495 items processed so far...\n",
      "361/495 items processed so far...\n",
      "385/495 items processed so far...\n",
      "409/495 items processed so far...\n",
      "433/495 items processed so far...\n",
      "457/495 items processed so far...\n",
      "481/495 items processed so far...\n",
      "495/495 items processed.\n"
     ]
    }
   ],
   "source": [
    "vectorized_questions = map_progress(\n",
    "    f=lambda q: embed_document(OLLAMA_CLIENT, q),\n",
    "    seq=rephrased_questions_reviewed,\n",
    "    max_workers=4,\n",
    "    verbose=False\n",
    ")"
   ]
  },
  {
   "cell_type": "code",
   "execution_count": 39,
   "id": "cc6ee8db-aa39-4179-ae1d-23757b4351bb",
   "metadata": {
    "tags": []
   },
   "outputs": [],
   "source": [
    "pickle_file_path = os.path.join(\n",
    "    PROJECT_DIR, \n",
    "    \"data/generated_document_embeddings/vectorized_questions.pkl\"\n",
    ")\n",
    "\n",
    "save_to_pickle(vectorized_questions, pickle_file_path)"
   ]
  },
  {
   "cell_type": "markdown",
   "id": "f085a955-6f8f-4964-9e99-7333ff89b41c",
   "metadata": {
    "jp-MarkdownHeadingCollapsed": true,
    "tags": []
   },
   "source": [
    "# Assessing Retrieval"
   ]
  },
  {
   "cell_type": "code",
   "execution_count": 9,
   "id": "52b48ff7-8641-45bc-8489-3139d6f520b9",
   "metadata": {
    "tags": []
   },
   "outputs": [],
   "source": [
    "from utils.query import (\n",
    "    elastic_search_text, elastic_search_knn, elastic_search_hybrid_rrf\n",
    ")\n",
    "from utils.variables import ES_CLIENT\n",
    "from utils.evaluate import hit_rate, mrr"
   ]
  },
  {
   "cell_type": "code",
   "execution_count": 3,
   "id": "8dcba676-9316-4de4-a318-75204c84aa4f",
   "metadata": {
    "tags": []
   },
   "outputs": [],
   "source": [
    "pickle_file_path = os.path.join(\n",
    "    PROJECT_DIR, \n",
    "    \"data/generated_document_embeddings/vectorized_questions.pkl\"\n",
    ")\n",
    "vectorized_questions = load_pickle(pickle_file_path)"
   ]
  },
  {
   "cell_type": "code",
   "execution_count": 4,
   "id": "33edd0d1-f648-4ebb-a917-9766ce8e4eec",
   "metadata": {
    "tags": []
   },
   "outputs": [
    {
     "data": {
      "text/plain": [
       "'What is the key methodology of the clustering that enables its effectiveness?'"
      ]
     },
     "execution_count": 4,
     "metadata": {},
     "output_type": "execute_result"
    }
   ],
   "source": [
    "vectorized_questions[0][\"text\"]"
   ]
  },
  {
   "cell_type": "code",
   "execution_count": 28,
   "id": "c1853694-b58d-4478-8dcc-75e21b927a4b",
   "metadata": {
    "tags": []
   },
   "outputs": [],
   "source": [
    "performance = []"
   ]
  },
  {
   "cell_type": "markdown",
   "id": "fc3e1f73-db40-41b7-9f41-829b565a6429",
   "metadata": {},
   "source": [
    "### Text"
   ]
  },
  {
   "cell_type": "code",
   "execution_count": 5,
   "id": "7f56b7df-15be-4395-a7ac-5786c3cb5226",
   "metadata": {
    "tags": []
   },
   "outputs": [],
   "source": [
    "def text_retrieval(question_dict):\n",
    "    ground_truth = (question_dict['episode_id'], question_dict['chunk_id'])\n",
    "    return [\n",
    "        (doc['id'], doc['chunk_id']) == ground_truth\\\n",
    "        for doc in elastic_search_text(question_dict[\"text\"])\n",
    "    ]"
   ]
  },
  {
   "cell_type": "code",
   "execution_count": 10,
   "id": "0e734350-08de-448c-b3a2-9e1af3efe633",
   "metadata": {
    "tags": []
   },
   "outputs": [
    {
     "data": {
      "application/vnd.jupyter.widget-view+json": {
       "model_id": "f17b426c4d9a4a84bc2cf148bd677c23",
       "version_major": 2,
       "version_minor": 0
      },
      "text/plain": [
       "  0%|          | 0/495 [00:00<?, ?it/s]"
      ]
     },
     "metadata": {},
     "output_type": "display_data"
    }
   ],
   "source": [
    "text_relevance = map_progress(\n",
    "    f=text_retrieval,\n",
    "    seq=vectorized_questions,\n",
    "    max_workers=4,\n",
    "    verbose=False\n",
    ")"
   ]
  },
  {
   "cell_type": "code",
   "execution_count": 29,
   "id": "d33fb5c3-4b66-4e12-b335-e8faa71c9d8a",
   "metadata": {
    "tags": []
   },
   "outputs": [],
   "source": [
    "performance.append(\n",
    "    {\n",
    "        \"Search\": \"elastic_search_text\",\n",
    "        \"HR\": hit_rate(text_relevance),\n",
    "        \"MRR\": mrr(text_relevance)\n",
    "    }\n",
    ")"
   ]
  },
  {
   "cell_type": "markdown",
   "id": "4aa671af-0692-4131-b10b-b4f90a1f7d18",
   "metadata": {},
   "source": [
    "### Vector"
   ]
  },
  {
   "cell_type": "code",
   "execution_count": 17,
   "id": "044b1ea8-f156-44af-a1f7-c290f17ba375",
   "metadata": {
    "tags": []
   },
   "outputs": [],
   "source": [
    "def knn_retrieval(question_dict):\n",
    "    ground_truth = (question_dict['episode_id'], question_dict['chunk_id'])\n",
    "    return [\n",
    "        (doc['id'], doc['chunk_id']) == ground_truth\\\n",
    "        for doc in elastic_search_knn(question_dict[\"text_vector\"])\n",
    "    ]"
   ]
  },
  {
   "cell_type": "code",
   "execution_count": 18,
   "id": "8896af00-e009-4681-ba85-9b5d8cf03daa",
   "metadata": {
    "tags": []
   },
   "outputs": [
    {
     "data": {
      "application/vnd.jupyter.widget-view+json": {
       "model_id": "f14ab95f5a9f4483a376d2901894dda4",
       "version_major": 2,
       "version_minor": 0
      },
      "text/plain": [
       "  0%|          | 0/495 [00:00<?, ?it/s]"
      ]
     },
     "metadata": {},
     "output_type": "display_data"
    }
   ],
   "source": [
    "knn_relevance = map_progress(\n",
    "    f=knn_retrieval,\n",
    "    seq=vectorized_questions,\n",
    "    max_workers=4,\n",
    "    verbose=False\n",
    ")"
   ]
  },
  {
   "cell_type": "code",
   "execution_count": 30,
   "id": "bcb34b7f-7c2a-4ae0-a590-e5bf46e65e1f",
   "metadata": {
    "tags": []
   },
   "outputs": [],
   "source": [
    "performance.append(\n",
    "    {\n",
    "        \"Search\": \"elastic_search_knn\",\n",
    "        \"HR\": hit_rate(knn_relevance),\n",
    "        \"MRR\": mrr(knn_relevance)\n",
    "    }\n",
    ")"
   ]
  },
  {
   "cell_type": "markdown",
   "id": "23a7100c-77b9-475d-bd1d-11574c1636e7",
   "metadata": {},
   "source": [
    "### Hybrid (RRF)"
   ]
  },
  {
   "cell_type": "code",
   "execution_count": 24,
   "id": "e462b30b-eb96-4edb-9db9-4eb1cd521aae",
   "metadata": {
    "tags": []
   },
   "outputs": [],
   "source": [
    "def hybrid_retrieval(question_dict):\n",
    "    ground_truth = (question_dict['episode_id'], question_dict['chunk_id'])\n",
    "    return [\n",
    "        (doc['id'], doc['chunk_id']) == ground_truth\\\n",
    "        for doc in elastic_search_hybrid_rrf(\n",
    "            question_dict[\"text\"],\n",
    "            question_dict[\"text_vector\"]\n",
    "        )\n",
    "    ]"
   ]
  },
  {
   "cell_type": "code",
   "execution_count": 25,
   "id": "beb715c8-d13d-4a03-a843-5d7aedecc032",
   "metadata": {},
   "outputs": [
    {
     "data": {
      "application/vnd.jupyter.widget-view+json": {
       "model_id": "c5ad035cef1440719b03044e4d39b9c3",
       "version_major": 2,
       "version_minor": 0
      },
      "text/plain": [
       "  0%|          | 0/495 [00:00<?, ?it/s]"
      ]
     },
     "metadata": {},
     "output_type": "display_data"
    }
   ],
   "source": [
    "hybrid_relevance = map_progress(\n",
    "    f=hybrid_retrieval,\n",
    "    seq=vectorized_questions,\n",
    "    max_workers=4,\n",
    "    verbose=False\n",
    ")"
   ]
  },
  {
   "cell_type": "code",
   "execution_count": 31,
   "id": "fd513cd8-7fc6-4425-8b8c-f45bc94b6288",
   "metadata": {
    "tags": []
   },
   "outputs": [],
   "source": [
    "performance.append(\n",
    "    {\n",
    "        \"Search\": \"elastic_search_hybrid_rrf\",\n",
    "        \"HR\": hit_rate(hybrid_relevance),\n",
    "        \"MRR\": mrr(hybrid_relevance)\n",
    "    }\n",
    ")"
   ]
  },
  {
   "cell_type": "code",
   "execution_count": 32,
   "id": "49a6893c-0076-4272-a79c-cf9a59fddf17",
   "metadata": {
    "tags": []
   },
   "outputs": [
    {
     "data": {
      "text/html": [
       "<div>\n",
       "<style scoped>\n",
       "    .dataframe tbody tr th:only-of-type {\n",
       "        vertical-align: middle;\n",
       "    }\n",
       "\n",
       "    .dataframe tbody tr th {\n",
       "        vertical-align: top;\n",
       "    }\n",
       "\n",
       "    .dataframe thead th {\n",
       "        text-align: right;\n",
       "    }\n",
       "</style>\n",
       "<table border=\"1\" class=\"dataframe\">\n",
       "  <thead>\n",
       "    <tr style=\"text-align: right;\">\n",
       "      <th></th>\n",
       "      <th>Search</th>\n",
       "      <th>HR</th>\n",
       "      <th>MRR</th>\n",
       "    </tr>\n",
       "  </thead>\n",
       "  <tbody>\n",
       "    <tr>\n",
       "      <th>0</th>\n",
       "      <td>elastic_search_text</td>\n",
       "      <td>0.721212</td>\n",
       "      <td>0.594478</td>\n",
       "    </tr>\n",
       "    <tr>\n",
       "      <th>1</th>\n",
       "      <td>elastic_search_knn</td>\n",
       "      <td>0.404040</td>\n",
       "      <td>0.299630</td>\n",
       "    </tr>\n",
       "    <tr>\n",
       "      <th>2</th>\n",
       "      <td>elastic_search_hybrid_rrf</td>\n",
       "      <td>0.713131</td>\n",
       "      <td>0.480370</td>\n",
       "    </tr>\n",
       "  </tbody>\n",
       "</table>\n",
       "</div>"
      ],
      "text/plain": [
       "                      Search        HR       MRR\n",
       "0        elastic_search_text  0.721212  0.594478\n",
       "1         elastic_search_knn  0.404040  0.299630\n",
       "2  elastic_search_hybrid_rrf  0.713131  0.480370"
      ]
     },
     "execution_count": 32,
     "metadata": {},
     "output_type": "execute_result"
    }
   ],
   "source": [
    "import pandas as pd\n",
    "\n",
    "pd.DataFrame(performance)"
   ]
  },
  {
   "cell_type": "code",
   "execution_count": 33,
   "id": "104f8734-c02f-4b30-967b-9cc254fa89e7",
   "metadata": {
    "tags": []
   },
   "outputs": [
    {
     "data": {
      "text/plain": [
       "['What is the key methodology of the clustering that enables its effectiveness?',\n",
       " 'Is there a distinction between the concepts of learning and reasoning?',\n",
       " 'How can something be effectively trained at a fast pace?',\n",
       " 'Does self-supervised learning overfit to ImageNet, or can it be effective in real-world scenarios?',\n",
       " 'What were some of the successes you experienced, and what challenges did you face that made it a positive experience?',\n",
       " 'What was your vision for the scale and potential of this project?',\n",
       " 'Did you ever think that it could become as popular as it ultimately did?',\n",
       " 'What does it take to successfully build a community?',\n",
       " 'Do you believe this model can continue to successfully fund businesses like Google?',\n",
       " 'Is it important to have people in your life who believe in you, or should self-belief be your primary source of motivation?',\n",
       " 'How can I leverage my skills to make a positive impact on the world?',\n",
       " \"Could you summarize the main ideas from each of the five sections you've written?\",\n",
       " 'Can you explain the concept of value semantics and how to determine if something should be considered a value?',\n",
       " 'What are your thoughts on Elon Musk, SpaceX, and the act of launching rockets into space?',\n",
       " 'What does it feel like to fail in standup comedy?',\n",
       " 'What are your thoughts on self-driving cars?',\n",
       " 'Do you consider proteins to be the fundamental building blocks of life?',\n",
       " 'What interests you about the evolution of proteins from the initial ancestor to the present day?',\n",
       " 'If you were to summarize the content, what do you think the summary would include?',\n",
       " 'Can you predict how a specific rule might change in the future?',\n",
       " 'When do we consider two things to be identical?',\n",
       " 'What are the types of transformations on objects that make them appear similar after transformation?',\n",
       " 'What are the main bottleneck problems that still prevent the successful implementation of fusion energy today?',\n",
       " 'Am I an AI program created to interview individuals until I become skilled enough to interview you?',\n",
       " 'From the perspective of AI, can AI systems design games that are maximally engaging for humans?',\n",
       " 'Will there ever be a time when it is undeniable that an AI system has rightfully earned a Nobel Prize?',\n",
       " 'Is the system demonstrating all the behaviors typically associated with a sentient human or being?',\n",
       " 'I would argue that information is fundamental, as it can define energy or matter, correct?',\n",
       " 'How can I determine the trustworthiness of the information I am viewing?',\n",
       " 'Can we advance physics to a level where humans can comprehend its phenomena?',\n",
       " 'What is the difference between being aware and being conscious?',\n",
       " 'When I show you a painting that appears as just a mix of colors on a canvas, what significance does it hold for you?',\n",
       " 'Why is understanding the nuances of social dynamics important for survival, finding a partner, and reproduction?',\n",
       " 'What is your fondest memory of your dad, considering some aspects of your relationship were rough?',\n",
       " 'What inspires you daily in terms of beauty and awe?',\n",
       " 'What are your thoughts on the challenges of leaving Earth and entering space?',\n",
       " 'What important idea do you believe is true that many others disagree with?',\n",
       " 'Can you ask your computer if there is a short proof of the Riemann hypothesis?',\n",
       " 'What strategies can we use to build a more competent government?',\n",
       " 'How many years do you think it will take before the singularity occurs, and what form do you believe it will take?',\n",
       " 'If you believe in the universal prior, what do you think the universal reward function is?',\n",
       " 'Would I want the current United States federal government to cease to exist today?',\n",
       " 'Do you believe that we will eventually discover cures for all major diseases currently known?',\n",
       " 'What would happen if I required you to show up every month and take your money?',\n",
       " 'Can you explain this idea in more detail if you invested $20?',\n",
       " \"Isn't it counterintuitive to bleed a sick person?\",\n",
       " \"If the government tends to purchase things it can't afford, what is the ideal form of government?\",\n",
       " 'How can we gauge if people are experiencing less loneliness or are feeling better overall?',\n",
       " 'What advice can you provide for maintaining a strong sense of curiosity?',\n",
       " 'Is the concept of bombarding neutrons based on experimental approaches?',\n",
       " \"If you're closer to the source of the wave, does the amount remain the same even if it's small?\",\n",
       " 'Are you actively reflecting on your motivations and practicing humility?',\n",
       " 'What made the inclusion of that audio clip at the end of the documentary controversial?',\n",
       " 'Is that chat client within Google still operational, or has Google shut it down?',\n",
       " \"From an investor's perspective, when is the right time to invest in a startup?\",\n",
       " 'Is there a practical political direction that society should take?',\n",
       " 'If you were asked about your feelings on the right to own a firearm, what would you say?',\n",
       " 'Did you find it interesting to see how AI could play those video games?',\n",
       " 'Did the Wuhan Institute of Virology proceed with their research?',\n",
       " 'How can the Chinese government be transparent now and in the future?',\n",
       " 'What small acts of rebellion can individual scientists undertake?',\n",
       " 'Does Joe listen to both the four hours of additional material and the three hours of interviews each day?',\n",
       " 'What effects did he have on your life, both during competitions and in everyday life?',\n",
       " 'I have always wondered how effective head movement is in boxing or judo.',\n",
       " 'Can you discuss different aspects such as grip techniques, footwork, and leverage?',\n",
       " 'What do you believe contributes most to your success and your approach to judo?',\n",
       " 'What is dark matter, and why is it difficult to understand?',\n",
       " 'Would it excite you to witness a human being set foot on Mars during your lifetime?',\n",
       " 'Can you explain the indentation style used in Python and what makes it significant?',\n",
       " 'Among the PyPI packages, which ones do you particularly enjoy?',\n",
       " 'How would one react if a robot evokes feelings of having a soul?',\n",
       " 'Are some individuals in charge of Linux considered to be difficult or unpleasant to deal with?',\n",
       " 'Does this relate to the concepts of AI, paradox, and logic?',\n",
       " 'How flexibly can a system adapt as society and technology evolve?',\n",
       " 'Are we simply a small part of the larger superintelligent system?',\n",
       " 'Does humility hinder the ability to envision creating something innovative and impactful?',\n",
       " 'How can you design a programming language that aligns with your thinking process?',\n",
       " 'Is there a factor beyond basic biological and chemical equilibrium that influences functionality?',\n",
       " \"If the services that enabled the creation of Uber weren't available, would Uber have been created?\",\n",
       " 'Do they sometimes transition into more formal deterministic agreements represented by smart contracts?',\n",
       " 'Can you explain the history of smart contracts and provide basic definitions of what they are?',\n",
       " 'What portion of the contract should be allocated to each of these two systems?',\n",
       " 'Is Ethereum the second largest and second most robust cryptocurrency?',\n",
       " 'What are your opinions on Elon Musk and SpaceX, specifically regarding their Crew Dragon mission in collaboration with NASA to launch astronauts?',\n",
       " 'What signs in your life indicated that you excel in certain areas?',\n",
       " 'Does your approach to training with lower belts stem from a specific idea?',\n",
       " 'If asymmetry of power is essential to jiu-jitsu, how can one identify it?',\n",
       " 'What led you to recognize the body lock as a method to create asymmetry in jiu-jitsu?',\n",
       " 'How can we analyze the need for changes to the ideal of freedom of speech?',\n",
       " 'Is there a way to discuss the alien conversation that includes breaking established frameworks?',\n",
       " 'Each time she purchased a security, the price of that security increased, correct?',\n",
       " 'What factors do you think contribute to Lisp not being as widely adopted and successful as languages like Python?',\n",
       " 'What aspects of collecting biological data about humans excite you the most?',\n",
       " 'In a tournament, how quickly can a player construct a profile for an opponent they have never played against before?',\n",
       " 'When participating in high roller events with around 30 to 40 players, is it true that you are familiar with everyone there?',\n",
       " 'Do people recognize and understand the standard strategies for openings in the game?',\n",
       " 'Is 10-7 still your favorite hand to play in poker?',\n",
       " \"Does believing in the magic of a certain poker hand influence the quality of a player's performance in the game?\",\n",
       " 'Is the sun positioned at approximately one hundred ninety-five degrees?',\n",
       " 'Should we consider releasing information that could potentially transform human civilization?',\n",
       " 'Could this be a misinterpretation of known physical phenomena, such as an ice cloud?',\n",
       " 'Is it appropriate to refer to fighter jets as a broad category for the public?',\n",
       " 'Can a robot enhance its understanding of humans by changing their behavior through its actions?',\n",
       " 'Can we visualize images that enhance our understanding of the true nature of reality?',\n",
       " \"What insights were presented in the paper titled 'Could a Neuroscientist Understand a Microprocessor?'\",\n",
       " 'Does this fictional work aid in developing intuitions about reality, similar to how literary fiction does?',\n",
       " 'Will there ever be a moment when you sit back and feel truly proud of your achievements?',\n",
       " 'What is the main purpose or goal of modern psychiatry?',\n",
       " 'Do you believe that being very systematic can lead to more productive outcomes?',\n",
       " 'In what ways can humans cope with, adapt to, and ultimately overcome challenges?',\n",
       " 'What is the size of the network graph or data structure of concepts that exists in our minds?',\n",
       " 'Do you have any memorable anecdotes from your chess career, whether they are big, small, weird, or surprising?',\n",
       " 'Could you explain how chess ratings are calculated and what it takes to achieve a high rating?',\n",
       " 'Does communism foster a mentality that could lead to dictators like Stalin or Mao?',\n",
       " \"How significantly did Marx's ideas contribute to the formation of the American identity?\",\n",
       " 'Can you clarify the terminology used for climate change and global warming?',\n",
       " 'Is this similar to making a prediction about how the world will unfold?',\n",
       " 'What factors restrict economic freedom, and in what ways can cryptocurrency facilitate improvements?',\n",
       " \"How do you envision the world we're currently in, and what kind of world do you hope to leave for future generations?\",\n",
       " 'How long do you think it will be before we understand how the neocortex functions?',\n",
       " 'How can a baby obtain water?',\n",
       " 'Is there an injustice in the admissions process for Harvard or Cornell?',\n",
       " 'If I offered you a million dollars or a billion dollars, would you choose to pursue what you love?',\n",
       " 'When it recognizes that you are distracted or drowsy, does it display an image of a coffee cup?',\n",
       " 'As time goes by, do you eventually look back and find a silver lining?',\n",
       " 'In what ways did being a woman in the Middle East empower you?',\n",
       " 'Do you believe that suppressing our biological instincts is more important than celebrating them?',\n",
       " 'What impact do you think pornography has on the developing male and female brain?',\n",
       " \"Who do you consider to be the most intriguing true crime serial killer you've researched?\",\n",
       " \"Isn't it a humbling realization that we don't fully understand how reality works?\",\n",
       " 'Can you recommend a video game that you particularly enjoy?',\n",
       " 'Is flying very low a legitimate way to avoid missiles?',\n",
       " 'Is this one of the more expensive planes due to its features?',\n",
       " 'Is this commonly used in warfare, or is it considered unnecessary?',\n",
       " 'What would a good drone look like in windy conditions?',\n",
       " 'Do you really want large corporations to control what can be said on the internet?',\n",
       " 'In the Soviet Union, how was denunciation used to undermine romantic competitors?',\n",
       " 'How is third-party regulation handled, and what role do CPT codes play in pricing?',\n",
       " 'In what ways have individuals from Wall Street contributed to the legitimacy of cryptocurrency?',\n",
       " 'What percentage of your time is spent looking at a screen?',\n",
       " 'Can it be argued that the FDA has caused more deaths than Theranos?',\n",
       " 'How can data from Mexico be utilized to assist someone in Moldova, and vice versa?',\n",
       " 'Is there some truth to the assertion when considering the context of World War I?',\n",
       " 'Can aspects of celebrity life be isolating and contribute to feelings of loneliness?',\n",
       " 'What is the importance of having a narrative of dissent that connects me with a racially defined group?',\n",
       " 'What groups should we consider, and what advantages might there be in examining these groups?',\n",
       " 'What are your thoughts on a person who dedicates their life to counting blades of grass but does not find enjoyment in it?',\n",
       " 'Is it true that we assume unobservable factors to explain the observable phenomena?',\n",
       " 'If AI is considered a type of alien life form, what would it look like if it were to visit us?',\n",
       " 'What do you consider to be the most beautiful or fascinating aspect of human biology at the cellular level?',\n",
       " 'Do you have concerns about the potential for self-destruction through nuclear weapons, artificial general intelligence, or engineering advancements?',\n",
       " 'In a way, achieving immortality involves doing something meaningful, ideally positive, so that your great-grandchildren will remember you, correct?',\n",
       " 'Will there ever be a time when there are more Tesla bots than Tesla cars?',\n",
       " 'Can neural networks or functions be designed to demonstrate reasoning abilities?',\n",
       " 'Does this lead you to believe that we should incorporate reasoning capabilities into our intelligent systems?',\n",
       " 'What mechanisms can we use to identify effective predicates and concepts that should be further explored?',\n",
       " 'When will we be able to provide clear explanations and presentations regarding these principles?',\n",
       " 'Is it possible to publish a book containing all the tweets I chose not to send after my death?',\n",
       " 'How can YouTube assist creators in connecting clips to their original videos?',\n",
       " 'Is this fundamental to my identity, or is it something I need to change?',\n",
       " 'For the situations where email is still effective, what do you suggest those emails should contain?',\n",
       " 'What set of quantum possibilities exists at a specific time when we take a slice?',\n",
       " 'What does it mean to have this map?',\n",
       " 'How can these two theories be understood in the context of the theory of everything?',\n",
       " 'Is there much hope for very efficient compression or representation due to computation reducibility?',\n",
       " 'Is it possible to understand the fundamental nature of what can be considered objective truth?',\n",
       " 'Why does the mind have a special connection to reality that my body does not have?',\n",
       " 'If Socrates were alive today, how much would you be willing to pay to have lunch with him?',\n",
       " 'As a consumer, what do you consider to be great marketing?',\n",
       " 'If you were to place a bet, which aspect do you believe is the most challenging to achieve?',\n",
       " \"Which aspect of Earth's life story do you consider to be the most difficult?\",\n",
       " 'What are the major world problems you would like to address?',\n",
       " 'What is the distinction between good and evil regarding US intervention in various countries and conflicts?',\n",
       " 'What is the documentary Hunger Ward, The Last Hope Between War and Starvation about?',\n",
       " 'What would the 100 best competitors of all time likely say about this?',\n",
       " 'What do you believe is the truth behind the question and the range of answers that our world offers today?',\n",
       " 'Why does he hold significance for you in your quest for meaning in a secular age?',\n",
       " 'If you are in a self-driving truck and trucks 20 miles ahead encounter a problem, what happens?',\n",
       " 'What other ideas or scenarios do you have for autonomous trucks?',\n",
       " 'How much freight are you moving with the autonomous trucks?',\n",
       " 'If the transportation costs are low enough, can we offset them against warehousing costs?',\n",
       " 'What are your thoughts on the philosophical idea that we might be living in a simulation?',\n",
       " 'What is the fundamental process by which neurons and synapses operate?',\n",
       " 'Do you have a desire to explore and find something new?',\n",
       " 'Is there a flying teapot located between Mars and Jupiter?',\n",
       " 'What are the current things we are successfully implementing?',\n",
       " 'Can we utilize simulation technology for self-driving cars?',\n",
       " 'How do we allocate a significant amount of computational resources to achieve better results?',\n",
       " 'Is it true that some famines are artificially created and not necessary?',\n",
       " 'Does Earth possess the necessary components to create life in the concept of pan-spermia?',\n",
       " 'Did all the original concepts of neural networks originate from neuroscience?',\n",
       " 'Is it true that physics effectively describes the relationships between objects, such as charges and gravity?',\n",
       " 'Does the FDA require the release of all clinical trial data?',\n",
       " 'Can we use machine learning to explore the dark matter of virology?',\n",
       " 'Have experiments been conducted using masks and droplets that do not contain any virus?',\n",
       " \"Why can't we just immunize all bats globally against these viruses?\",\n",
       " 'Could this moment in history be critically important, or might it just be a fleeting event?',\n",
       " 'What is the typical time interval between two releases of software or an iPhone?',\n",
       " 'Do you think life originated on Earth multiple times?',\n",
       " 'What advice would you give to young people about their lives and careers?',\n",
       " 'What motivated you to leave such a significant amount of money and power behind?',\n",
       " 'Is Shiba Inu essentially a copy of Dogecoin?',\n",
       " 'What is your perspective on Chainlink and hybrid smart contracts that rely on external off-chain data?',\n",
       " 'Do you believe there is a fundamental reality or a bottom to existence?',\n",
       " 'What is the concept of a bird?',\n",
       " 'What does loneliness feel like after breaking up with someone you love or losing them?',\n",
       " 'What are some time frames in history when significant large-scale changes occurred?',\n",
       " 'At what point does something transition from matching our processing speed to being too fast for us?',\n",
       " 'What is the difference between an object and information at a fundamental level?',\n",
       " 'Do we often take mathematics for granted due to its historical development?',\n",
       " 'Given the circumstances, is there still a case to be made that humans are alone in the universe?',\n",
       " 'Since objects exist, is it reasonable to assume they can also exist elsewhere in the universe?',\n",
       " 'Is symmetry effective in aiding mechanical design?',\n",
       " 'Is part of what makes something interesting its impact on the future?',\n",
       " 'Should we refrain from considering historical events and their impacts, like how many butterflies died?',\n",
       " 'When discussing assembly index measurements, do you think garbage would be detected first?',\n",
       " 'What implications does this have for the future of AI development?',\n",
       " 'What design mechanisms contribute to the stability observed?',\n",
       " 'How can you apply this concept to other real-world domains you have experience with?',\n",
       " 'Can we explore some basic ideas in physics related to quantum gravity?',\n",
       " 'Is the maximization of efficiency and performance correlated with ethical behavior?',\n",
       " 'Is the question of free will related to the inquiry about consciousness?',\n",
       " 'What potential applications could their genomics provide for future hardware?',\n",
       " 'What framework does this paper propose for understanding sentience?',\n",
       " 'As an engineer, what should I expect this system to reliably accomplish?',\n",
       " \"In trying to get rescued, do you just do what you can, even if it's unlikely to succeed?\",\n",
       " 'Does this situation require you to create narratives about coarse-grained agents acting?',\n",
       " 'Are you left with concepts like active inference, where the goal is to reduce surprise?',\n",
       " 'Are most people better visual learners, or is this ability just complementary to other learning styles?',\n",
       " \"Do children often wonder about their teacher's opinion of them while sitting in classrooms?\",\n",
       " \"Is it true that it's considered legal for the West to invade countries, but illegal for others to do the same?\",\n",
       " 'On one hand, will he claim that we got it right every time?',\n",
       " 'Is it possible to program a computer to be indistinguishable from a human?',\n",
       " 'What is the origin of the extreme developments in the sport?',\n",
       " 'Is it romantic that they took the same two lenses and looked inward?',\n",
       " 'What does the crystal look like when placed on top of printed notes?',\n",
       " 'What does string theory predict?',\n",
       " 'What predictions should string theory make if it is correct?',\n",
       " 'How does this connect to something that could be worthy of a Nobel Prize?',\n",
       " 'Can we call it an infinite source of goodness or beauty in the universe?',\n",
       " 'What significant contributions has he made that shifted paradigms for others?',\n",
       " \"What is your opinion on the mention of 'Rise and Fall the Third'?\",\n",
       " \"As a child, I was amazed by my ability to write a program, wasn't I?\",\n",
       " 'How can I create an engaging English-to-Russian experience for someone who speaks English?',\n",
       " 'What do you think is the difference between our beliefs and objective reality?',\n",
       " 'What are your thoughts on the idea of connecting AI systems directly to the human brain?',\n",
       " 'Is today considered the day for people to make resolutions?',\n",
       " 'Does Amanda Knox discuss this topic in her appearances on Rogan and other shows?',\n",
       " 'If you go to 60 while they go to 40, is that an even better situation?',\n",
       " 'Instead of just accepting what the coach says, I want to know what I might be missing.',\n",
       " \"Does this mean my shot will be less successful and I won't be able to pull you down?\",\n",
       " 'What will happen to the $1,000 provided by Universal Basic Income (UBI)?',\n",
       " 'Are you captivated by the possibility of creating algorithms that exhibit elements of intelligence?',\n",
       " 'What advice would you offer someone with a significant dream and an emerging startup?',\n",
       " 'Is it clear to you that the object will be moved along with the table?',\n",
       " 'Are the oriented edge detectors in V1 learned or are they hardwired?',\n",
       " 'What interesting insights can you share about the essentials of conducting successful investigations?',\n",
       " 'Do FTTs resemble the process of purchasing stock in a public company?',\n",
       " 'How can you tell if you have completely lost your understanding of goodness?',\n",
       " 'What are the challenges of working with gases that are harmful to humans?',\n",
       " 'Could the Kuiper Belt capture small interstellar objects and force them into an orbit?',\n",
       " 'What are combinatorial algorithms, and what are some significant problems they aim to solve?',\n",
       " 'If a virus is evolving quickly, does that imply that new strains could emerge?',\n",
       " 'How difficult do you consider this problem to be?',\n",
       " 'Do you aim for a completion rate of 90% or higher to be achieved without any additional questioning or user experience adjustments?',\n",
       " 'What perspective do customers have regarding the assistance you provide?',\n",
       " 'Is discussing this art comparable to asking whether I am a sculptor or a painter?',\n",
       " 'Does a strong belief in a particular style of research yield positive results?',\n",
       " 'Can the proof of stake system be manipulated?',\n",
       " 'In a molecule, can we consider the bond as the atom because bonds are what we break rather than atoms?',\n",
       " 'What is the minimum number of constraints required in our system for this phenomenon to occur?',\n",
       " 'To what extent does the work of SpaceX influence the decisions made in this game?',\n",
       " 'How do you view Markov Decision Processes (MDPs) and their relationship to the real world?',\n",
       " 'What should someone who is fascinated by the concept of creating intelligence do besides exploring philosophies?',\n",
       " 'Are you so afraid to say the word conspiracy that you don’t consider it a conspiracy?',\n",
       " 'Imagine a scenario with 10 people from various technical backgrounds, regardless of gender or ethnicity.',\n",
       " 'Regarding eruptions, what level of intensity do you want to address?',\n",
       " 'What would happen if an ant discovers a new source of food?',\n",
       " 'Why do Afghans ask why, after 20 years, they are still being called the wrong name?',\n",
       " 'What do you observe when you visit a fully autonomous train at an airport?',\n",
       " 'Is Bitcoin the only significant cryptocurrency, or is it just the initial example of a technology that could develop further?',\n",
       " 'How well do you think we would get along if we were stranded together on a deserted island?',\n",
       " 'Do you need to find a way to manage things effectively without causing problems?',\n",
       " 'If a dome is chosen, will it be able to accommodate a large number of people?',\n",
       " 'If initial results are impressive but fade after six months, what is the value of those results?',\n",
       " 'Was the decision to go into Afghanistan worth it?',\n",
       " 'What political and economic system should be established when creating a society on Mars from scratch?',\n",
       " 'How robust and testable are economic theories when compared to fields like quantum mechanics and physics?',\n",
       " 'In your opinion, which has a greater influence on the other: the economy or politics?',\n",
       " 'Can you imagine an adult physically harming a child?',\n",
       " 'Could we be mistakenly searching for the source of an issue in genetics?',\n",
       " 'Is the common assumption that newly discovered viruses have a natural origin?',\n",
       " 'Why do I have no interest in martyrdom despite enjoying life?',\n",
       " 'What are the timeline and costs associated with the mass manufacturing and distribution of the solution?',\n",
       " 'Why is this book considered a favorite for many people, and why might they not want to replace it?',\n",
       " \"What does the term 'sensory domain' refer to?\",\n",
       " 'Is censorship an important tool for our brains, intelligence, and social networks?',\n",
       " 'If everyone creates their own paradigms, does it mean that the entire process is not cumulative?',\n",
       " 'Which specific issues require fixing?',\n",
       " 'If you could choose to live as any person, either from the past or present, for one day, who would it be?',\n",
       " 'Do you find these topics more interesting from a technical perspective or from a social perspective?',\n",
       " 'What are your thoughts on our current era and the future potential of decentralizing power?',\n",
       " 'Could AGI systems potentially replace humans entirely while preserving our values and consciousness?',\n",
       " 'What types of computations can lead to the emergence of consciousness?',\n",
       " \"What are Elon Musk's thoughts on simulation?\",\n",
       " 'What is a memorable personal or philosophical experience you had during your time in Moscow?',\n",
       " 'Can the head of an intelligence agency operate without giving direct orders?',\n",
       " 'Does beauty have the potential to mislead us, which is the central argument of her book?',\n",
       " 'In your quest for greatness, are you fulfilling your potential?',\n",
       " \"Are we discussing the song 'Take It Easy' or referring more to 'Hotel California'?\",\n",
       " 'Does being overly focused on personal issues make someone less effective in their job?',\n",
       " 'Do you have hope for the future of MIT and the Media Lab?',\n",
       " 'Do you have any idea where the hypothetical cocoon might originate from?',\n",
       " 'What are the significant filters that could potentially lead to the destruction of civilizations that we should consider?',\n",
       " 'What issues arise when defining a search goal using the same technologies?',\n",
       " 'Can you provide a brief overview of the products offered by KamaEI throughout its history and in the present day?',\n",
       " 'What advice do you have for individuals who want to learn programming?',\n",
       " 'How many agreements are included in this book, specifically concerning financial transactions?',\n",
       " 'Could you consider the Chrome sandbox as an example?',\n",
       " 'Are you literally examining how you are spending your time?',\n",
       " 'Is there a better way to apply machine learning than to macaroni and cheese?',\n",
       " 'Are the books for early programmers focused mainly on if-then statements?',\n",
       " 'Which products did we launch that performed poorly, like poker and Lego?',\n",
       " 'What managerial tasks do I perform at Discourse that I have always found unappealing?',\n",
       " 'Do you feel humble when contemplating the vastness of it all?',\n",
       " 'Is each pixel affected by light, considering there are 8 million pixels in each image?',\n",
       " 'Is it possible to have a deep connection with a robot that is non-judgmental?',\n",
       " 'What does a perfect productive discipline day in the life of Jaco Willink look like?',\n",
       " 'Does using language carelessly prevent you from understanding your personal values?',\n",
       " 'What are your thoughts on the ethical versus legal implications regarding individuals like Aaron Schwartz?',\n",
       " 'Are you concerned about the potential escalation of these issues in the next decade or two?',\n",
       " \"Will today's CPUs continue to play a fundamental role in performing mathematical operations?\",\n",
       " 'What are people seeking when they engage in this activity?',\n",
       " \"Why is it interesting that obtaining a PhD may decrease one's ability to introspect deeply?\",\n",
       " 'What advice would you give to young people today, such as high school or undergraduate students, regarding their careers and life?',\n",
       " 'Does training help you focus and think better?',\n",
       " 'What does death mean in a psychological context?',\n",
       " 'What topics would you discuss if you had the opportunity to speak with Vladimir Putin again?',\n",
       " 'Who is the person that everyone feels they can mistreat?',\n",
       " 'Is it a natural goal to seek out modularity in our understanding?',\n",
       " 'What do we believe the ultimate value of this device will be?',\n",
       " 'Is there anyone you can identify as a potential successor that we should closely follow?',\n",
       " 'When did you first become aware of the widespread suffering in the world?',\n",
       " 'Which path minimizes human suffering in the long term?',\n",
       " 'Do you believe there can be useful aspects of inflation from an economic standpoint?',\n",
       " 'Is it true that central banking was originally created to safeguard gold?',\n",
       " 'What is the efficacy of tools like testing and masks in combating health issues?',\n",
       " 'Do we have enough uranium or other fissile fuels to meet our long-term energy needs?',\n",
       " 'Would you trust a machine to translate news for you?',\n",
       " 'Can we examine the philosophical and political aspects of effective altruism?',\n",
       " \"Doesn't that demonstrate that computers are extremely powerful and may eventually dominate the world?\",\n",
       " 'Does believing that leads to happiness imply that the good life is valuable?',\n",
       " 'What is the value of a relationship?',\n",
       " 'As an artist, how should you react when a producer comes in and you want to know their intentions?',\n",
       " 'What is the ideal programming language for expressing a smart contract?',\n",
       " 'Should anonymity be preserved after a conference by not revealing the author of a paper?',\n",
       " 'What other lifestyle options exist for someone who has successfully sold something for $10 million?',\n",
       " 'When did you first fall in love with science?',\n",
       " 'Can you speculate on how free will might fit into this context?',\n",
       " \"How does one's perception of the consciousness of another being shape their understanding of self?\",\n",
       " 'Is curiosity and creativity considered a type of reward function for acquiring new information?',\n",
       " 'Can your understanding of cellular automata provide insights into the larger questions about our universe?',\n",
       " 'Is this similar to the idea of incorporating exploration purely for its own sake into the reward function?',\n",
       " 'Will you dedicate your life to submitting your work to journals, or will it be accepted with ease?',\n",
       " 'Do you believe you could have made different decisions if you had been less critical of yourself?',\n",
       " 'Did you participate in the marathon with David Goggins that you were training for?',\n",
       " 'Is there an optimal point in the system for regulation from a cybernetic perspective?',\n",
       " 'As your investment advisor, how do you plan to profit from our self-destruction?',\n",
       " 'In the field of physics, do you believe we will witness significant discoveries in our lifetime?',\n",
       " 'Once you understand that, do you also find something very optimistic that can be done about it?',\n",
       " 'What is the most significant issue with Big Pharma that, if resolved, would have the greatest impact?',\n",
       " 'What are some interesting things to do in Mumbai if I only have a couple of days?',\n",
       " 'If a discovery has been made, what is the probability of the hypothesis based on the data provided?',\n",
       " 'Can you explain what a power law is for those who may not have a strong background in mathematics?',\n",
       " 'Are there very few individual innovations that have significantly impacted the entire economy?',\n",
       " 'What are some observable factors when we consider fields like medicine and education?',\n",
       " \"What are some notable effects of the 'elephant in the brain' phenomenon in our daily lives?\",\n",
       " 'Is this research idea fascinating and does it have enormous applications?',\n",
       " 'What other interesting open problems and brain-inspired approaches are you considering?',\n",
       " 'How can a plane be made to appear so small that it looks like a ball bearing?',\n",
       " 'Why should acquiring knowledge be so expensive?',\n",
       " \"What is your intuition about the FDA's request to take 75 years to release the Pfizer data?\",\n",
       " 'Do you believe that we will eventually find a cure for cancer?',\n",
       " 'What insights does Marx provide about what comes after capitalism?',\n",
       " 'What are your thoughts on the nature of evil from a neuroscience perspective?',\n",
       " 'What factor provides the greatest sense of freedom?',\n",
       " 'How can you ensure that you have regression prevention and protection for your operations?',\n",
       " 'What are the main spaces and issues to consider regarding privacy?',\n",
       " 'What do you believe is required to create a system with human-level intelligence?',\n",
       " 'Are you enthusiastic or concerned about the future where computing is omnipresent?',\n",
       " 'When making a purchase, how do I calculate the amount of Bitcoin I am spending?',\n",
       " 'Do you need to exchange something of value to obtain Bitcoin?',\n",
       " 'Would you switch lives with Warren Buffett if given the chance?',\n",
       " 'Can I alter your perception of the world through misinformation and deceitful tactics?',\n",
       " 'From a Darwinian perspective, is it possible to fully interpret the dynamics of social interaction within social networks?',\n",
       " 'Can you elaborate on why you believe hope is fundamental in our universe?',\n",
       " 'Why should humans be used as the benchmark for diagnosing cancer or predicting the weather?',\n",
       " 'Why might people in the future question the desire to view images on a screen?',\n",
       " 'What is your opinion on the long history and numerous reports of sexual abuse of children by Catholic priests?',\n",
       " 'Can my lawyer help me obtain the drug program?',\n",
       " \"What contributed to Henry Ford's success as an entrepreneur, particularly with the assembly line?\",\n",
       " 'Is the computational unit autonomous and capable of performing its functions independently?',\n",
       " 'Does science progress through paradigm shifts and revolutions as described by philosopher Thomas Kuhn, or does it evolve gradually?',\n",
       " 'Before starting a lecture, what goals should I consider?',\n",
       " 'What advice would you give to young people today regarding their careers and life?',\n",
       " 'What is the valid way to implement new changes to Bitcoin?',\n",
       " 'Do you still believe in the value of open source software and similar initiatives?',\n",
       " 'Is it true that there are diminishing returns on increasing income, yet most people would still accept more money?',\n",
       " 'What features are currently being debated and considered?',\n",
       " 'Do you think that using Instagram overall has a positive or negative impact on mental health?',\n",
       " 'What are your thoughts on the potential positive and negative consequences of this specific action?',\n",
       " 'What are the specific products of combustion?',\n",
       " 'How can you understand the mindset of people rather than that of computers?',\n",
       " 'How do we determine if quarks are real?',\n",
       " 'What changes do you anticipate in transportation over the next 50 years?',\n",
       " 'What is your perspective on the differences between these two strategies?',\n",
       " 'Why do faculty members appreciate their PhD students?',\n",
       " 'Is it possible to create software that can be utilized by biomedical engineers and non-programmers alike?',\n",
       " 'Is this concept central to my personal life philosophy?',\n",
       " \"Will I genuinely understand the people in Brazil and Argentina if I don't speak their language?\",\n",
       " 'Should the public be informed about the possibilities demonstrated by events like this?',\n",
       " 'Would you recommend that someone attempts to create video content?',\n",
       " 'Does this raise the question of whether it is just another belief system that denies death?',\n",
       " 'What do you think the future holds for privacy in an algorithm-driven society?',\n",
       " 'Were you brave enough in your 20s to tell your dad that you love him?',\n",
       " 'How long does it typically take to accomplish this task?',\n",
       " 'If it exists, what properties must it display?',\n",
       " 'Could the differences in memory retention among individuals be attributed to a specific key factor?',\n",
       " 'What emotions did you experience when you saw the robot moving?',\n",
       " 'Do you know what you are stepping on when you try to land on it?',\n",
       " 'Do you believe that music connects to aspects of emotion or experience that words are unable to express?',\n",
       " 'How strong is the comedy scene expected to be in Austin?',\n",
       " 'Is believing in the value of self-expression essential for building a successful company?',\n",
       " 'Was the goal to have people enjoy it and then contribute with small donations?',\n",
       " \"Can you share something intriguing about the computer that isn't classified?\",\n",
       " 'How should we address the increasing digitalization of our lives?',\n",
       " 'What valuable lessons can we apply to our current methods from expert systems and symbolic AI?',\n",
       " \"Can an individual's level of violence differ when they are in a group compared to when they are alone?\",\n",
       " \"Isn't it surprising that he is doing that to himself?\",\n",
       " 'What is the benefit of discussing these topics?',\n",
       " 'Is it possible to convert information into words and then transform those words into numbers?',\n",
       " \"How does the availability of nicotine replacement products, such as nicotine gum or e-cigarettes, influence people's decisions?\",\n",
       " 'What general effects do psychedelics have on the human mind?',\n",
       " 'If this product were as inexpensive as possible or essentially free, how much would you choose to purchase?',\n",
       " 'Do you consider Queen Elizabeth to be the greatest leader in history?',\n",
       " 'Is there a Native American equivalent of Adam and Eve?',\n",
       " 'What are some efficient marketing strategies besides purchasing expensive advertisements?',\n",
       " 'What is the process involved in working with cells, including their growth and incubation?',\n",
       " 'Do you believe this discussion will result in something meaningful, or is it just talk?',\n",
       " 'Is it possible to escape simulated environments and learn in real environments?',\n",
       " 'What moments in your life are you especially proud of and have brought you true happiness?',\n",
       " 'What are the four methods for linking a locus to a target gene, and what does step five involve?',\n",
       " 'Are you excited about the possibility of having one or two AI systems as friends in the future?',\n",
       " 'Are we fundamentally the same beings internally as we were when we lived in caves?',\n",
       " 'Could you describe the process of letting go and clearing the channel of communication?',\n",
       " 'What is the biggest hurdle in designing one of these?',\n",
       " 'What is a good threshold of people to be concerned about in this context?',\n",
       " 'What distinguishes the interface of Alpha Star and Starcraft from that of a human player in Starcraft?',\n",
       " 'Is there a lesson to be learned from placing emphasis on reliving memories in the development of AI systems?',\n",
       " 'Is he only seeking and gathering information that aligns with his worldview?',\n",
       " 'What occurs on the day the Tom shoes truck arrives with free shoes?',\n",
       " 'Do you believe that diversity, equity, and inclusion efforts are often ineffective?',\n",
       " 'Although our performance tonight was not good, what can we take from this experience?',\n",
       " 'Can you comment on the contrast of your own journey, particularly how difficult it was?',\n",
       " 'Does a highly creative person experience anxiety when trying to conform to linear structures?',\n",
       " 'Does the first mouth serve only to physically manipulate food for easier consumption?',\n",
       " 'Is Tesla likely to achieve full autonomy in the near future?',\n",
       " 'What areas should our civilization focus on investing in for future development?',\n",
       " 'Did you ever envision self-play as the crucial element during that time?',\n",
       " 'How can playlists be utilized as data in machine learning to assist Spotify in organizing music?',\n",
       " 'Do you believe it is possible to engage in a healthy discussion with regulatory bodies on this topic?',\n",
       " 'What is your opinion on this director or that actor?',\n",
       " 'What is your chronotype: are you a morning person, an evening person, or do you fall somewhere in between?',\n",
       " 'Can you explain the key findings of your 2019 paper on measuring intelligence?',\n",
       " 'If you believe you could overcome it, would you still be sharing that same story?',\n",
       " 'Does the Reddit community possess a certain level of morality or concern for their actions?',\n",
       " 'What is the term used to describe this type of interesting, random pi random graph?',\n",
       " 'How challenging is it to establish decisions as principles based on past experiences?',\n",
       " 'What are your thoughts if the coach says you should have passed the ball?',\n",
       " 'Is there a lack of discussion about the concept of the soul within our legal system?',\n",
       " 'How should I approach a situation if I had a different set of cards?',\n",
       " 'What would happen if I followed my intuition for the next 10 moves?',\n",
       " 'Are you fascinated by the idea that this conversation is a result of two minds exchanging thoughts?',\n",
       " 'What motivations might a researcher have for getting involved in a project?',\n",
       " 'What will the world look like in 2045, and what steps will lead to that future?',\n",
       " 'Would people be discouraged from purchasing a Roomba if its price were $500,000?',\n",
       " \"Is it morally justifiable to take a person's life as punishment for a crime, similar to capital punishment?\",\n",
       " 'Does being verbally or physically abusive to a robot desensitize people to abuse?',\n",
       " 'Do you consider the agents you collaborate with in evolutionary computation to be similar to life?',\n",
       " 'How can we develop a platform that consolidates all resource utilization tools and resources?',\n",
       " \"Is the design meant to allow learning quickly, such as recognizing a mother's face?\",\n",
       " \"Who is currently Aurora's main competitor, and what strategies does Aurora use to maintain a competitive edge over them in the long run?\",\n",
       " 'Has human intelligence and animal intelligence generally evolved for the purpose of generating behavior?',\n",
       " 'Have you seen the movie Whiplash?',\n",
       " 'How do these pharmacons influence the imagery associated with religion?']"
      ]
     },
     "execution_count": 33,
     "metadata": {},
     "output_type": "execute_result"
    }
   ],
   "source": [
    "[x[\"text\"] for x in vectorized_questions]"
   ]
  },
  {
   "cell_type": "code",
   "execution_count": null,
   "id": "8ef508e8-ac27-44e3-b4fc-04f9e5898640",
   "metadata": {},
   "outputs": [],
   "source": []
  }
 ],
 "metadata": {
  "kernelspec": {
   "display_name": "Python 3.11.5 (dtc-llm-env)",
   "language": "python",
   "name": "dtc-llm-env"
  },
  "language_info": {
   "codemirror_mode": {
    "name": "ipython",
    "version": 3
   },
   "file_extension": ".py",
   "mimetype": "text/x-python",
   "name": "python",
   "nbconvert_exporter": "python",
   "pygments_lexer": "ipython3",
   "version": "3.11.5"
  }
 },
 "nbformat": 4,
 "nbformat_minor": 5
}
