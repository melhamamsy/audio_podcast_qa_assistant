{
 "cells": [
  {
   "cell_type": "code",
   "execution_count": 15,
   "id": "1b6bc955-d919-4e70-9fd6-5e2d6dd8ac62",
   "metadata": {
    "tags": []
   },
   "outputs": [
    {
     "name": "stdout",
     "output_type": "stream",
     "text": [
      "Initialized environment variables listed in: /mnt/workspace/__ing/llming/DTC/audio_podcast_qa_assistant/.env\n"
     ]
    }
   ],
   "source": [
    "import sys\n",
    "import os\n",
    "import numpy as np\n",
    "import warnings\n",
    "from tqdm.auto import tqdm\n",
    "import pickle\n",
    "import matplotlib.pyplot as plt\n",
    "import pandas as pd\n",
    "\n",
    "\n",
    "# Suppress all warnings\n",
    "warnings.filterwarnings(\"ignore\")\n",
    "\n",
    "## replace with root project dir\n",
    "PROJECT_DIR = \"/mnt/workspace/__ing/llming/DTC/audio_podcast_qa_assistant\"\n",
    "sys.path.append(PROJECT_DIR)\n",
    "\n",
    "from utils.utils import (\n",
    "    initialize_env_variables,\n",
    "    flatten_list_of_lists,\n",
    "    sample_from_list,\n",
    "    read_json_file,\n",
    "    save_json_file,\n",
    "    extract_item_by_keys,\n",
    "    save_to_pickle,\n",
    "    load_pickle,\n",
    "    get_json_files_in_dir,\n",
    "    read_json_file\n",
    ")\n",
    "\n",
    "initialize_env_variables()\n",
    "\n",
    "from utils.questions import (extract_questions,\n",
    "                             group_questions_by_episode, \n",
    "                             openai_process_questions,\n",
    "                            filter_corrupted_qs,\n",
    "                            count_question_marks)\n",
    "from utils.multithread import map_progress\n",
    "from datasets import load_dataset, Dataset\n",
    "from utils.ollama import embed_document\n",
    "from utils.variables import OLLAMA_CLIENT\n",
    "\n",
    "from transformers import LEDForConditionalGeneration, LEDTokenizer\n",
    "import torch\n",
    "\n",
    "from utils.query import (\n",
    "    elastic_search_text, elastic_search_knn, elastic_search_hybrid_rrf\n",
    ")\n",
    "from utils.variables import ES_CLIENT\n",
    "from utils.query import (\n",
    "    elastic_search_text, elastic_search_knn, elastic_search_hybrid_rrf\n",
    ")\n",
    "from utils.variables import ES_CLIENT\n",
    "from utils.evaluate import hit_rate, mrr, retrieve_relevance"
   ]
  },
  {
   "cell_type": "markdown",
   "id": "40831601-25f0-44dc-bfe6-460d0d0237ff",
   "metadata": {
    "jp-MarkdownHeadingCollapsed": true,
    "tags": []
   },
   "source": [
    "# Episode summarization (Skipped)"
   ]
  },
  {
   "cell_type": "code",
   "execution_count": 12,
   "id": "36e0c43c-67c8-4d17-9592-c8b4123a5528",
   "metadata": {
    "tags": []
   },
   "outputs": [],
   "source": [
    "# chunked_docs_path = os.path.join(\n",
    "#     PROJECT_DIR,\n",
    "#     \"data/generated_documents/documents.json\"\n",
    "# )\n",
    "# chunks_dataset = read_json_file(chunked_docs_path)"
   ]
  },
  {
   "cell_type": "code",
   "execution_count": 6,
   "id": "422a1375-7682-4112-87ae-28e1d45e1628",
   "metadata": {
    "tags": []
   },
   "outputs": [
    {
     "name": "stderr",
     "output_type": "stream",
     "text": [
      "Using the latest cached version of the dataset since Whispering-GPT/lex-fridman-podcast-transcript-audio couldn't be found on the Hugging Face Hub\n",
      "Found the latest cached dataset configuration 'default' at /mnt/workspace/__ing/llming/DTC/audio_podcast_qa_assistant/hf_cache/Whispering-GPT___lex-fridman-podcast-transcript-audio/default/0.0.0/86c17541f78440e5ff2ef55740a3a503b2716d3a (last modified on Sat Aug 24 03:36:38 2024).\n"
     ]
    },
    {
     "data": {
      "application/vnd.jupyter.widget-view+json": {
       "model_id": "7efb8643423e464f8a1db964e8eb49d8",
       "version_major": 2,
       "version_minor": 0
      },
      "text/plain": [
       "Loading dataset shards:   0%|          | 0/69 [00:00<?, ?it/s]"
      ]
     },
     "metadata": {},
     "output_type": "display_data"
    }
   ],
   "source": [
    "# # from huggingface_hub import login\n",
    "# cache_dir = os.path.join(PROJECT_DIR, \"hf_cache\")\n",
    "\n",
    "# # login(os.getenv(\"HF_READING_TOKEN\"))\n",
    "\n",
    "# full_dataset = load_dataset(\n",
    "#     path='Whispering-GPT/lex-fridman-podcast-transcript-audio', \n",
    "#     cache_dir=cache_dir,\n",
    "#     ignore_verifications=True,\n",
    "# )['train']"
   ]
  },
  {
   "cell_type": "code",
   "execution_count": 7,
   "id": "3820421e-256d-4746-8229-131b476a904f",
   "metadata": {
    "tags": []
   },
   "outputs": [],
   "source": [
    "# try:\n",
    "#     full_dataset = full_dataset.remove_columns(['audio'])\n",
    "# except ValueError:\n",
    "#     pass"
   ]
  },
  {
   "cell_type": "code",
   "execution_count": 2,
   "id": "b483124c-4191-4700-be6f-7635439d3f7b",
   "metadata": {
    "tags": []
   },
   "outputs": [],
   "source": [
    "# full_dataset[0][\"text\"]"
   ]
  },
  {
   "cell_type": "code",
   "execution_count": 24,
   "id": "44951375-f7b1-46b1-bda4-1490545bc23e",
   "metadata": {
    "tags": []
   },
   "outputs": [
    {
     "data": {
      "text/plain": [
       "True"
      ]
     },
     "execution_count": 24,
     "metadata": {},
     "output_type": "execute_result"
    }
   ],
   "source": [
    "# full_dataset[0][\"text\"] == \"\".join([segment[\"text\"] for segment in full_dataset[0][\"segments\"]])"
   ]
  },
  {
   "cell_type": "code",
   "execution_count": 23,
   "id": "b2ad1abf-3845-4c02-8554-e9f0a6337a7a",
   "metadata": {
    "tags": []
   },
   "outputs": [],
   "source": [
    "# def extract_outline(episode):\n",
    "#     \"\"\"\n",
    "#     \"\"\"\n",
    "#     outline_started = False\n",
    "#     outline = []\n",
    "    \n",
    "#     for line in episode[\"description\"].split(\"\\n\"):\n",
    "#         if \"OUTLINE:\" in line:\n",
    "#             outline_started = True\n",
    "#             continue\n",
    "#         if outline_started:\n",
    "#             if line.strip() == \"\" or line.startswith(\"CONNECT:\"):\n",
    "#                 break\n",
    "#             outline.append(line.strip())\n",
    "            \n",
    "#     episode[\"outline\"] = outline\n",
    "#     return episode\n",
    "\n",
    "# full_dataset = full_dataset.map(extract_outline, batched=False)"
   ]
  },
  {
   "cell_type": "markdown",
   "id": "8ff2cb33-294f-4863-8471-b2834a8e8b5d",
   "metadata": {
    "jp-MarkdownHeadingCollapsed": true,
    "tags": []
   },
   "source": [
    "# Generating questions"
   ]
  },
  {
   "cell_type": "code",
   "execution_count": 34,
   "id": "93605b8d-fc2b-46ca-b093-4d3487e42804",
   "metadata": {
    "tags": []
   },
   "outputs": [],
   "source": [
    "chunked_docs_path = os.path.join(\n",
    "    PROJECT_DIR,\n",
    "    \"data/generated_documents/documents.json\"\n",
    ")\n",
    "full_dataset = read_json_file(chunked_docs_path)"
   ]
  },
  {
   "cell_type": "code",
   "execution_count": 3,
   "id": "f4831158-4bc3-40a6-94c9-0b284b13d0c8",
   "metadata": {
    "tags": []
   },
   "outputs": [
    {
     "data": {
      "application/vnd.jupyter.widget-view+json": {
       "model_id": "79c0a6d1aef94c61a729f66fba84d45c",
       "version_major": 2,
       "version_minor": 0
      },
      "text/plain": [
       "  0%|          | 0/30681 [00:00<?, ?it/s]"
      ]
     },
     "metadata": {},
     "output_type": "display_data"
    }
   ],
   "source": [
    "questions = map_progress(\n",
    "    f=lambda episode:extract_questions(\n",
    "        episode=episode,\n",
    "        min_words=15,\n",
    "        max_words=20\n",
    "    ),\n",
    "    seq=full_dataset,\n",
    "    max_workers=4,\n",
    "    verbose=False\n",
    ")\n",
    "\n",
    "questions = flatten_list_of_lists(questions)"
   ]
  },
  {
   "cell_type": "code",
   "execution_count": 4,
   "id": "13c4a49c-e636-447d-b0ac-ca9022b092fa",
   "metadata": {
    "tags": []
   },
   "outputs": [],
   "source": [
    "### Will perform no sampling\n",
    "\n",
    "# print(\"Number of questions before sampling:\", len(questions))\n",
    "# questions = sample_from_list(questions, sample_size=1000, seed=42)\n",
    "# print(\"Number of questions after sampling:\", len(questions))"
   ]
  },
  {
   "cell_type": "code",
   "execution_count": 5,
   "id": "94b0a9a3-4343-4724-aea2-e594f107f201",
   "metadata": {
    "tags": []
   },
   "outputs": [],
   "source": [
    "# Group questions by episode_id\n",
    "questions_per_episode = group_questions_by_episode(questions)"
   ]
  },
  {
   "cell_type": "code",
   "execution_count": 6,
   "id": "09801325-5270-4895-886b-8ded990ca6d8",
   "metadata": {},
   "outputs": [
    {
     "data": {
      "image/png": "[encoded data removed]",
      "text/plain": [
       "<Figure size 640x480 with 1 Axes>"
      ]
     },
     "metadata": {},
     "output_type": "display_data"
    }
   ],
   "source": [
    "plt.title(\"Number of questions per episode\")\n",
    "_ = plt.hist([len(ep) for ep in questions_per_episode])"
   ]
  },
  {
   "cell_type": "markdown",
   "id": "5fe75077-db44-4195-8745-bc4065da1468",
   "metadata": {
    "jp-MarkdownHeadingCollapsed": true,
    "tags": []
   },
   "source": [
    "# Extracting Self-sufficient"
   ]
  },
  {
   "cell_type": "code",
   "execution_count": 12,
   "id": "9aef1e37-260b-4c61-816a-e4d893429bcb",
   "metadata": {
    "tags": []
   },
   "outputs": [],
   "source": [
    "# exclude documents already processed using a separate function"
   ]
  },
  {
   "cell_type": "code",
   "execution_count": 7,
   "id": "c43dbaa2-8c8d-4867-826f-e7c95c8eec86",
   "metadata": {
    "collapsed": true,
    "jupyter": {
     "outputs_hidden": true
    },
    "tags": []
   },
   "outputs": [
    {
     "data": {
      "application/vnd.jupyter.widget-view+json": {
       "model_id": "67f96e362ac4463db8819f6382c65ae8",
       "version_major": 2,
       "version_minor": 0
      },
      "text/plain": [
       "  0%|          | 0/346 [00:00<?, ?it/s]"
      ]
     },
     "metadata": {},
     "output_type": "display_data"
    },
    {
     "name": "stdout",
     "output_type": "stream",
     "text": [
      "Data successfully saved to /mnt/workspace/__ing/llming/DTC/audio_podcast_qa_assistant/data/generated_questions/episodes/TRdL6ZzWBS0.json\n",
      "Data successfully saved to /mnt/workspace/__ing/llming/DTC/audio_podcast_qa_assistant/data/generated_questions/episodes/TPXTmVdlyoc.json\n",
      "Data successfully saved to /mnt/workspace/__ing/llming/DTC/audio_podcast_qa_assistant/data/generated_questions/episodes/-t1_ffaFXao.json\n",
      "Data successfully saved to /mnt/workspace/__ing/llming/DTC/audio_podcast_qa_assistant/data/generated_questions/episodes/BCdV6BMMpOo.json\n",
      "Data successfully saved to /mnt/workspace/__ing/llming/DTC/audio_podcast_qa_assistant/data/generated_questions/episodes/Kedt2or9xlo.json\n",
      "Data successfully saved to /mnt/workspace/__ing/llming/DTC/audio_podcast_qa_assistant/data/generated_questions/episodes/M95m2EFb7IQ.json\n",
      "Data successfully saved to /mnt/workspace/__ing/llming/DTC/audio_podcast_qa_assistant/data/generated_questions/episodes/R5rNoV1Qy_Q.json\n",
      "Data successfully saved to /mnt/workspace/__ing/llming/DTC/audio_podcast_qa_assistant/data/generated_questions/episodes/aSyZvBrPAyk.json\n",
      "Data successfully saved to /mnt/workspace/__ing/llming/DTC/audio_podcast_qa_assistant/data/generated_questions/episodes/iwcYp-XT7UI.json\n",
      "Data successfully saved to /mnt/workspace/__ing/llming/DTC/audio_podcast_qa_assistant/data/generated_questions/episodes/8wYZjOzfTUk.json\n",
      "Data successfully saved to /mnt/workspace/__ing/llming/DTC/audio_podcast_qa_assistant/data/generated_questions/episodes/_VPxEcT_Adc.json\n",
      "Data successfully saved to /mnt/workspace/__ing/llming/DTC/audio_podcast_qa_assistant/data/generated_questions/episodes/Gfr50f6ZBvo.json\n",
      "Data successfully saved to /mnt/workspace/__ing/llming/DTC/audio_podcast_qa_assistant/data/generated_questions/episodes/USnqkUAr_3w.json\n",
      "Data successfully saved to /mnt/workspace/__ing/llming/DTC/audio_podcast_qa_assistant/data/generated_questions/episodes/pDSEjaDCtOU.json\n",
      "Data successfully saved to /mnt/workspace/__ing/llming/DTC/audio_podcast_qa_assistant/data/generated_questions/episodes/gFEE3w7F0ww.json\n",
      "Data successfully saved to /mnt/workspace/__ing/llming/DTC/audio_podcast_qa_assistant/data/generated_questions/episodes/orMtwOz6Db0.json\n",
      "Data successfully saved to /mnt/workspace/__ing/llming/DTC/audio_podcast_qa_assistant/data/generated_questions/episodes/nre0QT9LN6w.json\n",
      "Data successfully saved to /mnt/workspace/__ing/llming/DTC/audio_podcast_qa_assistant/data/generated_questions/episodes/n2RcVEftY48.json\n",
      "Data successfully saved to /mnt/workspace/__ing/llming/DTC/audio_podcast_qa_assistant/data/generated_questions/episodes/kD5yc1LQrpQ.json\n",
      "Data successfully saved to /mnt/workspace/__ing/llming/DTC/audio_podcast_qa_assistant/data/generated_questions/episodes/uX5t8EivCaM.json\n",
      "Data successfully saved to /mnt/workspace/__ing/llming/DTC/audio_podcast_qa_assistant/data/generated_questions/episodes/Z_LhPMhkEdw.json\n",
      "Data successfully saved to /mnt/workspace/__ing/llming/DTC/audio_podcast_qa_assistant/data/generated_questions/episodes/usDqSEKDVsA.json\n",
      "Data successfully saved to /mnt/workspace/__ing/llming/DTC/audio_podcast_qa_assistant/data/generated_questions/episodes/QDN6xvhAw94.json\n",
      "Data successfully saved to /mnt/workspace/__ing/llming/DTC/audio_podcast_qa_assistant/data/generated_questions/episodes/AzdxbzHtjgs.json\n",
      "Data successfully saved to /mnt/workspace/__ing/llming/DTC/audio_podcast_qa_assistant/data/generated_questions/episodes/i6rnzk8VU24.json\n",
      "Data successfully saved to /mnt/workspace/__ing/llming/DTC/audio_podcast_qa_assistant/data/generated_questions/episodes/tOTenjh_8hw.json\n",
      "Data successfully saved to /mnt/workspace/__ing/llming/DTC/audio_podcast_qa_assistant/data/generated_questions/episodes/ZecQ64l-gKM.json\n",
      "Data successfully saved to /mnt/workspace/__ing/llming/DTC/audio_podcast_qa_assistant/data/generated_questions/episodes/hGRNUw559SE.json\n",
      "Data successfully saved to /mnt/workspace/__ing/llming/DTC/audio_podcast_qa_assistant/data/generated_questions/episodes/brslF-Cy3HU.json\n",
      "Data successfully saved to /mnt/workspace/__ing/llming/DTC/audio_podcast_qa_assistant/data/generated_questions/episodes/ykY69lSpDdo.json\n",
      "Data successfully saved to /mnt/workspace/__ing/llming/DTC/audio_podcast_qa_assistant/data/generated_questions/episodes/P6prRXkI5HM.json\n",
      "Data successfully saved to /mnt/workspace/__ing/llming/DTC/audio_podcast_qa_assistant/data/generated_questions/episodes/L-RuvUkcyJI.json\n",
      "Data successfully saved to /mnt/workspace/__ing/llming/DTC/audio_podcast_qa_assistant/data/generated_questions/episodes/tOtdJcco3YM.json\n",
      "Data successfully saved to /mnt/workspace/__ing/llming/DTC/audio_podcast_qa_assistant/data/generated_questions/episodes/Y3VBCWIDEzk.json\n",
      "Data successfully saved to /mnt/workspace/__ing/llming/DTC/audio_podcast_qa_assistant/data/generated_questions/episodes/iNqqOLscOBY.json\n",
      "Data successfully saved to /mnt/workspace/__ing/llming/DTC/audio_podcast_qa_assistant/data/generated_questions/episodes/HYsLTNXMl1Q.json\n",
      "Data successfully saved to /mnt/workspace/__ing/llming/DTC/audio_podcast_qa_assistant/data/generated_questions/episodes/LDTe8uFqbws.json\n",
      "Data successfully saved to /mnt/workspace/__ing/llming/DTC/audio_podcast_qa_assistant/data/generated_questions/episodes/kxi-_TT_-Nc.json\n",
      "Data successfully saved to /mnt/workspace/__ing/llming/DTC/audio_podcast_qa_assistant/data/generated_questions/episodes/SGSOCuByo24.json\n",
      "Data successfully saved to /mnt/workspace/__ing/llming/DTC/audio_podcast_qa_assistant/data/generated_questions/episodes/jhKZIq3SlYE.json\n",
      "Data successfully saved to /mnt/workspace/__ing/llming/DTC/audio_podcast_qa_assistant/data/generated_questions/episodes/ClxRHJPz8aQ.json\n",
      "Data successfully saved to /mnt/workspace/__ing/llming/DTC/audio_podcast_qa_assistant/data/generated_questions/episodes/uy1fX2vOAEE.json\n",
      "Data successfully saved to /mnt/workspace/__ing/llming/DTC/audio_podcast_qa_assistant/data/generated_questions/episodes/o0Bi-q89j5Y.json\n",
      "Data successfully saved to /mnt/workspace/__ing/llming/DTC/audio_podcast_qa_assistant/data/generated_questions/episodes/Ad89JYS-uZM.json\n",
      "Data successfully saved to /mnt/workspace/__ing/llming/DTC/audio_podcast_qa_assistant/data/generated_questions/episodes/P-2P3MSZrBM.json\n",
      "Data successfully saved to /mnt/workspace/__ing/llming/DTC/audio_podcast_qa_assistant/data/generated_questions/episodes/rfKiTGj-zeQ.json\n",
      "Data successfully saved to /mnt/workspace/__ing/llming/DTC/audio_podcast_qa_assistant/data/generated_questions/episodes/Ui38ZzTymDY.json\n",
      "Data successfully saved to /mnt/workspace/__ing/llming/DTC/audio_podcast_qa_assistant/data/generated_questions/episodes/T3FC7qIAGZk.json\n",
      "Data successfully saved to /mnt/workspace/__ing/llming/DTC/audio_podcast_qa_assistant/data/generated_questions/episodes/3t06ajvBtl0.json\n",
      "Data successfully saved to /mnt/workspace/__ing/llming/DTC/audio_podcast_qa_assistant/data/generated_questions/episodes/Hc4XvHTlW3s.json\n",
      "Data successfully saved to /mnt/workspace/__ing/llming/DTC/audio_podcast_qa_assistant/data/generated_questions/episodes/nAMjv0NAESM.json\n",
      "Expecting value: line 31 column 19 (char 1029)\n",
      "ChatCompletion(id='chatcmpl-A0SWxzjO5FK6wKWvg1c2COmChHBgk', choices=[Choice(finish_reason='stop', index=0, logprobs=None, message=ChatCompletionMessage(content='{\\n  \"questions\": [\\n    {\\n      \"episode_id\": \"WxfA1OSev4c\",\\n      \"chunk_id\": 9,\\n      \"question\": \"Do you think we have a shot at reaching the heat death of the universe?\"\\n    },\\n    {\\n      \"episode_id\": \"WxfA1OSev4c\",\\n      \"chunk_id\": 21,\\n      \"question\": \"Do you think there\\'s possible homes out there for us outside of our solar system?\"\\n    },\\n    {\\n      \"episode_id\": \"WxfA1OSev4c\",\\n      \"chunk_id\": 33,\\n      \"question\": \"What\\'s your intuition about whether there is or isn\\'t intelligent life out there outside of our own?\"\\n    },\\n    {\\n      \"episode_id\": \"WxfA1OSev4c\",\\n      \"chunk_id\": 48,\\n      \"question\": \"Is it possible that a tiny percent of those folks saw something that\\'s worth deeply investigating?\"\\n    },\\n    {\\n      \"episode_id\": \"WxfA1OSev4c\",\\n      \"chunk_id\": 52,\\n      \"question\": \"When there\\'s amazing stuff out there, it\\'s like, why investigate Bigfoot when evolution and all of its richness is beautiful?\"\\n    },\\n    {\\n      \"episode_id\": \"WxfA1OSev4c\",\\n      \"chunk_id\": 76,\\n      \"question\": \\'Can we go to the very basics of what is this beautiful, mysterious object of a supernova?\\'\\n    },\\n    {\\n      \"episode_id\": \"WxfA1OSev4c\",\\n      \"chunk_id\": 80,\\n      \"question\": \\'This is what we need here on Earth, fusion energy to solve our energy crisis, right?\\'\\n    },\\n    {\\n      \"episode_id\": \"WxfA1OSev4c\",\\n      \"chunk_id\": 85,\\n      \"question\": \"How do you draw a mental picture or a picture on paper of what\\'s going on?\"\\n    }\\n  ]\\n}', role='assistant', function_call=None, tool_calls=None, refusal=None))], created=1724673035, model='gpt-4o-mini-2024-07-18', object='chat.completion', service_tier=None, system_fingerprint='fp_48196bc67a', usage=CompletionUsage(completion_tokens=422, prompt_tokens=1642, total_tokens=2064))\n",
      "\n",
      "===========================================\n",
      "\n",
      "Data successfully saved to /mnt/workspace/__ing/llming/DTC/audio_podcast_qa_assistant/data/generated_questions/episodes/0-3kw5BEKB8.json\n",
      "Data successfully saved to /mnt/workspace/__ing/llming/DTC/audio_podcast_qa_assistant/data/generated_questions/episodes/80OvNaEgmmw.json\n",
      "Data successfully saved to /mnt/workspace/__ing/llming/DTC/audio_podcast_qa_assistant/data/generated_questions/episodes/smK9dgdTl40.json\n",
      "Data successfully saved to /mnt/workspace/__ing/llming/DTC/audio_podcast_qa_assistant/data/generated_questions/episodes/CGAvsmokB4c.json\n",
      "Data successfully saved to /mnt/workspace/__ing/llming/DTC/audio_podcast_qa_assistant/data/generated_questions/episodes/KBZP4rLk6bk.json\n",
      "Data successfully saved to /mnt/workspace/__ing/llming/DTC/audio_podcast_qa_assistant/data/generated_questions/episodes/4-SGpEInX_c.json\n",
      "Data successfully saved to /mnt/workspace/__ing/llming/DTC/audio_podcast_qa_assistant/data/generated_questions/episodes/J48bm21q8_A.json\n",
      "Data successfully saved to /mnt/workspace/__ing/llming/DTC/audio_podcast_qa_assistant/data/generated_questions/episodes/HhY95m-WD_E.json\n",
      "Data successfully saved to /mnt/workspace/__ing/llming/DTC/audio_podcast_qa_assistant/data/generated_questions/episodes/rKnoNfajUgM.json\n",
      "Data successfully saved to /mnt/workspace/__ing/llming/DTC/audio_podcast_qa_assistant/data/generated_questions/episodes/y3Umo_jd5AA.json\n",
      "Data successfully saved to /mnt/workspace/__ing/llming/DTC/audio_podcast_qa_assistant/data/generated_questions/episodes/UwwBG-MbniY.json\n",
      "Data successfully saved to /mnt/workspace/__ing/llming/DTC/audio_podcast_qa_assistant/data/generated_questions/episodes/8A-5gIW0-eI.json\n",
      "Data successfully saved to /mnt/workspace/__ing/llming/DTC/audio_podcast_qa_assistant/data/generated_questions/episodes/jdIyNMkusLE.json\n",
      "Data successfully saved to /mnt/workspace/__ing/llming/DTC/audio_podcast_qa_assistant/data/generated_questions/episodes/hZenJc1fa70.json\n",
      "Data successfully saved to /mnt/workspace/__ing/llming/DTC/audio_podcast_qa_assistant/data/generated_questions/episodes/1XGiTDWfdpM.json\n",
      "Data successfully saved to /mnt/workspace/__ing/llming/DTC/audio_podcast_qa_assistant/data/generated_questions/episodes/rIAZJNe7YtE.json\n",
      "Data successfully saved to /mnt/workspace/__ing/llming/DTC/audio_podcast_qa_assistant/data/generated_questions/episodes/hhEwWghH_XM.json\n",
      "Data successfully saved to /mnt/workspace/__ing/llming/DTC/audio_podcast_qa_assistant/data/generated_questions/episodes/EG7I6Bt_NZY.json\n",
      "Data successfully saved to /mnt/workspace/__ing/llming/DTC/audio_podcast_qa_assistant/data/generated_questions/episodes/tm7poMupE8k.json\n",
      "Data successfully saved to /mnt/workspace/__ing/llming/DTC/audio_podcast_qa_assistant/data/generated_questions/episodes/SFxIazwNP_0.json\n",
      "Data successfully saved to /mnt/workspace/__ing/llming/DTC/audio_podcast_qa_assistant/data/generated_questions/episodes/1d9Dj9dT_pw.json\n",
      "Data successfully saved to /mnt/workspace/__ing/llming/DTC/audio_podcast_qa_assistant/data/generated_questions/episodes/mDyBbGCiBUU.json\n",
      "Data successfully saved to /mnt/workspace/__ing/llming/DTC/audio_podcast_qa_assistant/data/generated_questions/episodes/O9upVbGSBFo.json\n",
      "Data successfully saved to /mnt/workspace/__ing/llming/DTC/audio_podcast_qa_assistant/data/generated_questions/episodes/vNOTDn3D_RI.json\n",
      "Data successfully saved to /mnt/workspace/__ing/llming/DTC/audio_podcast_qa_assistant/data/generated_questions/episodes/3qMemn__kK8.json\n",
      "Data successfully saved to /mnt/workspace/__ing/llming/DTC/audio_podcast_qa_assistant/data/generated_questions/episodes/HrehEWYj16s.json\n",
      "Data successfully saved to /mnt/workspace/__ing/llming/DTC/audio_podcast_qa_assistant/data/generated_questions/episodes/oYQh1ZNkC70.json\n",
      "Data successfully saved to /mnt/workspace/__ing/llming/DTC/audio_podcast_qa_assistant/data/generated_questions/episodes/50r-5ULcWgY.json\n",
      "Data successfully saved to /mnt/workspace/__ing/llming/DTC/audio_podcast_qa_assistant/data/generated_questions/episodes/60KJz1BVTyU.json\n",
      "Data successfully saved to /mnt/workspace/__ing/llming/DTC/audio_podcast_qa_assistant/data/generated_questions/episodes/YbJZnShMQAo.json\n",
      "Data successfully saved to /mnt/workspace/__ing/llming/DTC/audio_podcast_qa_assistant/data/generated_questions/episodes/3x1b_S6Qp2Q.json\n",
      "Data successfully saved to /mnt/workspace/__ing/llming/DTC/audio_podcast_qa_assistant/data/generated_questions/episodes/cC1LFC0KFSw.json\n",
      "Data successfully saved to /mnt/workspace/__ing/llming/DTC/audio_podcast_qa_assistant/data/generated_questions/episodes/Q6tDV3BhrcM.json\n",
      "Data successfully saved to /mnt/workspace/__ing/llming/DTC/audio_podcast_qa_assistant/data/generated_questions/episodes/I51DuprOb0o.json\n",
      "Data successfully saved to /mnt/workspace/__ing/llming/DTC/audio_podcast_qa_assistant/data/generated_questions/episodes/XOPO9J7DIXw.json\n",
      "Data successfully saved to /mnt/workspace/__ing/llming/DTC/audio_podcast_qa_assistant/data/generated_questions/episodes/WgytXF0SPh0.json\n",
      "Data successfully saved to /mnt/workspace/__ing/llming/DTC/audio_podcast_qa_assistant/data/generated_questions/episodes/DbXjoXnIxQo.json\n",
      "Data successfully saved to /mnt/workspace/__ing/llming/DTC/audio_podcast_qa_assistant/data/generated_questions/episodes/U_AREIyd0Fc.json\n",
      "Data successfully saved to /mnt/workspace/__ing/llming/DTC/audio_podcast_qa_assistant/data/generated_questions/episodes/1C2tPFCGL1U.json\n",
      "Data successfully saved to /mnt/workspace/__ing/llming/DTC/audio_podcast_qa_assistant/data/generated_questions/episodes/98HZanvAJ8Y.json\n",
      "Data successfully saved to /mnt/workspace/__ing/llming/DTC/audio_podcast_qa_assistant/data/generated_questions/episodes/IHg6ixt3CKc.json\n",
      "Data successfully saved to /mnt/workspace/__ing/llming/DTC/audio_podcast_qa_assistant/data/generated_questions/episodes/3FIo6evmweo.json\n",
      "Data successfully saved to /mnt/workspace/__ing/llming/DTC/audio_podcast_qa_assistant/data/generated_questions/episodes/4oDZyOf6CW4.json\n",
      "Data successfully saved to /mnt/workspace/__ing/llming/DTC/audio_podcast_qa_assistant/data/generated_questions/episodes/Whtt2H5_isM.json\n",
      "Data successfully saved to /mnt/workspace/__ing/llming/DTC/audio_podcast_qa_assistant/data/generated_questions/episodes/qfKyNxfyWbo.json\n",
      "Data successfully saved to /mnt/workspace/__ing/llming/DTC/audio_podcast_qa_assistant/data/generated_questions/episodes/KZkYSSE8HHI.json\n",
      "Data successfully saved to /mnt/workspace/__ing/llming/DTC/audio_podcast_qa_assistant/data/generated_questions/episodes/A22Ej6kb2wo.json\n",
      "Data successfully saved to /mnt/workspace/__ing/llming/DTC/audio_podcast_qa_assistant/data/generated_questions/episodes/4dC_nRYIDZU.json\n",
      "Data successfully saved to /mnt/workspace/__ing/llming/DTC/audio_podcast_qa_assistant/data/generated_questions/episodes/RL4j4KPwNGM.json\n",
      "Data successfully saved to /mnt/workspace/__ing/llming/DTC/audio_podcast_qa_assistant/data/generated_questions/episodes/ImKkaeUx1MU.json\n",
      "Data successfully saved to /mnt/workspace/__ing/llming/DTC/audio_podcast_qa_assistant/data/generated_questions/episodes/OaeYUm06in0.json\n",
      "Data successfully saved to /mnt/workspace/__ing/llming/DTC/audio_podcast_qa_assistant/data/generated_questions/episodes/OJQepiqSWvg.json\n",
      "Data successfully saved to /mnt/workspace/__ing/llming/DTC/audio_podcast_qa_assistant/data/generated_questions/episodes/Z1KwkpTUbkg.json\n",
      "Data successfully saved to /mnt/workspace/__ing/llming/DTC/audio_podcast_qa_assistant/data/generated_questions/episodes/ew8U43IXTfk.json\n",
      "Data successfully saved to /mnt/workspace/__ing/llming/DTC/audio_podcast_qa_assistant/data/generated_questions/episodes/M1-v-dXIzho.json\n",
      "Data successfully saved to /mnt/workspace/__ing/llming/DTC/audio_podcast_qa_assistant/data/generated_questions/episodes/CY_LEa9xQtg.json\n",
      "Data successfully saved to /mnt/workspace/__ing/llming/DTC/audio_podcast_qa_assistant/data/generated_questions/episodes/dSVLjAdo8UA.json\n",
      "Data successfully saved to /mnt/workspace/__ing/llming/DTC/audio_podcast_qa_assistant/data/generated_questions/episodes/ICj8p5jPd3Y.json\n",
      "Data successfully saved to /mnt/workspace/__ing/llming/DTC/audio_podcast_qa_assistant/data/generated_questions/episodes/OYsYgzzsdT0.json\n",
      "Data successfully saved to /mnt/workspace/__ing/llming/DTC/audio_podcast_qa_assistant/data/generated_questions/episodes/-k-ztNsBM54.json\n",
      "Data successfully saved to /mnt/workspace/__ing/llming/DTC/audio_podcast_qa_assistant/data/generated_questions/episodes/IT__Nrr3PNI.json\n",
      "Data successfully saved to /mnt/workspace/__ing/llming/DTC/audio_podcast_qa_assistant/data/generated_questions/episodes/qLDp-aYnR1Y.json\n",
      "Data successfully saved to /mnt/workspace/__ing/llming/DTC/audio_podcast_qa_assistant/data/generated_questions/episodes/FhfmGM6hswI.json\n",
      "Data successfully saved to /mnt/workspace/__ing/llming/DTC/audio_podcast_qa_assistant/data/generated_questions/episodes/arrokG3wCdE.json\n",
      "Data successfully saved to /mnt/workspace/__ing/llming/DTC/audio_podcast_qa_assistant/data/generated_questions/episodes/aB8zcAttP1E.json\n",
      "Data successfully saved to /mnt/workspace/__ing/llming/DTC/audio_podcast_qa_assistant/data/generated_questions/episodes/Udh22kuLebg.json\n",
      "Data successfully saved to /mnt/workspace/__ing/llming/DTC/audio_podcast_qa_assistant/data/generated_questions/episodes/OpSmCKe27WE.json\n",
      "Data successfully saved to /mnt/workspace/__ing/llming/DTC/audio_podcast_qa_assistant/data/generated_questions/episodes/d2bYwYxqJCM.json\n",
      "Data successfully saved to /mnt/workspace/__ing/llming/DTC/audio_podcast_qa_assistant/data/generated_questions/episodes/krB0enBeSiE.json\n",
      "Data successfully saved to /mnt/workspace/__ing/llming/DTC/audio_podcast_qa_assistant/data/generated_questions/episodes/2oHH4aClJQs.json\n",
      "Data successfully saved to /mnt/workspace/__ing/llming/DTC/audio_podcast_qa_assistant/data/generated_questions/episodes/s78hvV3QLUE.json\n",
      "Data successfully saved to /mnt/workspace/__ing/llming/DTC/audio_podcast_qa_assistant/data/generated_questions/episodes/dmVqpx4YOY4.json\n",
      "Data successfully saved to /mnt/workspace/__ing/llming/DTC/audio_podcast_qa_assistant/data/generated_questions/episodes/f0un-l1L8Zw.json\n",
      "Data successfully saved to /mnt/workspace/__ing/llming/DTC/audio_podcast_qa_assistant/data/generated_questions/episodes/ZPPAOakITeQ.json\n",
      "Data successfully saved to /mnt/workspace/__ing/llming/DTC/audio_podcast_qa_assistant/data/generated_questions/episodes/YJWPowbCK_I.json\n",
      "Data successfully saved to /mnt/workspace/__ing/llming/DTC/audio_podcast_qa_assistant/data/generated_questions/episodes/Fx0G6DHMfXM.json\n",
      "Data successfully saved to /mnt/workspace/__ing/llming/DTC/audio_podcast_qa_assistant/data/generated_questions/episodes/lVHRs3uTHNI.json\n",
      "Data successfully saved to /mnt/workspace/__ing/llming/DTC/audio_podcast_qa_assistant/data/generated_questions/episodes/xF6x1ftN-H4.json\n",
      "Data successfully saved to /mnt/workspace/__ing/llming/DTC/audio_podcast_qa_assistant/data/generated_questions/episodes/hi9Rf0oLdHk.json\n",
      "Data successfully saved to /mnt/workspace/__ing/llming/DTC/audio_podcast_qa_assistant/data/generated_questions/episodes/srUlKNLZTas.json\n",
      "Data successfully saved to /mnt/workspace/__ing/llming/DTC/audio_podcast_qa_assistant/data/generated_questions/episodes/ifX_JnBfxTY.json\n",
      "Data successfully saved to /mnt/workspace/__ing/llming/DTC/audio_podcast_qa_assistant/data/generated_questions/episodes/36_rM7wpN5A.json\n",
      "Data successfully saved to /mnt/workspace/__ing/llming/DTC/audio_podcast_qa_assistant/data/generated_questions/episodes/mC43pZkpTec.json\n",
      "Data successfully saved to /mnt/workspace/__ing/llming/DTC/audio_podcast_qa_assistant/data/generated_questions/episodes/dEv99vxKjVI.json\n",
      "Data successfully saved to /mnt/workspace/__ing/llming/DTC/audio_podcast_qa_assistant/data/generated_questions/episodes/AF8DOS4C2KM.json\n",
      "Data successfully saved to /mnt/workspace/__ing/llming/DTC/audio_podcast_qa_assistant/data/generated_questions/episodes/PbN3HzKkW4M.json\n",
      "Data successfully saved to /mnt/workspace/__ing/llming/DTC/audio_podcast_qa_assistant/data/generated_questions/episodes/iqBh7G4uDR8.json\n",
      "Data successfully saved to /mnt/workspace/__ing/llming/DTC/audio_podcast_qa_assistant/data/generated_questions/episodes/Iau6W5pjy9Y.json\n",
      "Data successfully saved to /mnt/workspace/__ing/llming/DTC/audio_podcast_qa_assistant/data/generated_questions/episodes/UOEpe17nPhE.json\n",
      "Data successfully saved to /mnt/workspace/__ing/llming/DTC/audio_podcast_qa_assistant/data/generated_questions/episodes/reYdQYZ9Rj4.json\n",
      "Data successfully saved to /mnt/workspace/__ing/llming/DTC/audio_podcast_qa_assistant/data/generated_questions/episodes/nkWmiNRPU-c.json\n",
      "Data successfully saved to /mnt/workspace/__ing/llming/DTC/audio_podcast_qa_assistant/data/generated_questions/episodes/RvhpncC5jZ8.json\n",
      "Data successfully saved to /mnt/workspace/__ing/llming/DTC/audio_podcast_qa_assistant/data/generated_questions/episodes/U_6AYX42gkU.json\n",
      "Data successfully saved to /mnt/workspace/__ing/llming/DTC/audio_podcast_qa_assistant/data/generated_questions/episodes/Pl3x4GINtBQ.json\n",
      "Data successfully saved to /mnt/workspace/__ing/llming/DTC/audio_podcast_qa_assistant/data/generated_questions/episodes/J21-7AsUcgM.json\n",
      "Data successfully saved to /mnt/workspace/__ing/llming/DTC/audio_podcast_qa_assistant/data/generated_questions/episodes/kFQUDCgMjRc.json\n",
      "Data successfully saved to /mnt/workspace/__ing/llming/DTC/audio_podcast_qa_assistant/data/generated_questions/episodes/ndMahzDCH1Y.json\n",
      "Data successfully saved to /mnt/workspace/__ing/llming/DTC/audio_podcast_qa_assistant/data/generated_questions/episodes/LRYkH-fAVGE.json\n",
      "Data successfully saved to /mnt/workspace/__ing/llming/DTC/audio_podcast_qa_assistant/data/generated_questions/episodes/Bo8MY4JpiXE.json\n",
      "Data successfully saved to /mnt/workspace/__ing/llming/DTC/audio_podcast_qa_assistant/data/generated_questions/episodes/q6zEzZCtkXw.json\n",
      "Data successfully saved to /mnt/workspace/__ing/llming/DTC/audio_podcast_qa_assistant/data/generated_questions/episodes/bqeuFiAUU4o.json\n",
      "Data successfully saved to /mnt/workspace/__ing/llming/DTC/audio_podcast_qa_assistant/data/generated_questions/episodes/4AWLcxTGZPA.json\n",
      "Data successfully saved to /mnt/workspace/__ing/llming/DTC/audio_podcast_qa_assistant/data/generated_questions/episodes/ZFntEFXKDHM.json\n",
      "Data successfully saved to /mnt/workspace/__ing/llming/DTC/audio_podcast_qa_assistant/data/generated_questions/episodes/Ktj050DxG7Q.json\n",
      "Data successfully saved to /mnt/workspace/__ing/llming/DTC/audio_podcast_qa_assistant/data/generated_questions/episodes/grceJbuPUXI.json\n",
      "Data successfully saved to /mnt/workspace/__ing/llming/DTC/audio_podcast_qa_assistant/data/generated_questions/episodes/p3lsYlod5OU.json\n",
      "Data successfully saved to /mnt/workspace/__ing/llming/DTC/audio_podcast_qa_assistant/data/generated_questions/episodes/CejJ2aVRUE8.json\n",
      "Data successfully saved to /mnt/workspace/__ing/llming/DTC/audio_podcast_qa_assistant/data/generated_questions/episodes/iZRbD7q1n-U.json\n",
      "Data successfully saved to /mnt/workspace/__ing/llming/DTC/audio_podcast_qa_assistant/data/generated_questions/episodes/3LWNY70Oj4A.json\n",
      "Data successfully saved to /mnt/workspace/__ing/llming/DTC/audio_podcast_qa_assistant/data/generated_questions/episodes/t06rkOOUa7g.json\n",
      "Data successfully saved to /mnt/workspace/__ing/llming/DTC/audio_podcast_qa_assistant/data/generated_questions/episodes/llh-2pqSGrs.json\n",
      "Data successfully saved to /mnt/workspace/__ing/llming/DTC/audio_podcast_qa_assistant/data/generated_questions/episodes/E1AxVXt2Gv4.json\n",
      "Data successfully saved to /mnt/workspace/__ing/llming/DTC/audio_podcast_qa_assistant/data/generated_questions/episodes/vNhSCF9i8Qs.json\n",
      "Data successfully saved to /mnt/workspace/__ing/llming/DTC/audio_podcast_qa_assistant/data/generated_questions/episodes/-jA2ABHBc6Y.json\n",
      "Data successfully saved to /mnt/workspace/__ing/llming/DTC/audio_podcast_qa_assistant/data/generated_questions/episodes/2a7CDKqWcZ0.json\n",
      "Data successfully saved to /mnt/workspace/__ing/llming/DTC/audio_podcast_qa_assistant/data/generated_questions/episodes/STFcvzoxVw4.json\n",
      "Data successfully saved to /mnt/workspace/__ing/llming/DTC/audio_podcast_qa_assistant/data/generated_questions/episodes/0RTWSJAqTPg.json\n",
      "Data successfully saved to /mnt/workspace/__ing/llming/DTC/audio_podcast_qa_assistant/data/generated_questions/episodes/uTxRF5ag27A.json\n",
      "Data successfully saved to /mnt/workspace/__ing/llming/DTC/audio_podcast_qa_assistant/data/generated_questions/episodes/5Gk9gIpGvSE.json\n",
      "Data successfully saved to /mnt/workspace/__ing/llming/DTC/audio_podcast_qa_assistant/data/generated_questions/episodes/VBPTFlpv31k.json\n",
      "Data successfully saved to /mnt/workspace/__ing/llming/DTC/audio_podcast_qa_assistant/data/generated_questions/episodes/2wq9x2QcZN0.json\n",
      "Data successfully saved to /mnt/workspace/__ing/llming/DTC/audio_podcast_qa_assistant/data/generated_questions/episodes/ghwaIiE3Nd8.json\n",
      "Data successfully saved to /mnt/workspace/__ing/llming/DTC/audio_podcast_qa_assistant/data/generated_questions/episodes/xewD1apJNhw.json\n",
      "Data successfully saved to /mnt/workspace/__ing/llming/DTC/audio_podcast_qa_assistant/data/generated_questions/episodes/eF-E40pxxbI.json\n",
      "Data successfully saved to /mnt/workspace/__ing/llming/DTC/audio_podcast_qa_assistant/data/generated_questions/episodes/K78jqx9fx2I.json\n",
      "Data successfully saved to /mnt/workspace/__ing/llming/DTC/audio_podcast_qa_assistant/data/generated_questions/episodes/EYIKy_FM9x0.json\n",
      "Data successfully saved to /mnt/workspace/__ing/llming/DTC/audio_podcast_qa_assistant/data/generated_questions/episodes/x0-zGdlpTeg.json\n",
      "Data successfully saved to /mnt/workspace/__ing/llming/DTC/audio_podcast_qa_assistant/data/generated_questions/episodes/tg_m_LxxRwM.json\n",
      "Data successfully saved to /mnt/workspace/__ing/llming/DTC/audio_podcast_qa_assistant/data/generated_questions/episodes/v-9Mpe7NhkM.json\n",
      "Data successfully saved to /mnt/workspace/__ing/llming/DTC/audio_podcast_qa_assistant/data/generated_questions/episodes/KdmDtqB46Jc.json\n",
      "Data successfully saved to /mnt/workspace/__ing/llming/DTC/audio_podcast_qa_assistant/data/generated_questions/episodes/G4hL5Om4IJ4.json\n",
      "Data successfully saved to /mnt/workspace/__ing/llming/DTC/audio_podcast_qa_assistant/data/generated_questions/episodes/zNdhgOk4-fE.json\n",
      "Data successfully saved to /mnt/workspace/__ing/llming/DTC/audio_podcast_qa_assistant/data/generated_questions/episodes/q7Qk4vYleXw.json\n",
      "Data successfully saved to /mnt/workspace/__ing/llming/DTC/audio_podcast_qa_assistant/data/generated_questions/episodes/KW8Vjs84Fxg.json\n",
      "Data successfully saved to /mnt/workspace/__ing/llming/DTC/audio_podcast_qa_assistant/data/generated_questions/episodes/KMgPxVnKLSk.json\n",
      "Data successfully saved to /mnt/workspace/__ing/llming/DTC/audio_podcast_qa_assistant/data/generated_questions/episodes/ygAqYC8JOQI.json\n",
      "Data successfully saved to /mnt/workspace/__ing/llming/DTC/audio_podcast_qa_assistant/data/generated_questions/episodes/NERNE4UThHU.json\n",
      "Data successfully saved to /mnt/workspace/__ing/llming/DTC/audio_podcast_qa_assistant/data/generated_questions/episodes/j4PEu4sVD40.json\n",
      "Data successfully saved to /mnt/workspace/__ing/llming/DTC/audio_podcast_qa_assistant/data/generated_questions/episodes/7KTbEn7PiaY.json\n",
      "Data successfully saved to /mnt/workspace/__ing/llming/DTC/audio_podcast_qa_assistant/data/generated_questions/episodes/aGBLRlLe7X8.json\n",
      "Data successfully saved to /mnt/workspace/__ing/llming/DTC/audio_podcast_qa_assistant/data/generated_questions/episodes/ez773teNFYA.json\n",
      "Data successfully saved to /mnt/workspace/__ing/llming/DTC/audio_podcast_qa_assistant/data/generated_questions/episodes/yTWa-Z1UQwU.json\n",
      "Data successfully saved to /mnt/workspace/__ing/llming/DTC/audio_podcast_qa_assistant/data/generated_questions/episodes/e4Bet29PVPY.json\n",
      "Data successfully saved to /mnt/workspace/__ing/llming/DTC/audio_podcast_qa_assistant/data/generated_questions/episodes/Ww6pfsWmkdY.json\n",
      "Data successfully saved to /mnt/workspace/__ing/llming/DTC/audio_podcast_qa_assistant/data/generated_questions/episodes/85F0FDsPHf8.json\n",
      "Data successfully saved to /mnt/workspace/__ing/llming/DTC/audio_podcast_qa_assistant/data/generated_questions/episodes/-tDQ74I3Ovs.json\n",
      "Data successfully saved to /mnt/workspace/__ing/llming/DTC/audio_podcast_qa_assistant/data/generated_questions/episodes/WgLo4gmEraU.json\n",
      "Data successfully saved to /mnt/workspace/__ing/llming/DTC/audio_podcast_qa_assistant/data/generated_questions/episodes/QSPtSNqUCUw.json\n",
      "Data successfully saved to /mnt/workspace/__ing/llming/DTC/audio_podcast_qa_assistant/data/generated_questions/episodes/piHkfmeU7Wo.json\n",
      "Data successfully saved to /mnt/workspace/__ing/llming/DTC/audio_podcast_qa_assistant/data/generated_questions/episodes/13CZPWmke6A.json\n",
      "Data successfully saved to /mnt/workspace/__ing/llming/DTC/audio_podcast_qa_assistant/data/generated_questions/episodes/uykM3NhJbso.json\n",
      "Data successfully saved to /mnt/workspace/__ing/llming/DTC/audio_podcast_qa_assistant/data/generated_questions/episodes/Z6rxFNMGdn0.json\n",
      "Data successfully saved to /mnt/workspace/__ing/llming/DTC/audio_podcast_qa_assistant/data/generated_questions/episodes/hIC9FQpxVwQ.json\n",
      "Data successfully saved to /mnt/workspace/__ing/llming/DTC/audio_podcast_qa_assistant/data/generated_questions/episodes/VeH7qKZr0WI.json\n",
      "Data successfully saved to /mnt/workspace/__ing/llming/DTC/audio_podcast_qa_assistant/data/generated_questions/episodes/_AGPbvCDBCk.json\n",
      "Data successfully saved to /mnt/workspace/__ing/llming/DTC/audio_podcast_qa_assistant/data/generated_questions/episodes/ktuw6Ow4sd0.json\n",
      "Data successfully saved to /mnt/workspace/__ing/llming/DTC/audio_podcast_qa_assistant/data/generated_questions/episodes/fIPxfzfOTxk.json\n",
      "Data successfully saved to /mnt/workspace/__ing/llming/DTC/audio_podcast_qa_assistant/data/generated_questions/episodes/6z1JwZbX4dQ.json\n",
      "Data successfully saved to /mnt/workspace/__ing/llming/DTC/audio_podcast_qa_assistant/data/generated_questions/episodes/0ZO28NtkwwQ.json\n",
      "Data successfully saved to /mnt/workspace/__ing/llming/DTC/audio_podcast_qa_assistant/data/generated_questions/episodes/KsZI5oXBC0k.json\n",
      "Data successfully saved to /mnt/workspace/__ing/llming/DTC/audio_podcast_qa_assistant/data/generated_questions/episodes/a3Wpy6gE4So.json\n",
      "Data successfully saved to /mnt/workspace/__ing/llming/DTC/audio_podcast_qa_assistant/data/generated_questions/episodes/urdNsyZBqhQ.json\n",
      "Data successfully saved to /mnt/workspace/__ing/llming/DTC/audio_podcast_qa_assistant/data/generated_questions/episodes/B2tXN7ZnSfU.json\n",
      "Data successfully saved to /mnt/workspace/__ing/llming/DTC/audio_podcast_qa_assistant/data/generated_questions/episodes/KOwm7GUjcg8.json\n",
      "Data successfully saved to /mnt/workspace/__ing/llming/DTC/audio_podcast_qa_assistant/data/generated_questions/episodes/nvBEXXnNaNQ.json\n",
      "Data successfully saved to /mnt/workspace/__ing/llming/DTC/audio_podcast_qa_assistant/data/generated_questions/episodes/Tj6NOfdfa4o.json\n",
      "Data successfully saved to /mnt/workspace/__ing/llming/DTC/audio_podcast_qa_assistant/data/generated_questions/episodes/xlMTWfkQqbY.json\n",
      "Data successfully saved to /mnt/workspace/__ing/llming/DTC/audio_podcast_qa_assistant/data/generated_questions/episodes/bQa7hpUpMzM.json\n",
      "Data successfully saved to /mnt/workspace/__ing/llming/DTC/audio_podcast_qa_assistant/data/generated_questions/episodes/YUYagvESisE.json\n",
      "Data successfully saved to /mnt/workspace/__ing/llming/DTC/audio_podcast_qa_assistant/data/generated_questions/episodes/FKh8hjJNhWc.json\n",
      "Data successfully saved to /mnt/workspace/__ing/llming/DTC/audio_podcast_qa_assistant/data/generated_questions/episodes/IUHkhB366tE.json\n",
      "Data successfully saved to /mnt/workspace/__ing/llming/DTC/audio_podcast_qa_assistant/data/generated_questions/episodes/EE1R8FYUJm0.json\n",
      "Data successfully saved to /mnt/workspace/__ing/llming/DTC/audio_podcast_qa_assistant/data/generated_questions/episodes/nDDJFvuFXdc.json\n",
      "Data successfully saved to /mnt/workspace/__ing/llming/DTC/audio_podcast_qa_assistant/data/generated_questions/episodes/gp4U5aH_T6A.json\n",
      "Data successfully saved to /mnt/workspace/__ing/llming/DTC/audio_podcast_qa_assistant/data/generated_questions/episodes/9LQffCdHHlQ.json\n",
      "Data successfully saved to /mnt/workspace/__ing/llming/DTC/audio_podcast_qa_assistant/data/generated_questions/episodes/hppbxV9C63g.json\n",
      "Data successfully saved to /mnt/workspace/__ing/llming/DTC/audio_podcast_qa_assistant/data/generated_questions/episodes/dHTgffkpeYo.json\n",
      "Data successfully saved to /mnt/workspace/__ing/llming/DTC/audio_podcast_qa_assistant/data/generated_questions/episodes/SK4kMPmgKW0.json\n",
      "Data successfully saved to /mnt/workspace/__ing/llming/DTC/audio_podcast_qa_assistant/data/generated_questions/episodes/NwzuibY5kUs.json\n",
      "Data successfully saved to /mnt/workspace/__ing/llming/DTC/audio_podcast_qa_assistant/data/generated_questions/episodes/YJF01_ztxwY.json\n",
      "Data successfully saved to /mnt/workspace/__ing/llming/DTC/audio_podcast_qa_assistant/data/generated_questions/episodes/tApj7Q37P2k.json\n",
      "Data successfully saved to /mnt/workspace/__ing/llming/DTC/audio_podcast_qa_assistant/data/generated_questions/episodes/G433fa01oMU.json\n",
      "Data successfully saved to /mnt/workspace/__ing/llming/DTC/audio_podcast_qa_assistant/data/generated_questions/episodes/KZnGSVwIpeU.json\n",
      "Data successfully saved to /mnt/workspace/__ing/llming/DTC/audio_podcast_qa_assistant/data/generated_questions/episodes/Aq9UPIXbtKI.json\n",
      "Data successfully saved to /mnt/workspace/__ing/llming/DTC/audio_podcast_qa_assistant/data/generated_questions/episodes/3wMKoSRbGVs.json\n",
      "Data successfully saved to /mnt/workspace/__ing/llming/DTC/audio_podcast_qa_assistant/data/generated_questions/episodes/j4_VyRDOmN4.json\n",
      "Data successfully saved to /mnt/workspace/__ing/llming/DTC/audio_podcast_qa_assistant/data/generated_questions/episodes/I845O57ZSy4.json\n",
      "Data successfully saved to /mnt/workspace/__ing/llming/DTC/audio_podcast_qa_assistant/data/generated_questions/episodes/azOmzumh0vQ.json\n",
      "Data successfully saved to /mnt/workspace/__ing/llming/DTC/audio_podcast_qa_assistant/data/generated_questions/episodes/-DVyjdw4t9I.json\n",
      "Data successfully saved to /mnt/workspace/__ing/llming/DTC/audio_podcast_qa_assistant/data/generated_questions/episodes/J6XcP4JOHmk.json\n",
      "Data successfully saved to /mnt/workspace/__ing/llming/DTC/audio_podcast_qa_assistant/data/generated_questions/episodes/0Jd7fJgFkPU.json\n",
      "Data successfully saved to /mnt/workspace/__ing/llming/DTC/audio_podcast_qa_assistant/data/generated_questions/episodes/6ePR2TWYVkI.json\n",
      "Data successfully saved to /mnt/workspace/__ing/llming/DTC/audio_podcast_qa_assistant/data/generated_questions/episodes/DKyzcbNr8WE.json\n",
      "Data successfully saved to /mnt/workspace/__ing/llming/DTC/audio_podcast_qa_assistant/data/generated_questions/episodes/nhGwJLXzHs8.json\n",
      "Data successfully saved to /mnt/workspace/__ing/llming/DTC/audio_podcast_qa_assistant/data/generated_questions/episodes/lEZPfmGCEk0.json\n",
      "Data successfully saved to /mnt/workspace/__ing/llming/DTC/audio_podcast_qa_assistant/data/generated_questions/episodes/BIk1zUy8ehU.json\n",
      "Data successfully saved to /mnt/workspace/__ing/llming/DTC/audio_podcast_qa_assistant/data/generated_questions/episodes/naed4C4hfAg.json\n",
      "Data successfully saved to /mnt/workspace/__ing/llming/DTC/audio_podcast_qa_assistant/data/generated_questions/episodes/XW0QZmtbjvs.json\n",
      "Data successfully saved to /mnt/workspace/__ing/llming/DTC/audio_podcast_qa_assistant/data/generated_questions/episodes/LAyZ8IYfGxQ.json\n",
      "Data successfully saved to /mnt/workspace/__ing/llming/DTC/audio_podcast_qa_assistant/data/generated_questions/episodes/iZjby1LkTWQ.json\n",
      "Data successfully saved to /mnt/workspace/__ing/llming/DTC/audio_podcast_qa_assistant/data/generated_questions/episodes/Nb2tebYAaOA.json\n",
      "Data successfully saved to /mnt/workspace/__ing/llming/DTC/audio_podcast_qa_assistant/data/generated_questions/episodes/jvGZkf87aCs.json\n",
      "Data successfully saved to /mnt/workspace/__ing/llming/DTC/audio_podcast_qa_assistant/data/generated_questions/episodes/VHg9sfOzBbY.json\n",
      "Data successfully saved to /mnt/workspace/__ing/llming/DTC/audio_podcast_qa_assistant/data/generated_questions/episodes/cC1HszE5Hcw.json\n",
      "Data successfully saved to /mnt/workspace/__ing/llming/DTC/audio_podcast_qa_assistant/data/generated_questions/episodes/bgNzUxyS-kQ.json\n",
      "Data successfully saved to /mnt/workspace/__ing/llming/DTC/audio_podcast_qa_assistant/data/generated_questions/episodes/4KiO8GRgwDk.json\n",
      "Data successfully saved to /mnt/workspace/__ing/llming/DTC/audio_podcast_qa_assistant/data/generated_questions/episodes/q0mokx-iiws.json\n",
      "Data successfully saved to /mnt/workspace/__ing/llming/DTC/audio_podcast_qa_assistant/data/generated_questions/episodes/gU-mkuMU428.json\n",
      "Data successfully saved to /mnt/workspace/__ing/llming/DTC/audio_podcast_qa_assistant/data/generated_questions/episodes/2fI6bYnRgSc.json\n",
      "Data successfully saved to /mnt/workspace/__ing/llming/DTC/audio_podcast_qa_assistant/data/generated_questions/episodes/l-mYLq6eZPY.json\n",
      "Data successfully saved to /mnt/workspace/__ing/llming/DTC/audio_podcast_qa_assistant/data/generated_questions/episodes/NbdRIVCBqNI.json\n",
      "Data successfully saved to /mnt/workspace/__ing/llming/DTC/audio_podcast_qa_assistant/data/generated_questions/episodes/ziQSpuST6Es.json\n",
      "Data successfully saved to /mnt/workspace/__ing/llming/DTC/audio_podcast_qa_assistant/data/generated_questions/episodes/KllCrlfLuzs.json\n",
      "Data successfully saved to /mnt/workspace/__ing/llming/DTC/audio_podcast_qa_assistant/data/generated_questions/episodes/7jFdxd1qX2g.json\n",
      "Data successfully saved to /mnt/workspace/__ing/llming/DTC/audio_podcast_qa_assistant/data/generated_questions/episodes/H9AAnV59ddE.json\n",
      "Data successfully saved to /mnt/workspace/__ing/llming/DTC/audio_podcast_qa_assistant/data/generated_questions/episodes/uPUEq8d73JI.json\n",
      "Data successfully saved to /mnt/workspace/__ing/llming/DTC/audio_podcast_qa_assistant/data/generated_questions/episodes/5f-JlzBuUUU.json\n",
      "Data successfully saved to /mnt/workspace/__ing/llming/DTC/audio_podcast_qa_assistant/data/generated_questions/episodes/DxREm3s1scA.json\n",
      "Data successfully saved to /mnt/workspace/__ing/llming/DTC/audio_podcast_qa_assistant/data/generated_questions/episodes/kSbMU5CbFM0.json\n",
      "Data successfully saved to /mnt/workspace/__ing/llming/DTC/audio_podcast_qa_assistant/data/generated_questions/episodes/GbhiVzCR9T0.json\n",
      "Data successfully saved to /mnt/workspace/__ing/llming/DTC/audio_podcast_qa_assistant/data/generated_questions/episodes/oIOGUYOPAsA.json\n",
      "Data successfully saved to /mnt/workspace/__ing/llming/DTC/audio_podcast_qa_assistant/data/generated_questions/episodes/LW59lMvxmY4.json\n",
      "Data successfully saved to /mnt/workspace/__ing/llming/DTC/audio_podcast_qa_assistant/data/generated_questions/episodes/aYwDs9LTN50.json\n",
      "Data successfully saved to /mnt/workspace/__ing/llming/DTC/audio_podcast_qa_assistant/data/generated_questions/episodes/-EVqrDlAqYo.json\n",
      "Data successfully saved to /mnt/workspace/__ing/llming/DTC/audio_podcast_qa_assistant/data/generated_questions/episodes/SGzMElJ11Cc.json\n",
      "Data successfully saved to /mnt/workspace/__ing/llming/DTC/audio_podcast_qa_assistant/data/generated_questions/episodes/gk4tEO4jDUM.json\n",
      "Data successfully saved to /mnt/workspace/__ing/llming/DTC/audio_podcast_qa_assistant/data/generated_questions/episodes/pEBI0vF45ic.json\n",
      "Data successfully saved to /mnt/workspace/__ing/llming/DTC/audio_podcast_qa_assistant/data/generated_questions/episodes/2tUiLxtrLxk.json\n",
      "Data successfully saved to /mnt/workspace/__ing/llming/DTC/audio_podcast_qa_assistant/data/generated_questions/episodes/c9AbECvRt20.json\n",
      "Data successfully saved to /mnt/workspace/__ing/llming/DTC/audio_podcast_qa_assistant/data/generated_questions/episodes/FKCJWkPehdY.json\n",
      "Data successfully saved to /mnt/workspace/__ing/llming/DTC/audio_podcast_qa_assistant/data/generated_questions/episodes/yImlXr5Tr8g.json\n",
      "Data successfully saved to /mnt/workspace/__ing/llming/DTC/audio_podcast_qa_assistant/data/generated_questions/episodes/uiNpESmPioQ.json\n",
      "Data successfully saved to /mnt/workspace/__ing/llming/DTC/audio_podcast_qa_assistant/data/generated_questions/episodes/sY8aFSY2zv4.json\n",
      "Data successfully saved to /mnt/workspace/__ing/llming/DTC/audio_podcast_qa_assistant/data/generated_questions/episodes/386s-y1aRRo.json\n",
      "Data successfully saved to /mnt/workspace/__ing/llming/DTC/audio_podcast_qa_assistant/data/generated_questions/episodes/iSMpTmibeDw.json\n",
      "Data successfully saved to /mnt/workspace/__ing/llming/DTC/audio_podcast_qa_assistant/data/generated_questions/episodes/7Grseeycor4.json\n",
      "Data successfully saved to /mnt/workspace/__ing/llming/DTC/audio_podcast_qa_assistant/data/generated_questions/episodes/l-NJrvyRo0c.json\n",
      "Data successfully saved to /mnt/workspace/__ing/llming/DTC/audio_podcast_qa_assistant/data/generated_questions/episodes/yzMVEbs8Zz0.json\n",
      "Data successfully saved to /mnt/workspace/__ing/llming/DTC/audio_podcast_qa_assistant/data/generated_questions/episodes/Gi8LUnhP5yU.json\n",
      "Data successfully saved to /mnt/workspace/__ing/llming/DTC/audio_podcast_qa_assistant/data/generated_questions/episodes/PUAdj3w3wO4.json\n",
      "Data successfully saved to /mnt/workspace/__ing/llming/DTC/audio_podcast_qa_assistant/data/generated_questions/episodes/Q24cpnHzx8I.json\n",
      "Data successfully saved to /mnt/workspace/__ing/llming/DTC/audio_podcast_qa_assistant/data/generated_questions/episodes/S_AFc_BXht4.json\n",
      "Data successfully saved to /mnt/workspace/__ing/llming/DTC/audio_podcast_qa_assistant/data/generated_questions/episodes/xAfdSak2fs8.json\n",
      "Data successfully saved to /mnt/workspace/__ing/llming/DTC/audio_podcast_qa_assistant/data/generated_questions/episodes/bIrEM2FbOLU.json\n",
      "Data successfully saved to /mnt/workspace/__ing/llming/DTC/audio_podcast_qa_assistant/data/generated_questions/episodes/Er7Dy8rvqOc.json\n",
      "Data successfully saved to /mnt/workspace/__ing/llming/DTC/audio_podcast_qa_assistant/data/generated_questions/episodes/3Z7WimACqG8.json\n",
      "Data successfully saved to /mnt/workspace/__ing/llming/DTC/audio_podcast_qa_assistant/data/generated_questions/episodes/CwyOUS8TSl0.json\n",
      "Data successfully saved to /mnt/workspace/__ing/llming/DTC/audio_podcast_qa_assistant/data/generated_questions/episodes/yCd3CzGSte8.json\n",
      "Data successfully saved to /mnt/workspace/__ing/llming/DTC/audio_podcast_qa_assistant/data/generated_questions/episodes/hy2G3PhGm-g.json\n",
      "Data successfully saved to /mnt/workspace/__ing/llming/DTC/audio_podcast_qa_assistant/data/generated_questions/episodes/8RVa0THWUWw.json\n",
      "Data successfully saved to /mnt/workspace/__ing/llming/DTC/audio_podcast_qa_assistant/data/generated_questions/episodes/5zOHSysMmH0.json\n",
      "Data successfully saved to /mnt/workspace/__ing/llming/DTC/audio_podcast_qa_assistant/data/generated_questions/episodes/_TTNGq9djU4.json\n",
      "Data successfully saved to /mnt/workspace/__ing/llming/DTC/audio_podcast_qa_assistant/data/generated_questions/episodes/U_lKUK2MCsg.json\n",
      "Expecting value: line 4 column 63 (char 373)\n",
      "ChatCompletion(id='chatcmpl-A0SudJ8tKs8ANTJUOpvti1gTCXqCI', choices=[Choice(finish_reason='stop', index=0, logprobs=None, message=ChatCompletionMessage(content='[\\n    {\"episode_id\": \"EwueqdgIvq4\", \"chunk_id\": 28, \"question\": \"What about if you\\'re in the world and you\\'re trying to decide the best way to live your life?\"},\\n    {\"episode_id\": \"EwueqdgIvq4\", \"chunk_id\": 53, \"question\": \"Can I quickly ask, what is NIST and where is this amazing group of people located?\"},\\n    {\"episode_id\": \"EwueqdgIvq4\", \"chunk_id\": 84, \"question\": \\'How do we know that we can trust the self-driving car or the supercomputer that trained it?\\'},\\n    {\"episode_id\": \"EwueqdgIvq4\", \"chunk_id\": 86, \"question\": \\'So what does it mean for a universe to be fit for us to live in?\\'}\\n]', role='assistant', function_call=None, tool_calls=None, refusal=None))], created=1724674503, model='gpt-4o-mini-2024-07-18', object='chat.completion', service_tier=None, system_fingerprint='fp_48196bc67a', usage=CompletionUsage(completion_tokens=186, prompt_tokens=1351, total_tokens=1537))\n",
      "\n",
      "===========================================\n",
      "\n",
      "Data successfully saved to /mnt/workspace/__ing/llming/DTC/audio_podcast_qa_assistant/data/generated_questions/episodes/2BdBfsXbST8.json\n",
      "Data successfully saved to /mnt/workspace/__ing/llming/DTC/audio_podcast_qa_assistant/data/generated_questions/episodes/rIpUf-Vy2JA.json\n",
      "Data successfully saved to /mnt/workspace/__ing/llming/DTC/audio_podcast_qa_assistant/data/generated_questions/episodes/_L3gNaAVjQ4.json\n",
      "Data successfully saved to /mnt/workspace/__ing/llming/DTC/audio_podcast_qa_assistant/data/generated_questions/episodes/7uHGlfeCBbE.json\n",
      "Data successfully saved to /mnt/workspace/__ing/llming/DTC/audio_podcast_qa_assistant/data/generated_questions/episodes/CDiqA4SJNpA.json\n",
      "Data successfully saved to /mnt/workspace/__ing/llming/DTC/audio_podcast_qa_assistant/data/generated_questions/episodes/tueAcSiiqYA.json\n",
      "Data successfully saved to /mnt/workspace/__ing/llming/DTC/audio_podcast_qa_assistant/data/generated_questions/episodes/WzsivT_Ap1w.json\n",
      "Data successfully saved to /mnt/workspace/__ing/llming/DTC/audio_podcast_qa_assistant/data/generated_questions/episodes/cMscNuSUy0I.json\n",
      "Data successfully saved to /mnt/workspace/__ing/llming/DTC/audio_podcast_qa_assistant/data/generated_questions/episodes/oCkkjnpS2f8.json\n",
      "Data successfully saved to /mnt/workspace/__ing/llming/DTC/audio_podcast_qa_assistant/data/generated_questions/episodes/Vrz8YDl9CeA.json\n",
      "Data successfully saved to /mnt/workspace/__ing/llming/DTC/audio_podcast_qa_assistant/data/generated_questions/episodes/1YbcB6b4A2U.json\n",
      "Data successfully saved to /mnt/workspace/__ing/llming/DTC/audio_podcast_qa_assistant/data/generated_questions/episodes/cuD9uNFXnU8.json\n",
      "Data successfully saved to /mnt/workspace/__ing/llming/DTC/audio_podcast_qa_assistant/data/generated_questions/episodes/TISMidxdZoc.json\n",
      "Data successfully saved to /mnt/workspace/__ing/llming/DTC/audio_podcast_qa_assistant/data/generated_questions/episodes/FUS6ceIvUnI.json\n",
      "Data successfully saved to /mnt/workspace/__ing/llming/DTC/audio_podcast_qa_assistant/data/generated_questions/episodes/epQxfSp-rdU.json\n",
      "Data successfully saved to /mnt/workspace/__ing/llming/DTC/audio_podcast_qa_assistant/data/generated_questions/episodes/0jspaMLxBig.json\n",
      "Data successfully saved to /mnt/workspace/__ing/llming/DTC/audio_podcast_qa_assistant/data/generated_questions/episodes/cdiD-9MMpb0.json\n",
      "Data successfully saved to /mnt/workspace/__ing/llming/DTC/audio_podcast_qa_assistant/data/generated_questions/episodes/lvh3g7eszVQ.json\n",
      "Data successfully saved to /mnt/workspace/__ing/llming/DTC/audio_podcast_qa_assistant/data/generated_questions/episodes/uTCc2-1tbBQ.json\n",
      "Data successfully saved to /mnt/workspace/__ing/llming/DTC/audio_podcast_qa_assistant/data/generated_questions/episodes/H_szemxPcTI.json\n",
      "Data successfully saved to /mnt/workspace/__ing/llming/DTC/audio_podcast_qa_assistant/data/generated_questions/episodes/NOReE-3EBhI.json\n",
      "Data successfully saved to /mnt/workspace/__ing/llming/DTC/audio_podcast_qa_assistant/data/generated_questions/episodes/plcc6E-E1uU.json\n",
      "Data successfully saved to /mnt/workspace/__ing/llming/DTC/audio_podcast_qa_assistant/data/generated_questions/episodes/3pvpNKUPbIY.json\n",
      "Data successfully saved to /mnt/workspace/__ing/llming/DTC/audio_podcast_qa_assistant/data/generated_questions/episodes/U5OD8MjYnOM.json\n",
      "Data successfully saved to /mnt/workspace/__ing/llming/DTC/audio_podcast_qa_assistant/data/generated_questions/episodes/oJNvxYEcVAY.json\n",
      "Data successfully saved to /mnt/workspace/__ing/llming/DTC/audio_podcast_qa_assistant/data/generated_questions/episodes/cQ48rP_Rs4g.json\n",
      "Data successfully saved to /mnt/workspace/__ing/llming/DTC/audio_podcast_qa_assistant/data/generated_questions/episodes/TG6BuSjwP4o.json\n",
      "Data successfully saved to /mnt/workspace/__ing/llming/DTC/audio_podcast_qa_assistant/data/generated_questions/episodes/iOCfIFBBpVY.json\n",
      "Data successfully saved to /mnt/workspace/__ing/llming/DTC/audio_podcast_qa_assistant/data/generated_questions/episodes/kq0VO1FqE6I.json\n",
      "Data successfully saved to /mnt/workspace/__ing/llming/DTC/audio_podcast_qa_assistant/data/generated_questions/episodes/SOr1YYRljV8.json\n",
      "Data successfully saved to /mnt/workspace/__ing/llming/DTC/audio_podcast_qa_assistant/data/generated_questions/episodes/anXep8kBOCg.json\n",
      "Data successfully saved to /mnt/workspace/__ing/llming/DTC/audio_podcast_qa_assistant/data/generated_questions/episodes/nWTvXbQHwWs.json\n",
      "Data successfully saved to /mnt/workspace/__ing/llming/DTC/audio_podcast_qa_assistant/data/generated_questions/episodes/X0-SXS6zdEQ.json\n",
      "Data successfully saved to /mnt/workspace/__ing/llming/DTC/audio_podcast_qa_assistant/data/generated_questions/episodes/pRzelZlKl7E.json\n",
      "Data successfully saved to /mnt/workspace/__ing/llming/DTC/audio_podcast_qa_assistant/data/generated_questions/episodes/sndW9hzX-wA.json\n",
      "Data successfully saved to /mnt/workspace/__ing/llming/DTC/audio_podcast_qa_assistant/data/generated_questions/episodes/mRZE-SJShkE.json\n",
      "Data successfully saved to /mnt/workspace/__ing/llming/DTC/audio_podcast_qa_assistant/data/generated_questions/episodes/Iuven0crywo.json\n",
      "Data successfully saved to /mnt/workspace/__ing/llming/DTC/audio_podcast_qa_assistant/data/generated_questions/episodes/o2nG7-eXxko.json\n",
      "Data successfully saved to /mnt/workspace/__ing/llming/DTC/audio_podcast_qa_assistant/data/generated_questions/episodes/b7bStIQovcY.json\n",
      "Data successfully saved to /mnt/workspace/__ing/llming/DTC/audio_podcast_qa_assistant/data/generated_questions/episodes/PgtedwKGhXs.json\n"
     ]
    }
   ],
   "source": [
    "prompt_template_path = os.path.join(PROJECT_DIR, \"prompts/self_sufficient_qs.txt\")\n",
    "\n",
    "self_sufficient_questions = map_progress(\n",
    "    f=lambda episode_questions:openai_process_questions(\n",
    "        episode_questions=episode_questions,\n",
    "        prompt_template_path=prompt_template_path,\n",
    "        model=\"gpt-4o-mini\",\n",
    "    ),\n",
    "    seq=questions_per_episode,\n",
    "    max_workers=4,\n",
    "    verbose=False\n",
    ")\n",
    "\n",
    "self_sufficient_questions = flatten_list_of_lists(self_sufficient_questions)"
   ]
  },
  {
   "cell_type": "code",
   "execution_count": 8,
   "id": "38205037-a41f-4cfa-a84c-a12771e0ce5f",
   "metadata": {
    "tags": []
   },
   "outputs": [],
   "source": [
    "self_sufficient_questions_filtered =\\\n",
    "    filter_corrupted_qs(self_sufficient_questions, full_dataset)"
   ]
  },
  {
   "cell_type": "code",
   "execution_count": 9,
   "id": "d9363f66-1e4f-4937-a291-bead71d02359",
   "metadata": {
    "tags": []
   },
   "outputs": [
    {
     "name": "stdout",
     "output_type": "stream",
     "text": [
      "Number of question marks in original dataset: 68112\n",
      "Number of questions extracted from transcriptions using : 10143\n",
      "Number of questions after discarding non-self sufficient using openai: 747\n",
      "Number of questions after filteration of corrupted questions: 455\n"
     ]
    }
   ],
   "source": [
    "print(\"Number of question marks in original dataset:\", count_question_marks(full_dataset))\n",
    "print(\"Number of questions extracted from transcriptions using :\", len(questions))\n",
    "print(\"Number of questions after discarding non-self sufficient using openai:\", len(self_sufficient_questions))\n",
    "print(\"Number of questions after filteration of corrupted questions:\", len(self_sufficient_questions_filtered))"
   ]
  },
  {
   "cell_type": "code",
   "execution_count": 10,
   "id": "bd514692-b596-4b4c-a5d6-a62786a266c7",
   "metadata": {
    "tags": []
   },
   "outputs": [
    {
     "name": "stdout",
     "output_type": "stream",
     "text": [
      "Data successfully saved to /mnt/workspace/__ing/llming/DTC/audio_podcast_qa_assistant/data/generated_questions/self-sufficient-filtered-questions.json\n"
     ]
    }
   ],
   "source": [
    "questions_path = os.path.join(\n",
    "    PROJECT_DIR,\n",
    "    \"data/generated_questions/\",\n",
    "    \"self-sufficient-filtered-questions.json\"\n",
    ")\n",
    "\n",
    "save_json_file(self_sufficient_questions_filtered, questions_path, replace=True)"
   ]
  },
  {
   "cell_type": "markdown",
   "id": "b870eea5-75b9-4b85-a3b3-538f901558e1",
   "metadata": {
    "tags": []
   },
   "source": [
    "# Evaluating Performance on questions without rephrasing"
   ]
  },
  {
   "cell_type": "code",
   "execution_count": 4,
   "id": "8a3ef28f-c2cd-431b-b5c4-fba9c2580ae3",
   "metadata": {
    "tags": []
   },
   "outputs": [],
   "source": [
    "q_path = os.path.join(\n",
    "    PROJECT_DIR,\n",
    "    \"data/generated_questions/self-sufficient-filtered-questions.json\"\n",
    ")\n",
    "self_sufficient_questions_filtered = read_json_file(q_path)"
   ]
  },
  {
   "cell_type": "code",
   "execution_count": 11,
   "id": "be9a5498-abcb-45e3-a0e1-c4de6e7420d7",
   "metadata": {
    "tags": []
   },
   "outputs": [],
   "source": [
    "for doc in self_sufficient_questions_filtered:\n",
    "    doc[\"text\"] = doc.pop(\"question\")"
   ]
  },
  {
   "cell_type": "code",
   "execution_count": 13,
   "id": "294ea684-5cec-4bd8-a85b-c9939202b19e",
   "metadata": {
    "tags": []
   },
   "outputs": [
    {
     "data": {
      "application/vnd.jupyter.widget-view+json": {
       "model_id": "8a9cc6cfe3634471b74561bb2e7c2394",
       "version_major": 2,
       "version_minor": 0
      },
      "text/plain": [
       "  0%|          | 0/455 [00:00<?, ?it/s]"
      ]
     },
     "metadata": {},
     "output_type": "display_data"
    }
   ],
   "source": [
    "vectorized_questions = map_progress(\n",
    "    f=lambda q: embed_document(OLLAMA_CLIENT, q),\n",
    "    seq=self_sufficient_questions_filtered,\n",
    "    max_workers=4,\n",
    "    verbose=False\n",
    ")"
   ]
  },
  {
   "cell_type": "code",
   "execution_count": 41,
   "id": "13738a48-5585-4fb2-af5f-8b929175025c",
   "metadata": {
    "tags": []
   },
   "outputs": [],
   "source": [
    "pickle_file_path = os.path.join(\n",
    "    PROJECT_DIR, \n",
    "    \"data/generated_document_embeddings/vectorized_self_sufficient_questions.pkl\"\n",
    ")\n",
    "\n",
    "save_to_pickle(vectorized_questions, pickle_file_path)"
   ]
  },
  {
   "cell_type": "code",
   "execution_count": 29,
   "id": "cee648f4-f519-47bb-afef-5b5a8a64db72",
   "metadata": {
    "tags": []
   },
   "outputs": [
    {
     "data": {
      "application/vnd.jupyter.widget-view+json": {
       "model_id": "d281dd441da94813bef7fd188deaf5e9",
       "version_major": 2,
       "version_minor": 0
      },
      "text/plain": [
       "  0%|          | 0/455 [00:00<?, ?it/s]"
      ]
     },
     "metadata": {},
     "output_type": "display_data"
    },
    {
     "data": {
      "application/vnd.jupyter.widget-view+json": {
       "model_id": "d41078cd75a94ea798eee2e422a217de",
       "version_major": 2,
       "version_minor": 0
      },
      "text/plain": [
       "  0%|          | 0/455 [00:00<?, ?it/s]"
      ]
     },
     "metadata": {},
     "output_type": "display_data"
    },
    {
     "data": {
      "application/vnd.jupyter.widget-view+json": {
       "model_id": "4cf7876b08e34191b92d6d71f1078ec1",
       "version_major": 2,
       "version_minor": 0
      },
      "text/plain": [
       "  0%|          | 0/455 [00:00<?, ?it/s]"
      ]
     },
     "metadata": {},
     "output_type": "display_data"
    }
   ],
   "source": [
    "search_func_list = [\n",
    "    elastic_search_text,\n",
    "    elastic_search_knn,\n",
    "    elastic_search_hybrid_rrf\n",
    "]\n",
    "search_func_keys_list = [\n",
    "    {\"query\":\"text\"},\n",
    "    {\"query_vector\":\"text_vector\"},\n",
    "    {\"query\":\"text\", \"query_vector\":\"text_vector\"}    \n",
    "]\n",
    "performance = []\n",
    "\n",
    "for i in range(len(search_func_list)):\n",
    "    relevance = map_progress(\n",
    "        f=lambda question_dict: retrieve_relevance(\n",
    "            question_dict=question_dict,\n",
    "            search_func=search_func_list[i],\n",
    "            **search_func_keys_list[i]\n",
    "        ),\n",
    "        seq=vectorized_questions,\n",
    "        max_workers=4,\n",
    "        verbose=False\n",
    "    )\n",
    "    \n",
    "    performance.append(\n",
    "        {\n",
    "            \"Search\": search_func_list[i].__name__,\n",
    "            \"HR\": hit_rate(relevance),\n",
    "            \"MRR\": mrr(relevance)\n",
    "        }\n",
    "    )"
   ]
  },
  {
   "cell_type": "code",
   "execution_count": 31,
   "id": "ff864032-1e1e-418b-aca3-f512cfa1c61d",
   "metadata": {
    "tags": []
   },
   "outputs": [
    {
     "data": {
      "text/html": [
       "<div>\n",
       "<style scoped>\n",
       "    .dataframe tbody tr th:only-of-type {\n",
       "        vertical-align: middle;\n",
       "    }\n",
       "\n",
       "    .dataframe tbody tr th {\n",
       "        vertical-align: top;\n",
       "    }\n",
       "\n",
       "    .dataframe thead th {\n",
       "        text-align: right;\n",
       "    }\n",
       "</style>\n",
       "<table border=\"1\" class=\"dataframe\">\n",
       "  <thead>\n",
       "    <tr style=\"text-align: right;\">\n",
       "      <th></th>\n",
       "      <th>Search</th>\n",
       "      <th>HR</th>\n",
       "      <th>MRR</th>\n",
       "    </tr>\n",
       "  </thead>\n",
       "  <tbody>\n",
       "    <tr>\n",
       "      <th>0</th>\n",
       "      <td>elastic_search_text</td>\n",
       "      <td>0.008791</td>\n",
       "      <td>0.004835</td>\n",
       "    </tr>\n",
       "    <tr>\n",
       "      <th>1</th>\n",
       "      <td>elastic_search_knn</td>\n",
       "      <td>0.013187</td>\n",
       "      <td>0.005568</td>\n",
       "    </tr>\n",
       "    <tr>\n",
       "      <th>2</th>\n",
       "      <td>elastic_search_hybrid_rrf</td>\n",
       "      <td>0.010989</td>\n",
       "      <td>0.005934</td>\n",
       "    </tr>\n",
       "  </tbody>\n",
       "</table>\n",
       "</div>"
      ],
      "text/plain": [
       "                      Search        HR       MRR\n",
       "0        elastic_search_text  0.008791  0.004835\n",
       "1         elastic_search_knn  0.013187  0.005568\n",
       "2  elastic_search_hybrid_rrf  0.010989  0.005934"
      ]
     },
     "execution_count": 31,
     "metadata": {},
     "output_type": "execute_result"
    }
   ],
   "source": [
    "pd.DataFrame(performance)"
   ]
  },
  {
   "cell_type": "markdown",
   "id": "455016a6-4679-4e0d-8857-514fe35020a2",
   "metadata": {
    "jp-MarkdownHeadingCollapsed": true,
    "tags": []
   },
   "source": [
    "# Rephrasing self-sufficient questions"
   ]
  },
  {
   "cell_type": "code",
   "execution_count": 7,
   "id": "3bc51ee3-0624-486f-8b45-6b25ccfe4ba0",
   "metadata": {
    "tags": []
   },
   "outputs": [
    {
     "data": {
      "application/vnd.jupyter.widget-view+json": {
       "model_id": "d2fcca0eda384951ac2942715c0b5044",
       "version_major": 2,
       "version_minor": 0
      },
      "text/plain": [
       "  0%|          | 0/302 [00:00<?, ?it/s]"
      ]
     },
     "metadata": {},
     "output_type": "display_data"
    }
   ],
   "source": [
    "prompt_template_path = os.path.join(PROJECT_DIR, \"prompts/rephrase_questions.txt\")\n",
    "\n",
    "rephrased_questions = map_progress(\n",
    "    f=lambda episode_questions:openai_rephrase(\n",
    "        episode_questions=episode_questions,\n",
    "        prompt_template_path=prompt_template_path,\n",
    "        model=\"gpt-4o-mini\",\n",
    "    ),\n",
    "    seq=questions_per_episode,\n",
    "    max_workers=4,\n",
    "    verbose=False\n",
    ")\n",
    "\n",
    "rephrased_questions = flatten_list_of_lists(rephrased_questions)"
   ]
  },
  {
   "cell_type": "code",
   "execution_count": 8,
   "id": "463b8fa9-2390-44c1-a4e1-6c15fefb3b44",
   "metadata": {
    "tags": []
   },
   "outputs": [
    {
     "name": "stdout",
     "output_type": "stream",
     "text": [
      "Number of questions before rephrasing & keeping self-sufficient only: 1000\n",
      "Number of questions after rephrasing & keeping self-sufficient only: 344\n"
     ]
    }
   ],
   "source": [
    "print(\"Number of questions before rephrasing & keeping self-sufficient only:\", len(questions))\n",
    "print(\"Number of questions after rephrasing & keeping self-sufficient only:\", len(rephrased_questions))"
   ]
  },
  {
   "cell_type": "code",
   "execution_count": 9,
   "id": "2000f634-fcbb-470a-bff8-1e7a17db13f5",
   "metadata": {
    "tags": []
   },
   "outputs": [],
   "source": [
    "rephrased_questions_reviewed = []\n",
    "for i, rephrased_question in enumerate(rephrased_questions):\n",
    "    try:\n",
    "        rephrased_question[\"text\"] = rephrased_question.pop(\"question\")\n",
    "        rephrased_question[\"episode_id\"]; rephrased_question[\"chunk_id\"]\n",
    "        \n",
    "        rephrased_questions_reviewed.append(rephrased_question)\n",
    "    except:\n",
    "        pass"
   ]
  },
  {
   "cell_type": "code",
   "execution_count": 10,
   "id": "49056847-fd61-4feb-a5c0-f606069a7ae3",
   "metadata": {
    "tags": []
   },
   "outputs": [
    {
     "name": "stdout",
     "output_type": "stream",
     "text": [
      "Number of questions before reviewing: 344\n",
      "Number of questions after reviewing: 12\n"
     ]
    }
   ],
   "source": [
    "print(\"Number of questions before reviewing:\", len(rephrased_questions))\n",
    "print(\"Number of questions after reviewing:\", len(rephrased_questions_reviewed))"
   ]
  },
  {
   "cell_type": "code",
   "execution_count": 44,
   "id": "edb6ded9-c22c-4cc4-9570-39c24d32b5be",
   "metadata": {
    "tags": []
   },
   "outputs": [
    {
     "name": "stdout",
     "output_type": "stream",
     "text": [
      "Data successfully saved to /mnt/workspace/__ing/llming/DTC/audio_podcast_qa_assistant/data/generated_questions/questions.json\n"
     ]
    }
   ],
   "source": [
    "questions_path = os.path.join(\n",
    "    PROJECT_DIR,\n",
    "    \"data/generated_questions/\",\n",
    "    \"questions.json\"\n",
    ")\n",
    "\n",
    "save_json_file(rephrased_questions_reviewed, questions_path, replace=True)"
   ]
  },
  {
   "cell_type": "markdown",
   "id": "0fdc66a9-3964-4002-a5cf-000d8a5b89f0",
   "metadata": {
    "jp-MarkdownHeadingCollapsed": true,
    "tags": []
   },
   "source": [
    "# Vectorizing docs"
   ]
  },
  {
   "cell_type": "code",
   "execution_count": 45,
   "id": "73698518-2266-4587-906c-926575bddfde",
   "metadata": {
    "tags": []
   },
   "outputs": [],
   "source": [
    "from utils.ollama import embed_document\n",
    "from utils.variables import OLLAMA_CLIENT"
   ]
  },
  {
   "cell_type": "code",
   "execution_count": 31,
   "id": "b2ff77a1-f7b0-46b1-b7f7-78d16e3697ec",
   "metadata": {
    "tags": []
   },
   "outputs": [],
   "source": [
    "questions_path = os.path.join(\n",
    "    PROJECT_DIR,\n",
    "    \"data/generated_questions/\",\n",
    "    \"questions.json\"\n",
    ")\n",
    "\n",
    "rephrased_questions = read_json_file(questions_path)"
   ]
  },
  {
   "cell_type": "code",
   "execution_count": 32,
   "id": "6779f9d4-a02f-4120-abb1-84eaeacc8960",
   "metadata": {
    "tags": []
   },
   "outputs": [
    {
     "data": {
      "application/vnd.jupyter.widget-view+json": {
       "model_id": "95cb1c2e500b4eb1be8ca0fc044e8683",
       "version_major": 2,
       "version_minor": 0
      },
      "text/plain": [
       "  0%|          | 0/495 [00:00<?, ?it/s]"
      ]
     },
     "metadata": {},
     "output_type": "display_data"
    },
    {
     "name": "stdout",
     "output_type": "stream",
     "text": [
      "1/495 items processed so far...\n",
      "25/495 items processed so far...\n",
      "49/495 items processed so far...\n",
      "73/495 items processed so far...\n",
      "97/495 items processed so far...\n",
      "121/495 items processed so far...\n",
      "145/495 items processed so far...\n",
      "169/495 items processed so far...\n",
      "193/495 items processed so far...\n",
      "217/495 items processed so far...\n",
      "241/495 items processed so far...\n",
      "265/495 items processed so far...\n",
      "289/495 items processed so far...\n",
      "313/495 items processed so far...\n",
      "337/495 items processed so far...\n",
      "361/495 items processed so far...\n",
      "385/495 items processed so far...\n",
      "409/495 items processed so far...\n",
      "433/495 items processed so far...\n",
      "457/495 items processed so far...\n",
      "481/495 items processed so far...\n",
      "495/495 items processed.\n"
     ]
    }
   ],
   "source": [
    "vectorized_questions = map_progress(\n",
    "    f=lambda q: embed_document(OLLAMA_CLIENT, q),\n",
    "    seq=rephrased_questions_reviewed,\n",
    "    max_workers=4,\n",
    "    verbose=False\n",
    ")"
   ]
  },
  {
   "cell_type": "code",
   "execution_count": 39,
   "id": "cc6ee8db-aa39-4179-ae1d-23757b4351bb",
   "metadata": {
    "tags": []
   },
   "outputs": [],
   "source": [
    "pickle_file_path = os.path.join(\n",
    "    PROJECT_DIR, \n",
    "    \"data/generated_document_embeddings/vectorized_questions.pkl\"\n",
    ")\n",
    "\n",
    "save_to_pickle(vectorized_questions, pickle_file_path)"
   ]
  },
  {
   "cell_type": "markdown",
   "id": "f085a955-6f8f-4964-9e99-7333ff89b41c",
   "metadata": {
    "jp-MarkdownHeadingCollapsed": true,
    "tags": []
   },
   "source": [
    "# Assessing Retrieval"
   ]
  },
  {
   "cell_type": "code",
   "execution_count": 3,
   "id": "8dcba676-9316-4de4-a318-75204c84aa4f",
   "metadata": {
    "tags": []
   },
   "outputs": [],
   "source": [
    "pickle_file_path = os.path.join(\n",
    "    PROJECT_DIR, \n",
    "    \"data/generated_document_embeddings/vectorized_questions.pkl\"\n",
    ")\n",
    "vectorized_questions = load_pickle(pickle_file_path)"
   ]
  },
  {
   "cell_type": "code",
   "execution_count": 4,
   "id": "33edd0d1-f648-4ebb-a917-9766ce8e4eec",
   "metadata": {
    "tags": []
   },
   "outputs": [
    {
     "data": {
      "text/plain": [
       "'What is the key methodology of the clustering that enables its effectiveness?'"
      ]
     },
     "execution_count": 4,
     "metadata": {},
     "output_type": "execute_result"
    }
   ],
   "source": [
    "vectorized_questions[0][\"text\"]"
   ]
  },
  {
   "cell_type": "code",
   "execution_count": 28,
   "id": "c1853694-b58d-4478-8dcc-75e21b927a4b",
   "metadata": {
    "tags": []
   },
   "outputs": [],
   "source": [
    "performance = []"
   ]
  },
  {
   "cell_type": "markdown",
   "id": "fc3e1f73-db40-41b7-9f41-829b565a6429",
   "metadata": {},
   "source": [
    "### Text"
   ]
  },
  {
   "cell_type": "code",
   "execution_count": 5,
   "id": "7f56b7df-15be-4395-a7ac-5786c3cb5226",
   "metadata": {
    "tags": []
   },
   "outputs": [],
   "source": [
    "def text_retrieval(question_dict):\n",
    "    ground_truth = (question_dict['episode_id'], question_dict['chunk_id'])\n",
    "    return [\n",
    "        (doc['id'], doc['chunk_id']) == ground_truth\\\n",
    "        for doc in elastic_search_text(question_dict[\"text\"])\n",
    "    ]"
   ]
  },
  {
   "cell_type": "code",
   "execution_count": 10,
   "id": "0e734350-08de-448c-b3a2-9e1af3efe633",
   "metadata": {
    "tags": []
   },
   "outputs": [
    {
     "data": {
      "application/vnd.jupyter.widget-view+json": {
       "model_id": "f17b426c4d9a4a84bc2cf148bd677c23",
       "version_major": 2,
       "version_minor": 0
      },
      "text/plain": [
       "  0%|          | 0/495 [00:00<?, ?it/s]"
      ]
     },
     "metadata": {},
     "output_type": "display_data"
    }
   ],
   "source": [
    "text_relevance = map_progress(\n",
    "    f=text_retrieval,\n",
    "    seq=vectorized_questions,\n",
    "    max_workers=4,\n",
    "    verbose=False\n",
    ")"
   ]
  },
  {
   "cell_type": "code",
   "execution_count": 29,
   "id": "d33fb5c3-4b66-4e12-b335-e8faa71c9d8a",
   "metadata": {
    "tags": []
   },
   "outputs": [],
   "source": [
    "performance.append(\n",
    "    {\n",
    "        \"Search\": \"elastic_search_text\",\n",
    "        \"HR\": hit_rate(text_relevance),\n",
    "        \"MRR\": mrr(text_relevance)\n",
    "    }\n",
    ")"
   ]
  },
  {
   "cell_type": "markdown",
   "id": "4aa671af-0692-4131-b10b-b4f90a1f7d18",
   "metadata": {},
   "source": [
    "### Vector"
   ]
  },
  {
   "cell_type": "code",
   "execution_count": 17,
   "id": "044b1ea8-f156-44af-a1f7-c290f17ba375",
   "metadata": {
    "tags": []
   },
   "outputs": [],
   "source": [
    "def knn_retrieval(question_dict):\n",
    "    ground_truth = (question_dict['episode_id'], question_dict['chunk_id'])\n",
    "    return [\n",
    "        (doc['id'], doc['chunk_id']) == ground_truth\\\n",
    "        for doc in elastic_search_knn(question_dict[\"text_vector\"])\n",
    "    ]"
   ]
  },
  {
   "cell_type": "code",
   "execution_count": 18,
   "id": "8896af00-e009-4681-ba85-9b5d8cf03daa",
   "metadata": {
    "tags": []
   },
   "outputs": [
    {
     "data": {
      "application/vnd.jupyter.widget-view+json": {
       "model_id": "f14ab95f5a9f4483a376d2901894dda4",
       "version_major": 2,
       "version_minor": 0
      },
      "text/plain": [
       "  0%|          | 0/495 [00:00<?, ?it/s]"
      ]
     },
     "metadata": {},
     "output_type": "display_data"
    }
   ],
   "source": [
    "knn_relevance = map_progress(\n",
    "    f=knn_retrieval,\n",
    "    seq=vectorized_questions,\n",
    "    max_workers=4,\n",
    "    verbose=False\n",
    ")"
   ]
  },
  {
   "cell_type": "code",
   "execution_count": 30,
   "id": "bcb34b7f-7c2a-4ae0-a590-e5bf46e65e1f",
   "metadata": {
    "tags": []
   },
   "outputs": [],
   "source": [
    "performance.append(\n",
    "    {\n",
    "        \"Search\": \"elastic_search_knn\",\n",
    "        \"HR\": hit_rate(knn_relevance),\n",
    "        \"MRR\": mrr(knn_relevance)\n",
    "    }\n",
    ")"
   ]
  },
  {
   "cell_type": "markdown",
   "id": "23a7100c-77b9-475d-bd1d-11574c1636e7",
   "metadata": {},
   "source": [
    "### Hybrid (RRF)"
   ]
  },
  {
   "cell_type": "code",
   "execution_count": 24,
   "id": "e462b30b-eb96-4edb-9db9-4eb1cd521aae",
   "metadata": {
    "tags": []
   },
   "outputs": [],
   "source": [
    "def hybrid_retrieval(question_dict):\n",
    "    ground_truth = (question_dict['episode_id'], question_dict['chunk_id'])\n",
    "    return [\n",
    "        (doc['id'], doc['chunk_id']) == ground_truth\\\n",
    "        for doc in elastic_search_hybrid_rrf(\n",
    "            question_dict[\"text\"],\n",
    "            question_dict[\"text_vector\"]\n",
    "        )\n",
    "    ]"
   ]
  },
  {
   "cell_type": "code",
   "execution_count": 25,
   "id": "beb715c8-d13d-4a03-a843-5d7aedecc032",
   "metadata": {},
   "outputs": [
    {
     "data": {
      "application/vnd.jupyter.widget-view+json": {
       "model_id": "c5ad035cef1440719b03044e4d39b9c3",
       "version_major": 2,
       "version_minor": 0
      },
      "text/plain": [
       "  0%|          | 0/495 [00:00<?, ?it/s]"
      ]
     },
     "metadata": {},
     "output_type": "display_data"
    }
   ],
   "source": [
    "hybrid_relevance = map_progress(\n",
    "    f=hybrid_retrieval,\n",
    "    seq=vectorized_questions,\n",
    "    max_workers=4,\n",
    "    verbose=False\n",
    ")"
   ]
  },
  {
   "cell_type": "code",
   "execution_count": 31,
   "id": "fd513cd8-7fc6-4425-8b8c-f45bc94b6288",
   "metadata": {
    "tags": []
   },
   "outputs": [],
   "source": [
    "performance.append(\n",
    "    {\n",
    "        \"Search\": \"elastic_search_hybrid_rrf\",\n",
    "        \"HR\": hit_rate(hybrid_relevance),\n",
    "        \"MRR\": mrr(hybrid_relevance)\n",
    "    }\n",
    ")"
   ]
  },
  {
   "cell_type": "code",
   "execution_count": 32,
   "id": "49a6893c-0076-4272-a79c-cf9a59fddf17",
   "metadata": {
    "tags": []
   },
   "outputs": [
    {
     "data": {
      "text/html": [
       "<div>\n",
       "<style scoped>\n",
       "    .dataframe tbody tr th:only-of-type {\n",
       "        vertical-align: middle;\n",
       "    }\n",
       "\n",
       "    .dataframe tbody tr th {\n",
       "        vertical-align: top;\n",
       "    }\n",
       "\n",
       "    .dataframe thead th {\n",
       "        text-align: right;\n",
       "    }\n",
       "</style>\n",
       "<table border=\"1\" class=\"dataframe\">\n",
       "  <thead>\n",
       "    <tr style=\"text-align: right;\">\n",
       "      <th></th>\n",
       "      <th>Search</th>\n",
       "      <th>HR</th>\n",
       "      <th>MRR</th>\n",
       "    </tr>\n",
       "  </thead>\n",
       "  <tbody>\n",
       "    <tr>\n",
       "      <th>0</th>\n",
       "      <td>elastic_search_text</td>\n",
       "      <td>0.721212</td>\n",
       "      <td>0.594478</td>\n",
       "    </tr>\n",
       "    <tr>\n",
       "      <th>1</th>\n",
       "      <td>elastic_search_knn</td>\n",
       "      <td>0.404040</td>\n",
       "      <td>0.299630</td>\n",
       "    </tr>\n",
       "    <tr>\n",
       "      <th>2</th>\n",
       "      <td>elastic_search_hybrid_rrf</td>\n",
       "      <td>0.713131</td>\n",
       "      <td>0.480370</td>\n",
       "    </tr>\n",
       "  </tbody>\n",
       "</table>\n",
       "</div>"
      ],
      "text/plain": [
       "                      Search        HR       MRR\n",
       "0        elastic_search_text  0.721212  0.594478\n",
       "1         elastic_search_knn  0.404040  0.299630\n",
       "2  elastic_search_hybrid_rrf  0.713131  0.480370"
      ]
     },
     "execution_count": 32,
     "metadata": {},
     "output_type": "execute_result"
    }
   ],
   "source": [
    "import pandas as pd\n",
    "\n",
    "pd.DataFrame(performance)"
   ]
  },
  {
   "cell_type": "code",
   "execution_count": null,
   "id": "2ab5b192-d70c-4a44-8ae4-41f7314419b3",
   "metadata": {},
   "outputs": [],
   "source": []
  },
  {
   "cell_type": "code",
   "execution_count": null,
   "id": "d47d792c-3f94-4b1f-b2fd-1eed19b60df9",
   "metadata": {},
   "outputs": [],
   "source": []
  },
  {
   "cell_type": "code",
   "execution_count": null,
   "id": "c7ae20bf-371d-46bf-be90-42e71fdde10e",
   "metadata": {},
   "outputs": [],
   "source": []
  },
  {
   "cell_type": "code",
   "execution_count": null,
   "id": "af594255-2768-4697-aad8-c2f389ae4c7f",
   "metadata": {},
   "outputs": [],
   "source": []
  },
  {
   "cell_type": "markdown",
   "id": "966bb6c2-a4c9-4d7a-adfa-4fa79d4ffabf",
   "metadata": {},
   "source": [
    "# DUMP"
   ]
  },
  {
   "cell_type": "markdown",
   "id": "cb7b3b62-ce6e-45c1-b058-c5f77e275a3b",
   "metadata": {},
   "source": [
    "'episode_id': 'Kedt2or9xlo',\n",
    " 'chunk_id': 4,\n",
    " 'text': 'But from your perspective, can you talk about the history of gaming over the past 20 years?'"
   ]
  },
  {
   "cell_type": "code",
   "execution_count": null,
   "id": "c16e3419-93df-4628-ad69-8a246ce9550c",
   "metadata": {},
   "outputs": [
    {
     "data": {
      "text/plain": [
       "{'id': 'Kedt2or9xlo',\n",
       " 'channel': 'Lex Fridman',\n",
       " 'channel_id': 'UCSHZKyawb77ixDdsGog4iWA',\n",
       " 'title': 'Oriol Vinyals: DeepMind AlphaStar, StarCraft, and Language | Lex Fridman Podcast #20',\n",
       " 'categories': ['Science & Technology'],\n",
       " 'tags': [],\n",
       " 'text': \"But from your perspective, can you talk about the history of gaming over the past 20 years? How transformational, how important is this line of games? Right, so I think I kind of was an active gamer whilst this was developing the internet, online gaming. So for me, the way it came was I played other games strategy related. I played a bit of Command and Conquer. And then I played Warcraft 2, which is from Blizzard. But at the time, I didn't know. I didn't understand about what Blizzard was or anything. Warcraft 2 was just a game, which was actually very similar to StarCraft in many ways. It's also a real time strategy game where there's orcs and humans. So there's only two races. But it was offline. And it was offline. So I remember a friend of mine came to school, say, oh, there's this new cool game called StarCraft. And I just said, oh, this sounds like just a copy of Warcraft 2 until I kind of installed it. And at the time, I am from Spain. So we didn't have very good internet. So there was, for us, StarCraft became first kind of an offline experience where you kind of start to play these missions. You play against some sort of scripted things to develop the story of the characters in the game. And then later on, I started playing against the built-in AI. And I thought it was impossible to defeat it. Then eventually, you defeat one. And you can actually play against seven built-in AIs at the same time, which also felt impossible. But actually, it's not that hard to beat seven built-in AIs at once. So once we achieved that, also we discovered that we could play, as I said, internet wasn't that great. But we could play with the LAN, basically against each other if we were in the same place, because you could just connect machines with cables. So we started playing in LAN mode as a group of friends. And it was really, really much more entertaining than playing against AIs.\",\n",
       " 'chunk_id': 4}"
      ]
     },
     "execution_count": 36,
     "metadata": {},
     "output_type": "execute_result"
    }
   ],
   "source": [
    "extract_item_by_keys(full_dataset, id='Kedt2or9xlo', chunk_id=4)"
   ]
  },
  {
   "cell_type": "code",
   "execution_count": null,
   "id": "65976325-cdc7-4d47-92f5-c689ff2fe6fd",
   "metadata": {},
   "outputs": [],
   "source": [
    "q='But from your perspective, can you talk about the history of gaming over the past 20 years?'"
   ]
  },
  {
   "cell_type": "code",
   "execution_count": null,
   "id": "3749356f-b90e-425c-bd44-57f4e6eeeead",
   "metadata": {},
   "outputs": [
    {
     "data": {
      "text/plain": [
       "[{'_id': 'DjzGdZEBqgppVnOxoigE',\n",
       "  '_score': 26.210127,\n",
       "  'id': 'Kedt2or9xlo',\n",
       "  'text': \"But from your perspective, can you talk about the history of gaming over the past 20 years? How transformational, how important is this line of games? Right, so I think I kind of was an active gamer whilst this was developing the internet, online gaming. So for me, the way it came was I played other games strategy related. I played a bit of Command and Conquer. And then I played Warcraft 2, which is from Blizzard. But at the time, I didn't know. I didn't understand about what Blizzard was or anything. Warcraft 2 was just a game, which was actually very similar to StarCraft in many ways. It's also a real time strategy game where there's orcs and humans. So there's only two races. But it was offline. And it was offline. So I remember a friend of mine came to school, say, oh, there's this new cool game called StarCraft. And I just said, oh, this sounds like just a copy of Warcraft 2 until I kind of installed it. And at the time, I am from Spain. So we didn't have very good internet. So there was, for us, StarCraft became first kind of an offline experience where you kind of start to play these missions. You play against some sort of scripted things to develop the story of the characters in the game. And then later on, I started playing against the built-in AI. And I thought it was impossible to defeat it. Then eventually, you defeat one. And you can actually play against seven built-in AIs at the same time, which also felt impossible. But actually, it's not that hard to beat seven built-in AIs at once. So once we achieved that, also we discovered that we could play, as I said, internet wasn't that great. But we could play with the LAN, basically against each other if we were in the same place, because you could just connect machines with cables. So we started playing in LAN mode as a group of friends. And it was really, really much more entertaining than playing against AIs.\",\n",
       "  'title': 'Oriol Vinyals: DeepMind AlphaStar, StarCraft, and Language | Lex Fridman Podcast #20',\n",
       "  'chunk_id': 3,\n",
       "  'tags': []},\n",
       " {'_id': 'ajzJdZEBqgppVnOx3WCP',\n",
       "  '_score': 18.635038,\n",
       "  'id': 'FKh8hjJNhWc',\n",
       "  'text': \"If there's in the name of love and friendship, is there something from your history over the past decade or so outside of technology and the human side of things that you draw inspiration from, you draw insight from, you're just proud that happened? I mean, it's like asking Paul McCartney about John Lennon. Tell us about John Lennon. How much do you hate Yoko? For almost eight years now, it's just been this reoccurring pattern every interview. Tell us about your time at Ethereum. Those six months you spent there that were so pleasant and enjoyable. Tell us all about it. And tell us about your relationship with Vitalik. It's like, barely talk to the guy, see him every now and then, like every two years we say, hey, he says, hey, it's like, okay, maybe 10, 20 years in the future, Walt Mossberg or RoboWalt will bring us together like he did Steve Jobs and Bill Gates. And we can kind of talk about. That was a tense conversation by the way. The 2007 interview? Yeah, the 2007. Oh, it was great though, wasn't it? Yeah, that was the body language, that was art. Yeah. That was fascinating. That was a fascinating study of human nature. Yeah, so maybe that'll be us. And then like 10 or 20 years, who the hell knows? The robot versions of all three of you. Yeah, my only point though, is that, it's a closed chapter and it's funny. I was there for six months. I've been building Cardano for years. We've done all this stuff. I've been to 52 countries. I love talking about those experiences and there's so many of them. I've met heads of state. I was Mongolia, like eagle hunting and being bucked off horses and riding the sand dunes. We've invented all this new cool technology that the space itself is using and we've had a chance to sit on government panels, passed laws, 24 laws in Wyoming. I mean, there's like all this amazing stuff that's there and it's such a fun conversation.\",\n",
       "  'title': 'Charles Hoskinson: Cardano | Lex Fridman Podcast #192',\n",
       "  'chunk_id': 113,\n",
       "  'tags': ['agi',\n",
       "   'ai',\n",
       "   'ai podcast',\n",
       "   'artificial intelligence',\n",
       "   'artificial intelligence podcast',\n",
       "   'charles hoskinson',\n",
       "   'lex ai',\n",
       "   'lex fridman',\n",
       "   'lex jre',\n",
       "   'lex mit',\n",
       "   'lex podcast',\n",
       "   'mit ai']},\n",
       " {'_id': 'pDzKdZEBqgppVnOxvmzR',\n",
       "  '_score': 18.566784,\n",
       "  'id': 'kSbMU5CbFM0',\n",
       "  'text': \"And then no one else is gonna like sell the dollars in euros, you know, oil in euros, right? I guess you could say the same thing about Gaddafi, but we as a nation have very much protected our reserve currency, let's put it that way. Yeah, actually one of the things that Bitcoin community has motivated me to do is to look back to the histories that I have studied myself from just even the two world wars, the history of the 20th century from a perspective of the monetary system of money. And it's interesting. It's interesting to look at human history in the context of money. Can't we be patriotic and be pro-America, but like not want the petrodollar? Like I should be proud of my country. Why do we need to be propping up the Saudis? Why do we need to be, you know, threatening to invade other countries if they sell their oil for a different currency? I think we can be just as powerful as we are today, if not more powerful in a Bitcoin world. If you think about the infrastructure Americans are building, all the innovations we're building, all the wealth we have, I think we'll be fine, better than fine. And we won't have these horrible negative externalities. It's really an optimistic vision for the future. I thought we learned the lesson of 9-11 and the invasion of Iraq and Afghanistan. But maybe- We're believing in, you know, Biden announced we're leaving Afghanistan this year. 20 years, for what? Taliban are gonna take over again. Well, I mean, that's like at least a good, this is the longest war, right? The forever wars. I feel like the past 20 years or whatever it is, 18 years, 19 years, we've been very skeptical about invading other countries. We've been skeptical about military intervention in other nations. Well, our leaders certainly haven't. We're at, what do we have, like seven active wars right now. And neither the Russians and the Chinese, everybody's starting to invade everybody else. I mean, so yes,\",\n",
       "  'title': 'Alex Gladstein: Bitcoin, Authoritarianism, and Human Rights | Lex Fridman Podcast #231',\n",
       "  'chunk_id': 72,\n",
       "  'tags': ['agi',\n",
       "   'ai',\n",
       "   'ai podcast',\n",
       "   'alex gladstein',\n",
       "   'artificial intelligence',\n",
       "   'artificial intelligence podcast',\n",
       "   'bitcoin',\n",
       "   'censorship',\n",
       "   'china',\n",
       "   'cryptocurrency',\n",
       "   'dogecoin',\n",
       "   'lex ai',\n",
       "   'lex fridman',\n",
       "   'lex jre',\n",
       "   'lex mit',\n",
       "   'lex podcast',\n",
       "   'mit ai',\n",
       "   'olympics',\n",
       "   'russia',\n",
       "   'social media']},\n",
       " {'_id': 'EjzGdZEBqgppVnOxoigd',\n",
       "  '_score': 17.576859,\n",
       "  'id': 'Kedt2or9xlo',\n",
       "  'text': \"Oh crap, I'm being attacked. Oh crap, I have to build up resource. Oh, I have to probably expand. And all these, the real time strategy aspect is really stressful and computation, I'm sure, difficult. We'll get into it. But for me, Battle.net, so StarCraft was released in 1998, 20 years ago, which is hard to believe. And Blizzard Battle.net with Diablo in 96 came out. And to me, it might be a narrow perspective, but it changed online gaming and perhaps society forever. But I may have made way too narrow a viewpoint. And later on, as internet was starting to develop and being a bit faster and more reliable, then it's when I started experiencing Battle.net, which is this amazing universe, not only because of the fact that you can play the game against anyone in the world, but you can also get to know more people. You just get exposed to now this vast variety of it's kind of a bit when the chats came about. There was a chat system you could play against people. But you could also chat with people not only about Stalker, but about anything. And that became a way of life for two years. And obviously, then it exploded in me in that I started to play more seriously, going to tournaments, and so on and so forth. And I, at the time, was at Google Brain, which was in California. It's still in California. We had this summit where we got together, the two groups. So Google Brain and Google DeepMind got together. And we gave a series of talks. And given that they were doing deep reinforcement learning for games, I decided to bring up part of my past, which I had developed at Berkeley, like this thing which we call Berkeley Overmind, which is really just a StarCraft 1 bot. So I talked about that. And I remember Demis just came to me and said, well, maybe not now. It's perhaps a bit too early. But you should just come to DeepMind and do this again with deep reinforcement learning. And at the time, it sounded very science fiction for several reasons.\",\n",
       "  'title': 'Oriol Vinyals: DeepMind AlphaStar, StarCraft, and Language | Lex Fridman Podcast #20',\n",
       "  'chunk_id': 7,\n",
       "  'tags': []},\n",
       " {'_id': 'TjzKdZEBqgppVnOxSWbZ',\n",
       "  '_score': 17.356241,\n",
       "  'id': '6ePR2TWYVkI',\n",
       "  'text': \"The question is, what is something you changed your opinion about in the past few years? Thank you for everything you're doing. Love from Brussels. I love Belgium. Thank you for that question and the kind words. I changed my mind on a lot of things and I changed my mind all the time. I'm in a constant flux. I'm constantly learning. I guess my mind is a quantum mechanical system. But I can mention a few things that have been stable big shifts in my thinking, at least over the past year or two, especially related to the podcast. So on the topic of psychedelics, I've always found those fascinating. What I've changed my mind over the past couple of years is a hopeful message. I think that psychedelics can actually enter the realm of science and that there's a bunch of places that are starting to conduct large-scale research studies on psychedelics. And that's really exciting to me because I have a sense that that's just another perspective into the world of neuroscience that will help us understand the way the mind works and potentially how to engineer different aspects of what makes the human mind so special in our artificial intelligence systems. On the topic of social media, I've changed my mind over the past two years. I always felt that it had a bunch of complicated bad influences on society, but they were balanced with a lot of positive effects that build community. They give people a voice, all those kinds of things. More and more, I'm starting to think that the possible set of destructive trajectories that social media can take human civilization is much wider, much more destructive than I accounted for. So it's something that I worry about. In the space of existential risk of artificial intelligence that people talk about, I think my mind more and more over the past two years has been focused on social media as the greatest threat of artificial intelligence. I also think it's the greatest set of possibilities.\",\n",
       "  'title': 'Lex Fridman: Ask Me Anything - AMA January 2021 | Lex Fridman Podcast',\n",
       "  'chunk_id': 22,\n",
       "  'tags': ['lex fridman',\n",
       "   'artificial intelligence',\n",
       "   'agi',\n",
       "   'ai',\n",
       "   'ai podcast',\n",
       "   'artificial intelligence podcast',\n",
       "   'lex podcast',\n",
       "   'lex mit',\n",
       "   'lex ai',\n",
       "   'lex jre',\n",
       "   'mit ai']}]"
      ]
     },
     "execution_count": 39,
     "metadata": {},
     "output_type": "execute_result"
    }
   ],
   "source": [
    "elastic_search_text(query=q)"
   ]
  },
  {
   "cell_type": "code",
   "execution_count": null,
   "id": "b8ac55be-9ee4-405e-a3bb-4e7f7c872d01",
   "metadata": {},
   "outputs": [
    {
     "data": {
      "text/plain": [
       "[{'_id': 'DjzGdZEBqgppVnOxoigE',\n",
       "  '_score': 0.86046624,\n",
       "  'id': 'Kedt2or9xlo',\n",
       "  'text': \"But from your perspective, can you talk about the history of gaming over the past 20 years? How transformational, how important is this line of games? Right, so I think I kind of was an active gamer whilst this was developing the internet, online gaming. So for me, the way it came was I played other games strategy related. I played a bit of Command and Conquer. And then I played Warcraft 2, which is from Blizzard. But at the time, I didn't know. I didn't understand about what Blizzard was or anything. Warcraft 2 was just a game, which was actually very similar to StarCraft in many ways. It's also a real time strategy game where there's orcs and humans. So there's only two races. But it was offline. And it was offline. So I remember a friend of mine came to school, say, oh, there's this new cool game called StarCraft. And I just said, oh, this sounds like just a copy of Warcraft 2 until I kind of installed it. And at the time, I am from Spain. So we didn't have very good internet. So there was, for us, StarCraft became first kind of an offline experience where you kind of start to play these missions. You play against some sort of scripted things to develop the story of the characters in the game. And then later on, I started playing against the built-in AI. And I thought it was impossible to defeat it. Then eventually, you defeat one. And you can actually play against seven built-in AIs at the same time, which also felt impossible. But actually, it's not that hard to beat seven built-in AIs at once. So once we achieved that, also we discovered that we could play, as I said, internet wasn't that great. But we could play with the LAN, basically against each other if we were in the same place, because you could just connect machines with cables. So we started playing in LAN mode as a group of friends. And it was really, really much more entertaining than playing against AIs.\",\n",
       "  'title': 'Oriol Vinyals: DeepMind AlphaStar, StarCraft, and Language | Lex Fridman Podcast #20',\n",
       "  'chunk_id': 3,\n",
       "  'tags': []},\n",
       " {'_id': 'mzzJdZEBqgppVnOx4WAv',\n",
       "  '_score': 0.84162396,\n",
       "  'id': 'FKh8hjJNhWc',\n",
       "  'text': \"Do you think these three games are the kinds that would still be okay to play today or are they forever lost in time because we sort of got desensitized to the richness of computer graphics and all those kinds of things in modern games? I think you can enhance these games because your storytelling medium is so much more engaging. You know, I was at the movie theater before COVID and the person to the left of me was looking at their cell phone during the movie. And the person to the right of me was looking at their cell phone. They're just not engaged anymore. Everybody is attention starved. And the video game is one of the last mediums where you have undivided attention of people. They're really into it. They're all into that thing. And so I think the fact that you have VR and AR and enhanced graphics and all these new gameplay mechanics, it's a value add instead of a value negative. Because ultimately, what are you doing? You're telling stories and you're trying to connect people to something. Maybe it's the nature of life and death or are we truly real or are we in a simulation or not or something like it'd be great to do 13th floor as a game or something like that. And the question is, well, how good of a story can you tell? Well, you're constrained by your storytelling tools and technology. The fact that games are so much more advanced now means that you now have many more dimensions of storytelling available to you. And actually with AI now coming in and really good AI coming in the next five or 10 years, your storytelling is not static anymore. The person can actually majorly participate and change the outcome of it in ways that were previously unpredictable. The other thing is they're still educational. You can teach people concepts that they never knew before. And it's like, if you wanna teach people about bizarre geometries or like Minecraft is a great example. A lot of people learned how computers worked from redstone. Think about that. It's true. Yeah.\",\n",
       "  'title': 'Charles Hoskinson: Cardano | Lex Fridman Podcast #192',\n",
       "  'chunk_id': 162,\n",
       "  'tags': ['agi',\n",
       "   'ai',\n",
       "   'ai podcast',\n",
       "   'artificial intelligence',\n",
       "   'artificial intelligence podcast',\n",
       "   'charles hoskinson',\n",
       "   'lex ai',\n",
       "   'lex fridman',\n",
       "   'lex jre',\n",
       "   'lex mit',\n",
       "   'lex podcast',\n",
       "   'mit ai']},\n",
       " {'_id': 'GDzKdZEBqgppVnOxM2Xb',\n",
       "  '_score': 0.83716774,\n",
       "  'id': 'I845O57ZSy4',\n",
       "  'text': \"It's not impossible, but my preferred bet would be you make something amazing that people love and you make it better and better. That's where I could say we could have gone back and followed a path like that in the early days. If you just take the same game, whether it's when Activision demonstrated that you could make Call of Duty every year, and not only is it not bad, people love it and it's very profitable. The idea that you could have taken something like that, take a great game, release a new version every year that lets the capabilities grow and expand to start saying it's like, okay, it's a game about running around and shooting things, but now you can have... Bring your media into it. You can add persistence of social signs of life or whatever you want to add to it. I still think that's quite a good position to take, and I think that while Meta is doing a bottoms-up capability approach with Horizon Worlds where it's a fairly general purpose, creators can build whatever they want in their sort of thing, it's hard to compare and compete with something like Fortnite, which also has enormous amounts of creativity, even though it was not designed originally as a general purpose sort of thing. So we have examples on both sides. Me personally, I would have bet on trying to do entertainment, valuable destination first and expanding from there. So can you imagine the thing that will be kind of... And the memes with the dancing baby GIF or whatever the, all your base now belong to us, whatever those early memes that led to the modern memes and the humor on the different evolution of humor on the internet that I'm sure the historians will also write books about from the different website that support that create the infrastructure for that humor, like Reddit and all that kind of stuff. So people will go back and they will name firsts and critical moments, but it's probably going to be a poor approximation of what actually happens.\",\n",
       "  'title': 'John Carmack: Doom, Quake, VR, AGI, Programming, Video Games, and Rockets | Lex Fridman Podcast #309',\n",
       "  'chunk_id': 106,\n",
       "  'tags': ['agi',\n",
       "   'ai',\n",
       "   'ai podcast',\n",
       "   'artificial intelligence',\n",
       "   'artificial intelligence podcast',\n",
       "   'doom',\n",
       "   'id software',\n",
       "   'john carmack',\n",
       "   'john romero',\n",
       "   'lex ai',\n",
       "   'lex fridman',\n",
       "   'lex jre',\n",
       "   'lex mit',\n",
       "   'lex podcast',\n",
       "   'meta',\n",
       "   'metaverse',\n",
       "   'mit ai',\n",
       "   'programming',\n",
       "   'quake',\n",
       "   'vr',\n",
       "   'wolfenstein']},\n",
       " {'_id': 'DzzGdZEBqgppVnOxoigK',\n",
       "  '_score': 0.8302766,\n",
       "  'id': 'Kedt2or9xlo',\n",
       "  'text': \"Do you have a sense on a societal sociological level what's this whole part of society that many of us are not aware of? And it's a huge part of society, which is gamers. I mean, every time I come across that in YouTube or streaming sites, I mean, this is a huge number of people play games religiously. Do you have a sense of those folks, especially now that you've returned to that realm a little bit on the AI side? Yeah, so in fact, even after StarCraft, I actually played World of Warcraft, which is maybe the main sort of online worlds and presence that you get to interact with lots of people. So I played that for a little bit. To me, it was a bit less stressful than StarCraft because winning was kind of a given. You just put in this world and you can always complete missions. But I think it was actually the social aspect of, especially StarCraft first and then games like World of Warcraft, really shaped me in very interesting ways. Because what you get to experience is just people you wouldn't usually interact with. So even nowadays, I still have many Facebook friends from the area where I played online. And their ways of thinking is even political. They just don't, we don't live in it. We don't interact in the real world, but we were connected by basically fiber. And that way, I actually get to understand a bit better that we live in a diverse world. And these were just connections that were made by, because I happened to go in a city, in a virtual city as a priest, and I met this warrior and we became friends. And then we started playing together. So I think it's transformative and more and more people are more aware of it. I mean, it's becoming quite mainstream. But back in the day, as you were saying, in 2005 even, it was still a very strange thing to do, especially in Europe. I think there were exceptions. Like Korea, for instance, it was amazing that everything happened so early in terms of cyber cafes.\",\n",
       "  'title': 'Oriol Vinyals: DeepMind AlphaStar, StarCraft, and Language | Lex Fridman Podcast #20',\n",
       "  'chunk_id': 4,\n",
       "  'tags': []},\n",
       " {'_id': 'FzzKdZEBqgppVnOxM2XH',\n",
       "  '_score': 0.8292848,\n",
       "  'id': 'I845O57ZSy4',\n",
       "  'text': \"If we look back a couple of centuries from now and you think about the experiences that marked the singularity, the transition where most of our world moved into virtual reality, what do you think those experiences will look like? So I do think it's going to be kind of like the way the web slowly took over, where you're the frog in the pot of water that's slowly heating up, where having lived through all of that. I remember when it was shocking to start seeing the first website address on a billboard, when you're like, hey, my computer world is infecting the real world. This is spreading out in some way. But there's still, when you look back and say, well, what made the web take off? And it wasn't a big bang sort of moment there. It was a bunch of little things that turned out not to even be the things that are relevant now that brought them into it. So... Well, I wonder if from, I mean, like you said, you're not a historian. So maybe there's a historian out there that could really identify that moment, data-driven way. It could be like MySpace or something like that. Maybe the first major social network that really reached into non-geek world or something like that. I think that's kind of the fallacy of historians though, looking for some of those kind of primary dominant causes where so many of these things are like, we see an exponential curve, but it's not because like one thing is going exponential. It's because we have hundreds of little sigmoid curves overlapped on top of each other. And they just happen to keep adding up so that you've got something kind of going exponential at any given point. But no single one of them was the critical thing. There were dozens and dozens of things. I mean, seeing the transitions of stuff like as obviously MySpace giving way to other things, but even like blogging giving way to social media and getting resurrected in other guises and things that happened there.\",\n",
       "  'title': 'John Carmack: Doom, Quake, VR, AGI, Programming, Video Games, and Rockets | Lex Fridman Podcast #309',\n",
       "  'chunk_id': 105,\n",
       "  'tags': ['agi',\n",
       "   'ai',\n",
       "   'ai podcast',\n",
       "   'artificial intelligence',\n",
       "   'artificial intelligence podcast',\n",
       "   'doom',\n",
       "   'id software',\n",
       "   'john carmack',\n",
       "   'john romero',\n",
       "   'lex ai',\n",
       "   'lex fridman',\n",
       "   'lex jre',\n",
       "   'lex mit',\n",
       "   'lex podcast',\n",
       "   'meta',\n",
       "   'metaverse',\n",
       "   'mit ai',\n",
       "   'programming',\n",
       "   'quake',\n",
       "   'vr',\n",
       "   'wolfenstein']}]"
      ]
     },
     "execution_count": 45,
     "metadata": {},
     "output_type": "execute_result"
    }
   ],
   "source": [
    "q_vec = embed_document(OLLAMA_CLIENT, self_sufficient_questions_filtered[0])[\"text_vector\"]\n",
    "elastic_search_knn(query_vector=q_vec)"
   ]
  },
  {
   "cell_type": "code",
   "execution_count": 47,
   "id": "88aebcca-ae6d-44b5-8efc-399c57fa454f",
   "metadata": {
    "tags": []
   },
   "outputs": [],
   "source": [
    "def retrieve_relevance(question_dict, search_func, **search_func_keys):\n",
    "    \"\"\"\n",
    "    Calculate the relevance of search results by comparing them to the ground truth.\n",
    "\n",
    "    Args:\n",
    "        question_dict (dict): A dictionary containing information about the question, \n",
    "                              including 'episode_id', 'chunk_id', and other relevant fields.\n",
    "        search_func (callable): The search function to use for retrieving documents. \n",
    "                                This function should accept keyword arguments.\n",
    "        search_func_keys (dict): Key-value pairs where:\n",
    "            - The keys represent the arguments required by the search function.\n",
    "            - The values represent the corresponding fields in `question_dict` to extract \n",
    "            and pass to `search_func`.\n",
    "\n",
    "    Returns:\n",
    "        list: A list of booleans indicating whether each document in the search results \n",
    "              matches the ground truth `(episode_id, chunk_id)`.\n",
    "\n",
    "    Example:\n",
    "        If `search_func_keys = {\"query\": \"text\"}`, the function will extract \n",
    "        `question_dict[\"text\"]` and pass it as `query=<value>` to `search_func`.\n",
    "    \"\"\"\n",
    "    \n",
    "    search_args = {\n",
    "        key: question_dict.get(val) for key, val in search_func_keys.items()\n",
    "    }\n",
    "    ground_truth = (question_dict['episode_id'], question_dict['chunk_id'])\n",
    "    print(ground_truth)\n",
    "    \n",
    "    print([(doc['id'], doc['chunk_id']) for doc in search_func(\n",
    "            **search_args\n",
    "    )])\n",
    "    \n",
    "    return [\n",
    "        (doc['id'], doc['chunk_id']) == ground_truth\\\n",
    "        for doc in search_func(\n",
    "            **search_args\n",
    "        )\n",
    "    ]"
   ]
  },
  {
   "cell_type": "code",
   "execution_count": 53,
   "id": "89f6fb3c-0e45-4460-9d9d-f6edb0c11f4c",
   "metadata": {
    "tags": []
   },
   "outputs": [
    {
     "name": "stdout",
     "output_type": "stream",
     "text": [
      "('Kedt2or9xlo', 9)\n",
      "[('Kedt2or9xlo', 6), ('oJNvxYEcVAY', 84), ('K78jqx9fx2I', 8), ('IHg6ixt3CKc', 67), ('Ktj050DxG7Q', 70)]\n"
     ]
    },
    {
     "data": {
      "text/plain": [
       "[False, False, False, False, False]"
      ]
     },
     "execution_count": 53,
     "metadata": {},
     "output_type": "execute_result"
    }
   ],
   "source": [
    "question_dict = embed_document(OLLAMA_CLIENT, self_sufficient_questions_filtered[1])\n",
    "# search_func_keys={\"query_vector\":\"text_vector\"}\n",
    "search_func_keys={\"query\":\"text\"}\n",
    "retrieve_relevance(question_dict, elastic_search_text, **search_func_keys)"
   ]
  },
  {
   "cell_type": "code",
   "execution_count": null,
   "id": "6f76a3d7-3bc4-43cb-847b-592d1145d16f",
   "metadata": {},
   "outputs": [],
   "source": []
  }
 ],
 "metadata": {
  "kernelspec": {
   "display_name": "Python 3.11.5 (dtc-llm-env)",
   "language": "python",
   "name": "dtc-llm-env"
  },
  "language_info": {
   "codemirror_mode": {
    "name": "ipython",
    "version": 3
   },
   "file_extension": ".py",
   "mimetype": "text/x-python",
   "name": "python",
   "nbconvert_exporter": "python",
   "pygments_lexer": "ipython3",
   "version": "3.11.5"
  }
 },
 "nbformat": 4,
 "nbformat_minor": 5
}
