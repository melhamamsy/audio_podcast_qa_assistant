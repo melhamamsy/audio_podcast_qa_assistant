{
 "cells": [
  {
   "cell_type": "code",
   "execution_count": 24,
   "id": "2c9cb804-21f9-47d2-829d-8ee21e2eaa6a",
   "metadata": {},
   "outputs": [
    {
     "name": "stdout",
     "output_type": "stream",
     "text": [
      "Initialized environment variables listed in: /mnt/workspace/__ing/llming/DTC/audio_podcast_qa_assistant/.env\n"
     ]
    }
   ],
   "source": [
    "import sys\n",
    "import os\n",
    "import numpy as np\n",
    "\n",
    "## replace with root project dir\n",
    "PROJECT_DIR = \"/mnt/workspace/__ing/llming/DTC/audio_podcast_qa_assistant\"\n",
    "sys.path.append(PROJECT_DIR)\n",
    "\n",
    "from utils.utils import initialize_env_variables, read_json_file,save_to_pickle, load_pickle\n",
    "\n",
    "from utils.ollama import get_embedding, embed_document\n",
    "from utils.multithread import map_progress\n",
    "\n",
    "initialize_env_variables()\n",
    "\n",
    "from utils.query import ES_CLIENT, OLLAMA_CLIENT, INDEX_NAME, elastic_search_hybrid_rrf\n",
    "from utils.huggingface import vectorize_text, vectorize_document\n",
    "\n",
    "from sentence_transformers import SentenceTransformer\n",
    "\n",
    "cache_dir = os.path.join(PROJECT_DIR, \"hf_cache\")"
   ]
  },
  {
   "cell_type": "code",
   "execution_count": 2,
   "id": "b1a6ce48-b7d5-49ee-9b23-6b2ee3df12fc",
   "metadata": {
    "tags": []
   },
   "outputs": [
    {
     "name": "stderr",
     "output_type": "stream",
     "text": [
      "<All keys matched successfully>\n"
     ]
    }
   ],
   "source": [
    "model_name = \"nomic-embed-text\"\n",
    "model = SentenceTransformer(\n",
    "    \"nomic-ai/nomic-embed-text-v1.5\",\n",
    "    trust_remote_code=True,\n",
    "    cache_folder=cache_dir\n",
    ")"
   ]
  },
  {
   "cell_type": "code",
   "execution_count": 6,
   "id": "3c161260-443d-47c0-bf78-80f434b6d598",
   "metadata": {
    "tags": []
   },
   "outputs": [],
   "source": [
    "q = \"What are some examples of visual learning applications in language or other domains?\"\n",
    "ans1 = \"So the entire ImageNet data set has about 22,000 concepts and about 14 million images. So these concepts are basically just nouns and they're annotated on images. And this entire data set was a mammoth data collection effort that actually gave rise to a lot of powerful learning algorithms is credited with like sort of the rise of deep learning as well. But this data set took about 22 human years to collect, to annotate.\"\n",
    "ans2 = \"And it's not even that many concepts, right? It's not even that many images. 14 million is nothing really. Like you have about, I think, 400 million images or so, or even more than that uploaded to most of the popular sort of social media websites today. So now supervised learning just doesn't scale. If I want to now annotate more concepts, if I want to have this various types of fine-grained concepts then it won't really scale. So now you come up to these sort of different learning paradigms, for example, semi-supervised learning, where the idea is, of course, you have this annotated corpus of supervised data and you have lots of these unlabeled images. And the idea is that the algorithm should basically try to measure some kind of consistency or really try to measure some kind of signal on this sort of unlabeled data to make itself more confident about what it's really trying to predict. So by access to this lots of unlabeled data, the idea is that the algorithm actually learns to be more confident and actually gets better at predicting these concepts. And now we come to the other extreme, which is like self-supervised learning. The idea basically is that the machine or the algorithm should really discover concepts or discover things about the world or learn representations about the world which are useful without access to explicit human supervision. So the word supervision is still in the term self-supervised. So what is the supervision signal? And maybe that perhaps is when Jan Makun and you argue that unsupervised is the incorrect in terminology here. So what is the supervision signal when the humans aren't part of the picture or not a big part of the picture? Right. So self-supervised, the reason it has the term supervising itself is because you're using the data itself as supervision. So because the data serves as its own source of supervision, it's self-supervised in that way.\"\n",
    "ans3 = \"What are the positive deviance of the statistical deviance to see what is actually possible? Then say, what are the conditioning factors and can we condition those across a few of them simultaneously? Could we build a civilization like that? That's a very interesting question. There's this kind of real politic idea that humans are violent, large groups of humans become violent, they become irrational, specifically those two things, rivalrous and violent and irrational. In order to minimize the total amount of violence and have some good decisions, they need rules somehow. Not getting that is some kind of naive utopianism that doesn't understand human nature yet. This gets back to like mimesis of desire as an inexorable thing. I think the idea of the masses is actually a kind of propaganda that is useful for the classes that control to popularize the idea that most people are too violent, lazy, undisciplined and irrational to make good choices and therefore their choices should be sublimated in some kind of way. I think that if we look back at these conditioning environments, we can say, okay, so the kids go to a really fancy school and have a good developmental environment like Exeter Academy. There's still a Gaussian distribution of how well they do on any particular metric, but on average they become senators and the worst ones become high-end lawyers or whatever. Then I look at an inner city school with a totally different set of things and I see a very, very differently displaced Gaussian distribution, but a very different set of conditioning factors. When I say the masses, well, if all those kids who were one of the parts of the masses got to go to Exeter and have that family and whatever, would they still be the masses? Could we actually condition more social virtue, more civic virtue, more orientation towards dialectical synthesis, more empathy, more rationality widely? Yes.\"\n",
    "ans4 = \"So we can say, okay, how many were there? All these orders of magnitude, 10 to the 26 meters away, there's the edge of our observable universe. If it's farther than that, light hasn't even reached us yet. If it's less than 10 to the 16 meters away, well, it's within Earth's range. It's no farther away than the sun. We can definitely rule that out. So I think about it like this. A priori, before we looked with telescopes, it could be 10 to 10 meters, 10 to 20, 10 to 30, 10 to 40, 10 to 50, 10 to blah, blah, equally likely anywhere here. And now we've ruled out this chunk. Yeah. And most of it is outside. And here is the edge of our observable universe already. So I'm certainly not saying I don't think there's any life elsewhere in space. If space is infinite, then you're basically 100% guaranteed that there is. But the probability that there is life, that the nearest neighbor happens to be in this little region between where we would have seen it already and where we will never see it, there's actually significantly less than one, I think. And I think there's a moral lesson from this, which is really important, which is to be good stewards of this planet and this shot we've had. It can be very dangerous to say, oh, it's fine if we nuke our planet or ruin the climate or mess it up with unaligned AI, because I know there is this nice Star Trek fleet out there. They're going to swoop in and take over where we failed. Just like it wasn't the big deal that the Easter Island losers wiped themselves out. That's a dangerous way of lulling yourself into false sense of security. If it's actually the case that it might be up to us and only us, the whole future of intelligent life in our observable universe, then I think it really puts a lot of responsibility on our shoulders. It's inspiring. It's a little bit terrifying, but it's also inspiring.\""
   ]
  },
  {
   "cell_type": "code",
   "execution_count": 7,
   "id": "9c64c819-f57a-4143-90f4-1bbaccf834d1",
   "metadata": {
    "tags": []
   },
   "outputs": [],
   "source": [
    "q_v = get_embedding(OLLAMA_CLIENT, q, model_name=model_name)\n",
    "ans1_v = get_embedding(OLLAMA_CLIENT, ans1, model_name=model_name)\n",
    "ans2_v = get_embedding(OLLAMA_CLIENT, ans2, model_name=model_name)\n",
    "ans3_v = get_embedding(OLLAMA_CLIENT, ans3, model_name=model_name)\n",
    "ans4_v = get_embedding(OLLAMA_CLIENT, ans4, model_name=model_name)"
   ]
  },
  {
   "cell_type": "code",
   "execution_count": 8,
   "id": "7ed7a37a-8773-4a37-ab5d-63cbde6b52a2",
   "metadata": {
    "tags": []
   },
   "outputs": [
    {
     "name": "stdout",
     "output_type": "stream",
     "text": [
      "0.5429503972417542\n",
      "0.5305589674729791\n",
      "0.39795179726303065\n",
      "0.3241485963296668\n"
     ]
    }
   ],
   "source": [
    "print(np.dot(q_v, ans1_v))\n",
    "print(np.dot(q_v, ans2_v))\n",
    "print(np.dot(q_v, ans3_v))\n",
    "print(np.dot(q_v, ans4_v))"
   ]
  },
  {
   "cell_type": "markdown",
   "id": "ec8ac530-a58a-45b0-9a61-72e1fdee3cfc",
   "metadata": {
    "tags": []
   },
   "source": [
    "# Same output as HF's peer"
   ]
  },
  {
   "cell_type": "code",
   "execution_count": 3,
   "id": "38ec8f83-2ee3-49dd-b2ec-6083106bcb5c",
   "metadata": {
    "tags": []
   },
   "outputs": [],
   "source": [
    "sentence = 'search_document: TSNE is a dimensionality reduction algorithm created by Laurens van Der Maaten'"
   ]
  },
  {
   "cell_type": "code",
   "execution_count": 9,
   "id": "0498c190-0893-480d-980a-207d7afeef42",
   "metadata": {
    "tags": []
   },
   "outputs": [],
   "source": [
    "embeddings = vectorize_text(model, sentence, precision=10)"
   ]
  },
  {
   "cell_type": "code",
   "execution_count": 11,
   "id": "356111d7-d552-461b-a575-7d12e3cc05bd",
   "metadata": {},
   "outputs": [],
   "source": [
    "model_name = \"nomic-embed-text\"\n",
    "embeddings_o = get_embedding(OLLAMA_CLIENT, sentence, model_name=model_name)"
   ]
  },
  {
   "cell_type": "code",
   "execution_count": 12,
   "id": "c896261f-58bf-4efc-869f-b504fe3264bd",
   "metadata": {
    "tags": []
   },
   "outputs": [
    {
     "data": {
      "text/plain": [
       "0.9999999176817029"
      ]
     },
     "execution_count": 12,
     "metadata": {},
     "output_type": "execute_result"
    }
   ],
   "source": [
    "np.dot(embeddings, embeddings_o)"
   ]
  },
  {
   "cell_type": "markdown",
   "id": "801a0f4a-1822-4a28-b6d7-c8b3c318844b",
   "metadata": {},
   "source": [
    "# Vectorize documents"
   ]
  },
  {
   "cell_type": "code",
   "execution_count": 14,
   "id": "205a2b7e-8234-4f42-95b6-c12e91312c0e",
   "metadata": {
    "tags": []
   },
   "outputs": [],
   "source": [
    "documents = read_json_file(\"/mnt/workspace/__ing/llming/DTC/audio_podcast_qa_assistant/data/generated_documents/documents.json\")"
   ]
  },
  {
   "cell_type": "code",
   "execution_count": 19,
   "id": "57616e79-f1fe-49cf-a12c-16752f4144bb",
   "metadata": {
    "tags": []
   },
   "outputs": [
    {
     "data": {
      "application/vnd.jupyter.widget-view+json": {
       "model_id": "8a058c49408c476dbeb2ca0ff022d519",
       "version_major": 2,
       "version_minor": 0
      },
      "text/plain": [
       "  0%|          | 0/30681 [00:00<?, ?it/s]"
      ]
     },
     "metadata": {},
     "output_type": "display_data"
    }
   ],
   "source": [
    "vectorized_documents = map_progress(\n",
    "    f=lambda document: vectorize_document(\n",
    "        model, document),\n",
    "    seq=documents,\n",
    "    max_workers=6,\n",
    "    verbose=False\n",
    ")"
   ]
  },
  {
   "cell_type": "code",
   "execution_count": 22,
   "id": "e6bab30c-4f03-406b-b188-15ec7fdc287d",
   "metadata": {
    "tags": []
   },
   "outputs": [],
   "source": [
    "save_to_pickle(vectorized_documents,\n",
    "\"/mnt/workspace/__ing/llming/DTC/audio_podcast_qa_assistant/data/generated_embeddings/HF_vectorized_documents.pkl\")"
   ]
  },
  {
   "cell_type": "code",
   "execution_count": 25,
   "id": "a85b1f6f-6bea-443b-8a63-fa202a8323a1",
   "metadata": {
    "tags": []
   },
   "outputs": [],
   "source": [
    "vectorized_documents_o = load_pickle(\"/mnt/workspace/__ing/llming/DTC/audio_podcast_qa_assistant/data/generated_embeddings/vectorized_documents.pkl\")"
   ]
  },
  {
   "cell_type": "code",
   "execution_count": 37,
   "id": "c6d9d3ab-3e11-4174-a505-9cab7505f850",
   "metadata": {
    "tags": []
   },
   "outputs": [],
   "source": [
    "# Make sure of order (might differ due to parallelism)\n",
    "for i in range(len(vectorized_documents_o)):\n",
    "    if vectorized_documents_o[i]['id'] != vectorized_documents[i]['id'] or \\\n",
    "        vectorized_documents_o[i]['chunk_id'] != vectorized_documents[i]['chunk_id']:\n",
    "            print(\"not ordered:\", i)\n",
    "            break"
   ]
  },
  {
   "cell_type": "code",
   "execution_count": 45,
   "id": "ef1103e6-efaf-4e51-850d-c1bf714efb62",
   "metadata": {
    "tags": []
   },
   "outputs": [],
   "source": [
    "def euclidean_distance(vec1, vec2):\n",
    "    \"\"\"\n",
    "    Calculate the Euclidean distance between two vectors.\n",
    "\n",
    "    Args:\n",
    "        vec1 (list or np.array): The first vector.\n",
    "        vec2 (list or np.array): The second vector.\n",
    "\n",
    "    Returns:\n",
    "        float: The Euclidean distance between the two vectors.\n",
    "    \"\"\"\n",
    "    vec1 = np.array(vec1)\n",
    "    vec2 = np.array(vec2)\n",
    "    return np.linalg.norm(vec1 - vec2)\n",
    "\n",
    "ds = []\n",
    "anomalies = []\n",
    "\n",
    "for i in range(len(vectorized_documents_o)):\n",
    "    doc1 = vectorized_documents_o[i].copy()\n",
    "    doc2 = vectorized_documents[i].copy()\n",
    "    \n",
    "    d = euclidean_distance(\n",
    "        doc1[\"text_vector\"],\n",
    "        doc2[\"text_vector\"],        \n",
    "    )\n",
    "    \n",
    "    if d > 0.2:\n",
    "        doc1.pop(\"text_vector\")\n",
    "        doc2.pop(\"text_vector\")\n",
    "        anomalies.append((doc1, doc2))\n",
    "    ds.append(d)"
   ]
  },
  {
   "cell_type": "code",
   "execution_count": 47,
   "id": "b701cf28-c4cb-4d61-a3ee-772a15af7116",
   "metadata": {
    "tags": []
   },
   "outputs": [
    {
     "data": {
      "image/png": "[encoded data removed]",
      "text/plain": [
       "<Figure size 640x480 with 1 Axes>"
      ]
     },
     "metadata": {},
     "output_type": "display_data"
    }
   ],
   "source": [
    "import matplotlib.pyplot as plt\n",
    "_ = plt.hist(ds)"
   ]
  },
  {
   "cell_type": "code",
   "execution_count": 48,
   "id": "7607c26c-1129-4e8e-9ded-0d9e6790720b",
   "metadata": {
    "tags": []
   },
   "outputs": [
    {
     "data": {
      "text/plain": [
       "array([3.61241517e-04, 4.31984498e-04, 4.48801392e-04, 4.67616813e-04,\n",
       "       4.91335271e-04, 9.30118088e-01, 1.13437293e+00, 1.45667581e+00])"
      ]
     },
     "execution_count": 48,
     "metadata": {},
     "output_type": "execute_result"
    }
   ],
   "source": [
    "np.quantile(ds, [0, 0.25, 0.5, 0.75, 0.9, 0.95, 0.99, 1])"
   ]
  },
  {
   "cell_type": "code",
   "execution_count": 52,
   "id": "98b9e17e-28bb-4dec-ac27-10746cd9d95f",
   "metadata": {
    "tags": []
   },
   "outputs": [],
   "source": [
    "x=get_embedding(OLLAMA_CLIENT, anomalies[0][0][\"title\"]+\"\\n\"+anomalies[0][0][\"text\"])\n",
    "y=vectorize_text(model, anomalies[0][0][\"title\"]+\"\\n\"+anomalies[0][0][\"text\"])"
   ]
  },
  {
   "cell_type": "code",
   "execution_count": 53,
   "id": "a866d1bf-bfe4-454f-8421-0018e4d4c9c7",
   "metadata": {
    "tags": []
   },
   "outputs": [
    {
     "data": {
      "text/plain": [
       "0.5878278307835667"
      ]
     },
     "execution_count": 53,
     "metadata": {},
     "output_type": "execute_result"
    }
   ],
   "source": [
    "np.dot(x,y)"
   ]
  }
 ],
 "metadata": {
  "kernelspec": {
   "display_name": "Python 3.11.5 (dtc-llm-env)",
   "language": "python",
   "name": "dtc-llm-env"
  },
  "language_info": {
   "codemirror_mode": {
    "name": "ipython",
    "version": 3
   },
   "file_extension": ".py",
   "mimetype": "text/x-python",
   "name": "python",
   "nbconvert_exporter": "python",
   "pygments_lexer": "ipython3",
   "version": "3.11.5"
  }
 },
 "nbformat": 4,
 "nbformat_minor": 5
}
