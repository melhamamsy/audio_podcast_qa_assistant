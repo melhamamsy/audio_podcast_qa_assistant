{
 "cells": [
  {
   "cell_type": "code",
   "execution_count": 7,
   "id": "a8e6f924-28a7-4f5c-9d43-05af7a98f537",
   "metadata": {},
   "outputs": [],
   "source": [
    "import sys\n",
    "import os\n",
    "\n",
    "## replace with root project dir\n",
    "PROJECT_DIR = \"/mnt/workspace/__ing/llming/DTC/audio_podcast_qa_assistant\"\n",
    "sys.path.append(PROJECT_DIR)\n",
    "\n",
    "from utils.ollama import (get_embedding,\n",
    "                          embed_document, create_ollama_client)\n",
    "from utils.variables import OLLAMA_CLIENT"
   ]
  },
  {
   "cell_type": "code",
   "execution_count": 14,
   "id": "426e8fd5-8ccd-4edd-91bd-b27b8613e23d",
   "metadata": {},
   "outputs": [],
   "source": [
    "# model_name=\"locusai/multi-qa-minilm-l6-cos-v1\"\n",
    "text = \"Is it possible that the yuan could also be inflated?\"\n",
    "\n",
    "# model_name = \"mxbai-embed-large\"\n",
    "model_name = \"nomic-embed-text\"\n"
   ]
  },
  {
   "cell_type": "code",
   "execution_count": 15,
   "id": "e613b2b9-83d8-4435-8e6c-c16d0449914f",
   "metadata": {},
   "outputs": [
    {
     "data": {
      "text/plain": [
       "768"
      ]
     },
     "execution_count": 15,
     "metadata": {},
     "output_type": "execute_result"
    }
   ],
   "source": [
    "OLLAMA_CLIENT.embeddings.create(input=[text], model=model_name).data[0].embedding.__len__()"
   ]
  },
  {
   "cell_type": "code",
   "execution_count": 1,
   "id": "4dd15619-12fb-4012-b3be-cd046481fccd",
   "metadata": {},
   "outputs": [],
   "source": [
    "from prefect.client import PrefectClient"
   ]
  },
  {
   "cell_type": "code",
   "execution_count": 2,
   "id": "cbcd4f00-084d-4a93-85b2-5147c8a23c8b",
   "metadata": {
    "tags": []
   },
   "outputs": [],
   "source": [
    "a = [1,2,3]"
   ]
  },
  {
   "cell_type": "code",
   "execution_count": 3,
   "id": "8bec64f9-a9ed-4253-92b4-cabff9ee449e",
   "metadata": {
    "tags": []
   },
   "outputs": [
    {
     "ename": "TypeError",
     "evalue": "'NoneType' object is not iterable",
     "output_type": "error",
     "traceback": [
      "\u001b[0;31m---------------------------------------------------------------------------\u001b[0m",
      "\u001b[0;31mTypeError\u001b[0m                                 Traceback (most recent call last)",
      "Cell \u001b[0;32mIn[3], line 1\u001b[0m\n\u001b[0;32m----> 1\u001b[0m \u001b[43ma\u001b[49m\u001b[43m \u001b[49m\u001b[38;5;241;43m+\u001b[39;49m\u001b[38;5;241;43m=\u001b[39;49m\u001b[43m \u001b[49m\u001b[38;5;28;43;01mNone\u001b[39;49;00m\n",
      "\u001b[0;31mTypeError\u001b[0m: 'NoneType' object is not iterable"
     ]
    }
   ],
   "source": [
    "a += None"
   ]
  },
  {
   "cell_type": "code",
   "execution_count": null,
   "id": "2c9cb804-21f9-47d2-829d-8ee21e2eaa6a",
   "metadata": {},
   "outputs": [],
   "source": []
  }
 ],
 "metadata": {
  "kernelspec": {
   "display_name": "Python 3.11.5 (dtc-llm-env)",
   "language": "python",
   "name": "dtc-llm-env"
  },
  "language_info": {
   "codemirror_mode": {
    "name": "ipython",
    "version": 3
   },
   "file_extension": ".py",
   "mimetype": "text/x-python",
   "name": "python",
   "nbconvert_exporter": "python",
   "pygments_lexer": "ipython3",
   "version": "3.11.5"
  }
 },
 "nbformat": 4,
 "nbformat_minor": 5
}
