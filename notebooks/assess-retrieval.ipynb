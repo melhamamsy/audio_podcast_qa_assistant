{
 "cells": [
  {
   "cell_type": "code",
   "execution_count": 1,
   "id": "1b6bc955-d919-4e70-9fd6-5e2d6dd8ac62",
   "metadata": {
    "tags": []
   },
   "outputs": [
    {
     "name": "stdout",
     "output_type": "stream",
     "text": [
      "Initialized environment variables listed in: /mnt/workspace/__ing/llming/DTC/audio_podcast_qa_assistant/.env\n",
      "Initialized environment variables listed in: /mnt/workspace/__ing/llming/DTC/audio_podcast_qa_assistant/.env\n",
      "Connected to Elasticsearch\n"
     ]
    }
   ],
   "source": [
    "import sys\n",
    "import os\n",
    "import numpy as np\n",
    "import warnings\n",
    "from tqdm.auto import tqdm\n",
    "import pickle\n",
    "import matplotlib.pyplot as plt\n",
    "import pandas as pd\n",
    "\n",
    "\n",
    "# Suppress all warnings\n",
    "warnings.filterwarnings(\"ignore\")\n",
    "\n",
    "## replace with root project dir\n",
    "PROJECT_DIR = \"/mnt/workspace/__ing/llming/DTC/audio_podcast_qa_assistant\"\n",
    "sys.path.append(PROJECT_DIR)\n",
    "\n",
    "from utils.utils import (\n",
    "    initialize_env_variables,\n",
    "    flatten_list_of_lists,\n",
    "    sample_from_list,\n",
    "    read_json_file,\n",
    "    save_json_file,\n",
    "    extract_item_by_keys,\n",
    "    save_to_pickle,\n",
    "    load_pickle,\n",
    "    get_json_files_in_dir,\n",
    "    read_json_file\n",
    ")\n",
    "\n",
    "initialize_env_variables()\n",
    "\n",
    "from utils.questions import (extract_questions,\n",
    "                             group_questions_by_episode, \n",
    "                             openai_process_questions,\n",
    "                            filter_corrupted_qs,\n",
    "                            count_question_marks)\n",
    "from utils.multithread import map_progress\n",
    "from datasets import load_dataset, Dataset\n",
    "from utils.ollama import embed_document\n",
    "from utils.variables import OLLAMA_CLIENT, INDEX_NAME, ES_CLIENT\n",
    "\n",
    "from transformers import LEDForConditionalGeneration, LEDTokenizer\n",
    "import torch\n",
    "\n",
    "from utils.query import (\n",
    "    elastic_search_text, elastic_search_knn, elastic_search_hybrid_rrf\n",
    ")\n",
    "from utils.variables import ES_CLIENT\n",
    "from utils.query import (\n",
    "    elastic_search_text, elastic_search_knn, elastic_search_hybrid_rrf\n",
    ")\n",
    "from utils.variables import ES_CLIENT\n",
    "from utils.evaluate import (hit_rate, mrr, retrieve_relevance,\n",
    "                            retrieve_adjusted_relevance, adjusted_hit_rate,\n",
    "                            adjusted_mrr)"
   ]
  },
  {
   "cell_type": "markdown",
   "id": "b870eea5-75b9-4b85-a3b3-538f901558e1",
   "metadata": {
    "tags": []
   },
   "source": [
    "# Evaluating Performance on questions"
   ]
  },
  {
   "cell_type": "code",
   "execution_count": 2,
   "id": "294ea684-5cec-4bd8-a85b-c9939202b19e",
   "metadata": {
    "tags": []
   },
   "outputs": [],
   "source": [
    "pickle_file_path = os.path.join(\n",
    "    PROJECT_DIR, \n",
    "    \"data/generated_embeddings/vectorized_questions.pkl\"\n",
    ")\n",
    "vectorized_questions = load_pickle(pickle_file_path)"
   ]
  },
  {
   "cell_type": "markdown",
   "id": "4bde0e60-4b8a-4675-aec7-4652bf38f8ca",
   "metadata": {},
   "source": [
    "## MRR & HIT_RATE"
   ]
  },
  {
   "cell_type": "code",
   "execution_count": 3,
   "id": "cee648f4-f519-47bb-afef-5b5a8a64db72",
   "metadata": {
    "tags": []
   },
   "outputs": [
    {
     "data": {
      "application/vnd.jupyter.widget-view+json": {
       "model_id": "8a2130b614ea4b98ad90c9338edabc0a",
       "version_major": 2,
       "version_minor": 0
      },
      "text/plain": [
       "  0%|          | 0/234 [00:00<?, ?it/s]"
      ]
     },
     "metadata": {},
     "output_type": "display_data"
    },
    {
     "data": {
      "application/vnd.jupyter.widget-view+json": {
       "model_id": "f28d24b874f44ad4a65e89186ee3cb33",
       "version_major": 2,
       "version_minor": 0
      },
      "text/plain": [
       "  0%|          | 0/234 [00:00<?, ?it/s]"
      ]
     },
     "metadata": {},
     "output_type": "display_data"
    },
    {
     "data": {
      "application/vnd.jupyter.widget-view+json": {
       "model_id": "bdd348b35aa9422592bb1e466e8fa9a5",
       "version_major": 2,
       "version_minor": 0
      },
      "text/plain": [
       "  0%|          | 0/234 [00:00<?, ?it/s]"
      ]
     },
     "metadata": {},
     "output_type": "display_data"
    },
    {
     "data": {
      "text/html": [
       "<div>\n",
       "<style scoped>\n",
       "    .dataframe tbody tr th:only-of-type {\n",
       "        vertical-align: middle;\n",
       "    }\n",
       "\n",
       "    .dataframe tbody tr th {\n",
       "        vertical-align: top;\n",
       "    }\n",
       "\n",
       "    .dataframe thead th {\n",
       "        text-align: right;\n",
       "    }\n",
       "</style>\n",
       "<table border=\"1\" class=\"dataframe\">\n",
       "  <thead>\n",
       "    <tr style=\"text-align: right;\">\n",
       "      <th></th>\n",
       "      <th>Search</th>\n",
       "      <th>HR</th>\n",
       "      <th>MRR</th>\n",
       "    </tr>\n",
       "  </thead>\n",
       "  <tbody>\n",
       "    <tr>\n",
       "      <th>0</th>\n",
       "      <td>elastic_search_text</td>\n",
       "      <td>0.641026</td>\n",
       "      <td>0.503775</td>\n",
       "    </tr>\n",
       "    <tr>\n",
       "      <th>1</th>\n",
       "      <td>elastic_search_knn</td>\n",
       "      <td>0.705128</td>\n",
       "      <td>0.586111</td>\n",
       "    </tr>\n",
       "    <tr>\n",
       "      <th>2</th>\n",
       "      <td>elastic_search_hybrid_rrf</td>\n",
       "      <td>0.786325</td>\n",
       "      <td>0.671795</td>\n",
       "    </tr>\n",
       "  </tbody>\n",
       "</table>\n",
       "</div>"
      ],
      "text/plain": [
       "                      Search        HR       MRR\n",
       "0        elastic_search_text  0.641026  0.503775\n",
       "1         elastic_search_knn  0.705128  0.586111\n",
       "2  elastic_search_hybrid_rrf  0.786325  0.671795"
      ]
     },
     "execution_count": 3,
     "metadata": {},
     "output_type": "execute_result"
    }
   ],
   "source": [
    "search_func_list = [\n",
    "    elastic_search_text,\n",
    "    elastic_search_knn,\n",
    "    elastic_search_hybrid_rrf\n",
    "]\n",
    "search_func_keys_list = [\n",
    "    {\"query\":\"question\"},\n",
    "    {\"query_vector\":\"question_vector\"},\n",
    "    {\"query\":\"question\", \"query_vector\":\"question_vector\"}    \n",
    "]\n",
    "performance = []\n",
    "\n",
    "for i in range(len(search_func_list)):\n",
    "    relevance = map_progress(\n",
    "        f=lambda question_dict: retrieve_relevance(\n",
    "            question_dict=question_dict,\n",
    "            search_func=search_func_list[i],\n",
    "            **search_func_keys_list[i]\n",
    "        ),\n",
    "        seq=vectorized_questions,\n",
    "        max_workers=6,\n",
    "        verbose=False\n",
    "    )\n",
    "    \n",
    "    performance.append(\n",
    "        {\n",
    "            \"Search\": search_func_list[i].__name__,\n",
    "            \"HR\": hit_rate(relevance),\n",
    "            \"MRR\": mrr(relevance)\n",
    "        }\n",
    "    )\n",
    "    \n",
    "pd.DataFrame(performance)"
   ]
  },
  {
   "cell_type": "markdown",
   "id": "8bf01973-adf7-4685-9813-c8dcf7cae5dd",
   "metadata": {},
   "source": [
    "## Adjusted MRR & HIT_RATE"
   ]
  },
  {
   "cell_type": "code",
   "execution_count": 4,
   "id": "ed5aeb82-8fea-4616-b85f-b2cf3f5eb30f",
   "metadata": {
    "tags": []
   },
   "outputs": [
    {
     "data": {
      "application/vnd.jupyter.widget-view+json": {
       "model_id": "658b578bceaa41be91a12a06bcb5b057",
       "version_major": 2,
       "version_minor": 0
      },
      "text/plain": [
       "  0%|          | 0/234 [00:00<?, ?it/s]"
      ]
     },
     "metadata": {},
     "output_type": "display_data"
    },
    {
     "data": {
      "application/vnd.jupyter.widget-view+json": {
       "model_id": "708099dd339e45f6a4a8c22a826db644",
       "version_major": 2,
       "version_minor": 0
      },
      "text/plain": [
       "  0%|          | 0/234 [00:00<?, ?it/s]"
      ]
     },
     "metadata": {},
     "output_type": "display_data"
    },
    {
     "data": {
      "application/vnd.jupyter.widget-view+json": {
       "model_id": "8a4e08d7862e4e159ed22cf402a71ca6",
       "version_major": 2,
       "version_minor": 0
      },
      "text/plain": [
       "  0%|          | 0/234 [00:00<?, ?it/s]"
      ]
     },
     "metadata": {},
     "output_type": "display_data"
    },
    {
     "data": {
      "text/html": [
       "<div>\n",
       "<style scoped>\n",
       "    .dataframe tbody tr th:only-of-type {\n",
       "        vertical-align: middle;\n",
       "    }\n",
       "\n",
       "    .dataframe tbody tr th {\n",
       "        vertical-align: top;\n",
       "    }\n",
       "\n",
       "    .dataframe thead th {\n",
       "        text-align: right;\n",
       "    }\n",
       "</style>\n",
       "<table border=\"1\" class=\"dataframe\">\n",
       "  <thead>\n",
       "    <tr style=\"text-align: right;\">\n",
       "      <th></th>\n",
       "      <th>Search</th>\n",
       "      <th>Adjusted HR</th>\n",
       "      <th>Adjusted MRR</th>\n",
       "    </tr>\n",
       "  </thead>\n",
       "  <tbody>\n",
       "    <tr>\n",
       "      <th>0</th>\n",
       "      <td>elastic_search_text</td>\n",
       "      <td>0.643162</td>\n",
       "      <td>0.505912</td>\n",
       "    </tr>\n",
       "    <tr>\n",
       "      <th>1</th>\n",
       "      <td>elastic_search_knn</td>\n",
       "      <td>0.722222</td>\n",
       "      <td>0.594017</td>\n",
       "    </tr>\n",
       "    <tr>\n",
       "      <th>2</th>\n",
       "      <td>elastic_search_hybrid_rrf</td>\n",
       "      <td>0.799145</td>\n",
       "      <td>0.680520</td>\n",
       "    </tr>\n",
       "  </tbody>\n",
       "</table>\n",
       "</div>"
      ],
      "text/plain": [
       "                      Search  Adjusted HR  Adjusted MRR\n",
       "0        elastic_search_text     0.643162      0.505912\n",
       "1         elastic_search_knn     0.722222      0.594017\n",
       "2  elastic_search_hybrid_rrf     0.799145      0.680520"
      ]
     },
     "execution_count": 4,
     "metadata": {},
     "output_type": "execute_result"
    }
   ],
   "source": [
    "search_func_list = [\n",
    "    elastic_search_text,\n",
    "    elastic_search_knn,\n",
    "    elastic_search_hybrid_rrf\n",
    "]\n",
    "search_func_keys_list = [\n",
    "    {\"query\":\"question\"},\n",
    "    {\"query_vector\":\"question_vector\"},\n",
    "    {\"query\":\"question\", \"query_vector\":\"question_vector\"}    \n",
    "]\n",
    "performance = []\n",
    "\n",
    "for i in range(len(search_func_list)):\n",
    "    relevance = map_progress(\n",
    "        f=lambda question_dict: retrieve_adjusted_relevance(\n",
    "            question_dict=question_dict,\n",
    "            search_func=search_func_list[i],\n",
    "            **search_func_keys_list[i]\n",
    "        ),\n",
    "        seq=vectorized_questions,\n",
    "        max_workers=6,\n",
    "        verbose=False\n",
    "    )\n",
    "    \n",
    "    performance.append(\n",
    "        {\n",
    "            \"Search\": search_func_list[i].__name__,\n",
    "            \"Adjusted HR\": adjusted_hit_rate(relevance),\n",
    "            \"Adjusted MRR\": adjusted_mrr(relevance)\n",
    "        }\n",
    "    )\n",
    "    \n",
    "pd.DataFrame(performance)"
   ]
  }
 ],
 "metadata": {
  "kernelspec": {
   "display_name": "Python 3.11.5 (dtc-llm-env)",
   "language": "python",
   "name": "dtc-llm-env"
  },
  "language_info": {
   "codemirror_mode": {
    "name": "ipython",
    "version": 3
   },
   "file_extension": ".py",
   "mimetype": "text/x-python",
   "name": "python",
   "nbconvert_exporter": "python",
   "pygments_lexer": "ipython3",
   "version": "3.11.5"
  }
 },
 "nbformat": 4,
 "nbformat_minor": 5
}
