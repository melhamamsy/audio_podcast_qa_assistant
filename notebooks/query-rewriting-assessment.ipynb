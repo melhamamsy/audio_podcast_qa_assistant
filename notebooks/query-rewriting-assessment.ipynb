{
 "cells": [
  {
   "cell_type": "code",
   "execution_count": 1,
   "id": "6d47176e-bbea-487d-b0ca-ec6fd43f61de",
   "metadata": {
    "tags": []
   },
   "outputs": [
    {
     "name": "stdout",
     "output_type": "stream",
     "text": [
      "Initialized environment variables listed in: /mnt/workspace/__ing/llming/DTC/audio_podcast_qa_assistant/.env\n",
      "Initialized environment variables listed in: /mnt/workspace/__ing/llming/DTC/audio_podcast_qa_assistant/.env\n",
      "Connected to Elasticsearch\n"
     ]
    }
   ],
   "source": [
    "import sys\n",
    "import os\n",
    "import numpy as np\n",
    "import warnings\n",
    "from tqdm.auto import tqdm\n",
    "import pickle\n",
    "import matplotlib.pyplot as plt\n",
    "import pandas as pd\n",
    "from collections import Counter\n",
    "from IPython.display import display\n",
    "\n",
    "\n",
    "# Suppress all warnings\n",
    "warnings.filterwarnings(\"ignore\")\n",
    "\n",
    "## replace with root project dir\n",
    "PROJECT_DIR = \"/mnt/workspace/__ing/llming/DTC/audio_podcast_qa_assistant\"\n",
    "sys.path.append(PROJECT_DIR)\n",
    "\n",
    "from utils.utils import (\n",
    "    initialize_env_variables,\n",
    "    flatten_list_of_lists,\n",
    "    sample_from_list,\n",
    "    read_json_file,\n",
    "    save_json_file,\n",
    "    extract_item_by_keys,\n",
    "    save_to_pickle,\n",
    "    load_pickle,\n",
    "    get_json_files_in_dir,\n",
    "    read_json_file,\n",
    "    parse_list_response,\n",
    "    add_key_value\n",
    ")\n",
    "\n",
    "initialize_env_variables()\n",
    "\n",
    "from utils.multithread import map_progress\n",
    "from utils.variables import INDEX_NAME, ES_CLIENT, OLLAMA_CLIENT\n",
    "from utils.ollama import get_embedding\n",
    "\n",
    "from utils.query import (\n",
    "    elastic_search_text,\n",
    "    elastic_search_knn,\n",
    "    elastic_search_hybrid_rrf,\n",
    "    elastic_search_hybrid_rrf_qr,\n",
    "    build_prompt,\n",
    "    llm\n",
    ")\n",
    "from utils.evaluate import (\n",
    "    hit_rate, mrr, retrieve_relevance,\n",
    "    retrieve_adjusted_relevance, adjusted_hit_rate,\n",
    "    adjusted_mrr\n",
    ")\n",
    "\n",
    "from utils.query_rewrting import rewrite_query"
   ]
  },
  {
   "cell_type": "code",
   "execution_count": 2,
   "id": "c9a5a492-a47b-4c5a-b0cf-dc3b0f21ec20",
   "metadata": {
    "tags": []
   },
   "outputs": [],
   "source": [
    "pickle_file_path = os.path.join(\n",
    "    PROJECT_DIR, \n",
    "    \"data/generated_embeddings/vectorized_questions.pkl\"\n",
    ")\n",
    "vectorized_questions = load_pickle(pickle_file_path)"
   ]
  },
  {
   "cell_type": "markdown",
   "id": "09b35078-d946-41c4-b5b2-f7cb74975ceb",
   "metadata": {},
   "source": [
    "**(BASELINE) elastic_search_hybrid_rrf:**\n",
    "* Adj HR: 0.799145\n",
    "* Adj MRR: 0.680520"
   ]
  },
  {
   "cell_type": "markdown",
   "id": "05415eee-0172-46f9-a1d1-a515c51ae598",
   "metadata": {
    "jp-MarkdownHeadingCollapsed": true,
    "tags": []
   },
   "source": [
    "# Rewriting"
   ]
  },
  {
   "cell_type": "markdown",
   "id": "09edd57c-5f5a-4d0b-ad4b-6bb0faeb30d1",
   "metadata": {
    "jp-MarkdownHeadingCollapsed": true,
    "tags": []
   },
   "source": [
    "## Zero-shot Query Rewriting"
   ]
  },
  {
   "cell_type": "code",
   "execution_count": 3,
   "id": "76b2ecf4-2ab7-4e76-ac9b-d2731700587a",
   "metadata": {
    "tags": []
   },
   "outputs": [],
   "source": [
    "prompt_template_path = os.path.join(\n",
    "    PROJECT_DIR,\n",
    "    \"prompts/zero_shot_query_rewriting.txt\"\n",
    ")\n",
    "model_choice=\"openai/gpt-4o-mini\"\n",
    "technique = \"zero_shot\""
   ]
  },
  {
   "cell_type": "markdown",
   "id": "783b88fa-2cf3-4f62-9962-41c597b3d7bf",
   "metadata": {
    "jp-MarkdownHeadingCollapsed": true,
    "tags": []
   },
   "source": [
    "### Example"
   ]
  },
  {
   "cell_type": "code",
   "execution_count": 4,
   "id": "b837eb38-8d46-4b91-8355-28eb0ae5e6c8",
   "metadata": {},
   "outputs": [
    {
     "data": {
      "text/plain": [
       "'What concerns does Nicole Perlroth express about the presence of Jeffrey Epstein at MIT?'"
      ]
     },
     "execution_count": 4,
     "metadata": {},
     "output_type": "execute_result"
    }
   ],
   "source": [
    "# query = vectorized_questions[0]['question']\n",
    "# query"
   ]
  },
  {
   "cell_type": "code",
   "execution_count": 6,
   "id": "1fe2bfd1-57e6-485f-9191-88b8bb1f9844",
   "metadata": {},
   "outputs": [
    {
     "data": {
      "text/plain": [
       "[\"What issues does Nicole Perlroth raise regarding Jeffrey Epstein's association with MIT?\",\n",
       " 'What worries does Nicole Perlroth mention about Jeffrey Epstein being at MIT?',\n",
       " \"What apprehensions does Nicole Perlroth have about Jeffrey Epstein's presence at MIT?\"]"
      ]
     },
     "execution_count": 6,
     "metadata": {},
     "output_type": "execute_result"
    }
   ],
   "source": [
    "# query_rewriting_results = rewrite_query(\n",
    "#     query=query,\n",
    "#     prompt_template_path=prompt_template_path,\n",
    "#     technique=technique,\n",
    "#     model_choice=model_choice\n",
    "# )\n",
    "# query_rewriting_results"
   ]
  },
  {
   "cell_type": "markdown",
   "id": "e413e083-0c67-43bb-b32b-f7a08212adc9",
   "metadata": {
    "jp-MarkdownHeadingCollapsed": true,
    "tags": []
   },
   "source": [
    "### Compute"
   ]
  },
  {
   "cell_type": "code",
   "execution_count": 9,
   "id": "0b6ebf98-d8c6-460f-b06e-a087f2dbaeaf",
   "metadata": {
    "tags": []
   },
   "outputs": [],
   "source": [
    "# vectorized_questions_qr = map_progress(\n",
    "#     f=lambda question_dict: add_key_value(\n",
    "#         question_dict,\n",
    "#         technique,\n",
    "#         rewrite_query(\n",
    "#             query=question_dict[\"question\"],\n",
    "#             prompt_template_path=prompt_template_path,\n",
    "#             technique=technique,\n",
    "#             model_choice=model_choice\n",
    "#         )\n",
    "#     ),\n",
    "#     seq=vectorized_questions,\n",
    "#     max_workers=6,\n",
    "#     verbose=False,\n",
    "# )"
   ]
  },
  {
   "cell_type": "code",
   "execution_count": null,
   "id": "41b6bba4-d249-4073-b993-834b77b1e6c3",
   "metadata": {},
   "outputs": [],
   "source": [
    "# save_to_pickle(\n",
    "#     vectorized_questions_qr,\n",
    "#     os.path.join(\n",
    "#         PROJECT_DIR,\n",
    "#         \"data/generated_rewriting/vectorized_questions_with_rewriting.pkl\"\n",
    "#     )\n",
    "# )"
   ]
  },
  {
   "cell_type": "markdown",
   "id": "ca2069f8-85c7-4e92-b485-da391e11dba5",
   "metadata": {
    "jp-MarkdownHeadingCollapsed": true,
    "tags": []
   },
   "source": [
    "## HyDE"
   ]
  },
  {
   "cell_type": "code",
   "execution_count": 16,
   "id": "166a81e0-ea67-4b43-87c3-3aee2fcf82ae",
   "metadata": {
    "tags": []
   },
   "outputs": [],
   "source": [
    "prompt_template_path = os.path.join(\n",
    "    PROJECT_DIR,\n",
    "    \"prompts/hyde_query_rewriting.txt\"\n",
    ")\n",
    "model_choice=\"openai/gpt-4o-mini\"\n",
    "technique = \"hyde\""
   ]
  },
  {
   "cell_type": "markdown",
   "id": "483d276c-d9a1-4db6-9b17-9711856b6d93",
   "metadata": {
    "jp-MarkdownHeadingCollapsed": true,
    "tags": []
   },
   "source": [
    "### Example"
   ]
  },
  {
   "cell_type": "code",
   "execution_count": 17,
   "id": "be51da0e-1740-4371-8e9e-0a3fae85475e",
   "metadata": {},
   "outputs": [
    {
     "data": {
      "text/plain": [
       "'What concerns does Nicole Perlroth express about the presence of Jeffrey Epstein at MIT?'"
      ]
     },
     "execution_count": 17,
     "metadata": {},
     "output_type": "execute_result"
    }
   ],
   "source": [
    "# query = vectorized_questions[0]['question']\n",
    "# query"
   ]
  },
  {
   "cell_type": "code",
   "execution_count": 18,
   "id": "d1f5b950-0f18-4ee5-a2fc-e336857a3b04",
   "metadata": {},
   "outputs": [
    {
     "data": {
      "text/plain": [
       "[\"Nicole Perlroth has expressed significant concerns regarding Jeffrey Epstein's presence at MIT, particularly focusing on the ethical implications and potential influences of his past actions on the institution. She highlights the troubling nature of Epstein's history as a convicted sex offender and the associated risks of normalization that his involvement could pose to the academic environment. Perlroth argues that accepting donations or fostering relationships with individuals like Epstein can undermine the integrity of research institutions, compromise their values, and propagate a culture that tolerates or overlooks serious moral failings. This concern raises broader questions about the accountability of academic institutions in their funding sources and the importance of aligning their partnerships with ethical standards, ensuring that the pursuit of knowledge does not come at the cost of ignoring past transgressions.\"]"
      ]
     },
     "execution_count": 18,
     "metadata": {},
     "output_type": "execute_result"
    }
   ],
   "source": [
    "# query_rewriting_results = rewrite_query(\n",
    "#     query=query,\n",
    "#     prompt_template_path=prompt_template_path,\n",
    "#     technique=technique,\n",
    "#     model_choice=model_choice\n",
    "# )\n",
    "# query_rewriting_results"
   ]
  },
  {
   "cell_type": "markdown",
   "id": "59597618-defb-439f-8c91-905e2e07fc9c",
   "metadata": {
    "jp-MarkdownHeadingCollapsed": true,
    "tags": []
   },
   "source": [
    "### Compute"
   ]
  },
  {
   "cell_type": "code",
   "execution_count": 20,
   "id": "345ff809-cfb8-4079-81df-a36aeae39143",
   "metadata": {
    "tags": []
   },
   "outputs": [
    {
     "data": {
      "application/vnd.jupyter.widget-view+json": {
       "model_id": "d988b31d71c445cd82babc15ed181ede",
       "version_major": 2,
       "version_minor": 0
      },
      "text/plain": [
       "  0%|          | 0/234 [00:00<?, ?it/s]"
      ]
     },
     "metadata": {},
     "output_type": "display_data"
    }
   ],
   "source": [
    "# vectorized_questions_qr = map_progress(\n",
    "#     f=lambda question_dict: add_key_value(\n",
    "#         question_dict,\n",
    "#         technique,\n",
    "#         rewrite_query(\n",
    "#             query=question_dict[\"question\"],\n",
    "#             prompt_template_path=prompt_template_path,\n",
    "#             technique=technique,\n",
    "#             model_choice=model_choice\n",
    "#         )\n",
    "#     ),\n",
    "#     seq=vectorized_questions_qr,\n",
    "#     max_workers=6,\n",
    "#     verbose=False,\n",
    "# )"
   ]
  },
  {
   "cell_type": "code",
   "execution_count": 22,
   "id": "383f4682-645c-4fa3-a18c-498da3f3416e",
   "metadata": {
    "tags": []
   },
   "outputs": [],
   "source": [
    "# save_to_pickle(\n",
    "#     vectorized_questions_qr,\n",
    "#     os.path.join(\n",
    "#         PROJECT_DIR,\n",
    "#         \"data/generated_rewriting/vectorized_questions_with_rewriting.pkl\"\n",
    "#     )\n",
    "# )"
   ]
  },
  {
   "cell_type": "markdown",
   "id": "9ccfe737-2bfd-444e-9306-a2646999159c",
   "metadata": {},
   "source": [
    "# Evaluate"
   ]
  },
  {
   "cell_type": "markdown",
   "id": "ba2133db-d4ad-4b87-a3b6-7b9f29c1c097",
   "metadata": {},
   "source": [
    "methods = [\n",
    "    \n",
    "    \"zero_shot\",\n",
    "    \"hyde\",\n",
    "    \"\",\n",
    "    \n",
    "]"
   ]
  },
  {
   "cell_type": "code",
   "execution_count": 19,
   "id": "78bb3b6d-d8bf-431f-a3b9-0507dcb5b5fa",
   "metadata": {
    "tags": []
   },
   "outputs": [],
   "source": [
    "vectorized_questions_qr = load_pickle(\n",
    "    os.path.join(\n",
    "        PROJECT_DIR,\n",
    "        \"data/generated_rewriting/vectorized_questions_with_rewriting.pkl\"\n",
    "    )\n",
    ")"
   ]
  },
  {
   "cell_type": "code",
   "execution_count": 25,
   "id": "e93d01a8-24a0-41bb-9b72-f150328e92b1",
   "metadata": {
    "tags": []
   },
   "outputs": [
    {
     "data": {
      "application/vnd.jupyter.widget-view+json": {
       "model_id": "5d87cc82fe1e4bd38cb03e935230ec74",
       "version_major": 2,
       "version_minor": 0
      },
      "text/plain": [
       "  0%|          | 0/234 [00:00<?, ?it/s]"
      ]
     },
     "metadata": {},
     "output_type": "display_data"
    },
    {
     "data": {
      "text/html": [
       "<div>\n",
       "<style scoped>\n",
       "    .dataframe tbody tr th:only-of-type {\n",
       "        vertical-align: middle;\n",
       "    }\n",
       "\n",
       "    .dataframe tbody tr th {\n",
       "        vertical-align: top;\n",
       "    }\n",
       "\n",
       "    .dataframe thead th {\n",
       "        text-align: right;\n",
       "    }\n",
       "</style>\n",
       "<table border=\"1\" class=\"dataframe\">\n",
       "  <thead>\n",
       "    <tr style=\"text-align: right;\">\n",
       "      <th></th>\n",
       "      <th>Search</th>\n",
       "      <th>Adjusted HR</th>\n",
       "      <th>Adjusted MRR</th>\n",
       "    </tr>\n",
       "  </thead>\n",
       "  <tbody>\n",
       "    <tr>\n",
       "      <th>0</th>\n",
       "      <td>zero_shot</td>\n",
       "      <td>0.777778</td>\n",
       "      <td>0.629274</td>\n",
       "    </tr>\n",
       "  </tbody>\n",
       "</table>\n",
       "</div>"
      ],
      "text/plain": [
       "      Search  Adjusted HR  Adjusted MRR\n",
       "0  zero_shot     0.777778      0.629274"
      ]
     },
     "metadata": {},
     "output_type": "display_data"
    },
    {
     "data": {
      "application/vnd.jupyter.widget-view+json": {
       "model_id": "6477bc9113024bd3ba27f1a4ab1aca49",
       "version_major": 2,
       "version_minor": 0
      },
      "text/plain": [
       "  0%|          | 0/234 [00:00<?, ?it/s]"
      ]
     },
     "metadata": {},
     "output_type": "display_data"
    },
    {
     "data": {
      "text/html": [
       "<div>\n",
       "<style scoped>\n",
       "    .dataframe tbody tr th:only-of-type {\n",
       "        vertical-align: middle;\n",
       "    }\n",
       "\n",
       "    .dataframe tbody tr th {\n",
       "        vertical-align: top;\n",
       "    }\n",
       "\n",
       "    .dataframe thead th {\n",
       "        text-align: right;\n",
       "    }\n",
       "</style>\n",
       "<table border=\"1\" class=\"dataframe\">\n",
       "  <thead>\n",
       "    <tr style=\"text-align: right;\">\n",
       "      <th></th>\n",
       "      <th>Search</th>\n",
       "      <th>Adjusted HR</th>\n",
       "      <th>Adjusted MRR</th>\n",
       "    </tr>\n",
       "  </thead>\n",
       "  <tbody>\n",
       "    <tr>\n",
       "      <th>0</th>\n",
       "      <td>zero_shot</td>\n",
       "      <td>0.777778</td>\n",
       "      <td>0.629274</td>\n",
       "    </tr>\n",
       "    <tr>\n",
       "      <th>1</th>\n",
       "      <td>hyde</td>\n",
       "      <td>0.794872</td>\n",
       "      <td>0.636930</td>\n",
       "    </tr>\n",
       "  </tbody>\n",
       "</table>\n",
       "</div>"
      ],
      "text/plain": [
       "      Search  Adjusted HR  Adjusted MRR\n",
       "0  zero_shot     0.777778      0.629274\n",
       "1       hyde     0.794872      0.636930"
      ]
     },
     "metadata": {},
     "output_type": "display_data"
    }
   ],
   "source": [
    "search_func_list = [\n",
    "    elastic_search_hybrid_rrf_qr,\n",
    "    elastic_search_hybrid_rrf_qr,\n",
    "]\n",
    "search_func_keys_list = [\n",
    "    {\"query\":\"question\", \"query_rewriting_results\":\"zero_shot\"},\n",
    "    {\"query\":\"question\", \"query_rewriting_results\":\"hyde\"}\n",
    "]\n",
    "performance = []\n",
    "\n",
    "for i in range(len(search_func_list)):   \n",
    "    relevance = map_progress(\n",
    "        f=lambda question_dict: retrieve_adjusted_relevance(\n",
    "            question_dict=question_dict,\n",
    "            search_func=search_func_list[i],\n",
    "            **search_func_keys_list[i]\n",
    "        ),\n",
    "        seq=vectorized_questions_qr,\n",
    "        max_workers=6,\n",
    "        verbose=False\n",
    "    )\n",
    "    \n",
    "    performance.append(\n",
    "        {\n",
    "            \"Search\": search_func_keys_list[i][\"query_rewriting_results\"],\n",
    "            \"Adjusted HR\": adjusted_hit_rate(relevance),\n",
    "            \"Adjusted MRR\": adjusted_mrr(relevance)\n",
    "        }\n",
    "    )\n",
    "    display(pd.DataFrame(performance))"
   ]
  }
 ],
 "metadata": {
  "kernelspec": {
   "display_name": "Python 3.11.5 (dtc-llm-env)",
   "language": "python",
   "name": "dtc-llm-env"
  },
  "language_info": {
   "codemirror_mode": {
    "name": "ipython",
    "version": 3
   },
   "file_extension": ".py",
   "mimetype": "text/x-python",
   "name": "python",
   "nbconvert_exporter": "python",
   "pygments_lexer": "ipython3",
   "version": "3.11.5"
  }
 },
 "nbformat": 4,
 "nbformat_minor": 5
}
