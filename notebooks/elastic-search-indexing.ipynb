{
 "cells": [
  {
   "cell_type": "code",
   "execution_count": 43,
   "id": "f5582083-d519-4b96-9adf-fb05ce1dd62d",
   "metadata": {
    "tags": []
   },
   "outputs": [
    {
     "name": "stdout",
     "output_type": "stream",
     "text": [
      "Initialized environment variables listed in: /mnt/workspace/__ing/llming/DTC/audio_podcast_qa_assistant/.env\n"
     ]
    }
   ],
   "source": [
    "import sys\n",
    "import os\n",
    "\n",
    "## replace with root project dir\n",
    "PROJECT_DIR = \"/mnt/workspace/__ing/llming/DTC/audio_podcast_qa_assistant\"\n",
    "sys.path.append(PROJECT_DIR)\n",
    "\n",
    "from utils.utils import (load_json_document,\n",
    "                         initialize_env_variables)\n",
    "\n",
    "from utils.elasticsearch import (\n",
    "    create_elasticsearch_client,\n",
    "    create_elasticsearch_index,\n",
    "    search_elasticsearch_indecis,\n",
    "    load_index_settings,\n",
    "    remove_elasticsearch_index,\n",
    "    index_document,\n",
    "    get_index_mapping,\n",
    "    get_indexed_documents_count,\n",
    ")\n",
    "\n",
    "from utils.ollama import (get_embedding,\n",
    "                          embed_document, create_ollama_client)\n",
    "from utils.multithread import map_progress\n",
    "\n",
    "initialize_env_variables()"
   ]
  },
  {
   "cell_type": "code",
   "execution_count": 52,
   "id": "d17aadf7-421f-4b7e-b1e9-19afc612e6ad",
   "metadata": {
    "tags": []
   },
   "outputs": [
    {
     "name": "stdout",
     "output_type": "stream",
     "text": [
      "Connected to Elasticsearch\n"
     ]
    },
    {
     "data": {
      "text/plain": [
       "[]"
      ]
     },
     "execution_count": 52,
     "metadata": {},
     "output_type": "execute_result"
    }
   ],
   "source": [
    "## Client creation\n",
    "es_host = os.getenv('ELASTIC_SETUP_HOST')\n",
    "es_port = os.getenv('ELASTIC_PORT')\n",
    "\n",
    "index_name = \"lex-fridman-podcast\"\n",
    "index_settings_path=f\"{PROJECT_DIR}/config/elasticsearch/index_settings.json\"\n",
    "index_settings = load_index_settings(index_settings_path)\n",
    "\n",
    "es_client = create_elasticsearch_client(es_host, es_port)\n",
    "search_elasticsearch_indecis(es_client)"
   ]
  },
  {
   "cell_type": "code",
   "execution_count": 58,
   "id": "9e204744-4f70-4c00-afda-6032b82befbf",
   "metadata": {
    "tags": []
   },
   "outputs": [
    {
     "name": "stdout",
     "output_type": "stream",
     "text": [
      "Successfully created index lex-fridman-podcast.\n"
     ]
    },
    {
     "data": {
      "text/plain": [
       "['lex-fridman-podcast']"
      ]
     },
     "execution_count": 58,
     "metadata": {},
     "output_type": "execute_result"
    }
   ],
   "source": [
    "create_elasticsearch_index(es_client, index_name, index_settings)\n",
    "search_elasticsearch_indecis(es_client)"
   ]
  },
  {
   "cell_type": "code",
   "execution_count": 21,
   "id": "595f3ae8-62e8-47ca-a51e-51242c7881a1",
   "metadata": {
    "tags": []
   },
   "outputs": [],
   "source": [
    "path = os.path.join(PROJECT_DIR, \"data/generated_documents/documents.json\")\n",
    "documents = load_json_document(path)"
   ]
  },
  {
   "cell_type": "code",
   "execution_count": 25,
   "id": "1df702ee-a72b-4eb9-97a5-d6c25108f6e6",
   "metadata": {
    "tags": []
   },
   "outputs": [],
   "source": [
    "ollama_host = os.getenv('OLLAMA_SETUP_HOST')\n",
    "ollama_port = os.getenv('OLLAMA_PORT')\n",
    "\n",
    "ollama_client = create_ollama_client(ollama_host, ollama_port)"
   ]
  },
  {
   "cell_type": "code",
   "execution_count": 27,
   "id": "0cd5ba5e-e536-4ef6-8cd3-0178a937cb94",
   "metadata": {
    "tags": []
   },
   "outputs": [
    {
     "data": {
      "application/vnd.jupyter.widget-view+json": {
       "model_id": "1473d5c0268b4f2a9a3413f2923aae36",
       "version_major": 2,
       "version_minor": 0
      },
      "text/plain": [
       "  0%|          | 0/22232 [00:00<?, ?it/s]"
      ]
     },
     "metadata": {},
     "output_type": "display_data"
    }
   ],
   "source": [
    "## indexing\n",
    "embed_model_name = os.getenv('EMBED_MODEL')\n",
    "\n",
    "vectorized_documents = map_progress(\n",
    "    f=lambda document: embed_document(\n",
    "        ollama_client, document, embed_model_name),\n",
    "    seq=documents,\n",
    "    max_workers=4,\n",
    ")"
   ]
  },
  {
   "cell_type": "code",
   "execution_count": 28,
   "id": "1f93985c-cc50-4eba-9637-7a18cdd18c78",
   "metadata": {
    "tags": []
   },
   "outputs": [],
   "source": [
    "import pickle\n",
    "\n",
    "def save_to_pickle(obj, pickle_file_path):\n",
    "    \"\"\"\n",
    "    Saves a Python object to a file using pickle.\n",
    "    \n",
    "    :param obj: The Python object to be pickled.\n",
    "    :param pickle_file_path: Path where the pickled object will be saved.\n",
    "    \"\"\"\n",
    "    with open(pickle_file_path, 'wb') as pickle_file:\n",
    "        pickle.dump(obj, pickle_file)\n",
    "        \n",
    "pickle_file_path = os.path.join(\n",
    "    PROJECT_DIR, \"data/generated_document_embeddings/embeddings.pkl\")\n",
    "\n",
    "\n",
    "save_to_pickle(vectorized_documents, pickle_file_path)"
   ]
  },
  {
   "cell_type": "code",
   "execution_count": 61,
   "id": "81148080-772e-4c62-a76d-6e94e3915db8",
   "metadata": {
    "tags": []
   },
   "outputs": [],
   "source": [
    "_ = map_progress(\n",
    "    f=lambda vectorized_document: index_document(\n",
    "        es_client, index_name, vectorized_document),\n",
    "    seq=vectorized_documents,\n",
    "    max_workers=4,\n",
    ")"
   ]
  },
  {
   "cell_type": "code",
   "execution_count": 65,
   "id": "fe674fe8-e11e-4eb7-9633-578356b2d9c0",
   "metadata": {
    "tags": []
   },
   "outputs": [
    {
     "data": {
      "text/plain": [
       "ObjectApiResponse({'count': 22232, '_shards': {'total': 1, 'successful': 1, 'skipped': 0, 'failed': 0}})"
      ]
     },
     "execution_count": 65,
     "metadata": {},
     "output_type": "execute_result"
    }
   ],
   "source": [
    "get_indexed_documents_count(es_client, index_name)"
   ]
  }
 ],
 "metadata": {
  "kernelspec": {
   "display_name": "Python 3.11.5 (dtc-llm-env)",
   "language": "python",
   "name": "dtc-llm-env"
  },
  "language_info": {
   "codemirror_mode": {
    "name": "ipython",
    "version": 3
   },
   "file_extension": ".py",
   "mimetype": "text/x-python",
   "name": "python",
   "nbconvert_exporter": "python",
   "pygments_lexer": "ipython3",
   "version": "3.11.5"
  }
 },
 "nbformat": 4,
 "nbformat_minor": 5
}
