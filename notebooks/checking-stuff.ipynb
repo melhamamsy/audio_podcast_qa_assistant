{
 "cells": [
  {
   "cell_type": "code",
   "execution_count": 1,
   "id": "2c9cb804-21f9-47d2-829d-8ee21e2eaa6a",
   "metadata": {},
   "outputs": [],
   "source": [
    "import sys\n",
    "import os\n",
    "import pickle\n",
    "\n",
    "## replace with root project dir\n",
    "PROJECT_DIR = \"/mnt/workspace/__ing/llming/DTC/audio_podcast_qa_assistant\"\n",
    "sys.path.append(PROJECT_DIR)"
   ]
  },
  {
   "cell_type": "code",
   "execution_count": 2,
   "id": "3728913b-fc90-4b37-8581-375f01ddc0bc",
   "metadata": {
    "tags": []
   },
   "outputs": [
    {
     "name": "stdout",
     "output_type": "stream",
     "text": [
      "22232\n"
     ]
    }
   ],
   "source": [
    "pickle_file_path = os.path.join(\n",
    "    PROJECT_DIR, \"data/generated_document_embeddings/embeddings.pkl\")\n",
    "with open(pickle_file_path, 'rb') as file:\n",
    "    vectorized_documents = pickle.load(file)\n",
    "    \n",
    "print(len(vectorized_documents))"
   ]
  },
  {
   "cell_type": "code",
   "execution_count": null,
   "id": "20fbad0a-a57c-419b-9cd2-ceffab7900cd",
   "metadata": {},
   "outputs": [],
   "source": []
  }
 ],
 "metadata": {
  "kernelspec": {
   "display_name": "Python 3.11.5 (dtc-llm-env)",
   "language": "python",
   "name": "dtc-llm-env"
  },
  "language_info": {
   "codemirror_mode": {
    "name": "ipython",
    "version": 3
   },
   "file_extension": ".py",
   "mimetype": "text/x-python",
   "name": "python",
   "nbconvert_exporter": "python",
   "pygments_lexer": "ipython3",
   "version": "3.11.5"
  }
 },
 "nbformat": 4,
 "nbformat_minor": 5
}
