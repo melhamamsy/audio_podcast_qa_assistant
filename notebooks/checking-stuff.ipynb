{
 "cells": [
  {
   "cell_type": "code",
   "execution_count": 1,
   "id": "2c9cb804-21f9-47d2-829d-8ee21e2eaa6a",
   "metadata": {},
   "outputs": [
    {
     "name": "stdout",
     "output_type": "stream",
     "text": [
      "Initialized environment variables listed in: /mnt/workspace/__ing/llming/DTC/audio_podcast_qa_assistant/.env\n",
      "Initialized environment variables listed in: /mnt/workspace/__ing/llming/DTC/audio_podcast_qa_assistant/.env\n",
      "Connected to Elasticsearch\n"
     ]
    }
   ],
   "source": [
    "import sys\n",
    "import os\n",
    "\n",
    "## replace with root project dir\n",
    "PROJECT_DIR = \"/mnt/workspace/__ing/llming/DTC/audio_podcast_qa_assistant\"\n",
    "sys.path.append(PROJECT_DIR)\n",
    "\n",
    "from utils.utils import initialize_env_variables\n",
    "\n",
    "from utils.ollama import get_embedding\n",
    "\n",
    "initialize_env_variables()\n",
    "\n",
    "from utils.query import ES_CLIENT, OLLAMA_CLIENT, INDEX_NAME, elastic_search_hybrid_rrf"
   ]
  },
  {
   "cell_type": "code",
   "execution_count": 2,
   "id": "740c1df5-b85c-449e-b541-2734cfce59ae",
   "metadata": {
    "tags": []
   },
   "outputs": [],
   "source": [
    "query = \"Does the United States need to approve for France to launch a nuclear attack?\""
   ]
  },
  {
   "cell_type": "code",
   "execution_count": 3,
   "id": "95497110-b7cd-4915-b005-8f726e1163f1",
   "metadata": {
    "tags": []
   },
   "outputs": [],
   "source": [
    "query_vector = get_embedding(\n",
    "            client=OLLAMA_CLIENT,\n",
    "            text=query,\n",
    "            model_name=os.getenv(\"EMBED_MODEL\"),\n",
    "        )"
   ]
  },
  {
   "cell_type": "code",
   "execution_count": 8,
   "id": "6a733829-ba06-42fc-87e2-036ae1519821",
   "metadata": {
    "tags": []
   },
   "outputs": [],
   "source": [
    "results = elastic_search_hybrid_rrf(query, query_vector, vector_boost=1)"
   ]
  },
  {
   "cell_type": "code",
   "execution_count": 9,
   "id": "914cadb7-7af3-44cd-8ffd-52fefe1a7ce6",
   "metadata": {
    "tags": []
   },
   "outputs": [
    {
     "data": {
      "text/plain": [
       "[0.8039955, 0.8112562, 0.8244554, 24.696878, 0.807583]"
      ]
     },
     "execution_count": 9,
     "metadata": {},
     "output_type": "execute_result"
    }
   ],
   "source": [
    "[res[\"_score\"] for res in results]"
   ]
  },
  {
   "cell_type": "code",
   "execution_count": 11,
   "id": "1e14b291-c405-4913-b0d6-10b62497046b",
   "metadata": {
    "tags": []
   },
   "outputs": [
    {
     "data": {
      "text/plain": [
       "[0.032018442622950824,\n",
       " 0.031754032258064516,\n",
       " 0.01639344262295082,\n",
       " 0.016129032258064516,\n",
       " 0.015873015873015872]"
      ]
     },
     "execution_count": 11,
     "metadata": {},
     "output_type": "execute_result"
    }
   ],
   "source": [
    "[res[\"rrf_score\"] for res in results]"
   ]
  },
  {
   "cell_type": "code",
   "execution_count": 12,
   "id": "746f4d41-1ba0-404d-aa9b-dfe1296f4c38",
   "metadata": {
    "tags": []
   },
   "outputs": [
    {
     "data": {
      "text/plain": [
       "[{'_id': 'YTzHdZEBqgppVnOx7EIv',\n",
       "  '_score': 0.8039955,\n",
       "  'id': 'dSVLjAdo8UA',\n",
       "  'text': \"What is the West going to do? Yeah. If Russia nukes Ukraine to send a message? I don't know if anyone knows the answer to that question, but it's a terrifying question. And I don't know the exact protocol that needs to be followed to launch a nuclear strike from NATO's end, because we have several countries in NATO that have nuclear weapons. So let's say for France to fire a nuke, does the United States have to agree? I don't know how that works. I don't know if anyone knows how that works. I worry, now we have different, very kind of anecdotal perspectives on these things, but the people I've interacted with in the DOD Department of Defense, in the military, there is a compartmentalization. There is a bureaucracy, and within that giant bureaucracy, there's incompetence. We'd like to think that there is really well organized, for really important things, there's going to be the best of the best in the world that's going to execute on the correct decisions, both geopolitically, militarily, all that kind of stuff. And I've seen enough to know that competence at any level of government, at any level of the military is not guaranteed. Let's go back to the law of hierarchy. The government is the biggest hierarchy there is. And so invariably, politicians find their way to the top. And once you have politics in dictating substantive decisions, they're going to be weak or wrong. I don't know how this could work any other way. Right now, we have some functional idiots in the central United States government. Well, let me, because you said that, I think elsewhere you said that Putin was not a good KGB agent. That's right. A mediocre one, but is an excellent politician. Yep. And a good organizer. He was known as a really, really good organizer. When Yeltsin hired him as prime minister, he cleaned up the mess because Yeltsin, under Yeltsin, Russia deteriorated tremendously. And it became sort of a mix of an oligarchy and a criminal enterprise and chaotic.\",\n",
       "  'title': 'Jack Barsky: KGB Spy | Lex Fridman Podcast #301',\n",
       "  'chunk_id': 54,\n",
       "  'tags': ['agent',\n",
       "   'agi',\n",
       "   'ai',\n",
       "   'ai podcast',\n",
       "   'artificial intelligence',\n",
       "   'artificial intelligence podcast',\n",
       "   'cia',\n",
       "   'cold war',\n",
       "   'communism',\n",
       "   'fsb',\n",
       "   'jack barsky',\n",
       "   'kgb',\n",
       "   'lex ai',\n",
       "   'lex fridman',\n",
       "   'lex jre',\n",
       "   'lex mit',\n",
       "   'lex podcast',\n",
       "   'mit ai',\n",
       "   'sleeper agent',\n",
       "   'soviet union',\n",
       "   'spy'],\n",
       "  'rrf_score': 0.032018442622950824},\n",
       " {'_id': 'RTzJdZEBqgppVnOxU1gz',\n",
       "  '_score': 0.8112562,\n",
       "  'id': 'ygAqYC8JOQI',\n",
       "  'text': \"It would be a very dramatic solution to sealing this war off as a major victory for the United States. That's terrifying. No, but it can happen. It can happen. A one kiloton device, low yield, it's possible. When you walk across that line, you can potentially never walk back. Well, I think the United States is calculating that it's a dangerous – yes, I agree, but I think the neoconservative arrogance is such that they really believe they can push their advantage to the max now because of all these propaganda successes up to now. The Ukrainian army could be wiped out for all we know. There's all this left is their neo-Nazi brigades, but they're being advised very well by US and they're sending the weapons in, or huge amounts of weapons. If you remember correctly, Trump was challenged that he did not attack after a chemical incident in Syria. All these newscasters in the United States, the most heaviest of them were saying, well, President Putin is – President Trump is now finally acting like a real precedent when he attacks – when he drops missiles in Syria. They actually said that. In other words, they wanted Trump to go to war on Syria, but he didn't. Chemical weapons – Chemical and nuclear. Nuclear is really terrifying. Do you think – now, combine this with the fascinating choice in your interviews with Vladimir Putin to watch Stanley Kubrick's – Dr. Strange. Dr. Strange love or how I learned to stop worrying and love the bomb. That's a very broad statement, and it allows you to do a lot, including nuclear. So you have to understand the United States is always – first of all, it breaks so many treaties. We know that from the Putin story about the anti-ballistic missile treaty in 2002 and then the INF treaty of – they broke that one. That was the intermediate missile – that was 2019. I don't know when they broke it off, but the United States has not been very faithful on its nuclear agreements.\",\n",
       "  'title': 'Oliver Stone: Vladimir Putin and War in Ukraine | Lex Fridman Podcast #286',\n",
       "  'chunk_id': 40,\n",
       "  'tags': ['agi',\n",
       "   'ai',\n",
       "   'ai podcast',\n",
       "   'artificial intelligence',\n",
       "   'artificial intelligence podcast',\n",
       "   'cold war',\n",
       "   'films',\n",
       "   'interviews',\n",
       "   'jfk',\n",
       "   'lex ai',\n",
       "   'lex fridman',\n",
       "   'lex jre',\n",
       "   'lex mit',\n",
       "   'lex podcast',\n",
       "   'mit ai',\n",
       "   'movies',\n",
       "   'nixon',\n",
       "   'oliver stone',\n",
       "   'putin',\n",
       "   'russia',\n",
       "   'ukraine',\n",
       "   'war',\n",
       "   'zelenskyy'],\n",
       "  'rrf_score': 0.031754032258064516},\n",
       " {'_id': 'cDzIdZEBqgppVnOx8FKy',\n",
       "  '_score': 0.8244554,\n",
       "  'id': 'vNhSCF9i8Qs',\n",
       "  'text': \"What about nuclear proliferation? If you're South Korea, you're Japan, you're any other country that's kind of worrying about your neighbors, and what might happen to you? Just like India and Pakistan are both like, whoa, we've got to kind of keep our strategic nuclear balance here. Everything is up for question. Saudis will want a nuclear weapon. The Turks already want one. They've talked about one for years. Why should the Iranians be the only one with an Islamic nuclear weapon? And if we know that Iran has breakout capacity now, the Saudis and all the other states that are in opposition to Iran will also want to have some nuclear capacity. And the United States before wanted to maintain everything under the nuclear umbrella. One of the reasons why Sweden and Finland are joining NATO is because of suddenly all of these nuclear threats. Sweden was actually the last country on the planet to want to have nuclear weapons. They were actually pushing for a ban on nuclear weapons in the United Nations. Now that Putin's doing the nuclear saber rattling, they're talking about joining and on the verge of joining a nuclear alliance. See what's happening here. So we have to make it more and more difficult for Putin to even contemplate that. That's why people are saying this is reckless. This is irresponsible. Putin is actually making the world less safe for himself down the line either, but he's thinking short term here. He's thinking, what can I do? What do I actually have? You can also destroy lots of infrastructure as he's doing. You can use subversion. We're worried about all of the undersea cables, all these weird things happening off Orkney or in the Mediterranean or all these other things that are happening, Nord Stream 2 pipelines, other infrastructure. There's all kinds of other things that he can do as well here. It's not just, again, this is a civilian nuclear threat of blowing up one of the reactors.\",\n",
       "  'title': 'Fiona Hill: Vladimir Putin and Donald Trump | Lex Fridman Podcast #335',\n",
       "  'chunk_id': 97,\n",
       "  'tags': ['agi',\n",
       "   'ai',\n",
       "   'ai podcast',\n",
       "   'artificial intelligence',\n",
       "   'artificial intelligence podcast',\n",
       "   'donald',\n",
       "   'donbas',\n",
       "   'fiona hill',\n",
       "   'lex ai',\n",
       "   'lex fridman',\n",
       "   'lex jre',\n",
       "   'lex mit',\n",
       "   'lex podcast',\n",
       "   'mit ai',\n",
       "   'nuclear',\n",
       "   'putin',\n",
       "   'trump',\n",
       "   'ukraine',\n",
       "   'vladimir',\n",
       "   'war',\n",
       "   'zelenskyy'],\n",
       "  'rrf_score': 0.01639344262295082},\n",
       " {'_id': 'HzzJdZEBqgppVnOxUFi9',\n",
       "  '_score': 24.696878,\n",
       "  'id': 'ygAqYC8JOQI',\n",
       "  'text': \"And is it interviews? It's interviews among others, but essentially we went to Russia, we went to France, which is the most perhaps advanced nuclear country in the world, Russia and the United States. We went to the Idaho laboratory and talked to the scientists there, as well as the Department of Energy people that are handling this. Idaho is one of the experimental labs, the United States is probably one of the most advanced, and they're doing a lot of advanced nuclear there. We also, we studied, well, Russia gave us a lot of insight. We're very cooperative because they have some of the most advanced nuclear, actually the probably most advanced nuclear reactor in the world, the Beloyarsk, the Ural Mountains. So we did an investigation there. And in France, they have some very advanced nuclear reactors in their building. Now they're building again. The Green Party came into power, just not into power, but became a factor in France, and there was a motion. When Hollande was president, they started to move away from it. Actually, they were beginning to just abandon, they let not complete their, in other words, let close down some of the nuclear reactors. There was talk of that, but thank God, France did not do that. And Macron came in and recently reversed it, and they're building as fast as they can now, especially with the Ukraine war going on. There's an awareness that Russia will not be providing, may not be providing the energy Europe needs. And then China is the other one too. That's the other factor. I'm talking about the big boys. They have doing tremendous work and fast, which is very hopeful. But of course, China is building in all directions at once. Coal continues to be huge in China and methane too. But basically, coal in India, in China, the biggest users of coal. And as you know, Germany went back to coal a few years ago. So all these factors, it's fascinating picture globally.\",\n",
       "  'title': 'Oliver Stone: Vladimir Putin and War in Ukraine | Lex Fridman Podcast #286',\n",
       "  'chunk_id': 2,\n",
       "  'tags': ['agi',\n",
       "   'ai',\n",
       "   'ai podcast',\n",
       "   'artificial intelligence',\n",
       "   'artificial intelligence podcast',\n",
       "   'cold war',\n",
       "   'films',\n",
       "   'interviews',\n",
       "   'jfk',\n",
       "   'lex ai',\n",
       "   'lex fridman',\n",
       "   'lex jre',\n",
       "   'lex mit',\n",
       "   'lex podcast',\n",
       "   'mit ai',\n",
       "   'movies',\n",
       "   'nixon',\n",
       "   'oliver stone',\n",
       "   'putin',\n",
       "   'russia',\n",
       "   'ukraine',\n",
       "   'war',\n",
       "   'zelenskyy'],\n",
       "  'rrf_score': 0.016129032258064516},\n",
       " {'_id': 'bjzIdZEBqgppVnOx8FKJ',\n",
       "  '_score': 0.807583,\n",
       "  'id': 'vNhSCF9i8Qs',\n",
       "  'text': \"It could be for you directly or more like, do you think we have a plan for this? What happens if he does drop a nuclear weapon? Do you have a sense that the United States has a good plan? I know we're talking about it. I think we probably have several plans because it depends on what, where, when, how. But don't, and also don't these things happen very quickly? Well, there's also signaling and signs of movement there. I mean, I want to be very, you know, kind of careful about this. But then the thing is, it's also very important that we do this with other nuclear powers. So the other thing that's different from how it might have been in the past, and particularly different from the Cuban missile crisis and the Euro missile crisis, we're not the only nuclear players. China has an emerging nuclear arsenal now, less on the strategic side, but building it up, but very much on the intermediate range and tactical. Kim Jong-un is firing off weapons left, right and center at the moment. In North Korea, we've got other rogue states. Putin's behaving like a rogue state, just to be very clear here. And this is what we've got with Kim Jong-un in North Korea. We've also got India and Pakistan. And we've got other states we're not supposed to talk about that we know have nuclear capacities and others that would like to have nuclear capacity. And the whole question here is about also proliferation. Getting back to that time when Ukraine had nuclear weapons, at least there on its territory, in sort of Belarus and Kazakhstan, you've got to wonder, was it wise for them to give it up? We were worried about kind of loose nukes, nuclear weapons, kind of getting out of hand proliferation at the time. We wanted fewer nuclear powers. Russia wanted that too. Now we're going to have more. We've got more. And what Putin is saying is, well, that was stupid, if Ukraine to give up the nuclear weapons.\",\n",
       "  'title': 'Fiona Hill: Vladimir Putin and Donald Trump | Lex Fridman Podcast #335',\n",
       "  'chunk_id': 95,\n",
       "  'tags': ['agi',\n",
       "   'ai',\n",
       "   'ai podcast',\n",
       "   'artificial intelligence',\n",
       "   'artificial intelligence podcast',\n",
       "   'donald',\n",
       "   'donbas',\n",
       "   'fiona hill',\n",
       "   'lex ai',\n",
       "   'lex fridman',\n",
       "   'lex jre',\n",
       "   'lex mit',\n",
       "   'lex podcast',\n",
       "   'mit ai',\n",
       "   'nuclear',\n",
       "   'putin',\n",
       "   'trump',\n",
       "   'ukraine',\n",
       "   'vladimir',\n",
       "   'war',\n",
       "   'zelenskyy'],\n",
       "  'rrf_score': 0.015873015873015872}]"
      ]
     },
     "execution_count": 12,
     "metadata": {},
     "output_type": "execute_result"
    }
   ],
   "source": [
    "results"
   ]
  }
 ],
 "metadata": {
  "kernelspec": {
   "display_name": "Python 3.11.5 (dtc-llm-env)",
   "language": "python",
   "name": "dtc-llm-env"
  },
  "language_info": {
   "codemirror_mode": {
    "name": "ipython",
    "version": 3
   },
   "file_extension": ".py",
   "mimetype": "text/x-python",
   "name": "python",
   "nbconvert_exporter": "python",
   "pygments_lexer": "ipython3",
   "version": "3.11.5"
  }
 },
 "nbformat": 4,
 "nbformat_minor": 5
}
