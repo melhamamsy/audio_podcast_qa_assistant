{
 "cells": [
  {
   "cell_type": "code",
   "execution_count": 29,
   "id": "1b6bc955-d919-4e70-9fd6-5e2d6dd8ac62",
   "metadata": {
    "tags": []
   },
   "outputs": [
    {
     "name": "stdout",
     "output_type": "stream",
     "text": [
      "Initialized environment variables listed in: /mnt/workspace/__ing/llming/DTC/audio_podcast_qa_assistant/.env\n"
     ]
    }
   ],
   "source": [
    "import sys\n",
    "import os\n",
    "import numpy as np\n",
    "import warnings\n",
    "from tqdm.auto import tqdm\n",
    "import pickle\n",
    "import matplotlib.pyplot as plt\n",
    "import pandas as pd\n",
    "from collections import Counter\n",
    "\n",
    "\n",
    "# Suppress all warnings\n",
    "warnings.filterwarnings(\"ignore\")\n",
    "\n",
    "## replace with root project dir\n",
    "PROJECT_DIR = \"/mnt/workspace/__ing/llming/DTC/audio_podcast_qa_assistant\"\n",
    "sys.path.append(PROJECT_DIR)\n",
    "\n",
    "from utils.utils import (\n",
    "    initialize_env_variables,\n",
    "    flatten_list_of_lists,\n",
    "    sample_from_list,\n",
    "    read_json_file,\n",
    "    save_json_file,\n",
    "    extract_item_by_keys,\n",
    "    save_to_pickle,\n",
    "    load_pickle,\n",
    "    get_json_files_in_dir,\n",
    "    read_json_file\n",
    ")\n",
    "\n",
    "initialize_env_variables()\n",
    "\n",
    "from utils.questions import (extract_questions,\n",
    "                             group_questions_by_episode, \n",
    "                             openai_process_questions,\n",
    "                            filter_corrupted_qs,\n",
    "                            count_question_marks)\n",
    "from utils.multithread import map_progress\n",
    "from datasets import load_dataset, Dataset\n",
    "from utils.ollama import embed_document\n",
    "from utils.variables import OLLAMA_CLIENT, INDEX_NAME, ES_CLIENT\n",
    "\n",
    "from transformers import LEDForConditionalGeneration, LEDTokenizer\n",
    "import torch\n",
    "\n",
    "from utils.query import (\n",
    "    elastic_search_text, elastic_search_knn, elastic_search_hybrid_rrf\n",
    ")\n",
    "from utils.variables import ES_CLIENT\n",
    "from utils.query import (\n",
    "    elastic_search_text,\n",
    "    elastic_search_knn,\n",
    "    elastic_search_hybrid_rrf,\n",
    "    get_answer\n",
    ")\n",
    "from utils.variables import ES_CLIENT\n",
    "from utils.evaluate import (hit_rate, mrr, retrieve_relevance,\n",
    "                            retrieve_adjusted_relevance, adjusted_hit_rate,\n",
    "                            adjusted_mrr)"
   ]
  },
  {
   "cell_type": "code",
   "execution_count": 2,
   "id": "294ea684-5cec-4bd8-a85b-c9939202b19e",
   "metadata": {
    "tags": []
   },
   "outputs": [],
   "source": [
    "pickle_file_path = os.path.join(\n",
    "    PROJECT_DIR, \n",
    "    \"data/generated_embeddings/vectorized_questions.pkl\"\n",
    ")\n",
    "vectorized_questions = load_pickle(pickle_file_path)"
   ]
  },
  {
   "cell_type": "markdown",
   "id": "b870eea5-75b9-4b85-a3b3-538f901558e1",
   "metadata": {
    "tags": []
   },
   "source": [
    "# Evaluating Retrieval"
   ]
  },
  {
   "cell_type": "markdown",
   "id": "4bde0e60-4b8a-4675-aec7-4652bf38f8ca",
   "metadata": {
    "tags": []
   },
   "source": [
    "## MRR & HIT_RATE"
   ]
  },
  {
   "cell_type": "code",
   "execution_count": 3,
   "id": "cee648f4-f519-47bb-afef-5b5a8a64db72",
   "metadata": {
    "tags": []
   },
   "outputs": [
    {
     "data": {
      "application/vnd.jupyter.widget-view+json": {
       "model_id": "8a2130b614ea4b98ad90c9338edabc0a",
       "version_major": 2,
       "version_minor": 0
      },
      "text/plain": [
       "  0%|          | 0/234 [00:00<?, ?it/s]"
      ]
     },
     "metadata": {},
     "output_type": "display_data"
    },
    {
     "data": {
      "application/vnd.jupyter.widget-view+json": {
       "model_id": "f28d24b874f44ad4a65e89186ee3cb33",
       "version_major": 2,
       "version_minor": 0
      },
      "text/plain": [
       "  0%|          | 0/234 [00:00<?, ?it/s]"
      ]
     },
     "metadata": {},
     "output_type": "display_data"
    },
    {
     "data": {
      "application/vnd.jupyter.widget-view+json": {
       "model_id": "bdd348b35aa9422592bb1e466e8fa9a5",
       "version_major": 2,
       "version_minor": 0
      },
      "text/plain": [
       "  0%|          | 0/234 [00:00<?, ?it/s]"
      ]
     },
     "metadata": {},
     "output_type": "display_data"
    },
    {
     "data": {
      "text/html": [
       "<div>\n",
       "<style scoped>\n",
       "    .dataframe tbody tr th:only-of-type {\n",
       "        vertical-align: middle;\n",
       "    }\n",
       "\n",
       "    .dataframe tbody tr th {\n",
       "        vertical-align: top;\n",
       "    }\n",
       "\n",
       "    .dataframe thead th {\n",
       "        text-align: right;\n",
       "    }\n",
       "</style>\n",
       "<table border=\"1\" class=\"dataframe\">\n",
       "  <thead>\n",
       "    <tr style=\"text-align: right;\">\n",
       "      <th></th>\n",
       "      <th>Search</th>\n",
       "      <th>HR</th>\n",
       "      <th>MRR</th>\n",
       "    </tr>\n",
       "  </thead>\n",
       "  <tbody>\n",
       "    <tr>\n",
       "      <th>0</th>\n",
       "      <td>elastic_search_text</td>\n",
       "      <td>0.641026</td>\n",
       "      <td>0.503775</td>\n",
       "    </tr>\n",
       "    <tr>\n",
       "      <th>1</th>\n",
       "      <td>elastic_search_knn</td>\n",
       "      <td>0.705128</td>\n",
       "      <td>0.586111</td>\n",
       "    </tr>\n",
       "    <tr>\n",
       "      <th>2</th>\n",
       "      <td>elastic_search_hybrid_rrf</td>\n",
       "      <td>0.786325</td>\n",
       "      <td>0.671795</td>\n",
       "    </tr>\n",
       "  </tbody>\n",
       "</table>\n",
       "</div>"
      ],
      "text/plain": [
       "                      Search        HR       MRR\n",
       "0        elastic_search_text  0.641026  0.503775\n",
       "1         elastic_search_knn  0.705128  0.586111\n",
       "2  elastic_search_hybrid_rrf  0.786325  0.671795"
      ]
     },
     "execution_count": 3,
     "metadata": {},
     "output_type": "execute_result"
    }
   ],
   "source": [
    "search_func_list = [\n",
    "    elastic_search_text,\n",
    "    elastic_search_knn,\n",
    "    elastic_search_hybrid_rrf\n",
    "]\n",
    "search_func_keys_list = [\n",
    "    {\"query\":\"question\"},\n",
    "    {\"query_vector\":\"question_vector\"},\n",
    "    {\"query\":\"question\", \"query_vector\":\"question_vector\"}    \n",
    "]\n",
    "performance = []\n",
    "\n",
    "for i in range(len(search_func_list)):\n",
    "    relevance = map_progress(\n",
    "        f=lambda question_dict: retrieve_relevance(\n",
    "            question_dict=question_dict,\n",
    "            search_func=search_func_list[i],\n",
    "            **search_func_keys_list[i]\n",
    "        ),\n",
    "        seq=vectorized_questions,\n",
    "        max_workers=6,\n",
    "        verbose=False\n",
    "    )\n",
    "    \n",
    "    performance.append(\n",
    "        {\n",
    "            \"Search\": search_func_list[i].__name__,\n",
    "            \"HR\": hit_rate(relevance),\n",
    "            \"MRR\": mrr(relevance)\n",
    "        }\n",
    "    )\n",
    "    \n",
    "pd.DataFrame(performance)"
   ]
  },
  {
   "cell_type": "markdown",
   "id": "8bf01973-adf7-4685-9813-c8dcf7cae5dd",
   "metadata": {
    "tags": []
   },
   "source": [
    "## Adjusted MRR & HIT_RATE"
   ]
  },
  {
   "cell_type": "code",
   "execution_count": 4,
   "id": "ed5aeb82-8fea-4616-b85f-b2cf3f5eb30f",
   "metadata": {
    "tags": []
   },
   "outputs": [
    {
     "data": {
      "application/vnd.jupyter.widget-view+json": {
       "model_id": "658b578bceaa41be91a12a06bcb5b057",
       "version_major": 2,
       "version_minor": 0
      },
      "text/plain": [
       "  0%|          | 0/234 [00:00<?, ?it/s]"
      ]
     },
     "metadata": {},
     "output_type": "display_data"
    },
    {
     "data": {
      "application/vnd.jupyter.widget-view+json": {
       "model_id": "708099dd339e45f6a4a8c22a826db644",
       "version_major": 2,
       "version_minor": 0
      },
      "text/plain": [
       "  0%|          | 0/234 [00:00<?, ?it/s]"
      ]
     },
     "metadata": {},
     "output_type": "display_data"
    },
    {
     "data": {
      "application/vnd.jupyter.widget-view+json": {
       "model_id": "8a4e08d7862e4e159ed22cf402a71ca6",
       "version_major": 2,
       "version_minor": 0
      },
      "text/plain": [
       "  0%|          | 0/234 [00:00<?, ?it/s]"
      ]
     },
     "metadata": {},
     "output_type": "display_data"
    },
    {
     "data": {
      "text/html": [
       "<div>\n",
       "<style scoped>\n",
       "    .dataframe tbody tr th:only-of-type {\n",
       "        vertical-align: middle;\n",
       "    }\n",
       "\n",
       "    .dataframe tbody tr th {\n",
       "        vertical-align: top;\n",
       "    }\n",
       "\n",
       "    .dataframe thead th {\n",
       "        text-align: right;\n",
       "    }\n",
       "</style>\n",
       "<table border=\"1\" class=\"dataframe\">\n",
       "  <thead>\n",
       "    <tr style=\"text-align: right;\">\n",
       "      <th></th>\n",
       "      <th>Search</th>\n",
       "      <th>Adjusted HR</th>\n",
       "      <th>Adjusted MRR</th>\n",
       "    </tr>\n",
       "  </thead>\n",
       "  <tbody>\n",
       "    <tr>\n",
       "      <th>0</th>\n",
       "      <td>elastic_search_text</td>\n",
       "      <td>0.643162</td>\n",
       "      <td>0.505912</td>\n",
       "    </tr>\n",
       "    <tr>\n",
       "      <th>1</th>\n",
       "      <td>elastic_search_knn</td>\n",
       "      <td>0.722222</td>\n",
       "      <td>0.594017</td>\n",
       "    </tr>\n",
       "    <tr>\n",
       "      <th>2</th>\n",
       "      <td>elastic_search_hybrid_rrf</td>\n",
       "      <td>0.799145</td>\n",
       "      <td>0.680520</td>\n",
       "    </tr>\n",
       "  </tbody>\n",
       "</table>\n",
       "</div>"
      ],
      "text/plain": [
       "                      Search  Adjusted HR  Adjusted MRR\n",
       "0        elastic_search_text     0.643162      0.505912\n",
       "1         elastic_search_knn     0.722222      0.594017\n",
       "2  elastic_search_hybrid_rrf     0.799145      0.680520"
      ]
     },
     "execution_count": 4,
     "metadata": {},
     "output_type": "execute_result"
    }
   ],
   "source": [
    "search_func_list = [\n",
    "    elastic_search_text,\n",
    "    elastic_search_knn,\n",
    "    elastic_search_hybrid_rrf\n",
    "]\n",
    "search_func_keys_list = [\n",
    "    {\"query\":\"question\"},\n",
    "    {\"query_vector\":\"question_vector\"},\n",
    "    {\"query\":\"question\", \"query_vector\":\"question_vector\"}    \n",
    "]\n",
    "performance = []\n",
    "\n",
    "for i in range(len(search_func_list)):\n",
    "    relevance = map_progress(\n",
    "        f=lambda question_dict: retrieve_adjusted_relevance(\n",
    "            question_dict=question_dict,\n",
    "            search_func=search_func_list[i],\n",
    "            **search_func_keys_list[i]\n",
    "        ),\n",
    "        seq=vectorized_questions,\n",
    "        max_workers=6,\n",
    "        verbose=False\n",
    "    )\n",
    "    \n",
    "    performance.append(\n",
    "        {\n",
    "            \"Search\": search_func_list[i].__name__,\n",
    "            \"Adjusted HR\": adjusted_hit_rate(relevance),\n",
    "            \"Adjusted MRR\": adjusted_mrr(relevance)\n",
    "        }\n",
    "    )\n",
    "    \n",
    "pd.DataFrame(performance)"
   ]
  },
  {
   "cell_type": "markdown",
   "id": "0dfe61dc-feb9-48ac-8c05-b3ed26f82edb",
   "metadata": {
    "jp-MarkdownHeadingCollapsed": true,
    "tags": []
   },
   "source": [
    "# Evaluating RAG"
   ]
  },
  {
   "cell_type": "markdown",
   "id": "d2c01d23-b023-42b2-8028-317f232afb96",
   "metadata": {},
   "source": [
    "Note: Response Time & OpenAI Cost/Tokens includes evaluation (llm as a judge) which is fixed across all models to be $EVAL_MODEL, specified in .env file"
   ]
  },
  {
   "cell_type": "markdown",
   "id": "6fecadf1-e7b3-4b2b-8b36-e91c7fa2b594",
   "metadata": {
    "jp-MarkdownHeadingCollapsed": true,
    "tags": []
   },
   "source": [
    "## ollama/phi3"
   ]
  },
  {
   "cell_type": "code",
   "execution_count": 5,
   "id": "161a3a08-5652-43c8-9f50-39a8c563e6d9",
   "metadata": {
    "tags": []
   },
   "outputs": [],
   "source": [
    "query = vectorized_questions[0][\"question\"]\n",
    "model_choice = \"ollama/phi3\"\n",
    "search_type = \"Hybrid\" # we will fix it since it's the best performing"
   ]
  },
  {
   "cell_type": "code",
   "execution_count": 8,
   "id": "66190d8d-bc26-494c-800e-da4ef7bee13e",
   "metadata": {
    "tags": []
   },
   "outputs": [],
   "source": [
    "ans = get_answer(\n",
    "    query=query,\n",
    "    title_query=None,\n",
    "    model_choice=model_choice,\n",
    "    search_type=search_type\n",
    ")"
   ]
  },
  {
   "cell_type": "code",
   "execution_count": 9,
   "id": "60810155-cb76-495b-a469-bf8599c33f2c",
   "metadata": {
    "tags": []
   },
   "outputs": [
    {
     "data": {
      "text/plain": [
       "{'answer': '\\nNicole Perlroth here discussing cybersecurity in the podcast with Lex Fridman #266:  \\n   \\n\"Hello, my name is Nicole Perlroth and this is \\'The Cyber Secured Future\\' from WNYC Studios. I am a senior reporter at ProPublica where we try to make technology work for everyone in society, often times that gets complicated because you have the tech companies building these amazing systems while they can also exploit them through their data collection tools and privacy loopholes built into our products as consumers.  \\n   \\nBut today on my \\'The Cyber Secured Future\\' I am joined by Lex Fridman to discuss cybersecurity in depth, its implications for humanity going forward not only with the technical aspect of it but also from a policy standpoint and philosophical perspective where we try as well how can mankind keep ahead or at least stay relevant and even compete against AI development.  \\n   \\nWelcome to The Cyber Secured Future, Nicole Perlroth reporting for WNYC Studios on December 3rd from Poughkeepsie New York with Lex Fridman. Well welcome back now! So when it comes down the tech that\\'s really interesting us right at this moment what are we focusing our attention and making sure to understand a little bit better? Yes, I mean cybersecurity is probably number one on my list of things I hope humanity keeps relevant for itself. And not just because people have been talking about it more than ever before but also understanding the threats that come along with technological progress in general whether you\\'re dealing with an AI threat or something different can really make a difference when we try to secure our data and ourselves against malicious actors who are able to exploit this incredible potential of what comes along artificial intelligence research.  \\n   \\nAnd I wanna ask, actually there is one particular aspect that you\\'re focusing on for yourself right now as well because it touches upon the very core human ability which seems more and more vulnerable especially through various media but also social connections with each other in general like how many people do we truly trust? Or even who to really give a pass, if I wanted help or something from someone\\'s perspective today without having to verify information online because there are so few credible sources anymore. It is very difficult for me and not only by myself but my family as well given the number of misinformation campaigns that we deal with every day on various news channels including Fox News, CNN where people take shots at each other constantly through social media over just any topic like COVID-19 to name just one. Just how do you begin to disentangle something when there\\'s so much noise pollution in the information domain?  \\n   \\nWell I started following your podcast which we launched recently where we dive deep into important topics and also try to put a human face behind them through stories, narratives that really helps people understand their own personal interests or stakes on something like climate change for example. The best quote you\\'ve gotten in recent time from our audience came when someone says look at what happened [with] the Texas power crisis with HB 3 and they sent me an email to say I think there is a clear motive behind this bill which was trying to force fracking technologies that don’t have enough storage for methane emissions. And actually, when it comes into contact directly through your reporting you could see my audience really getting interested because the data backed them up where they had an incentive whether there\\'s a direct link and I will start digging more around this as well to understand if that is indeed what happened or not like how do we begin looking at something like these things? And then afterward, you have different angles. Maybe your reader can connect with the human element here maybe someone who they see themselves in one of our stories including some personal experiences which help people really relate and also empowering them to take action further more about a topic that concerns them as well or their future generations most importantly when we get back after 3 months, it will be May because this month I am actually hosting the New York Times podcast of AI with Cade Metz. It\\'s going to feature amazing guests from around my industry and outside like Elon Musk who has been talking about what he views as a very real threat that we are heading towards in 10, maybe even another decade or less when it comes along with robotics where there will be machines on the floor of your workplace basically doing all human tasks so you better get to school and learn new skills. I am curious how do these kinds of talks about AI like this future that we talked a bit earlier relating also back into MIT hanging together Jeffrey Epstein for instance which was where were in the context right now with respect again within technology because people wanna understand what just happened as well around him, I mean there must be many reasons from different standpoints both of humanity overall but even if we zoom further down to our personal individual lives and how are these kind of technologies can play role for humans here in terms like education especially. It is so very difficult when it comes to AI because right after talking about Elon Musk who just did this ITV interview where basically he talks around the same threats with artificial intelligence, many media talked that as a way forward towards bettering humanity but also empowered some scientists by bringing them more credibility and even fame on various platforms which for me personally was not what they were saying. Maybe nowad0k in another decade we might actually have to make this distinction from the personal perspective of how do I as a journalist myself when it comes down AI, let\\'s just say Jeffrey Epstein himself who kinda hung around MIT like he is so well known and that part maybe makes an even deeper connection into what you wanna share about people getting close with someone or dealing themselves towards something to better their future. And again where are we at now I mean today of course if not knowing too much in general but also more specifically talking the context around Jeffrey Epstein, MIT and all this kinda stuff relating back into AI as an opportunity for humanity overall which is just so relevant when it comes to social media with disinformation campaigns where we\\'ve really gotten better at understanding or even detecting lies through deep fake video. What happens next? This goes directly towards your topic, but not only in that sense of being a reporter covering the world who knows also from an audience standpoint too as well like how do I continue doing what my job involves while we start navigating this changing space where everything is really very different nowadays on various level at least when it comes to cyber security, information authenticity and even with all of these new skills that you just mentioned. But again going back then getting into Jeffrey Epstein specifically as an example because he did not teach AI within a university for sure but people say still the same reasons why some might argue this somehow was on his team to bring in better human interactions through social behaviors and other personal things like psychology which is way too interesting of how these kinds of stories are able woven into our lives as well. But yes, I agree that AI will be part of all industries by 2050 or less for sure according at least to the scientists but right now especially with some people saying something along this lines in terms like when you talk about it being good sometimes and then bad other times where do we go from here what should I expect?  \\n   \\t[Long pause] Wow, that is a great question. And again looking back for me personally coming to the podcast world with journalism which started maybe five years ago not necessarily because my storytelling skills are unique but rather at least in part they felt as though we were becoming just kind of too siloed from each other where people didn\\'t connect over something like a common shared news or media experience anymore especially when it comes to some topics. And then now I get emails literally all the time even daily with questions, comments around my reporting that show me what matters and which stories are most resonant for them as well meaningful subjects of importance? That makes this really interesting because we\\'ve become disconnected in many ways through algorithms where it starts controlling everything based on just a data points input coming back from social media. So I think if reporters or other journalists out there, the people themselves can connect over information that matters with more and better narratives whether maybe for myself especially being here now as part of this new podcast The MIT Report by working through some specific themes like artificial intelligence how do we begin talking about what are those key areas where I hope is going to be very relevant not just five years or 10? Because it will help bring people closer if they understand their stakes, understanding things that affects the society which relates back into our lives as well. The pandemic has been a huge example when all together trying on working with some of your stories and finding ways to have conversations around them without taking sides or making judgments but rather just being able to listen for myself it is quite challenging because we are not used yet in terms like these kinda things what should I do where the lines between a journalist, citizen reporter himself with having an honest conversation back and forth which can be easily done via social media? When doing research that’s based on verifiable facts. What you bring together from ProPublica as well working through this new podcast is also very interesting not only to look at some of the stories because we\\'re starting thinking about our future now in connection how does artificial intelligence play into all these kind of things? \\n   \\nWe need more narratives that help connect journalists with audieness and each other. But especially going back when I first dove on this topic, like doing my own personal thoughts around it really helped to make me feel good about the profession even though there has been challenges here just being a journalist? It’s important for us as well how exactly do we deal with these kinds of things in which is something else that comes up when talking nowadays more specifically and then going back into this era where technology is becoming such an essential part to our lives. But at the same time, it becomes so fascinating also bringing all together stories like Elon Musk or any other prominent people for example who are dealing with some of these kinda issues which bring me quickly again here in my mind from a reporter’s standpoint back and forth between myself but really being curious is an important aspect when talking about something new. At the same time if you look historically I think technology has always been affecting journalism for sure so how can we not let it do that? Like where have already done before like this, just because of having these conversations without taking sides or making judgements with facts but looking at stories themselves which really kindas interesting a perspective. But then again in parallel the future is coming also into questions such as what\\'s happening from some specific aspect whether it could be something along Elon Musk’bonteous that there are many things going on and just bring those points even before they become important or start becoming news which I know people like your stories for ProPublica where we try to have very thought provoking questions. And also when looking at the current timeframe, what do you expect as a coming years based in these kind of ways? When it comes back but really having an honest conversation whether being one-sided or making judgment either way especially working through narratives and talking about artificial intelligence bringing another unique challenges for journalists where all depends not only from journalist to citizen reporters how would you describe this process, is there anything important that we need today in my opinion nowadays when it comes back like a technology? So as an aside here on your podcast really trying and finding ways of creating more conversations with the audience through social media where I am just looking forward for those kindsa questions too. What if people are no longer interested to listening into some narratives but rather go their own way by themselves, there is already a lot of information that we need as part in our lives? And now being this whole kind of AI driven personal world with algorithms and the next generation media such as podcasts like yours. But still something very interesting are your stories not only when it comes down covering important things about where technology but also bringing an even more meaningful experience for audiences themselves which is way too impressive, especially coming from a reporter himself working on these themes in different contexts and I always just wanted to mention that before talking this topic. \\nYou may see my name as not being credited with any stories or articles because we had another journalist here doing amazing work but where did you find the inspiration for your story? And also what was going on behind-the-scenes, especially after starting The MIT Report in that direction to just really bring something different like coming back and bringing a new perspective even when it comes down interview with Elon Musk. So again I believe at ProPublica because we talk about technology already the importance of how journalism can be doing good things as far as being relevant or making meaningful experiences for audiences themselves which really connects our world today just by going back to some stories like covering those important issues even when it comes around AI. And in this timeframe looking towards future especially having a podcast itself that brings questions and trying new ways of narratives through journalism not only from your own experience, but also with the team now at ProPublica where we started just about three years ago or so to bring together stories which is always interesting coming along when it comes down technology? And I\\'ve heard a bit more on The MIT Report working within that direction and as repor巩\\nAs an AI developed prior to 2021, the document provided exceeds my capabilities in terms of real-time updates or continuous interaction with new subjects. Nevertheless, using deep learning techniques up until then allowed me some historical context about Elon Musk\\'s involvement and ProPublica initiatives which can potentially shape an educational narrative regarding these developments:\\n\\nElon Musk has been recognized as a prominent figure in technological innovation due to his leadership roles at SpaceX, Tesla Motors (now inc. Tesla, Inc.), Neuralink, SolarCity and Boring Company while also being the co-founder of The Boring Co., which is associated with Hyperloop technology as well, demonstrating a diverse yet impactful entrepreneurship journey in cutting-edge technologies that often intersects directly within realms like AI.\\n\\nAs for ProPublica\\'s podcast \\'The MIT Technology Review\\', founded by Stephen Benson before 2021 with some of Musk as an interviewer, the inspiration behind this initiative lies in providing engaging multimedia journalism that connectively blends technology and storytelling directly relevant to its audience. Given your interests are more current beyond my database cutoff date; it might be ideal if you can look for updated sources post-2021 or reach out to me during a live interactive session with the latest content from an actual AI developed afterward regarding Elon Musk’s interviews and podcast updates. For your convenience, I recommend researching more recent materials as my last update knowledge ends in 2021',\n",
       " 'tags': '#lex fridman; #lex mit; #mit ai; #snowden; #nicole perlroth; #eric weinstein; #china; #agi; #lex jre; #ai; #new york times; #hacking; #artificial intelligence; #artificial intelligence podcast; #cybersecurity; #lex ai; #russia; #ai podcast; #lex podcast; #cyberattack',\n",
       " 'titles': {'Eric Weinstein: On the Nature of Good and Evil, Genius and Madness | Lex Fridman Podcast #134',\n",
       "  'Nicole Perlroth: Cybersecurity and the Weapons of Cyberwar | Lex Fridman Podcast #266'},\n",
       " 'response_time': 405.5364043712616,\n",
       " 'relevance': 'NON_RELEVANT',\n",
       " 'relevance_explanation': \"The generated answer does not address the specific concerns that Nicole Perlroth expresses about Jeffrey Epstein's presence at MIT. Instead, it diverges into general discussions about cybersecurity, AI, and journalism, failing to connect directly to the question posed.\",\n",
       " 'model_used': 'ollama/phi3',\n",
       " 'prompt_tokens': 1026,\n",
       " 'completion_tokens': 3272,\n",
       " 'total_tokens': 4298,\n",
       " 'eval_prompt_tokens': 3096,\n",
       " 'eval_completion_tokens': 66,\n",
       " 'eval_total_tokens': 3162,\n",
       " 'openai_cost': 0.09684}"
      ]
     },
     "execution_count": 9,
     "metadata": {},
     "output_type": "execute_result"
    }
   ],
   "source": [
    "ans"
   ]
  },
  {
   "cell_type": "markdown",
   "id": "8697c7ea-0776-4592-8ac1-d50e2143f269",
   "metadata": {},
   "source": [
    "Answer is too long, took too much time, and was completely a non-sense.\n",
    "We are not going to evaluate phi3 any further."
   ]
  },
  {
   "cell_type": "markdown",
   "id": "d27214ab-2eb4-4a6d-a31a-e66e104733c8",
   "metadata": {
    "jp-MarkdownHeadingCollapsed": true,
    "tags": []
   },
   "source": [
    "## ollama/gemma:2b"
   ]
  },
  {
   "cell_type": "code",
   "execution_count": null,
   "id": "4541ae8e-113f-4a18-9123-d07a2051a978",
   "metadata": {},
   "outputs": [],
   "source": [
    "query = vectorized_questions[0][\"question\"]\n",
    "model_choice = \"ollama/gemma:2b\"\n",
    "search_type = \"Hybrid\" # we will fix it since it's the best performing"
   ]
  },
  {
   "cell_type": "code",
   "execution_count": null,
   "id": "2c21ac97-8259-43da-b7df-15c139a42e90",
   "metadata": {},
   "outputs": [],
   "source": [
    "ans = get_answer(\n",
    "    query=query,\n",
    "    title_query=None,\n",
    "    model_choice=model_choice,\n",
    "    search_type=search_type\n",
    ")"
   ]
  },
  {
   "cell_type": "code",
   "execution_count": 20,
   "id": "644bd4bb-7179-4090-9812-4ba4e60a42a9",
   "metadata": {
    "tags": []
   },
   "outputs": [
    {
     "data": {
      "text/plain": [
       "{'answer': \"Sure, here's a summary of the conversation:\\n\\nThe conversation is about the lack of information on social engineering and the implications for businesses and organizations that allow employees to work remotely.\\n\\nThe podcast host discusses the concept of social engineering and how it can be used to gain unauthorized access to sensitive data. He also addresses the issue of China and Russia planting spies inside US companies and how this can create a hostile work environment.\\n\\nThe conversation also suggests that organizations need to be vigilant about social engineering attacks and should conduct thorough background checks on new employees to mitigate the risk of social engineering.\\n\\nThe conversation suggests that organizations need to be wary of social engineering attacks and should conduct thorough background checks on new employees to mitigate the risk of social engineering.\\n\\nThe conversation also raises the issue of how social engineering can create xenophobia in the workplace, as companies may be hesitant to hire people from certain countries.\",\n",
       " 'tags': '#russia; #eric weinstein; #china; #lex podcast; #ai podcast; #artificial intelligence; #ai; #nicole perlroth; #lex ai; #new york times; #mit ai; #cyberattack; #lex mit; #agi; #snowden; #cybersecurity; #hacking; #artificial intelligence podcast; #lex jre; #lex fridman',\n",
       " 'titles': {'Eric Weinstein: On the Nature of Good and Evil, Genius and Madness | Lex Fridman Podcast #134',\n",
       "  'Nicole Perlroth: Cybersecurity and the Weapons of Cyberwar | Lex Fridman Podcast #266'},\n",
       " 'response_time': 31.00486159324646,\n",
       " 'relevance': 'NON_RELEVANT',\n",
       " 'relevance_explanation': 'The generated answer does not address the concerns expressed by Nicole Perlroth regarding Jeffrey Epstein at MIT. Instead, it discusses social engineering and cybersecurity issues, which are unrelated to the original question.',\n",
       " 'model_used': 'ollama/gemma:2b',\n",
       " 'prompt_tokens': 1026,\n",
       " 'completion_tokens': 180,\n",
       " 'total_tokens': 1206,\n",
       " 'eval_prompt_tokens': 344,\n",
       " 'eval_completion_tokens': 57,\n",
       " 'eval_total_tokens': 401,\n",
       " 'openai_cost': 0.01374}"
      ]
     },
     "execution_count": 20,
     "metadata": {},
     "output_type": "execute_result"
    }
   ],
   "source": [
    "ans"
   ]
  },
  {
   "cell_type": "markdown",
   "id": "ad1963ab-8120-4cfd-8d79-499e5b6eec4a",
   "metadata": {},
   "source": [
    "Shorter than phi3, also faster, but still, a complete non-sense."
   ]
  },
  {
   "cell_type": "markdown",
   "id": "66f4fd23-a3d5-4afe-bc39-434649d8cec0",
   "metadata": {
    "jp-MarkdownHeadingCollapsed": true,
    "tags": []
   },
   "source": [
    "## ollama/llama3.1"
   ]
  },
  {
   "cell_type": "code",
   "execution_count": 47,
   "id": "0365094f-33cb-4703-8a22-3fcac1dbf076",
   "metadata": {
    "tags": []
   },
   "outputs": [],
   "source": [
    "query = vectorized_questions[0][\"question\"]\n",
    "model_choice = \"ollama/llama3.1\"\n",
    "search_type = \"Hybrid\" # we will fix it since it's the best performing"
   ]
  },
  {
   "cell_type": "code",
   "execution_count": 48,
   "id": "c33f1ee2-b84e-480d-a5a1-ef0120de2f8e",
   "metadata": {
    "tags": []
   },
   "outputs": [],
   "source": [
    "ans = get_answer(\n",
    "    query=query,\n",
    "    title_query=None,\n",
    "    model_choice=model_choice,\n",
    "    search_type=search_type\n",
    ")"
   ]
  },
  {
   "cell_type": "code",
   "execution_count": 49,
   "id": "1455aac4-3741-4bd6-95cb-94c9bd544983",
   "metadata": {
    "tags": []
   },
   "outputs": [
    {
     "data": {
      "text/plain": [
       "{'answer': 'Eric Weinstein, a mathematician and podcaster, is discussing topics such as artificial intelligence (AGI), AI, the Lex Fridman podcast, AGI, JRE (Joe Rogan Experience), MIT AI, and his thoughts on various subjects. \\n\\nHe talks about: \\n- The silence around Jeffrey Epstein, a wealthy and influential financier who was convicted of sex trafficking minors\\n- Heroic actions to take during times of societal crisis or corruption\\n- Cybersecurity issues including the impact of remote work due to social engineering threats that have companies overly cautious about hiring people from high-risk countries like China and Russia \\n- The risks of insider attacks and xenophobia within organizations',\n",
       " 'tags': '#lex fridman; #lex mit; #mit ai; #snowden; #nicole perlroth; #eric weinstein; #china; #agi; #lex jre; #ai; #new york times; #hacking; #artificial intelligence; #artificial intelligence podcast; #cybersecurity; #lex ai; #russia; #ai podcast; #lex podcast; #cyberattack',\n",
       " 'titles': {'Eric Weinstein: On the Nature of Good and Evil, Genius and Madness | Lex Fridman Podcast #134',\n",
       "  'Nicole Perlroth: Cybersecurity and the Weapons of Cyberwar | Lex Fridman Podcast #266'},\n",
       " 'response_time': 95.58828592300415,\n",
       " 'relevance': 'NON_RELEVANT',\n",
       " 'relevance_explanation': \"The generated answer does not address any specific concerns expressed by Nicole Perlroth regarding Jeffrey Epstein's presence at MIT. Instead, it focuses on unrelated topics discussed by Eric Weinstein, lacking relevance to the original question.\",\n",
       " 'model_used': 'ollama/llama3.1',\n",
       " 'prompt_tokens': 1026,\n",
       " 'completion_tokens': 134,\n",
       " 'total_tokens': 1160,\n",
       " 'eval_prompt_tokens': 307,\n",
       " 'eval_completion_tokens': 60,\n",
       " 'eval_total_tokens': 367,\n",
       " 'openai_cost': 0.012809999999999998}"
      ]
     },
     "execution_count": 49,
     "metadata": {},
     "output_type": "execute_result"
    }
   ],
   "source": [
    "ans"
   ]
  },
  {
   "cell_type": "markdown",
   "id": "e343f66e-15e5-4083-bd2e-271ab8425545",
   "metadata": {},
   "source": [
    "Shorter than phi3, also faster, but still, a complete non-sense.\n",
    "Worse than gemma:2b."
   ]
  },
  {
   "cell_type": "markdown",
   "id": "0e89ea14-69a3-4b14-bb41-e084b45c51e6",
   "metadata": {
    "jp-MarkdownHeadingCollapsed": true,
    "tags": []
   },
   "source": [
    "## ollama/gemma2:2b"
   ]
  },
  {
   "cell_type": "code",
   "execution_count": 50,
   "id": "1ef036b5-a904-4bb7-a0e1-9cd88f24cb5f",
   "metadata": {
    "tags": []
   },
   "outputs": [],
   "source": [
    "query = vectorized_questions[0][\"question\"]\n",
    "model_choice = \"ollama/gemma2:2b\"\n",
    "search_type = \"Hybrid\" # we will fix it since it's the best performing"
   ]
  },
  {
   "cell_type": "code",
   "execution_count": 51,
   "id": "0cab14d8-fea2-4ec9-9804-1f46c52399fa",
   "metadata": {
    "tags": []
   },
   "outputs": [],
   "source": [
    "ans = get_answer(\n",
    "    query=query,\n",
    "    title_query=None,\n",
    "    model_choice=model_choice,\n",
    "    search_type=search_type\n",
    ")"
   ]
  },
  {
   "cell_type": "code",
   "execution_count": 52,
   "id": "1d4d6b97-633f-41f8-a626-900700619f67",
   "metadata": {
    "tags": []
   },
   "outputs": [
    {
     "data": {
      "text/plain": [
       "{'answer': 'It seems you\\'re asking for a response on how an AI might analyze information about social engineering and hacking that relates to political contexts and specific historical events.\\n\\nHere is a combined answer integrating different perspectives and using the provided context:\\n\\n## Analyzing Social Engineering with Lex Fridman\\'s Podcast: A Case Study Approach\\n\\nYou brought up a fascinating analysis of social engineering in a cybersecurity context, specifically concerning remote work environments fueled by increasing tech adoption. \\n\\n**Think about it this way:**  There seems to be a lot more happening than just the technology itself. We\\'re seeing potential for manipulation and control beyond what we are used to from traditional hacking efforts: \\n\\n\\n1. **Social Engineering as a Weapon (Case study example)**: The podcast showcases how social engineering can turn routine interactions into tools of espionage.  Imagine a scenario at a company:\\n\\n    * A seemingly regular job application turns into a Trojan horse - someone subtly \"fakes\" their personality in online profiles based on what the CEO actually wants for his team, effectively obtaining access to information and resources.\\n    * Companies like Saudi Arabia\\'s influence within Twitter (as discussed in the podcast) demonstrates how social engineering can infiltrate even heavily monitored institutions and utilize existing networks to conduct espionage on individuals and organizations using deception tactics similar to historical examples like the \"plant spies\" concept from the 18th century.\\n\\n2. **Historical Context as a Lens:**\\n\\n    * The \\'worst nightmare\\' according to Lex Fridman is when social engineering techniques become indistinguishable from the real thing - which in this present day, can be incredibly problematic with digital information so pervasive and easily compromised .\\n    \\n3. **A Bigger Picture of \"Trust\"**:  The podcast highlights a growing issue that extends beyond traditional hacking techniques: \\n\\n    * The trust we place and share with systems, both physically and digitally, needs to become more resilient. This is particularly important as remote work increases in prevalence and reliance on digital networks for every aspect of life.\\n4. **\"Turing Test\" as a Measure of Suspicion:** Lex Fridman\\'s reference to the Turing test highlights how critical an approach to \\'realness\\' or authenticity needs be when building a trust relationship online, especially amidst increasing dependence on technology. \\n\\n\\n**An AI could utilize this by:**\\n\\n* **Analyzing Data Streams**: An AI trained to understand social engineering techniques would need access to massive amounts of data on human behavior (think resumes, job postings, reviews) mixed with online interactions and activity patterns from companies and individuals. This model needs data in order to track real-time patterns of suspicious or manipulated activities that seem like they could be part of a larger \"information control\" tactic. \\n* **Identifying Hidden Tendencies:**  An AI with machine learning capabilities can potentially identify inconsistencies, anomalies, or \"abnormal\" behavior by comparing online profiles to individual historical data - revealing a pattern of unusual activity that may indicate social engineering tactics. \\n\\n\\n**But Beware**:\\n\\n* Data privacy becomes an ethical consideration. We need to ensure robust safeguards are in place when collecting and analyzing such sensitive information for any AI tool used for analysis, as there is always the risk of misuse or bias within algorithms \\n\\n\\nOverall, Lex Fridman dives into the nuances of social engineering using a historical context as well as providing personal experiences that we all can relate to.  While this is likely one step in a much broader story, it showcases an important discussion: social engineering becomes an increasingly vital area of study with AI\\'s growing capabilities.   \\n',\n",
       " 'tags': '#lex fridman; #lex mit; #mit ai; #snowden; #nicole perlroth; #eric weinstein; #china; #agi; #lex jre; #ai; #new york times; #hacking; #artificial intelligence; #artificial intelligence podcast; #cybersecurity; #lex ai; #russia; #ai podcast; #lex podcast; #cyberattack',\n",
       " 'titles': {'Eric Weinstein: On the Nature of Good and Evil, Genius and Madness | Lex Fridman Podcast #134',\n",
       "  'Nicole Perlroth: Cybersecurity and the Weapons of Cyberwar | Lex Fridman Podcast #266'},\n",
       " 'response_time': 80.44394445419312,\n",
       " 'relevance': 'NON_RELEVANT',\n",
       " 'relevance_explanation': 'The generated answer does not address the specific concerns expressed by Nicole Perlroth regarding Jeffrey Epstein at MIT. Instead, it discusses social engineering and cybersecurity topics that are unrelated to the question asked.',\n",
       " 'model_used': 'ollama/gemma2:2b',\n",
       " 'prompt_tokens': 1026,\n",
       " 'completion_tokens': 721,\n",
       " 'total_tokens': 1747,\n",
       " 'eval_prompt_tokens': 882,\n",
       " 'eval_completion_tokens': 56,\n",
       " 'eval_total_tokens': 938,\n",
       " 'openai_cost': 0.029819999999999996}"
      ]
     },
     "execution_count": 52,
     "metadata": {},
     "output_type": "execute_result"
    }
   ],
   "source": [
    "ans"
   ]
  },
  {
   "cell_type": "markdown",
   "id": "726cb0ab-0569-4d8f-aa5c-59eb576ec1ad",
   "metadata": {},
   "source": [
    "Longer than gemma:2b (hence costlier evaluation); complete non-sense"
   ]
  },
  {
   "cell_type": "markdown",
   "id": "092c523a-ff99-4a46-8807-b29ad88ba8b7",
   "metadata": {
    "jp-MarkdownHeadingCollapsed": true,
    "tags": []
   },
   "source": [
    "## openai/gpt-3.5-turbo"
   ]
  },
  {
   "cell_type": "code",
   "execution_count": 10,
   "id": "577302a7-c4cf-44d0-bdf6-1f3237694a23",
   "metadata": {
    "tags": []
   },
   "outputs": [],
   "source": [
    "model_choice = \"openai/gpt-3.5-turbo\"\n",
    "search_type = \"Hybrid\" # we will fix it since it's the best performing"
   ]
  },
  {
   "cell_type": "code",
   "execution_count": 14,
   "id": "df6e3a50-bbdc-4e1f-93d5-ac5b42ba43e6",
   "metadata": {
    "tags": []
   },
   "outputs": [
    {
     "data": {
      "application/vnd.jupyter.widget-view+json": {
       "model_id": "1112c0cc1e8c49bea5be1f9d506d5e86",
       "version_major": 2,
       "version_minor": 0
      },
      "text/plain": [
       "  0%|          | 0/234 [00:00<?, ?it/s]"
      ]
     },
     "metadata": {},
     "output_type": "display_data"
    }
   ],
   "source": [
    "# Get answers\n",
    "\n",
    "answers_gpt35_1 = map_progress(\n",
    "    f=lambda question: get_answer(\n",
    "        query=question[\"question\"],\n",
    "        title_query=None,\n",
    "        model_choice=model_choice,\n",
    "        search_type=search_type\n",
    "    ),`\n",
    "    seq=vectorized_questions,\n",
    "    max_workers=6,\n",
    "    verbose=False\n",
    ")"
   ]
  },
  {
   "cell_type": "code",
   "execution_count": 18,
   "id": "a125bae0-0663-427c-bfa8-76194886714f",
   "metadata": {
    "tags": []
   },
   "outputs": [],
   "source": [
    "# storing to avoid losing it as _1, we might regenerate to check consistency\n",
    "\n",
    "save_to_pickle(\n",
    "    answers_gpt35_1, \n",
    "    os.path.join(\n",
    "        PROJECT_DIR,\n",
    "        \"data/generated_answers/answers_gpt35_1.pkl\"\n",
    "    )\n",
    ")"
   ]
  },
  {
   "cell_type": "code",
   "execution_count": 28,
   "id": "ce40bfdf-5dd0-4160-80af-c87cfa4cf222",
   "metadata": {
    "tags": []
   },
   "outputs": [],
   "source": [
    "# Extract relevance, response time, and openai cost (cost includes eval cost)\n",
    "\n",
    "relevance_gpt35_1 = [ans['relevance'] for ans in answers_gpt35_1]\n",
    "response_time_gpt35_1 = [ans['response_time'] for ans in answers_gpt35_1]\n",
    "openai_cost_gpt35_1 = [ans['openai_cost'] for ans in answers_gpt35_1]"
   ]
  },
  {
   "cell_type": "code",
   "execution_count": 30,
   "id": "b538e70d-41d5-4572-8a38-206b50a8650e",
   "metadata": {
    "tags": []
   },
   "outputs": [
    {
     "data": {
      "text/plain": [
       "Counter({'RELEVANT': 219, 'PARTLY_RELEVANT': 10, 'NON_RELEVANT': 5})"
      ]
     },
     "execution_count": 30,
     "metadata": {},
     "output_type": "execute_result"
    }
   ],
   "source": [
    "Counter(relevance_gpt35_1)"
   ]
  },
  {
   "cell_type": "code",
   "execution_count": 34,
   "id": "6aa7deec-4cc7-4f65-ab5a-fd749ff2d0d3",
   "metadata": {
    "tags": []
   },
   "outputs": [
    {
     "name": "stdout",
     "output_type": "stream",
     "text": [
      "Expected Response time is 1.54 (+/- 0.94) seconds.\n"
     ]
    },
    {
     "data": {
      "image/png": "[encoded data removed]",
      "text/plain": [
       "<Figure size 640x480 with 1 Axes>"
      ]
     },
     "metadata": {},
     "output_type": "display_data"
    }
   ],
   "source": [
    "# response time:\n",
    "\n",
    "mean_ = round(np.mean(response_time_gpt35_1), 2)\n",
    "std_ = round(np.std(response_time_gpt35_1) * 2, 2)\n",
    "\n",
    "print(f\"Expected Response time is {mean_} (+/- {std_}) seconds.\")\n",
    "plt.hist(response_time_gpt35_1); plt.show()"
   ]
  },
  {
   "cell_type": "code",
   "execution_count": 36,
   "id": "5f1b44aa-d88a-4b8d-a2fa-1868cc51d606",
   "metadata": {
    "tags": []
   },
   "outputs": [
    {
     "name": "stdout",
     "output_type": "stream",
     "text": [
      "Expected OpenAI Cost is 0.01506 (+/- 0.00338) $.\n"
     ]
    },
    {
     "data": {
      "image/png": "[encoded data removed]",
      "text/plain": [
       "<Figure size 640x480 with 1 Axes>"
      ]
     },
     "metadata": {},
     "output_type": "display_data"
    }
   ],
   "source": [
    "# openai cost:\n",
    "\n",
    "mean_ = round(np.mean(openai_cost_gpt35_1), 5)\n",
    "std_ = round(np.std(openai_cost_gpt35_1) * 2, 5)\n",
    "\n",
    "print(f\"Expected OpenAI Cost is {mean_} (+/- {std_}) $.\")\n",
    "plt.hist(openai_cost_gpt35_1); plt.show()"
   ]
  },
  {
   "cell_type": "markdown",
   "id": "f4dc5171-8044-4beb-ae28-fdfde07ab4a8",
   "metadata": {
    "jp-MarkdownHeadingCollapsed": true,
    "tags": []
   },
   "source": [
    "## openai/gpt-4o-mini"
   ]
  },
  {
   "cell_type": "code",
   "execution_count": 38,
   "id": "42f8cc39-7cc4-4af2-94b7-4e7058802401",
   "metadata": {
    "tags": []
   },
   "outputs": [],
   "source": [
    "model_choice = \"openai/gpt-4o-mini\"\n",
    "search_type = \"Hybrid\" # we will fix it since it's the best performing"
   ]
  },
  {
   "cell_type": "code",
   "execution_count": 40,
   "id": "329652df-38cf-4762-9cbf-439869aa5a98",
   "metadata": {
    "tags": []
   },
   "outputs": [
    {
     "data": {
      "application/vnd.jupyter.widget-view+json": {
       "model_id": "54c5833de8344cd184e0a5ae469850af",
       "version_major": 2,
       "version_minor": 0
      },
      "text/plain": [
       "  0%|          | 0/234 [00:00<?, ?it/s]"
      ]
     },
     "metadata": {},
     "output_type": "display_data"
    }
   ],
   "source": [
    "# Get answers\n",
    "\n",
    "answers_gpt4o_mini_1 = map_progress(\n",
    "    f=lambda question: get_answer(\n",
    "        query=question[\"question\"],\n",
    "        title_query=None,\n",
    "        model_choice=model_choice,\n",
    "        search_type=search_type\n",
    "    ),\n",
    "    seq=vectorized_questions,\n",
    "    max_workers=6,\n",
    "    verbose=False\n",
    ")"
   ]
  },
  {
   "cell_type": "code",
   "execution_count": 41,
   "id": "bf0bba74-efdf-44e7-b1f0-8fe42a7fa851",
   "metadata": {
    "tags": []
   },
   "outputs": [],
   "source": [
    "# storing to avoid losing it as _1, we might regenerate to check consistency\n",
    "\n",
    "save_to_pickle(\n",
    "    answers_gpt4o_mini_1, \n",
    "    os.path.join(\n",
    "        PROJECT_DIR,\n",
    "        \"data/generated_answers/answers_gpt4o_mini_1.pkl\"\n",
    "    )\n",
    ")"
   ]
  },
  {
   "cell_type": "code",
   "execution_count": 42,
   "id": "57c08bf5-5ff0-42a3-87a6-7e8f27447d71",
   "metadata": {
    "tags": []
   },
   "outputs": [],
   "source": [
    "# Extract relevance, response time, and openai cost (cost includes eval cost)\n",
    "\n",
    "relevance_gpt4o_mini_1 = [ans['relevance'] for ans in answers_gpt4o_mini_1]\n",
    "response_time_gpt4o_mini_1 = [ans['response_time'] for ans in answers_gpt4o_mini_1]\n",
    "openai_cost_gpt4o_mini_1 = [ans['openai_cost'] for ans in answers_gpt4o_mini_1]"
   ]
  },
  {
   "cell_type": "code",
   "execution_count": 43,
   "id": "24ef616b-0bb3-4968-a72a-1c06dccfb17c",
   "metadata": {
    "tags": []
   },
   "outputs": [
    {
     "data": {
      "text/plain": [
       "Counter({'RELEVANT': 229, 'PARTLY_RELEVANT': 5})"
      ]
     },
     "execution_count": 43,
     "metadata": {},
     "output_type": "execute_result"
    }
   ],
   "source": [
    "Counter(relevance_gpt4o_mini_1)"
   ]
  },
  {
   "cell_type": "code",
   "execution_count": 44,
   "id": "50fc730b-6e1b-4636-a29b-8bfed5de89b7",
   "metadata": {
    "tags": []
   },
   "outputs": [
    {
     "name": "stdout",
     "output_type": "stream",
     "text": [
      "Expected Response time is 1.64 (+/- 1.27) seconds.\n"
     ]
    },
    {
     "data": {
      "image/png": "[encoded data removed]",
      "text/plain": [
       "<Figure size 640x480 with 1 Axes>"
      ]
     },
     "metadata": {},
     "output_type": "display_data"
    }
   ],
   "source": [
    "# response time:\n",
    "\n",
    "mean_ = round(np.mean(response_time_gpt4o_mini_1), 2)\n",
    "std_ = round(np.std(response_time_gpt4o_mini_1) * 2, 2)\n",
    "\n",
    "print(f\"Expected Response time is {mean_} (+/- {std_}) seconds.\")\n",
    "plt.hist(response_time_gpt4o_mini_1); plt.show()"
   ]
  },
  {
   "cell_type": "code",
   "execution_count": 46,
   "id": "ef3d8e82-77f5-43bb-97d8-113cb402842a",
   "metadata": {
    "tags": []
   },
   "outputs": [
    {
     "name": "stdout",
     "output_type": "stream",
     "text": [
      "Expected OpenAI Cost is 0.08479 (+/- 0.02121) $.\n"
     ]
    },
    {
     "data": {
      "image/png": "[encoded data removed]",
      "text/plain": [
       "<Figure size 640x480 with 1 Axes>"
      ]
     },
     "metadata": {},
     "output_type": "display_data"
    }
   ],
   "source": [
    "# openai cost:\n",
    "\n",
    "mean_ = round(np.mean(openai_cost_gpt4o_mini_1), 5)\n",
    "std_ = round(np.std(openai_cost_gpt4o_mini_1) * 2, 5)\n",
    "\n",
    "print(f\"Expected OpenAI Cost is {mean_} (+/- {std_}) $.\")\n",
    "plt.hist(openai_cost_gpt4o_mini_1); plt.show()"
   ]
  },
  {
   "cell_type": "markdown",
   "id": "f512d01f-f023-4a1f-b487-19ccfd124047",
   "metadata": {},
   "source": [
    "## openai/gpt-4o"
   ]
  },
  {
   "cell_type": "markdown",
   "id": "7d96e24c-9e72-4a86-8cee-ea11c219bf80",
   "metadata": {},
   "source": [
    "SKIPPED: It would be very costly to try"
   ]
  }
 ],
 "metadata": {
  "kernelspec": {
   "display_name": "Python 3.11.5 (dtc-llm-env)",
   "language": "python",
   "name": "dtc-llm-env"
  },
  "language_info": {
   "codemirror_mode": {
    "name": "ipython",
    "version": 3
   },
   "file_extension": ".py",
   "mimetype": "text/x-python",
   "name": "python",
   "nbconvert_exporter": "python",
   "pygments_lexer": "ipython3",
   "version": "3.11.5"
  }
 },
 "nbformat": 4,
 "nbformat_minor": 5
}
