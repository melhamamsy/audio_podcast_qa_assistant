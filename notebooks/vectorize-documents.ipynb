{
 "cells": [
  {
   "cell_type": "code",
   "execution_count": 1,
   "id": "f5582083-d519-4b96-9adf-fb05ce1dd62d",
   "metadata": {
    "tags": []
   },
   "outputs": [
    {
     "name": "stdout",
     "output_type": "stream",
     "text": [
      "Initialized environment variables listed in: /mnt/workspace/__ing/llming/DTC/audio_podcast_qa_assistant/.env\n",
      "Initialized environment variables listed in: /mnt/workspace/__ing/llming/DTC/audio_podcast_qa_assistant/.env\n",
      "Connected to Elasticsearch\n"
     ]
    }
   ],
   "source": [
    "import sys\n",
    "import os\n",
    "import pickle\n",
    "\n",
    "## replace with root project dir\n",
    "PROJECT_DIR = \"/mnt/workspace/__ing/llming/DTC/audio_podcast_qa_assistant\"\n",
    "sys.path.append(PROJECT_DIR)\n",
    "\n",
    "from utils.utils import (load_json_document,\n",
    "                         initialize_env_variables, read_json_file, save_to_pickle)\n",
    "\n",
    "from utils.elasticsearch import (\n",
    "    create_elasticsearch_client,\n",
    "    create_elasticsearch_index,\n",
    "    search_elasticsearch_indecis,\n",
    "    load_index_settings,\n",
    "    remove_elasticsearch_index,\n",
    "    index_document,\n",
    "    get_index_mapping,\n",
    "    get_indexed_documents_count,\n",
    ")\n",
    "\n",
    "from utils.ollama import (get_embedding,\n",
    "                          embed_document, create_ollama_client)\n",
    "from utils.multithread import map_progress\n",
    "\n",
    "initialize_env_variables()\n",
    "\n",
    "from utils.query import (elastic_search_text, llm, elastic_search_knn,\n",
    "                         build_context, build_prompt,\n",
    "                         ES_CLIENT, OLLAMA_CLIENT, OPENAI_CLIENT)\n",
    "from utils.ollama import get_embedding\n",
    "from utils.utils import flatten_list_of_lists"
   ]
  },
  {
   "cell_type": "code",
   "execution_count": 18,
   "id": "d17aadf7-421f-4b7e-b1e9-19afc612e6ad",
   "metadata": {
    "tags": []
   },
   "outputs": [
    {
     "name": "stdout",
     "output_type": "stream",
     "text": [
      "Connected to Elasticsearch\n"
     ]
    },
    {
     "data": {
      "text/plain": [
       "['lex-fridman-podcast', 'test_index']"
      ]
     },
     "execution_count": 18,
     "metadata": {},
     "output_type": "execute_result"
    }
   ],
   "source": [
    "## Client creation\n",
    "es_host = os.getenv('ELASTIC_SETUP_HOST')\n",
    "es_port = os.getenv('ELASTIC_PORT')\n",
    "\n",
    "index_name = \"lex-fridman-podcast\"\n",
    "index_settings_path=f\"{PROJECT_DIR}/config/elasticsearch/index_settings.json\"\n",
    "index_settings = load_index_settings(index_settings_path)\n",
    "\n",
    "es_client = create_elasticsearch_client(es_host, es_port)\n",
    "search_elasticsearch_indecis(es_client)"
   ]
  },
  {
   "cell_type": "code",
   "execution_count": 3,
   "id": "10eea300-da47-42f1-8fdb-babaea131e61",
   "metadata": {
    "tags": []
   },
   "outputs": [
    {
     "name": "stdout",
     "output_type": "stream",
     "text": [
      "Successfully removed index lex-fridman-podcast.\n"
     ]
    }
   ],
   "source": [
    "recreate = True\n",
    "if recreate:\n",
    "    remove_elasticsearch_index(es_client, index_name)"
   ]
  },
  {
   "cell_type": "code",
   "execution_count": 4,
   "id": "9e204744-4f70-4c00-afda-6032b82befbf",
   "metadata": {
    "tags": []
   },
   "outputs": [
    {
     "name": "stdout",
     "output_type": "stream",
     "text": [
      "Successfully created index lex-fridman-podcast.\n"
     ]
    },
    {
     "data": {
      "text/plain": [
       "['lex-fridman-podcast']"
      ]
     },
     "execution_count": 4,
     "metadata": {},
     "output_type": "execute_result"
    }
   ],
   "source": [
    "create_elasticsearch_index(es_client, index_name, index_settings)\n",
    "search_elasticsearch_indecis(es_client)"
   ]
  },
  {
   "cell_type": "code",
   "execution_count": 6,
   "id": "595f3ae8-62e8-47ca-a51e-51242c7881a1",
   "metadata": {
    "tags": []
   },
   "outputs": [],
   "source": [
    "path = os.path.join(PROJECT_DIR, \"data/generated_documents/documents.json\")\n",
    "documents = load_json_document(path)"
   ]
  },
  {
   "cell_type": "code",
   "execution_count": 8,
   "id": "1df702ee-a72b-4eb9-97a5-d6c25108f6e6",
   "metadata": {
    "tags": []
   },
   "outputs": [],
   "source": [
    "ollama_host = os.getenv('OLLAMA_SETUP_HOST')\n",
    "ollama_port = os.getenv('OLLAMA_PORT')\n",
    "\n",
    "ollama_client = create_ollama_client(ollama_host, ollama_port)"
   ]
  },
  {
   "cell_type": "code",
   "execution_count": 9,
   "id": "0cd5ba5e-e536-4ef6-8cd3-0178a937cb94",
   "metadata": {
    "tags": []
   },
   "outputs": [
    {
     "data": {
      "application/vnd.jupyter.widget-view+json": {
       "model_id": "eaec0b1ec3b14c2e8088062c9cf8acbd",
       "version_major": 2,
       "version_minor": 0
      },
      "text/plain": [
       "  0%|          | 0/22232 [00:00<?, ?it/s]"
      ]
     },
     "metadata": {},
     "output_type": "display_data"
    }
   ],
   "source": [
    "# ## indexing\n",
    "# embed_model_name = os.getenv('EMBED_MODEL')\n",
    "\n",
    "# vectorized_documents = map_progress(\n",
    "#     f=lambda document: embed_document(\n",
    "#         ollama_client, document, embed_model_name),\n",
    "#     seq=documents,\n",
    "#     max_workers=4,\n",
    "# )\n",
    "\n",
    "\n",
    "# def save_to_pickle(obj, pickle_file_path):\n",
    "#     \"\"\"\n",
    "#     Saves a Python object to a file using pickle.\n",
    "    \n",
    "#     :param obj: The Python object to be pickled.\n",
    "#     :param pickle_file_path: Path where the pickled object will be saved.\n",
    "#     \"\"\"\n",
    "#     with open(pickle_file_path, 'wb') as pickle_file:\n",
    "#         pickle.dump(obj, pickle_file)\n",
    "        \n",
    "# pickle_file_path = os.path.join(\n",
    "#     PROJECT_DIR, \"data/generated_document_embeddings/embeddings.pkl\")\n",
    "\n",
    "\n",
    "# save_to_pickle(vectorized_documents, pickle_file_path)"
   ]
  },
  {
   "cell_type": "code",
   "execution_count": 6,
   "id": "19b15cbc-8c2a-4c79-9fa2-6e08f61f6e69",
   "metadata": {
    "tags": []
   },
   "outputs": [
    {
     "name": "stdout",
     "output_type": "stream",
     "text": [
      "22232\n"
     ]
    }
   ],
   "source": [
    "pickle_file_path = os.path.join(\n",
    "    PROJECT_DIR, \"data/generated_document_embeddings/embeddings.pkl\")\n",
    "with open(pickle_file_path, 'rb') as file:\n",
    "    vectorized_documents = pickle.load(file)\n",
    "    \n",
    "print(len(vectorized_documents))"
   ]
  },
  {
   "cell_type": "code",
   "execution_count": 9,
   "id": "81148080-772e-4c62-a76d-6e94e3915db8",
   "metadata": {
    "tags": []
   },
   "outputs": [
    {
     "data": {
      "application/vnd.jupyter.widget-view+json": {
       "model_id": "490d5531aada4f19b78837b4ee1443cb",
       "version_major": 2,
       "version_minor": 0
      },
      "text/plain": [
       "  0%|          | 0/10 [00:00<?, ?it/s]"
      ]
     },
     "metadata": {},
     "output_type": "display_data"
    }
   ],
   "source": [
    "_ = map_progress(\n",
    "    f=lambda vectorized_document: index_document(\n",
    "        es_client, index_name, vectorized_document, replace=False),\n",
    "    seq=vectorized_documents[:10],\n",
    "    max_workers=4,\n",
    ")"
   ]
  },
  {
   "cell_type": "code",
   "execution_count": 11,
   "id": "fe674fe8-e11e-4eb7-9633-578356b2d9c0",
   "metadata": {
    "tags": []
   },
   "outputs": [
    {
     "data": {
      "text/plain": [
       "ObjectApiResponse({'count': 100, '_shards': {'total': 1, 'successful': 1, 'skipped': 0, 'failed': 0}})"
      ]
     },
     "execution_count": 11,
     "metadata": {},
     "output_type": "execute_result"
    }
   ],
   "source": [
    "get_indexed_documents_count(es_client, index_name)"
   ]
  },
  {
   "cell_type": "markdown",
   "id": "5027c1f5-2be8-42b7-911f-bca2ddd0b688",
   "metadata": {},
   "source": [
    "Indexed all documents"
   ]
  },
  {
   "cell_type": "code",
   "execution_count": 19,
   "id": "e049a5b8-257a-4c96-856a-03f14c614d3a",
   "metadata": {
    "tags": []
   },
   "outputs": [],
   "source": [
    "titles = list(set([document['title'] for document in documents]))"
   ]
  },
  {
   "cell_type": "code",
   "execution_count": 5,
   "id": "02226f0a-546f-4443-8231-8d56183fa11f",
   "metadata": {
    "tags": []
   },
   "outputs": [
    {
     "name": "stdout",
     "output_type": "stream",
     "text": [
      "Text: What is the leadership of the Paris Commune going to do? And why? And in what order? In other words, governing, organizing a society. But since it only lasted a few weeks, the French army regrouped, and under the leadership of people who were very opposed to Marx, they marched back into Paris, took over, killed a large number of the communards, as they were called, and deported them to islands in the Pacific that were part of the French Empire at the time. The really big change happens in Russia in 1917. Now you have a group of Marxists, Lenin, Trotsky, all the rest, who are in this bizarre position to seize a moment. Once again, a war, like in France, disorganizes the government, throws the government into a very bad reputation, because it is the government that loses World War I, has to withdraw, as you know, Brest-Litovsk and all of that, and the government collapses, and the army revolts. And in that situation, a very small political party, Russian social democratic workers party, splits under the pressures of all of this into the Bolshevik and Menshevik divisions. Lenin, Trotsky, and the others are in the Bolshevik division. And to make a long story short, he's in exile. Lenin's position makes him, gets him deported, because he says Russian workers should not be killing German workers. I mean, this is a war of capitalists who are dividing the world up into colonies, and Russian working people should not kill and should not die for such a thing. As you can expect, they arrest him and they throw him out. Interestingly, in the United States, the comparable leader at that time of the Socialist Party here, as you know, there was no Communist Party at this point, that comes later, the head of the Socialist Party, a very important American figure named Eugene Victor Debs, makes exactly the same argument to the Americans should not fight in the war. He's in the, he has nothing to do with Lenin, I don't even know if they knew of each other, but he does it on his own.\n",
      "Title: Richard Wolff: Marxism and Communism | Lex Fridman Podcast #295\n",
      "Chunk ID: 1\n",
      "\n"
     ]
    }
   ],
   "source": [
    "# Define the query\n",
    "title_query = \"communism \"\n",
    "\n",
    "query = {\n",
    "    \"query\": {\n",
    "        \"bool\": {\n",
    "            \"must\": [\n",
    "                {\n",
    "                    \"match\": {\n",
    "                        \"title\": {\n",
    "                            \"query\": title_query,\n",
    "                            \"fuzziness\": \"AUTO\"\n",
    "                        }\n",
    "                    }\n",
    "                }\n",
    "            ]\n",
    "        }\n",
    "    },\n",
    "    \"_source\": [\"text\", \"title\", \"chunk_id\"]\n",
    "}\n",
    "\n",
    "# Perform the search\n",
    "response = es_client.search(index=index_name, body=query)\n",
    "\n",
    "# Extract and print the results\n",
    "for hit in response['hits']['hits']:\n",
    "    text = hit['_source'].get('text', 'No text field found')\n",
    "    title = hit['_source'].get('title', 'No title field found')\n",
    "    chunk_id = hit['_source'].get('chunk_id', 'No chunk_id field found')\n",
    "    print(f\"Text: {text}\\nTitle: {title}\\nChunk ID: {chunk_id}\\n\")\n",
    "    break"
   ]
  },
  {
   "cell_type": "code",
   "execution_count": 6,
   "id": "9482f491-0289-4d18-a2e9-3d9204809feb",
   "metadata": {
    "tags": []
   },
   "outputs": [
    {
     "data": {
      "text/plain": [
       "('No, Jed Buchwald does not believe that science progresses via paradigm shifts and revolutions as philosopher Thomas Kuhn said. He thinks that while paradigm shifts exist, the changes happen more complexly and not as neatly in reaction to experimental observations. He also believes that there is a mix of individual lone geniuses and messy collaboration of competing and cooperating humans in the progression of science.',\n",
       " {'prompt_tokens': 2638, 'completion_tokens': 75, 'total_tokens': 2713},\n",
       " 2.497809648513794)"
      ]
     },
     "execution_count": 6,
     "metadata": {},
     "output_type": "execute_result"
    }
   ],
   "source": [
    "# query = \"What're the pros and cons of communism vs capitalism?\"\n",
    "query = \"According to Jed Buchwald, Does science progress via paradigm shifts and revolutions as philosopher Thomas Kuhn said, or does it progress gradually?\"\n",
    "title_query = \"communism and capitalism\"\n",
    "search_results = elastic_search_text(query, title_query)\n",
    "context = build_context(search_results)\n",
    "document_dict = {\"question\": query, \"context\": context}\n",
    "prompt = build_prompt(**document_dict)\n",
    "llm(prompt, model_choice=\"openai/gpt-3.5-turbo\")"
   ]
  },
  {
   "cell_type": "code",
   "execution_count": 7,
   "id": "36ac2cc9-9b4c-40a0-8f03-4ae8b3254e9b",
   "metadata": {
    "tags": []
   },
   "outputs": [
    {
     "data": {
      "text/plain": [
       "(\"No, Jed Buchwald does not completely agree with Thomas Kuhn's view on paradigm shifts and revolutions in science. He believes that while paradigm shifts do exist, they may not be as powerful or neatly defined as Kuhn proposed. Buchwald suggests that changes in science are more complex and are influenced by a combination of individual geniuses and collaborative efforts.\",\n",
       " {'prompt_tokens': 2445, 'completion_tokens': 71, 'total_tokens': 2516},\n",
       " 1.953244686126709)"
      ]
     },
     "execution_count": 7,
     "metadata": {},
     "output_type": "execute_result"
    }
   ],
   "source": [
    "# query = \"What're the pros and cons of communism vs capitalism?\"\n",
    "query = \"According to Jed Buchwald, Does science progress via paradigm shifts and revolutions as philosopher Thomas Kuhn said, or does it progress gradually?\"\n",
    "title_query = \"communism and capitalism\"\n",
    "query_embedding = get_embedding(OLLAMA_CLIENT, query)\n",
    "search_results = elastic_search_knn(\n",
    "    query_embedding, title_query\n",
    ")\n",
    "context = build_context(search_results)\n",
    "document_dict = {\"question\": query, \"context\": context}\n",
    "prompt = build_prompt(**document_dict)\n",
    "llm(prompt, model_choice=\"openai/gpt-3.5-turbo\")"
   ]
  },
  {
   "cell_type": "markdown",
   "id": "d94e600f-45ee-486a-a8fe-71ea3b09d240",
   "metadata": {
    "tags": []
   },
   "source": [
    "# Vectorize"
   ]
  },
  {
   "cell_type": "code",
   "execution_count": 3,
   "id": "f3505bee-f297-4cb3-a729-bdaaa33b074c",
   "metadata": {},
   "outputs": [],
   "source": [
    "# Reading chunks created in `exploring-dataset.ipynb`\n",
    "\n",
    "documents = read_json_file(\n",
    "    os.path.join(\n",
    "        PROJECT_DIR,\n",
    "        \"data/generated_documents/documents.json\"\n",
    "    )\n",
    ")"
   ]
  },
  {
   "cell_type": "code",
   "execution_count": 8,
   "id": "67fb2a5a-afdf-40a8-855c-90fd1139b427",
   "metadata": {
    "tags": []
   },
   "outputs": [
    {
     "data": {
      "application/vnd.jupyter.widget-view+json": {
       "model_id": "15aed2b9e8a14c8497e11633f5a532b5",
       "version_major": 2,
       "version_minor": 0
      },
      "text/plain": [
       "  0%|          | 0/30681 [00:00<?, ?it/s]"
      ]
     },
     "metadata": {},
     "output_type": "display_data"
    }
   ],
   "source": [
    "# Vectorize documents\n",
    "\n",
    "vectorized_documents = map_progress(\n",
    "    f=lambda document: embed_document(\n",
    "        OLLAMA_CLIENT, document),\n",
    "    seq=documents,\n",
    "    max_workers=4,\n",
    "    verbose=False\n",
    ")"
   ]
  },
  {
   "cell_type": "code",
   "execution_count": 9,
   "id": "411dfec1-7041-43e1-8103-84ef662d8494",
   "metadata": {
    "tags": []
   },
   "outputs": [],
   "source": [
    "# Save to local file system\n",
    "\n",
    "save_to_pickle(\n",
    "    vectorized_documents,\n",
    "    os.path.join(\n",
    "        PROJECT_DIR,\n",
    "        \"data/generated_embeddings/vectorized_documents.pkl\"\n",
    "    )\n",
    ")"
   ]
  }
 ],
 "metadata": {
  "kernelspec": {
   "display_name": "Python 3.11.5 (dtc-llm-env)",
   "language": "python",
   "name": "dtc-llm-env"
  },
  "language_info": {
   "codemirror_mode": {
    "name": "ipython",
    "version": 3
   },
   "file_extension": ".py",
   "mimetype": "text/x-python",
   "name": "python",
   "nbconvert_exporter": "python",
   "pygments_lexer": "ipython3",
   "version": "3.11.5"
  }
 },
 "nbformat": 4,
 "nbformat_minor": 5
}
